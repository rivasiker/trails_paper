{
 "cells": [
  {
   "attachments": {},
   "cell_type": "markdown",
   "id": "8877888d-b1f7-43ec-842c-32f858dba515",
   "metadata": {
    "tags": []
   },
   "source": [
    "# Posterior decoding of simulated data"
   ]
  },
  {
   "attachments": {},
   "cell_type": "markdown",
   "id": "a97b3b54-587f-4d3c-8993-cc23330f11df",
   "metadata": {},
   "source": [
    "## Load packages and define model"
   ]
  },
  {
   "cell_type": "code",
   "execution_count": 10,
   "id": "931e2bf0-c8b9-4941-bf35-43de2c97edb2",
   "metadata": {},
   "outputs": [
    {
     "name": "stdout",
     "output_type": "stream",
     "text": [
      "The rpy2.ipython extension is already loaded. To reload it, use:\n",
      "  %reload_ext rpy2.ipython\n"
     ]
    }
   ],
   "source": [
    "import sys\n",
    "from trails.optimizer import trans_emiss_calc\n",
    "from trails.cutpoints import cutpoints_ABC\n",
    "import numpy as np\n",
    "from trails.optimizer import forward_loglik, post_prob_wrapper, viterbi\n",
    "import pandas as pd\n",
    "from tqdm import tqdm\n",
    "%load_ext rpy2.ipython"
   ]
  },
  {
   "cell_type": "code",
   "execution_count": 2,
   "metadata": {},
   "outputs": [],
   "source": [
    "seed = 1"
   ]
  },
  {
   "cell_type": "code",
   "execution_count": 3,
   "metadata": {},
   "outputs": [
    {
     "data": {
      "text/plain": [
       "{'n_eval': 136.0,\n",
       " 't_A': 0.0027561296181322,\n",
       " 't_B': 0.0029189333873319,\n",
       " 't_C': 0.0058515616197657,\n",
       " 't_2': 0.0024428164101813,\n",
       " 't_upper': 0.0040645452754154,\n",
       " 'N_AB': 0.0041849972728295,\n",
       " 'N_ABC': 0.0025322380849019,\n",
       " 'r': 0.9527482356906288,\n",
       " 'loglik': -76112897.5348381,\n",
       " 'time': 413789.77893161774}"
      ]
     },
     "execution_count": 3,
     "metadata": {},
     "output_type": "execute_result"
    }
   ],
   "source": [
    "# Read the output from TRAILS\n",
    "df = pd.read_csv('../../chr1/results/chr1_Nelder-Mead_third_run.csv')\n",
    "# Find iteration with largest likelihood\n",
    "df = df[df['loglik'] == df['loglik'].max()]\n",
    "# Convert parameter estimates into dictionary\n",
    "dct = dict(zip(list(df.columns), df.iloc[0].to_list()))\n",
    "dct"
   ]
  },
  {
   "cell_type": "code",
   "execution_count": 13,
   "id": "ad8dcd93-b113-496f-9fd1-c853d0fd0f5c",
   "metadata": {},
   "outputs": [
    {
     "data": {
      "text/plain": [
       "0.01470529629717112"
      ]
     },
     "execution_count": 13,
     "metadata": {},
     "output_type": "execute_result"
    }
   ],
   "source": [
    "n_int_AB = 1\n",
    "n_int_ABC = 5\n",
    "\n",
    "n_sites = 50_000\n",
    "\n",
    "cut_ABC = cutpoints_ABC(n_int_ABC, 1)*dct[\"N_ABC\"]\n",
    "t_out = (((dct[\"t_A\"]+dct[\"t_B\"])/2+dct[\"t_2\"])+dct[\"t_C\"])/2 + cut_ABC[n_int_ABC-1]*dct[\"N_ABC\"] + dct[\"t_upper\"] + 2*dct[\"N_ABC\"]\n",
    "\n",
    "t_out"
   ]
  },
  {
   "cell_type": "code",
   "execution_count": 5,
   "id": "cb23e7a7-89de-448c-8dd4-0c0d1f384d43",
   "metadata": {},
   "outputs": [
    {
     "data": {
      "text/plain": [
       "0.37188406988327083"
      ]
     },
     "execution_count": 5,
     "metadata": {},
     "output_type": "execute_result"
    }
   ],
   "source": [
    "2/3*np.exp(-dct[\"t_2\"]/dct[\"N_AB\"])"
   ]
  },
  {
   "cell_type": "code",
   "execution_count": 6,
   "metadata": {},
   "outputs": [
    {
     "name": "stderr",
     "output_type": "stream",
     "text": [
      "2023-11-03 10:54:56,797\tINFO worker.py:1625 -- Started a local Ray instance.\n"
     ]
    }
   ],
   "source": [
    "transitions, emissions, starting, hidden_states, observed_states = trans_emiss_calc(\n",
    "        dct[\"t_A\"], dct[\"t_B\"], dct[\"t_C\"], dct[\"t_2\"], dct[\"t_upper\"], t_out, \n",
    "        dct[\"N_AB\"], dct[\"N_ABC\"], dct[\"r\"], n_int_AB, n_int_ABC)"
   ]
  },
  {
   "cell_type": "code",
   "execution_count": 14,
   "metadata": {},
   "outputs": [
    {
     "name": "stderr",
     "output_type": "stream",
     "text": [
      "100%|██████████| 49999/49999 [00:05<00:00, 9756.79it/s] \n"
     ]
    }
   ],
   "source": [
    "np.random.seed(seed)\n",
    "idx_lst = list(range(0, len(starting)))\n",
    "idx = np.random.choice(idx_lst, size = 1, p = starting)[0]\n",
    "# hid = np.zeros(n_sites, dtype = np.int16)\n",
    "obs = np.zeros(n_sites, dtype = np.int16)\n",
    "# hid[0] = idx\n",
    "obs[0] = np.random.choice(list(range(256)), size = 1, p = emissions[idx])[0]\n",
    "for i in tqdm(range(1, n_sites)):\n",
    "    idx = np.random.choice(idx_lst, size = 1, p = transitions[idx])[0]\n",
    "    # hid[i] = idx\n",
    "    obs[i] = np.random.choice(list(range(256)), size = 1, p = emissions[idx])[0]\n"
   ]
  },
  {
   "cell_type": "code",
   "execution_count": 15,
   "metadata": {},
   "outputs": [
    {
     "data": {
      "text/plain": [
       "array([170,  85,   0, ..., 255, 255, 170], dtype=int16)"
      ]
     },
     "execution_count": 15,
     "metadata": {},
     "output_type": "execute_result"
    }
   ],
   "source": [
    "obs"
   ]
  }
 ],
 "metadata": {
  "kernelspec": {
   "display_name": "Python 3 (ipykernel)",
   "language": "python",
   "name": "python3"
  },
  "language_info": {
   "codemirror_mode": {
    "name": "ipython",
    "version": 3
   },
   "file_extension": ".py",
   "mimetype": "text/x-python",
   "name": "python",
   "nbconvert_exporter": "python",
   "pygments_lexer": "ipython3",
   "version": "3.9.16"
  }
 },
 "nbformat": 4,
 "nbformat_minor": 5
}
