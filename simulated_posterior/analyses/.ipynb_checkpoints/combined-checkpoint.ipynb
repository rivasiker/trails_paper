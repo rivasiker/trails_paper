{
 "cells": [
  {
   "cell_type": "code",
   "execution_count": 1,
   "id": "931e2bf0-c8b9-4941-bf35-43de2c97edb2",
   "metadata": {},
   "outputs": [],
   "source": [
    "%load_ext rpy2.ipython\n",
    "from trails.cutpoints import cutpoints_ABC, cutpoints_AB\n",
    "import numpy as np"
   ]
  },
  {
   "cell_type": "code",
   "execution_count": 2,
   "id": "7f906a5a-ce57-41c1-b924-e989ac54735f",
   "metadata": {},
   "outputs": [],
   "source": [
    "n_int_AB = 5\n",
    "n_int_ABC_2 = 7\n",
    "n_int_ABC_1 = 4"
   ]
  },
  {
   "cell_type": "code",
   "execution_count": 3,
   "id": "858b56ea-ad20-4e5f-9db5-1aa11d53688e",
   "metadata": {},
   "outputs": [],
   "source": [
    "ILS = 32\n",
    "\n",
    "t_A = 200000\n",
    "t_B = 200000\n",
    "t_C = 200000\n",
    "t_1 = max([t_A, t_B, t_C])\n",
    "N_AB = 80000\n",
    "t_2 = -N_AB*np.log(3/2*ILS/100)\n",
    "N_ABC = 70000\n",
    "t_3 = t_1*5\n",
    "r = 0.5e-8\n",
    "mu = 1.5e-8\n",
    "\n",
    "t_out = t_1+t_2+t_3+2*N_ABC\n",
    "\n",
    "N_ref = N_ABC\n",
    "\n",
    "coal_ABC = N_ref/N_ABC\n",
    "coal_AB = N_ref/N_AB\n",
    "t_upper = t_3-cutpoints_ABC(n_int_ABC_2, coal_ABC)[-2]*N_ref\n",
    "t_AB = t_2/N_ref\n",
    "\n",
    "cut_AB = t_1+cutpoints_AB(n_int_AB, t_AB, coal_AB)*N_ref\n",
    "# cut_ABC = t_1+t_2+cutpoints_ABC(n_int_ABC_2, coal_ABC)*N_ref\n",
    "cut_ABC_new = t_1+t_2+cutpoints_ABC(n_int_ABC_1, 3)*N_ref"
   ]
  },
  {
   "cell_type": "code",
   "execution_count": 4,
   "id": "db0229ee-1941-4283-a665-50e2f258666c",
   "metadata": {},
   "outputs": [
    {
     "name": "stderr",
     "output_type": "stream",
     "text": [
      "R[write to console]: \n",
      "Attaching package: ‘PhaseTypeR’\n",
      "\n",
      "\n",
      "R[write to console]: The following object is masked from ‘package:stats’:\n",
      "\n",
      "    var\n",
      "\n",
      "\n"
     ]
    }
   ],
   "source": [
    "%%R -i t_2 -i N_AB -i N_ABC -i n_int_ABC_2 -o quant\n",
    "\n",
    "library(PhaseTypeR)\n",
    "\n",
    "subint_mat <- matrix(\n",
    "    c(\n",
    "        c(-1, 0, 0),\n",
    "        c(0, -3, 3),\n",
    "        c(0, 0, -1)\n",
    "    ),\n",
    "    nrow = 3,\n",
    "    byrow = T\n",
    ")\n",
    "init_probs <- c(exp(-t_2/N_AB), 1-exp(-t_2/N_AB), 0)\n",
    "ph_obj <- PH(subint_mat, init_probs)\n",
    "\n",
    "quant <- qPH(seq(0, 1, length.out = n_int_ABC_2+1), ph_obj)\n",
    "quant <- c(quant[1:(length(quant)-1)], Inf)"
   ]
  },
  {
   "cell_type": "code",
   "execution_count": 5,
   "id": "a3b7c0fa-b36d-4e36-aeac-7006b4b19b80",
   "metadata": {},
   "outputs": [
    {
     "data": {
      "text/plain": [
       "array([258717.53400642, 276369.3475314 , 292763.12619154, 310720.60936418,\n",
       "       332424.76791227, 361825.72577001, 410922.70725179,             inf])"
      ]
     },
     "execution_count": 5,
     "metadata": {},
     "output_type": "execute_result"
    }
   ],
   "source": [
    "cut_ABC = t_1+t_2+quant*N_ABC\n",
    "cut_ABC"
   ]
  },
  {
   "cell_type": "code",
   "execution_count": 6,
   "id": "adf75cbb-3894-4c70-a647-f88eed7a76ac",
   "metadata": {},
   "outputs": [
    {
     "name": "stdout",
     "output_type": "stream",
     "text": [
      "── Attaching core tidyverse packages ──────────────────────── tidyverse 2.0.0 ──\n",
      "✔ dplyr     1.1.2     ✔ readr     2.1.4\n",
      "✔ forcats   1.0.0     ✔ stringr   1.5.0\n",
      "✔ ggplot2   3.4.2     ✔ tibble    3.2.1\n",
      "✔ lubridate 1.9.2     ✔ tidyr     1.3.0\n",
      "✔ purrr     1.0.1     \n",
      "── Conflicts ────────────────────────────────────────── tidyverse_conflicts() ──\n",
      "✖ dplyr::filter() masks stats::filter()\n",
      "✖ dplyr::lag()    masks stats::lag()\n",
      "ℹ Use the conflicted package (<http://conflicted.r-lib.org/>) to force all conflicts to become errors\n"
     ]
    }
   ],
   "source": [
    "%%R\n",
    "\n",
    "library(tidyverse)\n",
    "theme_set(theme_bw())\n",
    "library(ggrastr)\n",
    "\n",
    "hid_tab <- read_csv('../data/hid_tab.csv', show_col_types = FALSE)\n",
    "tree_tab <- read_csv('../data/tree_tab.csv', show_col_types = FALSE)\n",
    "post_tab <- read_csv('../data/post_tab.csv', show_col_types = FALSE)\n",
    "tree_tab_cut <- read_csv('../data/tree_tab_cutpoints.csv', show_col_types = FALSE)\n",
    "post_tab_cut <- read_csv('../data/post_tab_cutpoints.csv', show_col_types = FALSE)"
   ]
  },
  {
   "cell_type": "code",
   "execution_count": 7,
   "id": "86c54c14-ee89-4d7c-bcfd-7906d25baa39",
   "metadata": {},
   "outputs": [],
   "source": [
    "%%R\n",
    "\n",
    "tree_tab_cut_2 <- tree_tab_cut %>%\n",
    "    mutate(\n",
    "        start = end,\n",
    "        end = start+1,\n",
    "        topology_end = lead(topology),\n",
    "        int_1_end = lead(int_1),\n",
    "        int_2_end = lead(int_2)\n",
    "    )\n",
    "    \n",
    "tree_tab_2 <- tree_tab %>%\n",
    "    mutate(\n",
    "        start = end,\n",
    "        end = start+1,\n",
    "        topology_end = lead(topology),\n",
    "        int_1_end = lead(int_1),\n",
    "        int_2_end = lead(int_2)\n",
    "    )"
   ]
  },
  {
   "cell_type": "code",
   "execution_count": 8,
   "id": "9b22da6a-8faa-48c5-89cb-6a1d91ef211a",
   "metadata": {},
   "outputs": [],
   "source": [
    "%%R -i cut_ABC_new -i cut_AB -i cut_ABC\n",
    "\n",
    "ggplot() +\n",
    "    geom_rect(aes(xmin = 1, xmax = 2, ymin = start, ymax = end, fill = 'Second coalescent'),\n",
    "              color = 'black',\n",
    "              data = tibble(start = cut_ABC, end = lead(cut_ABC))) +\n",
    "    geom_rect(aes(xmin = 0, xmax = 1, ymin = start, ymax = end, fill = 'First coalescent'),\n",
    "              color = 'black',\n",
    "              data = tibble(start = cut_ABC_new, end = lead(cut_ABC_new))) +\n",
    "    geom_rect(aes(xmin = 0, xmax = 1, ymin = start, ymax = end, fill = 'First coalescent'),\n",
    "              color = 'black',\n",
    "              data = tibble(start = cut_AB, end = lead(cut_AB))) +\n",
    "    # geom_rect(aes(xmin = 0, xmax = 2, ymin = start, ymax = end, fill = 'Isolation'),\n",
    "    #           color = 'black',\n",
    "    #           data = tibble(start = 0, end = min(cut_AB)))  +\n",
    "    # geom_hline(aes(yintercept = y), \n",
    "    #            color = 'red', linetype = 2,\n",
    "    #            data = tibble(y = c(min(cut_AB), max(cut_AB)))) +\n",
    "    theme_void() +\n",
    "    theme(legend.position = 'none') +\n",
    "    scale_fill_manual(values = c('#d7191c', '#2c7bb6'))\n",
    "    \n",
    "ggsave('../plots/times_and_cutpoints.pdf', width = 3.5, height = 9)"
   ]
  },
  {
   "cell_type": "code",
   "execution_count": 9,
   "id": "65037ea3-3321-4461-92a8-9adb3d9039f4",
   "metadata": {},
   "outputs": [
    {
     "name": "stdout",
     "output_type": "stream",
     "text": [
      "`summarise()` has grouped output by 'pos', 'is_V0'. You can override using the\n",
      "`.groups` argument.\n"
     ]
    }
   ],
   "source": [
    "%%R -w 2000 -h 700 -r 150 -i n_int_AB -i n_int_ABC_1 \n",
    "\n",
    "p1 <- post_tab_cut %>%\n",
    "    mutate(is_V0 = topology == 0) %>%\n",
    "    group_by(pos, is_V0, int_1) %>%\n",
    "    summarize(prob = sum(value)) %>%\n",
    "    ggplot() +\n",
    "    rasterize(geom_tile(aes(pos, int_1+(!is_V0)*(n_int_AB), fill = prob, color = prob)), dpi = 300) +\n",
    "    geom_hline(aes(yintercept = n_int_AB-1+0.5), color = 'white') +\n",
    "    geom_segment(aes(x = start, xend = end, \n",
    "                     y = int_1+(!(topology == 0))*(n_int_AB), yend = int_1+(!(topology == 0))*(n_int_AB)), \n",
    "                 color = 'green3', size = 2,\n",
    "                 data = tree_tab_cut) +\n",
    "    # geom_segment(aes(x = start, xend = end, \n",
    "    #                  y = int_1+(!(topology == 0))*(n_int_AB), yend = int_1_end+(!(topology_end == 0))*(n_int_AB)), \n",
    "    #              color = 'green3', size = 1, lineend = 'round',\n",
    "    #              data = tree_tab_cut_2) +\n",
    "    scale_fill_viridis_c(name = 'Posterior\\nprobability', \n",
    "                         limits = c(0, 1),\n",
    "                         option=\"inferno\"\n",
    "                        ) +\n",
    "    scale_color_viridis_c(name = 'Posterior\\nprobability', \n",
    "                         limits = c(0, 1),\n",
    "                         option=\"inferno\"\n",
    "                         ) +\n",
    "    scale_x_continuous(expand = c(0, 0)) +\n",
    "    scale_y_continuous(\n",
    "        breaks = c(0:(n_int_AB-1), ((n_int_AB):(n_int_AB+n_int_ABC_1-1))), \n",
    "        # labels = c(0:(n_int_AB-1), 0:(n_int_ABC_1-1)),\n",
    "        labels = paste0('F', c(0:(n_int_AB+n_int_ABC_1-1))),\n",
    "        expand = c(0, 0),\n",
    "        sec.axis = dup_axis(\n",
    "            # breaks = c(0:(n_int_AB-1), ((n_int_AB):(n_int_AB+n_int_ABC_1)))-0.5,\n",
    "            # labels = sprintf(\"%.0f\", round(c(cut_AB[0:(length(cut_AB)-1)], cut_ABC_new)))\n",
    "            # labels = rep('', length(round(c(cut_AB[0:(length(cut_AB)-1)], cut_ABC_new))))\n",
    "        )\n",
    "    ) +\n",
    "    theme(\n",
    "        axis.title.y.right = element_blank()\n",
    "    ) +\n",
    "    labs(y = 'First coalescent', x = 'Position')"
   ]
  },
  {
   "cell_type": "code",
   "execution_count": 10,
   "id": "d8b42fe2-c416-4a2d-9d28-07fca8cdec65",
   "metadata": {},
   "outputs": [
    {
     "name": "stdout",
     "output_type": "stream",
     "text": [
      "`summarise()` has grouped output by 'pos'. You can override using the `.groups`\n",
      "argument.\n"
     ]
    }
   ],
   "source": [
    "%%R -w 2000 -h 700 -r 150 -i cut_ABC -i n_int_ABC_2\n",
    "\n",
    "p2 <- post_tab %>%\n",
    "    group_by(pos, int_2) %>%\n",
    "    summarize(prob = sum(value)) %>%\n",
    "    ggplot() +\n",
    "    rasterize(geom_tile(aes(pos, int_2, fill = prob, color = prob)), dpi = 300) +\n",
    "    geom_segment(aes(x = start, xend = end, y = int_2, yend = int_2), \n",
    "                 color = 'green3', size = 2, \n",
    "                 data = tree_tab) +\n",
    "    # geom_segment(aes(x = start, xend = end, y = int_2, yend = int_2_end), \n",
    "    #              color = 'green3', size = 1, lineend = 'round', linetype = 2,\n",
    "    #              data = tree_tab_2) +\n",
    "    scale_fill_viridis_c(name = 'Posterior\\nprobability', \n",
    "                         limits = c(0, 1),\n",
    "                         option=\"inferno\") +\n",
    "    scale_color_viridis_c(name = 'Posterior\\nprobability', \n",
    "                         limits = c(0, 1),\n",
    "                         option=\"inferno\") +\n",
    "    scale_x_continuous(expand = c(0, 0)) +\n",
    "    scale_y_continuous(\n",
    "        breaks = 0:(n_int_ABC_2-1), \n",
    "        # labels = 0:(n_int_ABC_2-1),\n",
    "        labels = paste0('S', 0:(n_int_ABC_2-1)),\n",
    "        expand = c(0, 0),\n",
    "        sec.axis = dup_axis(\n",
    "            # breaks = (0:n_int_ABC_2)-0.5,\n",
    "            # labels = sprintf(\"%.0f\", round(cut_ABC))\n",
    "            # breaks = seq(-0.5, n_int_ABC_2-0.5, 0.5),\n",
    "            # labels = c(rbind(rep('', length(cut_ABC)-1), paste0('S', 0:(n_int_ABC_2-1))), '')\n",
    "        )\n",
    "    ) +\n",
    "    labs(y = 'Second coalescent') +\n",
    "    theme(\n",
    "        axis.title.x = element_blank(),\n",
    "        axis.text.x = element_blank(),\n",
    "        axis.ticks.x=element_blank(),\n",
    "        axis.title.y.right = element_blank()\n",
    "    )"
   ]
  },
  {
   "cell_type": "code",
   "execution_count": 11,
   "id": "706952fd-96f0-482e-a6da-daf5d3ba91a5",
   "metadata": {},
   "outputs": [
    {
     "name": "stdout",
     "output_type": "stream",
     "text": [
      "`summarise()` has grouped output by 'pos'. You can override using the `.groups`\n",
      "argument.\n"
     ]
    }
   ],
   "source": [
    "%%R -w 2000 -h 700 -r 150\n",
    "\n",
    "p3 <- post_tab %>%\n",
    "    group_by(pos, topology) %>%\n",
    "    summarize(prob = sum(value)) %>%\n",
    "    ggplot() +\n",
    "    rasterize(geom_tile(aes(pos, topology, fill = prob, color = prob)), dpi = 300) +\n",
    "    geom_segment(aes(x = start, xend = end, y = topology, yend = topology), \n",
    "                 color = 'green3', size = 2,\n",
    "                 data = tree_tab) +\n",
    "    scale_fill_viridis_c(name = 'Posterior\\nprobability', \n",
    "                         limits = c(0, 1),\n",
    "                         option=\"inferno\") +\n",
    "    scale_color_viridis_c(name = 'Posterior\\nprobability', \n",
    "                         limits = c(0, 1),\n",
    "                         option=\"inferno\") +\n",
    "    scale_x_continuous(expand = c(0, 0)) +\n",
    "    scale_y_continuous(\n",
    "        breaks = c(0, 1, 2, 3), \n",
    "        labels = c('V0', 'V1', 'V2', 'V3'),\n",
    "        expand = c(0, 0),\n",
    "        sec.axis = dup_axis()\n",
    "    ) +\n",
    "    labs(y = 'Topology') +\n",
    "    theme(\n",
    "        axis.title.x = element_blank(),\n",
    "        axis.text.x = element_blank(),\n",
    "        axis.ticks.x=element_blank(),\n",
    "        axis.title.y.right = element_blank()\n",
    "    )"
   ]
  },
  {
   "cell_type": "code",
   "execution_count": 12,
   "id": "dbc5907d-a07d-4e2a-bc63-9c0c491d316b",
   "metadata": {},
   "outputs": [],
   "source": [
    "%%R\n",
    "\n",
    "p2_boxes <- ggplot() +\n",
    "    geom_rect(aes(xmin = 1, xmax = 2, ymin = start, ymax = end), \n",
    "              fill = '#2c7bb6', color = 'black',\n",
    "              data = tibble(start = 0:n_int_ABC_2, end = 1:(n_int_ABC_2+1))) +\n",
    "    theme_void() +\n",
    "    scale_x_continuous(expand = c(0, 0)) +\n",
    "    scale_y_continuous(expand = c(0, 0)) \n",
    "    \n",
    "p1_boxes <- ggplot() +\n",
    "    geom_rect(aes(xmin = 1, xmax = 2, ymin = start, ymax = end), \n",
    "              fill = '#d7191c', color = 'black',\n",
    "              data = tibble(start = 0:(n_int_AB+n_int_ABC_1-1), end = 1:(n_int_AB+n_int_ABC_1))) +\n",
    "    theme_void() +\n",
    "    scale_x_continuous(expand = c(0, 0)) +\n",
    "    scale_y_continuous(expand = c(0, 0)) \n"
   ]
  },
  {
   "cell_type": "code",
   "execution_count": null,
   "id": "165beb5a-0ae8-40a4-8eba-f643ce1091b5",
   "metadata": {},
   "outputs": [],
   "source": [
    "%%R -w 2000 -h 1000 -r 150 -i ILS\n",
    "\n",
    "library(patchwork)\n",
    "\n",
    "fac <- 0.7 \n",
    "\n",
    "# plt_tot <- ((p3/p2/p1) | (plot_spacer()/p2_boxes/p1_boxes) + \n",
    "#   plot_layout(heights = c(4, n_int_ABC_2, n_int_AB+n_int_ABC_1), widths = c(100, 1), guides = 'collect')) & theme(legend.position = 'none')\n",
    "\n",
    "plt_tot <- (p3+plot_spacer()+p2+p2_boxes+p1+p1_boxes + \n",
    "  plot_layout(ncol = 2, heights = c(4, n_int_ABC_2, n_int_AB+n_int_ABC_1), widths = c(100, 1), guides = 'collect')) & theme(legend.position = 'none')\n",
    "\n",
    "ggsave(paste0('../plots/posterior_decoding_', n_int_AB, '_', n_int_ABC_2, '_', round(ILS), '_combined.pdf'), plt_tot, \n",
    "       width = 14*fac, height = 9*fac)"
   ]
  },
  {
   "cell_type": "code",
   "execution_count": null,
   "id": "af8be67a-2efe-4209-93d6-a99251972abe",
   "metadata": {},
   "outputs": [],
   "source": []
  },
  {
   "cell_type": "code",
   "execution_count": null,
   "id": "b9282b66-b0be-46f1-a595-73403aee2405",
   "metadata": {},
   "outputs": [],
   "source": []
  }
 ],
 "metadata": {
  "kernelspec": {
   "display_name": "Python 3 (ipykernel)",
   "language": "python",
   "name": "python3"
  },
  "language_info": {
   "codemirror_mode": {
    "name": "ipython",
    "version": 3
   },
   "file_extension": ".py",
   "mimetype": "text/x-python",
   "name": "python",
   "nbconvert_exporter": "python",
   "pygments_lexer": "ipython3",
   "version": "3.9.16"
  }
 },
 "nbformat": 4,
 "nbformat_minor": 5
}
