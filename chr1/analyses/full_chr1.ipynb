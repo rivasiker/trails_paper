{
 "cells": [
  {
   "attachments": {},
   "cell_type": "markdown",
   "id": "8969297b-0f3a-474f-98aa-422d9b263351",
   "metadata": {},
   "source": [
    "# Chromosome 1 analysis"
   ]
  },
  {
   "attachments": {},
   "cell_type": "markdown",
   "id": "7faa5769-8380-497c-9fff-ab6b223eb30a",
   "metadata": {},
   "source": [
    "## Loading the data"
   ]
  },
  {
   "attachments": {},
   "cell_type": "markdown",
   "id": "2524f15b-72f5-4dca-b061-2b87f5f7031f",
   "metadata": {},
   "source": [
    "Import the necessary packages:"
   ]
  },
  {
   "cell_type": "code",
   "execution_count": 1,
   "id": "d0203d2b-4d3c-4203-a558-8e7dfcd1a85a",
   "metadata": {},
   "outputs": [
    {
     "name": "stderr",
     "output_type": "stream",
     "text": [
      "/Users/au595587/opt/miniconda3/envs/trails_plot/lib/python3.9/site-packages/tqdm/auto.py:21: TqdmWarning: IProgress not found. Please update jupyter and ipywidgets. See https://ipywidgets.readthedocs.io/en/stable/user_install.html\n",
      "  from .autonotebook import tqdm as notebook_tqdm\n"
     ]
    }
   ],
   "source": [
    "import pandas as pd\n",
    "import numpy as np\n",
    "from trails.optimizer import trans_emiss_calc, post_prob_wrapper\n",
    "from trails.read_data import maf_parser\n",
    "from trails.cutpoints import cutpoints_ABC\n",
    "from tqdm import tqdm\n",
    "%load_ext rpy2.ipython\n",
    "\n",
    "n_int_AB_original = 5\n",
    "n_int_ABC_original = 5\n",
    "\n",
    "n_int_AB = 5\n",
    "n_int_ABC = 5"
   ]
  },
  {
   "attachments": {},
   "cell_type": "markdown",
   "id": "0da63339-b531-4282-b9e9-c34ccb5e4159",
   "metadata": {},
   "source": [
    "Load the data:"
   ]
  },
  {
   "cell_type": "code",
   "execution_count": 2,
   "id": "c378e420-1d5a-4f6c-8dd3-4903547916cc",
   "metadata": {},
   "outputs": [],
   "source": [
    "# Read the output from TRAILS\n",
    "df = pd.read_csv('../results/chr1_Nelder-Mead_third_run.csv')\n",
    "# Find iteration with largest likelihood\n",
    "df = df[df['loglik'] == df['loglik'].max()]\n",
    "# Convert parameter estimates into dictionary\n",
    "dct = dict(zip(list(df.columns), df.iloc[0].to_list()))"
   ]
  },
  {
   "cell_type": "code",
   "execution_count": 3,
   "id": "c943ab95-8237-436c-bc58-c6e774c741d8",
   "metadata": {},
   "outputs": [
    {
     "data": {
      "text/plain": [
       "{'n_eval': 136.0,\n",
       " 't_A': 0.0027561296181322,\n",
       " 't_B': 0.0029189333873319,\n",
       " 't_C': 0.0058515616197657,\n",
       " 't_2': 0.0024428164101813,\n",
       " 't_upper': 0.0040645452754154,\n",
       " 'N_AB': 0.0041849972728295,\n",
       " 'N_ABC': 0.0025322380849019,\n",
       " 'r': 0.9527482356906288,\n",
       " 'loglik': -76112897.5348381,\n",
       " 'time': 413789.77893161774}"
      ]
     },
     "execution_count": 3,
     "metadata": {},
     "output_type": "execute_result"
    }
   ],
   "source": [
    "# Print dictionary\n",
    "dct"
   ]
  },
  {
   "attachments": {},
   "cell_type": "markdown",
   "id": "47c15797-c3cb-4487-a60a-7a8c8fd4cdf7",
   "metadata": {},
   "source": [
    "The following lines can be used in case we would like to change from certain `n_int_AB` and `n_int_ABC` to another:"
   ]
  },
  {
   "cell_type": "code",
   "execution_count": 4,
   "id": "4a622b02-5c8a-43d9-ab66-340df7912203",
   "metadata": {},
   "outputs": [],
   "source": [
    "cut_ABC_original = cutpoints_ABC(n_int_ABC_original, 1)*dct[\"N_ABC\"]"
   ]
  },
  {
   "cell_type": "code",
   "execution_count": 5,
   "id": "3a3bc940-01bf-4b85-8271-94a11d84d5c6",
   "metadata": {},
   "outputs": [
    {
     "data": {
      "text/plain": [
       "0.00814002525256604"
      ]
     },
     "execution_count": 5,
     "metadata": {},
     "output_type": "execute_result"
    }
   ],
   "source": [
    "t_ABC = cut_ABC_original[-2]+dct[\"t_upper\"]\n",
    "t_ABC"
   ]
  },
  {
   "cell_type": "code",
   "execution_count": 6,
   "id": "f9c50bca-e586-4ad4-9ef1-a4fc9c1e7ec1",
   "metadata": {},
   "outputs": [
    {
     "data": {
      "text/plain": [
       "0.004064545275415401"
      ]
     },
     "execution_count": 6,
     "metadata": {},
     "output_type": "execute_result"
    }
   ],
   "source": [
    "cut_ABC = (cutpoints_ABC(n_int_ABC, 1)*dct[\"N_ABC\"])\n",
    "cut_ABC_last = cut_ABC[-2]\n",
    "t_upper = t_ABC-cut_ABC_last\n",
    "t_upper"
   ]
  },
  {
   "cell_type": "code",
   "execution_count": 7,
   "id": "f59fc663-92b8-4c61-a099-04368abf7686",
   "metadata": {},
   "outputs": [],
   "source": [
    "t_out = (((dct[\"t_A\"]+dct[\"t_B\"])/2+dct[\"t_2\"])+dct[\"t_C\"])/2 + cut_ABC_original[n_int_ABC_original-1]*dct[\"N_ABC\"] + dct[\"t_upper\"] + 2*dct[\"N_ABC\"]\n",
    "t_D = (((dct[\"t_A\"]+dct[\"t_B\"])/2+dct[\"t_2\"])+dct[\"t_C\"])/2 + cut_ABC_original[n_int_ABC_original-1]*dct[\"N_ABC\"] + dct[\"t_upper\"]"
   ]
  },
  {
   "cell_type": "code",
   "execution_count": 8,
   "id": "f03129c5-2fef-4a59-84a1-77ba7a2ed518",
   "metadata": {},
   "outputs": [
    {
     "data": {
      "text/plain": [
       "0.01470529629717112"
      ]
     },
     "execution_count": 8,
     "metadata": {},
     "output_type": "execute_result"
    }
   ],
   "source": [
    "t_out"
   ]
  },
  {
   "attachments": {},
   "cell_type": "markdown",
   "id": "33ce8b02-0139-491d-9a93-79b77a9659a3",
   "metadata": {},
   "source": [
    "## Parameter estimation"
   ]
  },
  {
   "attachments": {},
   "cell_type": "markdown",
   "id": "b650e324-4d7d-4ff8-99d9-2f3713c7e72c",
   "metadata": {},
   "source": [
    "First, we can calculate the proportion of ILS from the estimated parameters. We can use the following function:"
   ]
  },
  {
   "attachments": {},
   "cell_type": "markdown",
   "id": "0e20c3a3-6675-4b2d-bd04-ca4ed61aff1a",
   "metadata": {},
   "source": [
    "$\\frac{2}{3}\\exp\\left(-\\frac{t_2}{N_\\text{AB}}\\right)$"
   ]
  },
  {
   "attachments": {},
   "cell_type": "markdown",
   "id": "a331acc2-cc44-4be6-b361-662d30413ec2",
   "metadata": {},
   "source": [
    "Since the units of $t_2$ are number of generations (multiplied by the mutation rate) and the units of $N_\\text{AB}$ are number of individuals times two (multiplied by the mutation rate), then we can directly use the formula above:"
   ]
  },
  {
   "cell_type": "code",
   "execution_count": 9,
   "id": "3011bce7-cb80-4904-be08-60d690a14367",
   "metadata": {},
   "outputs": [
    {
     "data": {
      "text/plain": [
       "0.37188406988327083"
      ]
     },
     "execution_count": 9,
     "metadata": {},
     "output_type": "execute_result"
    }
   ],
   "source": [
    "(2/3)*np.exp(-(dct[\"t_2\"])/(dct[\"N_AB\"]))"
   ]
  },
  {
   "attachments": {},
   "cell_type": "markdown",
   "id": "1c60f821-6101-4abe-84b6-0da027e0118e",
   "metadata": {},
   "source": [
    "We can convert the raw units of the times into number of generations by dividing it by the mutation rate, and into years by then multiplying it by the generation time:"
   ]
  },
  {
   "cell_type": "code",
   "execution_count": 10,
   "id": "f19d8a22-92ef-4aa2-b52d-d371ed3b1b23",
   "metadata": {},
   "outputs": [
    {
     "data": {
      "text/html": [
       "<div>\n",
       "<style scoped>\n",
       "    .dataframe tbody tr th:only-of-type {\n",
       "        vertical-align: middle;\n",
       "    }\n",
       "\n",
       "    .dataframe tbody tr th {\n",
       "        vertical-align: top;\n",
       "    }\n",
       "\n",
       "    .dataframe thead th {\n",
       "        text-align: right;\n",
       "    }\n",
       "</style>\n",
       "<table border=\"1\" class=\"dataframe\">\n",
       "  <thead>\n",
       "    <tr style=\"text-align: right;\">\n",
       "      <th></th>\n",
       "      <th>Names</th>\n",
       "      <th>Raw values</th>\n",
       "      <th>Generations (mu = 1.25e-08)</th>\n",
       "      <th>MY (mu = 1.25e-08, g = 25)</th>\n",
       "    </tr>\n",
       "  </thead>\n",
       "  <tbody>\n",
       "    <tr>\n",
       "      <th>0</th>\n",
       "      <td>H to HC</td>\n",
       "      <td>0.002756</td>\n",
       "      <td>220490</td>\n",
       "      <td>5.51</td>\n",
       "    </tr>\n",
       "    <tr>\n",
       "      <th>1</th>\n",
       "      <td>C to HC</td>\n",
       "      <td>0.002919</td>\n",
       "      <td>233515</td>\n",
       "      <td>5.84</td>\n",
       "    </tr>\n",
       "    <tr>\n",
       "      <th>2</th>\n",
       "      <td>G to HCG</td>\n",
       "      <td>0.005852</td>\n",
       "      <td>468125</td>\n",
       "      <td>11.70</td>\n",
       "    </tr>\n",
       "    <tr>\n",
       "      <th>3</th>\n",
       "      <td>O to HCGO</td>\n",
       "      <td>0.009641</td>\n",
       "      <td>771266</td>\n",
       "      <td>19.28</td>\n",
       "    </tr>\n",
       "    <tr>\n",
       "      <th>4</th>\n",
       "      <td>HC to HCG</td>\n",
       "      <td>0.002443</td>\n",
       "      <td>195425</td>\n",
       "      <td>4.89</td>\n",
       "    </tr>\n",
       "    <tr>\n",
       "      <th>5</th>\n",
       "      <td>HCG to HCGO</td>\n",
       "      <td>0.004075</td>\n",
       "      <td>325989</td>\n",
       "      <td>8.15</td>\n",
       "    </tr>\n",
       "  </tbody>\n",
       "</table>\n",
       "</div>"
      ],
      "text/plain": [
       "         Names  Raw values  Generations (mu = 1.25e-08)  \\\n",
       "0      H to HC    0.002756                       220490   \n",
       "1      C to HC    0.002919                       233515   \n",
       "2     G to HCG    0.005852                       468125   \n",
       "3    O to HCGO    0.009641                       771266   \n",
       "4    HC to HCG    0.002443                       195425   \n",
       "5  HCG to HCGO    0.004075                       325989   \n",
       "\n",
       "   MY (mu = 1.25e-08, g = 25)  \n",
       "0                        5.51  \n",
       "1                        5.84  \n",
       "2                       11.70  \n",
       "3                       19.28  \n",
       "4                        4.89  \n",
       "5                        8.15  "
      ]
     },
     "execution_count": 10,
     "metadata": {},
     "output_type": "execute_result"
    }
   ],
   "source": [
    "# mu_est_human = 9.70e-09 # Conrad et al., 2011 (human)\n",
    "# mu_est_human = 1.20e-08 # Kong et al., 2012 (human)\n",
    "# mu_est_human = 1.20e-08 # Francioli et al., 2015 (human)\n",
    "# mu_est_human = 1.28e-08 # Rahbari et al., 2016 (human)\n",
    "# mu_est_human = 1.05e-08 # Wong et al., 2016 (human)\n",
    "# mu_est_human = 1.29e-08 # Jónsson et al., 2017 (human)\n",
    "# mu_est_human = 1.28e-08 # Maretty et al., 2017 (human)\n",
    "# mu_est_human = 1.30e-08 # Turner et al., 2017 (human)\n",
    "# mu_est_human = 1.10e-08 # Sasani et al., 2019 (human)\n",
    "# mu_est_human = 1.22e-08 # Kessler et al., 2020 (human)\n",
    "# mu_est_human = 9.33e-09 # Bergeron et al., 2023 (human)\n",
    "# mu_est_human = 1.40e-08 # Bergeron et al., 2023 (human)\n",
    "\n",
    "# mu_est_chimp = 1.20e-8 # Venn et al., 2014 (chimp)\n",
    "# mu_est_chimp = 1.48e-8 # Tatsumoto et al., 2017 (chimp)\n",
    "# mu_est_chimp = 1.26e-8 # Besenbacher et al., 2019 (chimp)\n",
    "# mu_est_chimp = 1.25e-8 # Bergeron et al., 2023 (chimp)\n",
    "\n",
    "# mu_est_gorilla = 1.13e-08 # Besenbacher et al., 2019 (gorilla)\n",
    "\n",
    "# mu_est_orangutan = 1.66e-08 # Besenbacher et al., 2019 (orangutan)\n",
    "\n",
    "mu_est = 1.25e-08\n",
    "g = 25\n",
    "\n",
    "df_params = pd.DataFrame()\n",
    "df_params['Names'] = ['H to HC', 'C to HC', 'G to HCG', 'O to HCGO', 'HC to HCG', 'HCG to HCGO']\n",
    "df_params['Raw values'] = [dct[i] for i in ['t_A', 't_B', 't_C']] + [t_out-2*dct[\"N_ABC\"], dct['t_2'], cut_ABC_original[n_int_ABC_original-1]*dct[\"N_ABC\"]+dct[\"t_upper\"]]\n",
    "df_params['Generations (mu = '+str(mu_est)+')'] = [int(i) for i in round(df_params['Raw values']/mu_est)]\n",
    "df_params['MY (mu = '+str(mu_est)+', g = '+str(g)+')'] = [round(i, 2) for i in df_params['Raw values']/mu_est*25/1000000]\n",
    "df_params"
   ]
  },
  {
   "cell_type": "code",
   "execution_count": 11,
   "id": "1c1076f2-9fb3-4a95-9741-64503e34043c",
   "metadata": {},
   "outputs": [
    {
     "data": {
      "text/plain": [
       "5.906970707351222"
      ]
     },
     "execution_count": 11,
     "metadata": {},
     "output_type": "execute_result"
    }
   ],
   "source": [
    "# 2–3% Moorjani et al., 2016\n",
    "(dct['t_B']/dct['t_A']-1)*100 "
   ]
  },
  {
   "cell_type": "code",
   "execution_count": 12,
   "id": "e01ed554-533d-4617-a347-89f86f544c6c",
   "metadata": {},
   "outputs": [
    {
     "data": {
      "text/plain": [
       "12.552844132215446"
      ]
     },
     "execution_count": 12,
     "metadata": {},
     "output_type": "execute_result"
    }
   ],
   "source": [
    "# 6–7% Moorjani et al., 2016\n",
    "(dct['t_C']/(dct['t_A']+dct['t_2'])-1)*100 "
   ]
  },
  {
   "cell_type": "code",
   "execution_count": 13,
   "id": "a7efe4fa-1903-40c3-a20c-d9a3c81f91ef",
   "metadata": {},
   "outputs": [
    {
     "data": {
      "text/plain": [
       "3.9574746845492115"
      ]
     },
     "execution_count": 13,
     "metadata": {},
     "output_type": "execute_result"
    }
   ],
   "source": [
    "# 11% Moorjani et al., 2016\n",
    "(t_D/(dct['t_A']+dct['t_2']+cut_ABC_original[n_int_ABC_original-1]*dct[\"N_ABC\"]+dct[\"t_upper\"])-1)*100"
   ]
  },
  {
   "attachments": {},
   "cell_type": "markdown",
   "id": "2bfa102a-bd94-4fbf-bfde-bfab0d051747",
   "metadata": {},
   "source": [
    "We can also convert the effective population sizes into diploid population size by dividing by 2 times the mutation rate:"
   ]
  },
  {
   "cell_type": "code",
   "execution_count": 14,
   "id": "de2cac41-0574-4899-a786-ca56147e2f82",
   "metadata": {},
   "outputs": [
    {
     "data": {
      "text/html": [
       "<div>\n",
       "<style scoped>\n",
       "    .dataframe tbody tr th:only-of-type {\n",
       "        vertical-align: middle;\n",
       "    }\n",
       "\n",
       "    .dataframe tbody tr th {\n",
       "        vertical-align: top;\n",
       "    }\n",
       "\n",
       "    .dataframe thead th {\n",
       "        text-align: right;\n",
       "    }\n",
       "</style>\n",
       "<table border=\"1\" class=\"dataframe\">\n",
       "  <thead>\n",
       "    <tr style=\"text-align: right;\">\n",
       "      <th></th>\n",
       "      <th>Names</th>\n",
       "      <th>Raw values</th>\n",
       "      <th>2N (mu = 1.25e-08)</th>\n",
       "      <th>N (mu = 1.25e-08)</th>\n",
       "    </tr>\n",
       "  </thead>\n",
       "  <tbody>\n",
       "    <tr>\n",
       "      <th>0</th>\n",
       "      <td>HC</td>\n",
       "      <td>0.004185</td>\n",
       "      <td>334800</td>\n",
       "      <td>167400</td>\n",
       "    </tr>\n",
       "    <tr>\n",
       "      <th>1</th>\n",
       "      <td>HCG</td>\n",
       "      <td>0.002532</td>\n",
       "      <td>202579</td>\n",
       "      <td>101290</td>\n",
       "    </tr>\n",
       "  </tbody>\n",
       "</table>\n",
       "</div>"
      ],
      "text/plain": [
       "  Names  Raw values  2N (mu = 1.25e-08)  N (mu = 1.25e-08)\n",
       "0    HC    0.004185              334800             167400\n",
       "1   HCG    0.002532              202579             101290"
      ]
     },
     "execution_count": 14,
     "metadata": {},
     "output_type": "execute_result"
    }
   ],
   "source": [
    "# 177368 (HC) Rivas-González et al., 2023\n",
    "# 106702 (HCG) Rivas-González et al., 2023\n",
    "\n",
    "df_params = pd.DataFrame()\n",
    "df_params['Names'] = ['HC', 'HCG']\n",
    "df_params['Raw values'] = [dct[i] for i in ['N_AB', 'N_ABC']]\n",
    "df_params['2N (mu = '+str(mu_est)+')'] = [int(i) for i in round(df_params['Raw values']/mu_est)]\n",
    "df_params['N (mu = '+str(mu_est)+')'] = [int(i) for i in round(df_params['Raw values']/mu_est/2)]\n",
    "df_params"
   ]
  },
  {
   "attachments": {},
   "cell_type": "markdown",
   "id": "9c4b05ff-c9d3-4b6a-a3ea-42a8c6cff34b",
   "metadata": {},
   "source": [
    "Finally, the recombination rate can be calculated by multiplying the raw value by the mutation rate:"
   ]
  },
  {
   "cell_type": "code",
   "execution_count": 15,
   "id": "018cb883-86e5-4e20-809b-a75904c895f1",
   "metadata": {},
   "outputs": [
    {
     "data": {
      "text/html": [
       "<div>\n",
       "<style scoped>\n",
       "    .dataframe tbody tr th:only-of-type {\n",
       "        vertical-align: middle;\n",
       "    }\n",
       "\n",
       "    .dataframe tbody tr th {\n",
       "        vertical-align: top;\n",
       "    }\n",
       "\n",
       "    .dataframe thead th {\n",
       "        text-align: right;\n",
       "    }\n",
       "</style>\n",
       "<table border=\"1\" class=\"dataframe\">\n",
       "  <thead>\n",
       "    <tr style=\"text-align: right;\">\n",
       "      <th></th>\n",
       "      <th>Names</th>\n",
       "      <th>Raw value</th>\n",
       "      <th>r (mu = 1.25e-08)</th>\n",
       "    </tr>\n",
       "  </thead>\n",
       "  <tbody>\n",
       "    <tr>\n",
       "      <th>0</th>\n",
       "      <td>Recombination</td>\n",
       "      <td>0.952748</td>\n",
       "      <td>1.190935e-08</td>\n",
       "    </tr>\n",
       "  </tbody>\n",
       "</table>\n",
       "</div>"
      ],
      "text/plain": [
       "           Names  Raw value  r (mu = 1.25e-08)\n",
       "0  Recombination   0.952748       1.190935e-08"
      ]
     },
     "execution_count": 15,
     "metadata": {},
     "output_type": "execute_result"
    }
   ],
   "source": [
    "df_params = pd.DataFrame()\n",
    "df_params['Names'] = ['Recombination']\n",
    "df_params['Raw value'] = [dct[i] for i in ['r']]\n",
    "df_params['r (mu = '+str(mu_est)+')'] = df_params['Raw value']*mu_est\n",
    "df_params"
   ]
  },
  {
   "attachments": {},
   "cell_type": "markdown",
   "id": "832ae8aa-37c1-421d-81b9-3a6d725503a9",
   "metadata": {},
   "source": [
    "## Posterior decoding"
   ]
  },
  {
   "attachments": {},
   "cell_type": "markdown",
   "id": "43f378f7-5c75-4742-a8c2-22baa3fd6385",
   "metadata": {},
   "source": [
    "Based on the estimated values, we can compute the transition and emission probabilities of the TRAILS model:"
   ]
  },
  {
   "cell_type": "code",
   "execution_count": 16,
   "id": "4320dcd6-203f-4d35-b06d-2f7ce328ef3e",
   "metadata": {},
   "outputs": [
    {
     "name": "stderr",
     "output_type": "stream",
     "text": [
      "2023-06-07 11:36:56,714\tINFO worker.py:1625 -- Started a local Ray instance.\n"
     ]
    }
   ],
   "source": [
    "if 'a' not in globals():\n",
    "    a, b, pi, hidden_names, observed_names = trans_emiss_calc(\n",
    "        dct[\"t_A\"], dct[\"t_B\"], dct[\"t_C\"], dct[\"t_2\"], t_upper, t_out, \n",
    "        dct[\"N_AB\"], dct[\"N_ABC\"], dct[\"r\"], n_int_AB, n_int_ABC)"
   ]
  },
  {
   "attachments": {},
   "cell_type": "markdown",
   "id": "52808388-8383-4f3d-a8c4-eed6ec4d92da",
   "metadata": {},
   "source": [
    "We can then parse the chr1 region using the TRAILS maf parser:"
   ]
  },
  {
   "cell_type": "code",
   "execution_count": 17,
   "id": "63eac3b1-9f87-473d-81c4-0c1b757c44ed",
   "metadata": {},
   "outputs": [],
   "source": [
    "if 'obs' not in globals():\n",
    "    obs = maf_parser('../data/chr1.filtered.region.maf', ['hg38','panTro5','gorGor5','ponAbe2'])"
   ]
  },
  {
   "attachments": {},
   "cell_type": "markdown",
   "id": "b3c53b7a-9c7e-4338-8251-13b5fe0b2717",
   "metadata": {},
   "source": [
    "To calculate the posterior probabilities, we can use the `post_prob_wrapper` function:"
   ]
  },
  {
   "cell_type": "code",
   "execution_count": null,
   "id": "a91a1d51-e259-4d15-a3b1-cdc027c47e76",
   "metadata": {},
   "outputs": [],
   "source": [
    "if 'post_prob' not in globals():\n",
    "    post_prob = post_prob_wrapper(a, b, pi, obs)"
   ]
  },
  {
   "cell_type": "code",
   "execution_count": 21,
   "id": "edcd142b-96ba-4677-af30-79b69a4e3218",
   "metadata": {},
   "outputs": [
    {
     "name": "stderr",
     "output_type": "stream",
     "text": [
      "\u001b[2m\u001b[33m(raylet)\u001b[0m [2023-06-07 11:33:56,937 E 4934 727828] (raylet) file_system_monitor.cc:111: /tmp/ray/session_2023-06-07_11-17-02_483412_4604 is over 95% full, available space: 17498882048; capacity: 499963174912. Object creation will fail if spilling is required.\n"
     ]
    },
    {
     "ename": "NameError",
     "evalue": "name 'post_prob' is not defined",
     "output_type": "error",
     "traceback": [
      "\u001b[0;31m---------------------------------------------------------------------------\u001b[0m",
      "\u001b[0;31mNameError\u001b[0m                                 Traceback (most recent call last)",
      "Cell \u001b[0;32mIn[21], line 1\u001b[0m\n\u001b[0;32m----> 1\u001b[0m \u001b[38;5;28mlen\u001b[39m(\u001b[43mpost_prob\u001b[49m)\n",
      "\u001b[0;31mNameError\u001b[0m: name 'post_prob' is not defined"
     ]
    },
    {
     "name": "stderr",
     "output_type": "stream",
     "text": [
      "\u001b[2m\u001b[33m(raylet)\u001b[0m [2023-06-07 11:34:06,997 E 4934 727828] (raylet) file_system_monitor.cc:111: /tmp/ray/session_2023-06-07_11-17-02_483412_4604 is over 95% full, available space: 17498505216; capacity: 499963174912. Object creation will fail if spilling is required.\n"
     ]
    }
   ],
   "source": [
    "len(post_prob)"
   ]
  },
  {
   "attachments": {},
   "cell_type": "markdown",
   "id": "f55dce33-1ec2-4ff9-babc-078b88b7fd2d",
   "metadata": {},
   "source": [
    "The following function is used to extract the sequence and position information from the maf alignment:"
   ]
  },
  {
   "cell_type": "code",
   "execution_count": 18,
   "id": "edb45632-3a27-4f33-b48f-cdef49df4567",
   "metadata": {},
   "outputs": [],
   "source": [
    "from Bio import AlignIO\n",
    "\n",
    "def maf_seq(file, sp_lst):\n",
    "    total_dct = {sp_lst[0]:[], sp_lst[1]:[], sp_lst[2]:[], sp_lst[3]:[]}\n",
    "    start_dct = []\n",
    "    # Start loglik accumulator\n",
    "    loglik_acc = 0\n",
    "    # For each block\n",
    "    for multiple_alignment in AlignIO.parse(file, \"maf\"):\n",
    "        # Save sequence\n",
    "        dct = {}\n",
    "        # For each sequence in the alignment block\n",
    "        for seqrec in multiple_alignment:\n",
    "            if seqrec.name.split('.')[0] in sp_lst:\n",
    "                # Save nucleotides as ones and gaps as zeros\n",
    "                dct[seqrec.name.split('.')[0]] = ''.join([str(int(j!='-')) for j in str(seqrec.seq)])\n",
    "            if seqrec.name.split('.')[0] == 'hg38':\n",
    "                # Save the start position of the block in human coordinates\n",
    "                start = seqrec.annotations['start']\n",
    "        # Append information to list\n",
    "        if len(dct) == 4: \n",
    "            start_dct.append(start)\n",
    "            for i in sp_lst:\n",
    "                total_dct[i].append(dct[i])\n",
    "    return total_dct, start_dct\n",
    "\n",
    "# Get sequence and start information\n",
    "seqinfo, startinfo = maf_seq('../data/chr1.filtered.region.maf', ['hg38','panTro5','gorGor5','ponAbe2'])"
   ]
  },
  {
   "attachments": {},
   "cell_type": "markdown",
   "id": "c1f66060-9235-4209-8287-9ceb50c525ca",
   "metadata": {},
   "source": [
    "Now, we will iterate over the alignment blocks, save the position in human coordinates, and mark gaps as -9:"
   ]
  },
  {
   "cell_type": "code",
   "execution_count": 19,
   "id": "76881ff6-ba75-440d-8e71-750c62a362b4",
   "metadata": {},
   "outputs": [],
   "source": [
    "tot_lst = []\n",
    "# For each block\n",
    "for i in range(len(startinfo)):\n",
    "    # Save start coordinate\n",
    "    st = startinfo[i]\n",
    "    tmp_lst = []\n",
    "    # For each site in the human sequence\n",
    "    for j in seqinfo['hg38'][i]:\n",
    "        # If the site is not a gap\n",
    "        if j == '1':\n",
    "            # Append position\n",
    "            tmp_lst.append(st)\n",
    "            # Update coordinate\n",
    "            st += 1\n",
    "        # If it is a gap\n",
    "        else:\n",
    "            # Append -9\n",
    "            tmp_lst.append(-9)\n",
    "    tot_lst.append(tmp_lst)"
   ]
  },
  {
   "attachments": {},
   "cell_type": "markdown",
   "id": "6559f374-1d40-494a-bca0-227df9e9ff70",
   "metadata": {},
   "source": [
    "In order to summarize the data, we will calculate the mean posterior probability in 100 kb windows for each of the hidden states:"
   ]
  },
  {
   "cell_type": "code",
   "execution_count": 195,
   "id": "cf885a95",
   "metadata": {},
   "outputs": [],
   "source": [
    "# Define bin size\n",
    "binsize = 100000"
   ]
  },
  {
   "cell_type": "code",
   "execution_count": 22,
   "id": "ffb66f5c-f21c-4dd1-8e06-3d4f8b337b3d",
   "metadata": {},
   "outputs": [
    {
     "name": "stderr",
     "output_type": "stream",
     "text": [
      "100%|██████████| 2599/2599 [08:05<00:00,  5.36it/s]  \n"
     ]
    }
   ],
   "source": [
    "# Create empty data frame\n",
    "summary = pd.DataFrame()\n",
    "# For each block\n",
    "for j in tqdm(range(len(post_prob))):\n",
    "    # Convert posteriors into data frame\n",
    "    dat = pd.DataFrame(post_prob[j])\n",
    "    # Add hidden states as column names\n",
    "    dat.columns = [str(i) for i in list(hidden_names.values())]\n",
    "    # Add position in human coordinates\n",
    "    dat['position'] = tot_lst[j]\n",
    "    # Filter gaps\n",
    "    dat = dat[dat['position'] != -9]\n",
    "    # Bin the result using the bin size\n",
    "    dat['bin'] = dat['position'] // binsize\n",
    "    # Calculate number of sites per bin\n",
    "    t1 = dat.groupby('bin').agg(size=('(0, 0, 0)', 'size')).reset_index()\n",
    "    # Calculate mean posterior probability per hidden state\n",
    "    t2 = dat.groupby('bin').agg('mean').reset_index()\n",
    "    # Append to overall result\n",
    "    summary = pd.concat([summary, t1.merge(t2)])"
   ]
  },
  {
   "cell_type": "code",
   "execution_count": 23,
   "id": "5f8b42bd-7633-4ec9-9396-1ae44b9be089",
   "metadata": {},
   "outputs": [],
   "source": [
    "# from tqdm import tqdm\n",
    "# \n",
    "# # Create empty data frame\n",
    "# ILS_summary = {0:0, 1:0, 2:0, 3:0}\n",
    "# # For each block\n",
    "# for j in tqdm(range(len(post_prob))):\n",
    "#     # Convert posteriors into data frame\n",
    "#     dat = pd.DataFrame(post_prob[j])\n",
    "#     # Add hidden states as column names\n",
    "#     dat.columns = [str(i) for i in list(hidden_names.values())]\n",
    "#     # Add position in human coordinates\n",
    "#     dat['position'] = tot_lst[j]\n",
    "#     # Filter gaps\n",
    "#     dat = dat[dat['position'] != -9]\n",
    "#     dat = dat.melt(id_vars=['position'], value_vars=dat.columns[:-1])\n",
    "#     dat = dat[dat.groupby('position')['value'].transform(max) == dat['value']] \n",
    "#     dat['V'] = [int(i[1]) for i in dat['variable']]\n",
    "#     dat = dat.groupby('V').size().to_dict()\n",
    "#     for i in range(4):\n",
    "#         ILS_summary[i] += dat.get(i, 0)\n",
    "# ILS_summary"
   ]
  },
  {
   "cell_type": "code",
   "execution_count": 24,
   "id": "8cb973f8-250f-4e74-ac60-46e80b01a4a2",
   "metadata": {},
   "outputs": [],
   "source": [
    "# ILS_summary = {0: 15397599, 1: 11431336, 2: 9264987, 3: 9227896}\n",
    "# (ILS_summary[2]+ILS_summary[3])/np.array(list(ILS_summary.values())).sum()\n",
    "# 0.40803488950950734"
   ]
  },
  {
   "cell_type": "code",
   "execution_count": 25,
   "id": "8c7fd2e1-50b2-4067-9299-b4282486487b",
   "metadata": {},
   "outputs": [],
   "source": [
    "binsize = 100000"
   ]
  },
  {
   "cell_type": "code",
   "execution_count": 26,
   "id": "dd41242e-c6e0-48e1-b2c7-7bfd20ffbb96",
   "metadata": {},
   "outputs": [
    {
     "name": "stderr",
     "output_type": "stream",
     "text": [
      "R[write to console]: ── Attaching packages ─────────────────────────────────────── tidyverse 1.3.1 ──\n",
      "\n",
      "R[write to console]: ✔ ggplot2 3.3.5     ✔ purrr   0.3.4\n",
      "✔ tibble  3.1.5     ✔ dplyr   1.0.7\n",
      "✔ tidyr   1.1.4     ✔ stringr 1.4.0\n",
      "✔ readr   2.0.2     ✔ forcats 0.5.1\n",
      "\n",
      "R[write to console]: ── Conflicts ────────────────────────────────────────── tidyverse_conflicts() ──\n",
      "✖ dplyr::filter() masks stats::filter()\n",
      "✖ dplyr::lag()    masks stats::lag()\n",
      "\n"
     ]
    }
   ],
   "source": [
    "%%R -i summary\n",
    "\n",
    "library(tidyverse)\n",
    "\n",
    "summary %>% write_csv('../data/summary.csv')"
   ]
  },
  {
   "attachments": {},
   "cell_type": "markdown",
   "id": "77241dcf-9a87-43f7-8e01-fb6e3a06a5f4",
   "metadata": {},
   "source": [
    "We can import the data frame into R for plotting:"
   ]
  },
  {
   "cell_type": "code",
   "execution_count": 191,
   "id": "482158ce-097d-443c-b3b9-45baeac362c9",
   "metadata": {},
   "outputs": [
    {
     "name": "stdout",
     "output_type": "stream",
     "text": [
      "Rows: 3053 Columns: 73\n",
      "── Column specification ────────────────────────────────────────────────────────\n",
      "Delimiter: \",\"\n",
      "dbl (73): bin, size, (0, 0, 0), (0, 0, 1), (0, 0, 2), (0, 0, 3), (0, 0, 4), ...\n",
      "\n",
      "ℹ Use `spec()` to retrieve the full column specification for this data.\n",
      "ℹ Specify the column types or set `show_col_types = FALSE` to quiet this message.\n",
      "`summarise()` has grouped output by 'bin'. You can override using the `.groups`\n",
      "argument.\n",
      "# A tibble: 35,140 × 7\n",
      "# Groups:   bin [502]\n",
      "     bin     V    t1    t2   value  size is_V0\n",
      "   <dbl> <int> <int> <int>   <dbl> <dbl> <lgl>\n",
      " 1   249     0     0     0 0.0200   1485 TRUE \n",
      " 2   249     0     0     1 0.0174   1485 TRUE \n",
      " 3   249     0     0     2 0.0149   1485 TRUE \n",
      " 4   249     0     0     3 0.0124   1485 TRUE \n",
      " 5   249     0     0     4 0.00929  1485 TRUE \n",
      " 6   249     0     1     0 0.0212   1485 TRUE \n",
      " 7   249     0     1     1 0.0184   1485 TRUE \n",
      " 8   249     0     1     2 0.0158   1485 TRUE \n",
      " 9   249     0     1     3 0.0132   1485 TRUE \n",
      "10   249     0     1     4 0.00991  1485 TRUE \n",
      "# ℹ 35,130 more rows\n",
      "# ℹ Use `print(n = ...)` to see more rows\n"
     ]
    }
   ],
   "source": [
    "%%R\n",
    "\n",
    "library(tidyverse)\n",
    "\n",
    "# summary %>% write_csv('../data/summary.csv')\n",
    "\n",
    "summary <- read_csv('../data/summary.csv')\n",
    "\n",
    "totab <- summary %>%\n",
    "    # Convert to tibble\n",
    "    as_tibble() %>%\n",
    "    # Remove unused columns\n",
    "    select(-position) %>%\n",
    "    # Pivot table\n",
    "    pivot_longer(-c(bin, size)) %>%\n",
    "    # For each bin and hidden state\n",
    "    group_by(bin, name) %>%\n",
    "    summarize(\n",
    "        # Calculate the mean posterior weighted by \n",
    "        # the number of sites\n",
    "        value = weighted.mean(value, size),\n",
    "        size = sum(size)\n",
    "    ) %>%\n",
    "    # Convert hidden state names into plottable info\n",
    "    mutate(\n",
    "        name = str_remove_all(name, '\\\\('),\n",
    "        name = str_remove_all(name, '\\\\)')\n",
    "    ) %>%\n",
    "    separate(name, c('V', 't1', 't2'), ', ') %>%\n",
    "    mutate(\n",
    "        V = as.integer(V),\n",
    "        t1 = as.integer(t1),\n",
    "        t2 = as.integer(t2),\n",
    "        is_V0 = V == 0\n",
    "    ) \n",
    "totab "
   ]
  },
  {
   "cell_type": "code",
   "execution_count": 192,
   "id": "7d56476f-5195-47ae-9ecd-3f374478a416",
   "metadata": {},
   "outputs": [
    {
     "name": "stdout",
     "output_type": "stream",
     "text": [
      "`summarise()` has grouped output by 'bin'. You can override using the `.groups`\n",
      "argument.\n",
      "# A tibble: 1 × 1\n",
      "    ILS\n",
      "  <dbl>\n",
      "1 0.347\n"
     ]
    }
   ],
   "source": [
    "%%R\n",
    "\n",
    "totab %>%\n",
    "    group_by(bin, V) %>%\n",
    "    summarize(\n",
    "        value = sum(value),\n",
    "        n = unique(size)\n",
    "    ) %>% pivot_wider(names_from = V, values_from = value) %>%\n",
    "    mutate(\n",
    "        ILS = `2`+`3`\n",
    "    ) %>%\n",
    "    ungroup() %>%\n",
    "    summarize(ILS = weighted.mean(ILS, n))"
   ]
  },
  {
   "cell_type": "code",
   "execution_count": 210,
   "id": "2feac791-aa2c-449a-8a6d-8916c634173a",
   "metadata": {},
   "outputs": [
    {
     "name": "stdout",
     "output_type": "stream",
     "text": [
      "`summarise()` has grouped output by 'bin'. You can override using the `.groups`\n",
      "argument.\n"
     ]
    },
    {
     "data": {
      "image/png": "[encoded data removed]",
      "text/plain": [
       "<IPython.core.display.Image object>"
      ]
     },
     "metadata": {},
     "output_type": "display_data"
    }
   ],
   "source": [
    "%%R -w 2000 -h 150 -r 150 -i binsize\n",
    "\n",
    "# Load packages\n",
    "library(ggHoriPlot)\n",
    "library(ggthemes)\n",
    "\n",
    "tab_ILS <- totab %>%\n",
    "    # Group by bin and topology\n",
    "    group_by(bin, V) %>%\n",
    "    # Sum the mean posterior\n",
    "    summarize(\n",
    "        value = sum(value)\n",
    "    ) %>%\n",
    "    # Group only by bin\n",
    "    group_by(bin) %>%\n",
    "    # Calculate ILS proxy from the mean posterior\n",
    "    summarize(\n",
    "        ILS = sum(value[V %in% c(2, 3)])/sum(value)\n",
    "    ) %>%\n",
    "    # Convert bins into coordinates\n",
    "    mutate(bin = bin*binsize/1000000) %>%\n",
    "    ungroup() %>%\n",
    "    mutate(\n",
    "        ILS = case_when(\n",
    "            ILS <= quantile(ILS, 0.01) ~ min(ILS[ILS > quantile(ILS, 0.01)]),\n",
    "            ILS >= quantile(ILS, 0.99) ~ max(ILS[ILS < quantile(ILS, 0.99)]),\n",
    "            TRUE ~ ILS\n",
    "        )\n",
    "    )\n",
    "    \n",
    "p_ILS <- tab_ILS %>%\n",
    "    # Plot as horizon plot\n",
    "    ggplot() +\n",
    "    geom_tile(aes(x = bin, y = 0, fill=ILS)) +\n",
    "    theme_few() +\n",
    "    theme(axis.title.x=element_blank(),\n",
    "        axis.text.x=element_blank(),\n",
    "        axis.ticks.x=element_blank(),\n",
    "        axis.title.y=element_blank(),\n",
    "        axis.text.y=element_blank(),\n",
    "        axis.ticks.y=element_blank(),\n",
    "        legend.direction=\"horizontal\",\n",
    "        text = element_text(size = 12),\n",
    "        #legend.text = element_blank()\n",
    "         ) +\n",
    "    scale_y_continuous(expand = c(0, 0)) +\n",
    "    scale_x_continuous(expand = c(0, 0)) +\n",
    "    colorspace::scale_fill_continuous_diverging(\n",
    "        name = 'ILS',\n",
    "        palette = \"Blue-Red 3\", mid = (max(tab_ILS$ILS)+min(tab_ILS$ILS))/2,\n",
    "        breaks = c(min(tab_ILS$ILS)+(max(tab_ILS$ILS)-min(tab_ILS$ILS))*0.1, \n",
    "                   min(tab_ILS$ILS)+(max(tab_ILS$ILS)-min(tab_ILS$ILS))*0.9),\n",
    "        labels = c('Low', 'High')) + \n",
    "    guides(fill=guide_colorbar(ticks.colour = NA, title.position=\"top\", title.hjust = 0.5))\n",
    "p_ILS"
   ]
  },
  {
   "cell_type": "code",
   "execution_count": 211,
   "id": "b0ecdc22-af11-40c6-b79c-e52a3684680c",
   "metadata": {},
   "outputs": [
    {
     "name": "stdout",
     "output_type": "stream",
     "text": [
      "`summarise()` has grouped output by 'bin'. You can override using the `.groups`\n",
      "argument.\n"
     ]
    },
    {
     "data": {
      "image/png": "[encoded data removed]",
      "text/plain": [
       "<IPython.core.display.Image object>"
      ]
     },
     "metadata": {},
     "output_type": "display_data"
    }
   ],
   "source": [
    "%%R -w 2000 -h 300 -r 150\n",
    "\n",
    "# This is similar to the previous block, \n",
    "# but for the second coalescent\n",
    "tab_t2 <- totab %>%\n",
    "    group_by(bin, t2) %>%\n",
    "    summarize(\n",
    "        value = sum(value)\n",
    "    ) %>%\n",
    "    group_by(bin) %>%\n",
    "    summarize(t2 = weighted.mean(t2, value)) %>%\n",
    "    mutate(bin = bin*binsize/1000000) %>%\n",
    "    ungroup() %>%\n",
    "    mutate(\n",
    "        t2 = case_when(\n",
    "            t2 <= quantile(t2, 0.01) ~ min(t2[t2 > quantile(t2, 0.01)]),\n",
    "            t2 >= quantile(t2, 0.99) ~ max(t2[t2 < quantile(t2, 0.99)]),\n",
    "            TRUE ~ t2\n",
    "        )\n",
    "    )\n",
    "    \n",
    "p_t2 <- tab_t2 %>%\n",
    "    ggplot() +\n",
    "    geom_tile(aes(x = bin, y = 0, fill=t2)) +\n",
    "    theme_few() +\n",
    "    theme(axis.title.x=element_blank(),\n",
    "        axis.text.x=element_blank(),\n",
    "        axis.ticks.x=element_blank(),\n",
    "        axis.title.y=element_blank(),\n",
    "        axis.text.y=element_blank(),\n",
    "        axis.ticks.y=element_blank(),\n",
    "        legend.direction=\"horizontal\",\n",
    "        text = element_text(size = 12),\n",
    "        # legend.text = element_blank()\n",
    "         )  +\n",
    "    xlab('Position (Mb)') +\n",
    "    scale_y_continuous(expand = c(0, 0)) +\n",
    "    scale_x_continuous(expand = c(0, 0)) +\n",
    "    colorspace::scale_fill_continuous_diverging(\n",
    "        name = '2nd coalescent',\n",
    "        palette = \"Blue-Red 3\", mid = (max(tab_t2$t2)+min(tab_t2$t2))/2,\n",
    "        breaks = c(min(tab_t2$t2)+(max(tab_t2$t2)-min(tab_t2$t2))*0.1, \n",
    "                   min(tab_t2$t2)+(max(tab_t2$t2)-min(tab_t2$t2))*0.9),\n",
    "        labels = c('Shallow', 'Deep')) + \n",
    "    guides(fill=guide_colorbar(ticks.colour = NA, title.position=\"top\", title.hjust = 0.5))\n",
    "\n",
    "    p_t2"
   ]
  },
  {
   "cell_type": "code",
   "execution_count": 212,
   "id": "51ee1c3f-5b8b-45be-bc0f-45d03bbf35a1",
   "metadata": {},
   "outputs": [
    {
     "name": "stdout",
     "output_type": "stream",
     "text": [
      "`summarise()` has grouped output by 'bin', 't1'. You can override using the\n",
      "`.groups` argument.\n"
     ]
    },
    {
     "data": {
      "image/png": "[encoded data removed]",
      "text/plain": [
       "<IPython.core.display.Image object>"
      ]
     },
     "metadata": {},
     "output_type": "display_data"
    }
   ],
   "source": [
    "%%R -w 2000 -h 300 -r 150 -i n_int_AB\n",
    "\n",
    "# This is similar to the previous block, \n",
    "# but for the first coalescent\n",
    "tab_t1 <- totab %>%\n",
    "    group_by(bin, t1, is_V0) %>%\n",
    "    summarize(\n",
    "        value = sum(value)\n",
    "    ) %>%\n",
    "    ungroup() %>%\n",
    "    mutate(\n",
    "        t1 = ifelse(!is_V0, t1+n_int_AB, t1)\n",
    "    ) %>%\n",
    "    group_by(bin) %>%\n",
    "    summarize(t1 = weighted.mean(t1, value)) %>%\n",
    "    mutate(bin = bin*binsize/1000000) %>%\n",
    "    mutate(\n",
    "        t1 = case_when(\n",
    "            t1 <= quantile(t1, 0.01) ~ min(t1[t1 > quantile(t1, 0.01)]),\n",
    "            t1 >= quantile(t1, 0.99) ~ max(t1[t1 < quantile(t1, 0.99)]),\n",
    "            TRUE ~ t1\n",
    "        )\n",
    "    )\n",
    "    \n",
    "p_t1 <- tab_t1 %>%\n",
    "    ggplot() +\n",
    "    geom_tile(aes(x = bin, y = 0, fill=t1)) +\n",
    "    theme_few() +\n",
    "    theme(\n",
    "        axis.title.y=element_blank(),\n",
    "        axis.text.y=element_blank(),\n",
    "        axis.ticks.y=element_blank(),\n",
    "        legend.direction=\"horizontal\",\n",
    "        text = element_text(size = 12)\n",
    "        # legend.text = element_blank()\n",
    "    ) +\n",
    "    scale_y_continuous(expand = c(0, 0)) +\n",
    "    scale_x_continuous(expand = c(0, 0)) +\n",
    "    xlab('Position (Mb)') +\n",
    "    colorspace::scale_fill_continuous_diverging(\n",
    "        name = '1st coalescent',\n",
    "        palette = \"Blue-Red 3\", mid = (max(tab_t1$t1)+min(tab_t1$t1))/2,\n",
    "        breaks = c(min(tab_t1$t1)+(max(tab_t1$t1)-min(tab_t1$t1))*0.1, \n",
    "                   min(tab_t1$t1)+(max(tab_t1$t1)-min(tab_t1$t1))*0.9),\n",
    "        labels = c('Shallow', 'Deep')\n",
    "    ) + \n",
    "    guides(fill=guide_colorbar(ticks.colour = NA, title.position=\"top\", title.hjust = 0.5))\n",
    "\n",
    "p_t1"
   ]
  },
  {
   "cell_type": "code",
   "execution_count": 213,
   "id": "0e77ebd7-8801-458a-83d8-acf2bd72156c",
   "metadata": {},
   "outputs": [],
   "source": [
    "%%R -w 2000 -h 600 -r 150\n",
    "\n",
    "library(patchwork)\n",
    "\n",
    "p_ILS / p_t2 / p_t1 & theme(plot.margin = unit(c(0,0,0,0), \"cm\"), legend.position = 'none')\n",
    "\n",
    "ggsave('../plots/heatmap_chr1.pdf', height = 3/1.5, width = 12/1.5)"
   ]
  },
  {
   "cell_type": "code",
   "execution_count": 33,
   "id": "61b1fbf3-a7ea-4f87-b5a7-bad51c5b6ce0",
   "metadata": {},
   "outputs": [
    {
     "name": "stdout",
     "output_type": "stream",
     "text": [
      "# A tibble: 1 × 3\n",
      "  ILS_t1 ILS_t2 t1_t2\n",
      "   <dbl>  <dbl> <dbl>\n",
      "1  0.979  0.483 0.501\n"
     ]
    }
   ],
   "source": [
    "%%R\n",
    "\n",
    "full_join(full_join(tab_ILS, tab_t1, by = 'bin'), tab_t2, by = 'bin') %>%\n",
    "    summarize(\n",
    "        ILS_t1 = cor(ILS, t1),\n",
    "        ILS_t2 = cor(ILS, t2),\n",
    "        t1_t2 = cor(t1, t2)\n",
    "    ) "
   ]
  },
  {
   "cell_type": "code",
   "execution_count": 65,
   "id": "73f70f1c-b19e-4dd0-9a4d-15ba024da30a",
   "metadata": {},
   "outputs": [],
   "source": [
    "%%R\n",
    "\n",
    "248387328\n",
    "25000000\n",
    "75000000\n",
    "\n",
    "ggplot() +\n",
    "    geom_rect(aes(xmin = 0, xmax = 248387328, ymin = 0, ymax = 1)) +\n",
    "    geom_vline(aes(xintercept = x), data = tibble(x = c(25000000, 75000000))) +\n",
    "    geom_point(aes(x = 123400000, y = 0.5)) +\n",
    "    theme_void()\n",
    "    \n",
    "ggsave('../plots/chr1_location.pdf', width = 16, height = 2)"
   ]
  },
  {
   "attachments": {},
   "cell_type": "markdown",
   "id": "ed3447e7-c0ff-436d-a328-7efcae8d9878",
   "metadata": {},
   "source": [
    "## Posterior decoding at the base-pair level"
   ]
  },
  {
   "cell_type": "code",
   "execution_count": 9,
   "id": "132978c9-0c0b-42d9-afd7-3077595ebe0e",
   "metadata": {},
   "outputs": [],
   "source": [
    "obs = maf_parser('../data/chr1.filtered.region.maf', ['hg38','panTro5','gorGor5','ponAbe2'])"
   ]
  },
  {
   "cell_type": "code",
   "execution_count": 10,
   "id": "412eca4e-b946-4753-9cef-d4774a2cb151",
   "metadata": {},
   "outputs": [],
   "source": [
    "from Bio import AlignIO\n",
    "\n",
    "def maf_seq(file, sp_lst):\n",
    "    total_dct = {sp_lst[0]:[], sp_lst[1]:[], sp_lst[2]:[], sp_lst[3]:[]}\n",
    "    start_dct = []\n",
    "    # Start loglik accumulator\n",
    "    loglik_acc = 0\n",
    "    # For each block\n",
    "    for multiple_alignment in AlignIO.parse(file, \"maf\"):\n",
    "        # Save sequence\n",
    "        dct = {}\n",
    "        # For each sequence in the alignment block\n",
    "        for seqrec in multiple_alignment:\n",
    "            if seqrec.name.split('.')[0] in sp_lst:\n",
    "                # Save nucleotides as ones and gaps as zeros\n",
    "                dct[seqrec.name.split('.')[0]] = ''.join([str(int(j!='-')) for j in str(seqrec.seq)])\n",
    "            if seqrec.name.split('.')[0] == 'hg38':\n",
    "                # Save the start position of the block in human coordinates\n",
    "                start = seqrec.annotations['start']\n",
    "        # Append information to list\n",
    "        if len(dct) == 4: \n",
    "            start_dct.append(start)\n",
    "            for i in sp_lst:\n",
    "                total_dct[i].append(dct[i])\n",
    "    return total_dct, start_dct\n",
    "\n",
    "# Get sequence and start information\n",
    "seqinfo, startinfo = maf_seq('../data/chr1.filtered.region.maf', ['hg38','panTro5','gorGor5','ponAbe2'])"
   ]
  },
  {
   "attachments": {},
   "cell_type": "markdown",
   "id": "cb81ff8a-081a-4858-b43c-0c53e4857ed3",
   "metadata": {},
   "source": [
    "Now, we will iterate over the alignment blocks, save the position in human coordinates, and mark gaps as -9:"
   ]
  },
  {
   "cell_type": "code",
   "execution_count": 11,
   "id": "36804d2a-8df1-4ccd-8ad4-73c27bb1abd5",
   "metadata": {},
   "outputs": [],
   "source": [
    "tot_lst = []\n",
    "# For each block\n",
    "for i in range(len(startinfo)):\n",
    "    # Save start coordinate\n",
    "    st = startinfo[i]\n",
    "    tmp_lst = []\n",
    "    # For each site in the human sequence\n",
    "    for j in seqinfo['hg38'][i]:\n",
    "        # If the site is not a gap\n",
    "        if j == '1':\n",
    "            # Append position\n",
    "            tmp_lst.append(st)\n",
    "            # Update coordinate\n",
    "            st += 1\n",
    "        # If it is a gap\n",
    "        else:\n",
    "            # Append -9\n",
    "            tmp_lst.append(-9)\n",
    "    tot_lst.append(tmp_lst)"
   ]
  },
  {
   "cell_type": "code",
   "execution_count": 9,
   "id": "72b030d3-1fd1-4555-aa41-c3402ba74e18",
   "metadata": {},
   "outputs": [],
   "source": [
    "t_2 = dct['t_2']\n",
    "N_AB = dct['N_AB']"
   ]
  },
  {
   "cell_type": "code",
   "execution_count": 10,
   "id": "9e8070a4-f40a-4a6b-b0a6-75082970b7e3",
   "metadata": {},
   "outputs": [
    {
     "name": "stderr",
     "output_type": "stream",
     "text": [
      "2023-06-12 11:37:39,044\tINFO worker.py:1625 -- Started a local Ray instance.\n"
     ]
    },
    {
     "ename": "KeyboardInterrupt",
     "evalue": "",
     "output_type": "error",
     "traceback": [
      "\u001b[0;31m---------------------------------------------------------------------------\u001b[0m",
      "\u001b[0;31mKeyboardInterrupt\u001b[0m                         Traceback (most recent call last)",
      "Cell \u001b[0;32mIn[10], line 2\u001b[0m\n\u001b[1;32m      1\u001b[0m cut_ABC_new \u001b[39m=\u001b[39m cutpoints_ABC(n_int_ABC, \u001b[39m3\u001b[39m)\n\u001b[0;32m----> 2\u001b[0m a_1, b_1, pi_1, hidden_names_1, observed_names_1 \u001b[39m=\u001b[39m trans_emiss_calc(\n\u001b[1;32m      3\u001b[0m         dct[\u001b[39m\"\u001b[39;49m\u001b[39mt_A\u001b[39;49m\u001b[39m\"\u001b[39;49m], dct[\u001b[39m\"\u001b[39;49m\u001b[39mt_B\u001b[39;49m\u001b[39m\"\u001b[39;49m], dct[\u001b[39m\"\u001b[39;49m\u001b[39mt_C\u001b[39;49m\u001b[39m\"\u001b[39;49m], dct[\u001b[39m\"\u001b[39;49m\u001b[39mt_2\u001b[39;49m\u001b[39m\"\u001b[39;49m], t_upper, t_out, \n\u001b[1;32m      4\u001b[0m         dct[\u001b[39m\"\u001b[39;49m\u001b[39mN_AB\u001b[39;49m\u001b[39m\"\u001b[39;49m], dct[\u001b[39m\"\u001b[39;49m\u001b[39mN_ABC\u001b[39;49m\u001b[39m\"\u001b[39;49m], dct[\u001b[39m\"\u001b[39;49m\u001b[39mr\u001b[39;49m\u001b[39m\"\u001b[39;49m], n_int_AB, n_int_ABC,\n\u001b[1;32m      5\u001b[0m         cut_AB \u001b[39m=\u001b[39;49m \u001b[39m'\u001b[39;49m\u001b[39mstandard\u001b[39;49m\u001b[39m'\u001b[39;49m, cut_ABC \u001b[39m=\u001b[39;49m cut_ABC_new)\n",
      "File \u001b[0;32m~/opt/miniconda3/envs/trails_plot/lib/python3.9/site-packages/trails/optimizer.py:329\u001b[0m, in \u001b[0;36mtrans_emiss_calc\u001b[0;34m(t_A, t_B, t_C, t_2, t_upper, t_out, N_AB, N_ABC, r, n_int_AB, n_int_ABC, cut_AB, cut_ABC)\u001b[0m\n\u001b[1;32m    326\u001b[0m mu_AB \u001b[39m=\u001b[39m N_ref\u001b[39m*\u001b[39m(\u001b[39m4\u001b[39m\u001b[39m/\u001b[39m\u001b[39m3\u001b[39m)\n\u001b[1;32m    327\u001b[0m mu_ABC \u001b[39m=\u001b[39m N_ref\u001b[39m*\u001b[39m(\u001b[39m4\u001b[39m\u001b[39m/\u001b[39m\u001b[39m3\u001b[39m)\n\u001b[0;32m--> 329\u001b[0m tr \u001b[39m=\u001b[39m get_joint_prob_mat(\n\u001b[1;32m    330\u001b[0m     t_A,    t_B,    t_AB,    t_C, \n\u001b[1;32m    331\u001b[0m     rho_A,  rho_B,  rho_AB,  rho_C,  rho_ABC, \n\u001b[1;32m    332\u001b[0m     coal_A, coal_B, coal_AB, coal_C, coal_ABC,\n\u001b[1;32m    333\u001b[0m     n_int_AB, n_int_ABC,\n\u001b[1;32m    334\u001b[0m     cut_AB, cut_ABC\n\u001b[1;32m    335\u001b[0m )\n\u001b[1;32m    336\u001b[0m tr \u001b[39m=\u001b[39m pd\u001b[39m.\u001b[39mDataFrame(tr, columns\u001b[39m=\u001b[39m[\u001b[39m'\u001b[39m\u001b[39mFrom\u001b[39m\u001b[39m'\u001b[39m, \u001b[39m'\u001b[39m\u001b[39mTo\u001b[39m\u001b[39m'\u001b[39m, \u001b[39m'\u001b[39m\u001b[39mProb\u001b[39m\u001b[39m'\u001b[39m])\u001b[39m.\u001b[39mpivot(index \u001b[39m=\u001b[39m [\u001b[39m'\u001b[39m\u001b[39mFrom\u001b[39m\u001b[39m'\u001b[39m], columns \u001b[39m=\u001b[39m [\u001b[39m'\u001b[39m\u001b[39mTo\u001b[39m\u001b[39m'\u001b[39m], values \u001b[39m=\u001b[39m [\u001b[39m'\u001b[39m\u001b[39mProb\u001b[39m\u001b[39m'\u001b[39m])\n\u001b[1;32m    337\u001b[0m tr\u001b[39m.\u001b[39mcolumns \u001b[39m=\u001b[39m tr\u001b[39m.\u001b[39mcolumns\u001b[39m.\u001b[39mdroplevel()\n",
      "File \u001b[0;32m~/opt/miniconda3/envs/trails_plot/lib/python3.9/site-packages/trails/get_joint_prob_mat.py:159\u001b[0m, in \u001b[0;36mget_joint_prob_mat\u001b[0;34m(t_A, t_B, t_AB, t_C, rho_A, rho_B, rho_AB, rho_C, rho_ABC, coal_A, coal_B, coal_AB, coal_C, coal_ABC, n_int_AB, n_int_ABC, cut_AB, cut_ABC)\u001b[0m\n\u001b[1;32m    155\u001b[0m trans_mat_ABC \u001b[39m=\u001b[39m trans_mat_num(trans_mat_3, coal_ABC, rho_ABC)\n\u001b[1;32m    158\u001b[0m \u001b[39m# Run the three-sequence CTMC\u001b[39;00m\n\u001b[0;32m--> 159\u001b[0m tab_2 \u001b[39m=\u001b[39m get_tab_ABC(state_space_ABC, trans_mat_ABC, cut_ABC, pi_ABC, names_tab_AB, n_int_AB)\n\u001b[1;32m    161\u001b[0m \u001b[39mreturn\u001b[39;00m tab_2\n",
      "File \u001b[0;32m~/opt/miniconda3/envs/trails_plot/lib/python3.9/site-packages/trails/get_tab.py:339\u001b[0m, in \u001b[0;36mget_tab_ABC\u001b[0;34m(state_space_ABC, trans_mat_ABC, cut_ABC, pi_ABC, names_tab_AB, n_int_AB)\u001b[0m\n\u001b[1;32m    333\u001b[0m     ncpus \u001b[39m=\u001b[39m mp\u001b[39m.\u001b[39mcpu_count()\n\u001b[1;32m    334\u001b[0m pool \u001b[39m=\u001b[39m Pool(\n\u001b[1;32m    335\u001b[0m     ncpus, \n\u001b[1;32m    336\u001b[0m     initializer\u001b[39m=\u001b[39minit_worker_AB, \n\u001b[1;32m    337\u001b[0m     initargs\u001b[39m=\u001b[39m(pi_ABC, om, omega_tot_ABC, pr, cut_ABC, dct_num, trans_mat_ABC, n_int_AB, names_tab_AB,)\n\u001b[1;32m    338\u001b[0m )\n\u001b[0;32m--> 339\u001b[0m \u001b[39mfor\u001b[39;00m result \u001b[39min\u001b[39;00m pool\u001b[39m.\u001b[39;49mstarmap_async(pool_AB, pool_lst)\u001b[39m.\u001b[39;49mget():\n\u001b[1;32m    340\u001b[0m     \u001b[39mfor\u001b[39;00m x \u001b[39min\u001b[39;00m result:\n\u001b[1;32m    341\u001b[0m         tab[acc_tot] \u001b[39m=\u001b[39m x\n",
      "File \u001b[0;32m~/opt/miniconda3/envs/trails_plot/lib/python3.9/site-packages/ray/util/multiprocessing/pool.py:342\u001b[0m, in \u001b[0;36mAsyncResult.get\u001b[0;34m(self, timeout)\u001b[0m\n\u001b[1;32m    341\u001b[0m \u001b[39mdef\u001b[39;00m \u001b[39mget\u001b[39m(\u001b[39mself\u001b[39m, timeout\u001b[39m=\u001b[39m\u001b[39mNone\u001b[39;00m):\n\u001b[0;32m--> 342\u001b[0m     \u001b[39mself\u001b[39;49m\u001b[39m.\u001b[39;49mwait(timeout)\n\u001b[1;32m    343\u001b[0m     \u001b[39mif\u001b[39;00m \u001b[39mself\u001b[39m\u001b[39m.\u001b[39m_result_thread\u001b[39m.\u001b[39mis_alive():\n\u001b[1;32m    344\u001b[0m         \u001b[39mraise\u001b[39;00m \u001b[39mTimeoutError\u001b[39;00m\n",
      "File \u001b[0;32m~/opt/miniconda3/envs/trails_plot/lib/python3.9/site-packages/ray/util/multiprocessing/pool.py:339\u001b[0m, in \u001b[0;36mAsyncResult.wait\u001b[0;34m(self, timeout)\u001b[0m\n\u001b[1;32m    330\u001b[0m \u001b[39mdef\u001b[39;00m \u001b[39mwait\u001b[39m(\u001b[39mself\u001b[39m, timeout\u001b[39m=\u001b[39m\u001b[39mNone\u001b[39;00m):\n\u001b[1;32m    331\u001b[0m \u001b[39m    \u001b[39m\u001b[39m\"\"\"\u001b[39;00m\n\u001b[1;32m    332\u001b[0m \u001b[39m    Returns once the result is ready or the timeout expires (does not\u001b[39;00m\n\u001b[1;32m    333\u001b[0m \u001b[39m    raise TimeoutError).\u001b[39;00m\n\u001b[0;32m   (...)\u001b[0m\n\u001b[1;32m    336\u001b[0m \u001b[39m        timeout: timeout in milliseconds.\u001b[39;00m\n\u001b[1;32m    337\u001b[0m \u001b[39m    \"\"\"\u001b[39;00m\n\u001b[0;32m--> 339\u001b[0m     \u001b[39mself\u001b[39;49m\u001b[39m.\u001b[39;49m_result_thread\u001b[39m.\u001b[39;49mjoin(timeout)\n",
      "File \u001b[0;32m~/opt/miniconda3/envs/trails_plot/lib/python3.9/threading.py:1060\u001b[0m, in \u001b[0;36mThread.join\u001b[0;34m(self, timeout)\u001b[0m\n\u001b[1;32m   1057\u001b[0m     \u001b[39mraise\u001b[39;00m \u001b[39mRuntimeError\u001b[39;00m(\u001b[39m\"\u001b[39m\u001b[39mcannot join current thread\u001b[39m\u001b[39m\"\u001b[39m)\n\u001b[1;32m   1059\u001b[0m \u001b[39mif\u001b[39;00m timeout \u001b[39mis\u001b[39;00m \u001b[39mNone\u001b[39;00m:\n\u001b[0;32m-> 1060\u001b[0m     \u001b[39mself\u001b[39;49m\u001b[39m.\u001b[39;49m_wait_for_tstate_lock()\n\u001b[1;32m   1061\u001b[0m \u001b[39melse\u001b[39;00m:\n\u001b[1;32m   1062\u001b[0m     \u001b[39m# the behavior of a negative timeout isn't documented, but\u001b[39;00m\n\u001b[1;32m   1063\u001b[0m     \u001b[39m# historically .join(timeout=x) for x<0 has acted as if timeout=0\u001b[39;00m\n\u001b[1;32m   1064\u001b[0m     \u001b[39mself\u001b[39m\u001b[39m.\u001b[39m_wait_for_tstate_lock(timeout\u001b[39m=\u001b[39m\u001b[39mmax\u001b[39m(timeout, \u001b[39m0\u001b[39m))\n",
      "File \u001b[0;32m~/opt/miniconda3/envs/trails_plot/lib/python3.9/threading.py:1080\u001b[0m, in \u001b[0;36mThread._wait_for_tstate_lock\u001b[0;34m(self, block, timeout)\u001b[0m\n\u001b[1;32m   1077\u001b[0m     \u001b[39mreturn\u001b[39;00m\n\u001b[1;32m   1079\u001b[0m \u001b[39mtry\u001b[39;00m:\n\u001b[0;32m-> 1080\u001b[0m     \u001b[39mif\u001b[39;00m lock\u001b[39m.\u001b[39;49macquire(block, timeout):\n\u001b[1;32m   1081\u001b[0m         lock\u001b[39m.\u001b[39mrelease()\n\u001b[1;32m   1082\u001b[0m         \u001b[39mself\u001b[39m\u001b[39m.\u001b[39m_stop()\n",
      "\u001b[0;31mKeyboardInterrupt\u001b[0m: "
     ]
    },
    {
     "name": "stderr",
     "output_type": "stream",
     "text": [
      "\u001b[2m\u001b[33m(raylet)\u001b[0m [2023-06-12 11:37:48,023 E 92350 14106646] (raylet) file_system_monitor.cc:111: /tmp/ray/session_2023-06-12_11-37-35_788507_89999 is over 95% full, available space: 22650896384; capacity: 499963174912. Object creation will fail if spilling is required.\n"
     ]
    }
   ],
   "source": [
    "cut_ABC_new = cutpoints_ABC(n_int_ABC, 3)\n",
    "a_1, b_1, pi_1, hidden_names_1, observed_names_1 = trans_emiss_calc(\n",
    "        dct[\"t_A\"], dct[\"t_B\"], dct[\"t_C\"], dct[\"t_2\"], t_upper, t_out, \n",
    "        dct[\"N_AB\"], dct[\"N_ABC\"], dct[\"r\"], n_int_AB, n_int_ABC,\n",
    "        cut_AB = 'standard', cut_ABC = cut_ABC_new)"
   ]
  },
  {
   "cell_type": "code",
   "execution_count": 14,
   "id": "1c26c1b9-15ec-439f-8d27-7192b0494b6c",
   "metadata": {},
   "outputs": [
    {
     "name": "stderr",
     "output_type": "stream",
     "text": [
      "R[write to console]: \n",
      "Attaching package: ‘PhaseTypeR’\n",
      "\n",
      "\n",
      "R[write to console]: The following object is masked from ‘package:stats’:\n",
      "\n",
      "    var\n",
      "\n",
      "\n",
      "\u001b[2m\u001b[33m(raylet)\u001b[0m [2023-06-12 10:35:34,592 E 97880 13696925] (raylet) file_system_monitor.cc:111: /tmp/ray/session_2023-06-12_10-32-28_913470_84342 is over 95% full, available space: 21553405952; capacity: 499963174912. Object creation will fail if spilling is required.\n"
     ]
    },
    {
     "name": "stdout",
     "output_type": "stream",
     "text": [
      "── Attaching core tidyverse packages ──────────────────────── tidyverse 2.0.0 ──\n",
      "✔ dplyr     1.1.2     ✔ readr     2.1.4\n",
      "✔ forcats   1.0.0     ✔ stringr   1.5.0\n",
      "✔ ggplot2   3.4.2     ✔ tibble    3.2.1\n",
      "✔ lubridate 1.9.2     ✔ tidyr     1.3.0\n",
      "✔ purrr     1.0.1     \n",
      "── Conflicts ────────────────────────────────────────── tidyverse_conflicts() ──\n",
      "✖ dplyr::filter() masks stats::filter()\n",
      "✖ dplyr::lag()    masks stats::lag()\n",
      "ℹ Use the conflicted package (<http://conflicted.r-lib.org/>) to force all conflicts to become errors\n",
      "[1] 0.0000000 0.3559713 0.7017772 1.1397056 1.8500675       Inf\n"
     ]
    }
   ],
   "source": [
    "%%R -i t_2 -i N_AB -i n_int_ABC -o quant\n",
    "\n",
    "library(PhaseTypeR)\n",
    "library(tidyverse)\n",
    "\n",
    "subint_mat <- matrix(\n",
    "    c(\n",
    "        c(-1, 0, 0),\n",
    "        c(0, -3, 3),\n",
    "        c(0, 0, -1)\n",
    "    ),\n",
    "    nrow = 3,\n",
    "    byrow = T\n",
    ")\n",
    "init_probs <- c(1-exp(-t_2/N_AB), exp(-t_2/N_AB), 0)\n",
    "ph_obj <- PH(subint_mat, init_probs)\n",
    "\n",
    "quant <- qPH(seq(0, 1, length.out = n_int_ABC+1), ph_obj)\n",
    "quant <- c(quant[1:(length(quant)-1)], Inf)\n",
    "quant"
   ]
  },
  {
   "cell_type": "code",
   "execution_count": 15,
   "id": "180c8b64-f6e8-4022-b009-0abddb212e4a",
   "metadata": {},
   "outputs": [
    {
     "name": "stderr",
     "output_type": "stream",
     "text": [
      "/Users/au595587/opt/miniconda3/envs/trails_plot/lib/python3.9/site-packages/trails/get_joint_prob_mat.py:151: FutureWarning: elementwise comparison failed; returning scalar instead, but in the future will perform elementwise comparison\n",
      "  if cut_ABC == 'standard':\n",
      "\u001b[2m\u001b[33m(raylet)\u001b[0m [2023-06-12 10:35:44,656 E 97880 13696925] (raylet) file_system_monitor.cc:111: /tmp/ray/session_2023-06-12_10-32-28_913470_84342 is over 95% full, available space: 21542113280; capacity: 499963174912. Object creation will fail if spilling is required.\n",
      "\u001b[2m\u001b[33m(raylet)\u001b[0m [2023-06-12 10:35:54,722 E 97880 13696925] (raylet) file_system_monitor.cc:111: /tmp/ray/session_2023-06-12_10-32-28_913470_84342 is over 95% full, available space: 20467826688; capacity: 499963174912. Object creation will fail if spilling is required.\n",
      "\u001b[2m\u001b[33m(raylet)\u001b[0m [2023-06-12 10:36:04,791 E 97880 13696925] (raylet) file_system_monitor.cc:111: /tmp/ray/session_2023-06-12_10-32-28_913470_84342 is over 95% full, available space: 20467798016; capacity: 499963174912. Object creation will fail if spilling is required.\n",
      "\u001b[2m\u001b[33m(raylet)\u001b[0m [2023-06-12 10:36:14,857 E 97880 13696925] (raylet) file_system_monitor.cc:111: /tmp/ray/session_2023-06-12_10-32-28_913470_84342 is over 95% full, available space: 20467810304; capacity: 499963174912. Object creation will fail if spilling is required.\n",
      "\u001b[2m\u001b[33m(raylet)\u001b[0m [2023-06-12 10:36:24,932 E 97880 13696925] (raylet) file_system_monitor.cc:111: /tmp/ray/session_2023-06-12_10-32-28_913470_84342 is over 95% full, available space: 21545865216; capacity: 499963174912. Object creation will fail if spilling is required.\n",
      "\u001b[2m\u001b[33m(raylet)\u001b[0m [2023-06-12 10:36:35,019 E 97880 13696925] (raylet) file_system_monitor.cc:111: /tmp/ray/session_2023-06-12_10-32-28_913470_84342 is over 95% full, available space: 21545824256; capacity: 499963174912. Object creation will fail if spilling is required.\n",
      "\u001b[2m\u001b[33m(raylet)\u001b[0m [2023-06-12 10:36:45,092 E 97880 13696925] (raylet) file_system_monitor.cc:111: /tmp/ray/session_2023-06-12_10-32-28_913470_84342 is over 95% full, available space: 20471406592; capacity: 499963174912. Object creation will fail if spilling is required.\n",
      "\u001b[2m\u001b[33m(raylet)\u001b[0m [2023-06-12 10:36:55,181 E 97880 13696925] (raylet) file_system_monitor.cc:111: /tmp/ray/session_2023-06-12_10-32-28_913470_84342 is over 95% full, available space: 21545304064; capacity: 499963174912. Object creation will fail if spilling is required.\n",
      "\u001b[2m\u001b[33m(raylet)\u001b[0m [2023-06-12 10:37:05,267 E 97880 13696925] (raylet) file_system_monitor.cc:111: /tmp/ray/session_2023-06-12_10-32-28_913470_84342 is over 95% full, available space: 21544886272; capacity: 499963174912. Object creation will fail if spilling is required.\n",
      "\u001b[2m\u001b[33m(raylet)\u001b[0m [2023-06-12 10:37:15,333 E 97880 13696925] (raylet) file_system_monitor.cc:111: /tmp/ray/session_2023-06-12_10-32-28_913470_84342 is over 95% full, available space: 20470964224; capacity: 499963174912. Object creation will fail if spilling is required.\n",
      "\u001b[2m\u001b[33m(raylet)\u001b[0m [2023-06-12 10:37:25,413 E 97880 13696925] (raylet) file_system_monitor.cc:111: /tmp/ray/session_2023-06-12_10-32-28_913470_84342 is over 95% full, available space: 20470943744; capacity: 499963174912. Object creation will fail if spilling is required.\n",
      "\u001b[2m\u001b[33m(raylet)\u001b[0m [2023-06-12 10:37:35,487 E 97880 13696925] (raylet) file_system_monitor.cc:111: /tmp/ray/session_2023-06-12_10-32-28_913470_84342 is over 95% full, available space: 20474023936; capacity: 499963174912. Object creation will fail if spilling is required.\n",
      "\u001b[2m\u001b[33m(raylet)\u001b[0m [2023-06-12 10:37:45,572 E 97880 13696925] (raylet) file_system_monitor.cc:111: /tmp/ray/session_2023-06-12_10-32-28_913470_84342 is over 95% full, available space: 21547933696; capacity: 499963174912. Object creation will fail if spilling is required.\n",
      "\u001b[2m\u001b[33m(raylet)\u001b[0m [2023-06-12 10:37:55,643 E 97880 13696925] (raylet) file_system_monitor.cc:111: /tmp/ray/session_2023-06-12_10-32-28_913470_84342 is over 95% full, available space: 20473958400; capacity: 499963174912. Object creation will fail if spilling is required.\n",
      "\u001b[2m\u001b[33m(raylet)\u001b[0m [2023-06-12 10:38:05,711 E 97880 13696925] (raylet) file_system_monitor.cc:111: /tmp/ray/session_2023-06-12_10-32-28_913470_84342 is over 95% full, available space: 20472803328; capacity: 499963174912. Object creation will fail if spilling is required.\n",
      "/Users/au595587/opt/miniconda3/envs/trails_plot/lib/python3.9/site-packages/trails/get_emission_prob_mat.py:632: FutureWarning: elementwise comparison failed; returning scalar instead, but in the future will perform elementwise comparison\n",
      "  if cut_ABC == 'standard':\n",
      "\u001b[2m\u001b[33m(raylet)\u001b[0m [2023-06-12 10:38:15,765 E 97880 13696925] (raylet) file_system_monitor.cc:111: /tmp/ray/session_2023-06-12_10-32-28_913470_84342 is over 95% full, available space: 20472750080; capacity: 499963174912. Object creation will fail if spilling is required.\n",
      "\u001b[2m\u001b[33m(raylet)\u001b[0m [2023-06-12 10:38:25,814 E 97880 13696925] (raylet) file_system_monitor.cc:111: /tmp/ray/session_2023-06-12_10-32-28_913470_84342 is over 95% full, available space: 20472782848; capacity: 499963174912. Object creation will fail if spilling is required.\n",
      "\u001b[2m\u001b[33m(raylet)\u001b[0m [2023-06-12 10:38:35,867 E 97880 13696925] (raylet) file_system_monitor.cc:111: /tmp/ray/session_2023-06-12_10-32-28_913470_84342 is over 95% full, available space: 21546577920; capacity: 499963174912. Object creation will fail if spilling is required.\n",
      "\u001b[2m\u001b[33m(raylet)\u001b[0m [2023-06-12 10:38:45,924 E 97880 13696925] (raylet) file_system_monitor.cc:111: /tmp/ray/session_2023-06-12_10-32-28_913470_84342 is over 95% full, available space: 21545906176; capacity: 499963174912. Object creation will fail if spilling is required.\n",
      "\u001b[2m\u001b[33m(raylet)\u001b[0m [2023-06-12 10:38:56,013 E 97880 13696925] (raylet) file_system_monitor.cc:111: /tmp/ray/session_2023-06-12_10-32-28_913470_84342 is over 95% full, available space: 21545902080; capacity: 499963174912. Object creation will fail if spilling is required.\n"
     ]
    }
   ],
   "source": [
    "a_2, b_2, pi_2, hidden_names_2, observed_names_2 = trans_emiss_calc(\n",
    "        dct[\"t_A\"], dct[\"t_B\"], dct[\"t_C\"], dct[\"t_2\"], t_upper, t_out, \n",
    "        dct[\"N_AB\"], dct[\"N_ABC\"], dct[\"r\"], n_int_AB, n_int_ABC,\n",
    "        cut_AB = 'standard', cut_ABC = quant)"
   ]
  },
  {
   "cell_type": "code",
   "execution_count": 16,
   "id": "6a9f54b9",
   "metadata": {},
   "outputs": [],
   "source": [
    "import ray\n",
    "\n",
    "ray.shutdown()"
   ]
  },
  {
   "cell_type": "code",
   "execution_count": 17,
   "id": "9db8620d-184b-41d3-aa20-e1b80c324cbb",
   "metadata": {},
   "outputs": [
    {
     "data": {
      "text/plain": [
       "211"
      ]
     },
     "execution_count": 17,
     "metadata": {},
     "output_type": "execute_result"
    }
   ],
   "source": [
    "ranges = []\n",
    "st = 0\n",
    "sites = 0\n",
    "threshold = 200000\n",
    "for i in range(len(tot_lst)):\n",
    "    sites += len(tot_lst[i])\n",
    "    if sites > threshold:\n",
    "        ranges.append((st, i))\n",
    "        st = i+1\n",
    "        sites = 0\n",
    "len(ranges)"
   ]
  },
  {
   "cell_type": "code",
   "execution_count": 18,
   "id": "cc41a95d-c084-4280-9701-f1da58248903",
   "metadata": {},
   "outputs": [
    {
     "data": {
      "text/plain": [
       "121"
      ]
     },
     "execution_count": 18,
     "metadata": {},
     "output_type": "execute_result"
    }
   ],
   "source": [
    "num = 54000000\n",
    "idx_search = [tot_lst[i[0]][0] for i in ranges]\n",
    "idx = min(range(len(idx_search)), key=lambda x:abs(idx_search[x]-num))\n",
    "idx"
   ]
  },
  {
   "cell_type": "code",
   "execution_count": 19,
   "id": "08877c90-22ec-4d44-bb88-91ec30099d84",
   "metadata": {},
   "outputs": [
    {
     "name": "stdout",
     "output_type": "stream",
     "text": [
      "(54026492, 54284458)\n"
     ]
    }
   ],
   "source": [
    "flat_list = [item for sublist in tot_lst[ranges[idx][0]:(ranges[idx][1]+1)] for item in sublist]\n",
    "print((flat_list[0], flat_list[len(flat_list)-1]))"
   ]
  },
  {
   "cell_type": "code",
   "execution_count": 20,
   "id": "652518b7-b8f5-431b-90c7-054c9e8a7b50",
   "metadata": {},
   "outputs": [],
   "source": [
    "# idx = 22\n",
    "\n",
    "import os\n",
    "\n",
    "import random\n",
    "random.seed(10)\n",
    "my_list = list(range(len(ranges)))\n",
    "random.shuffle(my_list)\n",
    "\n",
    "for idx in my_list:\n",
    "# for idx in [194]:\n",
    "\n",
    "    if os.path.isfile(f'tmp/tmp_{idx}.pdf'):\n",
    "        continue\n",
    "\n",
    "    print(idx)\n",
    "\n",
    "    flat_list = [item for sublist in tot_lst[ranges[idx][0]:(ranges[idx][1]+1)] for item in sublist]\n",
    "    print((flat_list[0], flat_list[len(flat_list)-1]))\n",
    "    \n",
    "    post_prob_subset = post_prob_wrapper(a_1, b_1, pi_1, obs[ranges[idx][0]:(ranges[idx][1]+1)])\n",
    "    post_prob_subset_df = pd.DataFrame(np.concatenate(post_prob_subset))\n",
    "    post_prob_subset_df.rename(columns=hidden_names_1, inplace=True)\n",
    "    post_prob_subset_df.columns = [str(f'{i[0]}, {i[1]}, {i[2]}') for i in post_prob_subset_df.columns]\n",
    "    post_prob_subset_df['position'] = flat_list\n",
    "    post_prob_subset_df.to_csv(f'tmp/test_{idx}_p1.csv', index = False)\n",
    "\n",
    "    post_prob_subset = post_prob_wrapper(a_2, b_2, pi_2, obs[ranges[idx][0]:(ranges[idx][1]+1)])\n",
    "    post_prob_subset_df = pd.DataFrame(np.concatenate(post_prob_subset))\n",
    "    post_prob_subset_df.rename(columns=hidden_names_2, inplace=True)\n",
    "    post_prob_subset_df.columns = [str(f'{i[0]}, {i[1]}, {i[2]}') for i in post_prob_subset_df.columns]\n",
    "    post_prob_subset_df['position'] = flat_list\n",
    "    post_prob_subset_df.to_csv(f'tmp/test_{idx}_p2.csv', index = False)\n",
    "\n",
    "    !Rscript save_plot.r {idx}\n",
    "\n",
    "    os.remove(f'tmp/test_{idx}_p1.csv')\n",
    "    os.remove(f'tmp/test_{idx}_p2.csv')"
   ]
  },
  {
   "cell_type": "code",
   "execution_count": 12,
   "id": "75602dae-5122-4208-b2a3-ec2581841e00",
   "metadata": {},
   "outputs": [
    {
     "name": "stdout",
     "output_type": "stream",
     "text": [
      "[1] 120\n",
      "Rows: 212758 Columns: 71\n",
      "── Column specification ────────────────────────────────────────────────────────\n",
      "Delimiter: \",\"\n",
      "dbl (71): 0, 0, 0, 0, 0, 1, 0, 0, 2, 0, 0, 3, 0, 0, 4, 0, 1, 0, 0, 1, 1, 0, ...\n",
      "\n",
      "ℹ Use `spec()` to retrieve the full column specification for this data.\n",
      "ℹ Specify the column types or set `show_col_types = FALSE` to quiet this message.\n",
      "Rows: 212758 Columns: 71\n",
      "── Column specification ────────────────────────────────────────────────────────\n",
      "Delimiter: \",\"\n",
      "dbl (71): 0, 0, 0, 0, 0, 1, 0, 0, 2, 0, 0, 3, 0, 0, 4, 0, 1, 0, 0, 1, 1, 0, ...\n",
      "\n",
      "ℹ Use `spec()` to retrieve the full column specification for this data.\n",
      "ℹ Specify the column types or set `show_col_types = FALSE` to quiet this message.\n",
      "`summarise()` has grouped output by 'position', 'is_V0'. You can override using\n",
      "the `.groups` argument.\n",
      "`summarise()` has grouped output by 'position'. You can override using the\n",
      "`.groups` argument.\n",
      "`summarise()` has grouped output by 'position'. You can override using the\n",
      "`.groups` argument.\n"
     ]
    }
   ],
   "source": [
    "%%R -i n_int_AB -i n_int_ABC\n",
    "\n",
    "library(tidyverse)\n",
    "library(ggrastr)\n",
    "library(ggthemes)\n",
    "library(patchwork)\n",
    "\n",
    "# for (idx in 0:211) {\n",
    "\n",
    "for (idx in c(120)) {\n",
    "\n",
    "    # if (file.exists(paste0('./tmp/tmp_', idx, '.pdf'))) {\n",
    "    #     next\n",
    "    # }\n",
    "\n",
    "    print(idx)\n",
    "\n",
    "    df_p1 <- read_csv(paste0('tmp/test_', idx, '_p1.csv')) \n",
    "    \n",
    "    df_mod_p1 <- df_p1 %>%\n",
    "        filter(position != -9) %>%\n",
    "        pivot_longer(-position) %>%\n",
    "        separate_wider_delim(name, ', ', names = c('topology', 'int_1', 'int_2')) %>%\n",
    "        mutate(\n",
    "            topology = as.integer(topology),\n",
    "            int_1 = as.integer(int_1),\n",
    "            int_2 = as.integer(int_2),\n",
    "            is_V0 = topology == 0\n",
    "        )\n",
    "\n",
    "    df_p2 <- read_csv(paste0('tmp/test_', idx, '_p2.csv'))\n",
    "    \n",
    "    df_mod_p2 <- df_p2 %>%\n",
    "        filter(position != -9) %>%\n",
    "        pivot_longer(-position) %>%\n",
    "        separate_wider_delim(name, ', ', names = c('topology', 'int_1', 'int_2')) %>%\n",
    "        mutate(\n",
    "            topology = as.integer(topology),\n",
    "            int_1 = as.integer(int_1),\n",
    "            int_2 = as.integer(int_2),\n",
    "            is_V0 = topology == 0\n",
    "        )\n",
    "        \n",
    "    p1 <- df_mod_p1 %>%\n",
    "        group_by(position, is_V0, int_1) %>%\n",
    "        summarize(prob = sum(value)) %>%\n",
    "        ggplot() +\n",
    "        rasterize(geom_tile(aes(position, int_1+(!is_V0)*(n_int_AB), fill = prob, color = prob)), dpi = 300) +\n",
    "        geom_hline(aes(yintercept = n_int_AB-1+0.5), color = 'white') +\n",
    "        theme_few() +\n",
    "        scale_fill_viridis_c(name = 'Posterior\\nprobability', \n",
    "                             limits = c(0, 1),\n",
    "                             option=\"inferno\"\n",
    "                            ) +\n",
    "        scale_color_viridis_c(name = 'Posterior\\nprobability', \n",
    "                             limits = c(0, 1),\n",
    "                             option=\"inferno\"\n",
    "                             ) +\n",
    "        scale_x_continuous(expand = c(0, 0)) +\n",
    "        scale_y_continuous(\n",
    "            breaks = c(0:(n_int_AB-1), ((n_int_AB):(n_int_AB+n_int_ABC-1))), \n",
    "            # labels = c(0:(n_int_AB-1), 0:(n_int_ABC_1-1)),\n",
    "            labels = paste0('F', c(0:(n_int_AB+n_int_ABC-1))),\n",
    "            expand = c(0, 0),\n",
    "            sec.axis = dup_axis(\n",
    "                # breaks = c(0:(n_int_AB-1), ((n_int_AB):(n_int_AB+n_int_ABC_1)))-0.5,\n",
    "                # labels = sprintf(\"%.0f\", round(c(cut_AB[0:(length(cut_AB)-1)], cut_ABC_new)))\n",
    "                # labels = rep('', length(round(c(cut_AB[0:(length(cut_AB)-1)], cut_ABC_new))))\n",
    "            )\n",
    "        ) +\n",
    "        theme(\n",
    "            axis.title.y.right = element_blank()\n",
    "        ) +\n",
    "        labs(y = 'First coalescent', x = 'Position')\n",
    "    \n",
    "    p2 <- df_mod_p2 %>%\n",
    "        group_by(position, int_2) %>%\n",
    "        summarize(prob = sum(value)) %>%\n",
    "        ggplot() +\n",
    "        rasterize(geom_tile(aes(position, int_2, fill = prob, color = prob)), dpi = 300) +\n",
    "        theme_few() +\n",
    "        scale_fill_viridis_c(name = 'Posterior\\nprobability', \n",
    "                             limits = c(0, 1),\n",
    "                             option=\"inferno\") +\n",
    "        scale_color_viridis_c(name = 'Posterior\\nprobability', \n",
    "                             limits = c(0, 1),\n",
    "                             option=\"inferno\") +\n",
    "        scale_x_continuous(expand = c(0, 0)) +\n",
    "        scale_y_continuous(\n",
    "            breaks = 0:(n_int_ABC-1), \n",
    "            # labels = 0:(n_int_ABC_2-1),\n",
    "            labels = paste0('S', 0:(n_int_ABC-1)),\n",
    "            expand = c(0, 0),\n",
    "            sec.axis = dup_axis(\n",
    "                # breaks = (0:n_int_ABC_2)-0.5,\n",
    "                # labels = sprintf(\"%.0f\", round(cut_ABC))\n",
    "                # breaks = seq(-0.5, n_int_ABC_2-0.5, 0.5),\n",
    "                # labels = c(rbind(rep('', length(cut_ABC)-1), paste0('S', 0:(n_int_ABC_2-1))), '')\n",
    "            )\n",
    "        ) +\n",
    "        labs(y = 'Second coalescent') +\n",
    "        theme(\n",
    "            axis.title.x = element_blank(),\n",
    "            axis.text.x = element_blank(),\n",
    "            axis.ticks.x=element_blank(),\n",
    "            axis.title.y.right = element_blank()\n",
    "        )\n",
    "    \n",
    "    p3 <- df_mod_p1 %>%\n",
    "        group_by(position, topology) %>%\n",
    "        summarize(prob = sum(value)) %>%\n",
    "        ggplot() +\n",
    "        rasterize(geom_tile(aes(position, topology, fill = prob, color = prob)), dpi = 300) +\n",
    "        theme_few() +\n",
    "        scale_fill_viridis_c(name = 'Posterior\\nprobability', \n",
    "                             limits = c(0, 1),\n",
    "                             option=\"inferno\") +\n",
    "        scale_color_viridis_c(name = 'Posterior\\nprobability', \n",
    "                             limits = c(0, 1),\n",
    "                             option=\"inferno\") +\n",
    "        scale_x_continuous(expand = c(0, 0)) +\n",
    "        scale_y_continuous(\n",
    "            breaks = c(0, 1, 2, 3), \n",
    "            labels = c('V0', 'V1', 'V2', 'V3'),\n",
    "            expand = c(0, 0),\n",
    "            sec.axis = dup_axis()\n",
    "        ) +\n",
    "        labs(y = 'Topology') +\n",
    "        theme(\n",
    "            axis.title.x = element_blank(),\n",
    "            axis.text.x = element_blank(),\n",
    "            axis.ticks.x=element_blank(),\n",
    "            axis.title.y.right = element_blank()\n",
    "        )\n",
    "    \n",
    "    fac <- 0.7 \n",
    "    \n",
    "    plt_tot <- (p3+p2+p1 + \n",
    "      plot_layout(ncol = 1, heights = c(4, n_int_ABC, n_int_AB+n_int_ABC), guides = 'collect')) & theme(legend.position = 'none')\n",
    "    \n",
    "    ggsave(paste0('./tmp/tmp_', idx, '.pdf'), plt_tot, \n",
    "           width = 14*fac, height = 9*fac)\n",
    "\n",
    "}"
   ]
  },
  {
   "cell_type": "code",
   "execution_count": 218,
   "id": "aafff6e7-8f20-4004-b57d-02c7a37763dc",
   "metadata": {},
   "outputs": [
    {
     "name": "stdout",
     "output_type": "stream",
     "text": [
      "[1] 120\n",
      "Rows: 212758 Columns: 71\n",
      "── Column specification ────────────────────────────────────────────────────────\n",
      "Delimiter: \",\"\n",
      "dbl (71): 0, 0, 0, 0, 0, 1, 0, 0, 2, 0, 0, 3, 0, 0, 4, 0, 1, 0, 0, 1, 1, 0, ...\n",
      "\n",
      "ℹ Use `spec()` to retrieve the full column specification for this data.\n",
      "ℹ Specify the column types or set `show_col_types = FALSE` to quiet this message.\n",
      "Rows: 212758 Columns: 71\n",
      "── Column specification ────────────────────────────────────────────────────────\n",
      "Delimiter: \",\"\n",
      "dbl (71): 0, 0, 0, 0, 0, 1, 0, 0, 2, 0, 0, 3, 0, 0, 4, 0, 1, 0, 0, 1, 1, 0, ...\n",
      "\n",
      "ℹ Use `spec()` to retrieve the full column specification for this data.\n",
      "ℹ Specify the column types or set `show_col_types = FALSE` to quiet this message.\n",
      "`summarise()` has grouped output by 'position', 'is_V0'. You can override using\n",
      "the `.groups` argument.\n",
      "`summarise()` has grouped output by 'position'. You can override using the\n",
      "`.groups` argument.\n",
      "`summarise()` has grouped output by 'position'. You can override using the\n",
      "`.groups` argument.\n",
      "`summarise()` has grouped output by '#name', 'chrom', 'strand', 'txStart',\n",
      "'txEnd', 'cdsStart', 'cdsEnd', 'exonCount', 'proteinID', 'alignID'. You can\n",
      "override using the `.groups` argument.\n"
     ]
    }
   ],
   "source": [
    "%%R -w 2000 -h 300 -r 150\n",
    "\n",
    "idx = 120\n",
    "\n",
    "print(idx)\n",
    "\n",
    "df_p1 <- read_csv(paste0('tmp/test_', idx, '_p1.csv')) \n",
    "\n",
    "df_mod_p1 <- df_p1 %>%\n",
    "    filter(position != -9) %>%\n",
    "    filter(position > 53985000) %>%\n",
    "    pivot_longer(-position) %>%\n",
    "    separate_wider_delim(name, ', ', names = c('topology', 'int_1', 'int_2')) %>%\n",
    "    mutate(\n",
    "        topology = as.integer(topology),\n",
    "        int_1 = as.integer(int_1),\n",
    "        int_2 = as.integer(int_2),\n",
    "        is_V0 = topology == 0\n",
    "    )\n",
    "\n",
    "df_p2 <- read_csv(paste0('tmp/test_', idx, '_p2.csv'))\n",
    "\n",
    "df_mod_p2 <- df_p2 %>%\n",
    "    filter(position != -9) %>%\n",
    "    filter(position > 53985000) %>%\n",
    "    pivot_longer(-position) %>%\n",
    "    separate_wider_delim(name, ', ', names = c('topology', 'int_1', 'int_2')) %>%\n",
    "    mutate(\n",
    "        topology = as.integer(topology),\n",
    "        int_1 = as.integer(int_1),\n",
    "        int_2 = as.integer(int_2),\n",
    "        is_V0 = topology == 0\n",
    "    )\n",
    "    \n",
    "p1 <- df_mod_p1 %>%\n",
    "    group_by(position, is_V0, int_1) %>%\n",
    "    summarize(prob = sum(value)) %>%\n",
    "    ggplot() +\n",
    "    # rasterize(geom_tile(aes(position, int_1+(!is_V0)*(n_int_AB), fill = prob, color = prob)), dpi = 300) +\n",
    "    geom_tile(aes(position, int_1+(!is_V0)*(n_int_AB), fill = prob, color = prob)) +\n",
    "    geom_hline(aes(yintercept = n_int_AB-1+0.5), color = 'white') +\n",
    "    theme_few() +\n",
    "    scale_fill_viridis_c(name = 'Posterior\\nprobability', \n",
    "                            limits = c(0, 1),\n",
    "                            option=\"inferno\"\n",
    "                        ) +\n",
    "    scale_color_viridis_c(name = 'Posterior\\nprobability', \n",
    "                            limits = c(0, 1),\n",
    "                            option=\"inferno\"\n",
    "                            ) +\n",
    "    scale_x_continuous(expand = c(0, 0)) +\n",
    "    scale_y_continuous(\n",
    "        breaks = c(0:(n_int_AB-1), ((n_int_AB):(n_int_AB+n_int_ABC-1))), \n",
    "        # labels = c(0:(n_int_AB-1), 0:(n_int_ABC_1-1)),\n",
    "        labels = paste0('F', c(0:(n_int_AB+n_int_ABC-1))),\n",
    "        expand = c(0, 0),\n",
    "        # sec.axis = dup_axis()\n",
    "    ) +\n",
    "    theme(\n",
    "        axis.title.y.right = element_blank(),\n",
    "        text = element_text(size = 12)\n",
    "    ) +\n",
    "    labs(y = 'First coalescent', x = 'Position')\n",
    "\n",
    "p2 <- df_mod_p2 %>%\n",
    "    group_by(position, int_2) %>%\n",
    "    summarize(prob = sum(value)) %>%\n",
    "    ggplot() +\n",
    "    # rasterize(geom_tile(aes(position, int_2, fill = prob, color = prob)), dpi = 300) +\n",
    "    geom_tile(aes(position, int_2, fill = prob, color = prob)) +\n",
    "    theme_few() +\n",
    "    scale_fill_viridis_c(name = 'Posterior\\nprobability', \n",
    "                            limits = c(0, 1),\n",
    "                            option=\"inferno\") +\n",
    "    scale_color_viridis_c(name = 'Posterior\\nprobability', \n",
    "                            limits = c(0, 1),\n",
    "                            option=\"inferno\") +\n",
    "    scale_x_continuous(expand = c(0, 0)) +\n",
    "    scale_y_continuous(\n",
    "        breaks = 0:(n_int_ABC-1), \n",
    "        # labels = 0:(n_int_ABC_2-1),\n",
    "        labels = paste0('S', 0:(n_int_ABC-1)),\n",
    "        expand = c(0, 0),\n",
    "        # sec.axis = dup_axis()\n",
    "    ) +\n",
    "    labs(y = 'Second coalescent') +\n",
    "    theme(\n",
    "        axis.title.x = element_blank(),\n",
    "        axis.text.x = element_blank(),\n",
    "        axis.ticks.x=element_blank(),\n",
    "        axis.title.y.right = element_blank(),\n",
    "        text = element_text(size = 12)\n",
    "    )\n",
    "\n",
    "p3 <- df_mod_p1 %>%\n",
    "    group_by(position, topology) %>%\n",
    "    summarize(prob = sum(value)) %>%\n",
    "    ggplot() +\n",
    "    # rasterize(geom_tile(aes(position, topology, fill = prob, color = prob)), dpi = 300) +\n",
    "    geom_tile(aes(position, topology, fill = prob, color = prob)) +\n",
    "    # geom_vline(aes(xintercept = x), color = 'green', data = tibble(x = c(54002500, 54009300))) +\n",
    "    theme_few() +\n",
    "    scale_fill_viridis_c(name = 'Posterior\\nprobability', \n",
    "                            limits = c(0, 1),\n",
    "                            option=\"inferno\") +\n",
    "    scale_color_viridis_c(name = 'Posterior\\nprobability', \n",
    "                            limits = c(0, 1),\n",
    "                            option=\"inferno\") +\n",
    "    scale_x_continuous(expand = c(0, 0)) +\n",
    "    scale_y_continuous(\n",
    "        breaks = c(0, 1, 2, 3), \n",
    "        labels = c('V0', 'V1', 'V2', 'V3'),\n",
    "        expand = c(0, 0),\n",
    "        # sec.axis = dup_axis()\n",
    "    ) +\n",
    "    labs(y = 'Topology') +\n",
    "    theme(\n",
    "        axis.title.x = element_blank(),\n",
    "        axis.text.x = element_blank(),\n",
    "        axis.ticks.x=element_blank(),\n",
    "        axis.title.y.right = element_blank(),\n",
    "        text = element_text(size = 12)\n",
    "    )\n",
    "\n",
    "\n",
    "\n",
    "\n",
    "\n",
    "\n",
    "\n",
    "\n",
    "limits <- c(min(df_mod_p1$position), max(df_mod_p1$position))\n",
    "\n",
    "tr_tab <- read_tsv('./tmp/table_120.tsv',\n",
    "    col_types = c('ccciiiiicccc')\n",
    ") \n",
    "\n",
    "colnames(tr_tab) <- str_remove_all(colnames(tr_tab), 'hg38.knownGene.')\n",
    "    \n",
    "exon_tab <- tr_tab %>%\n",
    "    group_by(`#name`, chrom, strand, txStart,  txEnd, cdsStart, cdsEnd, exonCount, proteinID, alignID) %>%\n",
    "    summarize(\n",
    "        exonStarts = unlist(str_split(exonStarts, ',')),\n",
    "        exonEnds = unlist(str_split(exonEnds, ','))\n",
    "    ) %>%\n",
    "    filter(exonStarts != '') %>%\n",
    "    mutate(\n",
    "        exonStarts = as.integer(exonStarts),\n",
    "        exonEnds = as.integer(exonEnds)\n",
    "    )\n",
    "\n",
    "reg_tab_1 <- exon_tab %>%\n",
    "    filter(exonStarts == min(exonStarts))\n",
    "reg_tab_2 <- exon_tab %>%\n",
    "    filter(exonStarts == max(exonStarts))\n",
    "\n",
    "exon_tab <- exon_tab %>%\n",
    "    mutate(\n",
    "        exonStarts = ifelse(exonStarts == min(exonStarts), cdsStart, exonStarts)\n",
    "    )\n",
    "\n",
    "p_genes <- exon_tab %>%\n",
    "    ggplot() +\n",
    "    geom_segment(aes(x = cdsStart, xend = cdsEnd, y = 0.5, yend = 0.5)) +\n",
    "    geom_rect(aes(xmin = exonStarts, xmax = exonEnds, ymin = 0, ymax = 1), color = 'black', fill = 'black') +\n",
    "    geom_rect(aes(xmin = exonStarts, xmax = cdsStart, ymin = 0, ymax = 1), color = 'black', fill = 'white', data = reg_tab_1) +\n",
    "    geom_rect(aes(xmin = exonEnds, xmax = cdsEnd, ymin = 0, ymax = 1), color = 'black', fill = 'white', data = reg_tab_2) +\n",
    "    scale_x_continuous(limits = limits, expand = c(0, 0)) +\n",
    "    scale_y_continuous(limits = c(0, 1.6)) +\n",
    "    geom_segment(aes(x = exonEnds, xend = exonEnds-2000, y = 1.3, yend = 1.3), arrow = arrow(length = unit(0.3, \"npc\")), data = reg_tab_2) +\n",
    "    geom_segment(aes(x = exonEnds, xend = exonEnds, y = 1, yend = 1.3), data = reg_tab_2) +\n",
    "    geom_text(aes(x = exonEnds+300, y = 0.5, label = \"italic('LDLRAD1')\"), parse = TRUE, size = 3, hjust = 0, data = reg_tab_2) +\n",
    "    theme_void()\n",
    "\n",
    "\n",
    "# LDLRAD1\n",
    "\n",
    "\n",
    "fac = 0.7\n",
    "\n",
    "\n",
    "plt_tot <- (p_genes+p3+p2+p1 + \n",
    "      plot_layout(ncol = 1, heights = c(1, 4, n_int_ABC, n_int_AB+n_int_ABC), guides = 'collect')) & theme(legend.position = 'none')\n",
    "    \n",
    "ggsave(paste0('./tmp/tmp_', idx, '_region_with_genes.tiff'), plt_tot, width = 12*fac, height = 10*fac)\n"
   ]
  },
  {
   "cell_type": "code",
   "execution_count": 189,
   "id": "5aa50636",
   "metadata": {},
   "outputs": [
    {
     "name": "stdout",
     "output_type": "stream",
     "text": [
      "[1] 53985001 54025849\n"
     ]
    }
   ],
   "source": [
    "%%R\n",
    "\n",
    "limits"
   ]
  },
  {
   "cell_type": "code",
   "execution_count": 158,
   "id": "77c01276-0a20-44b4-ab51-27de49eab933",
   "metadata": {},
   "outputs": [
    {
     "data": {
      "text/plain": [
       "0.9934958622827901"
      ]
     },
     "execution_count": 158,
     "metadata": {},
     "output_type": "execute_result"
    }
   ],
   "source": [
    "a_3, b_3, pi_3, hidden_names_3, observed_names_3 = trans_emiss_calc(\n",
    "        dct[\"t_A\"], dct[\"t_B\"], dct[\"t_C\"], dct[\"t_2\"], t_upper, t_out, \n",
    "        dct[\"N_AB\"], dct[\"N_ABC\"], dct[\"r\"], 1, 1)\n",
    "p_V3 = a_3[3,3]\n",
    "p_V0 = a_3[0,0]\n",
    "p_V3"
   ]
  },
  {
   "cell_type": "code",
   "execution_count": 115,
   "id": "2d90c761-6a2a-4fa4-9836-457a3ef9d8ca",
   "metadata": {},
   "outputs": [
    {
     "data": {
      "image/png": "[encoded data removed]",
      "text/plain": [
       "<IPython.core.display.Image object>"
      ]
     },
     "metadata": {},
     "output_type": "display_data"
    }
   ],
   "source": [
    "%%R -i p_V3 -i p_V0\n",
    "\n",
    "x = 1:2000\n",
    "y = dgeom(x, 1-p_V3)\n",
    "\n",
    "ggplot() +\n",
    "    geom_line(aes(x, y))"
   ]
  },
  {
   "cell_type": "code",
   "execution_count": 160,
   "id": "2792c73c",
   "metadata": {},
   "outputs": [
    {
     "name": "stdout",
     "output_type": "stream",
     "text": [
      "[1] 6800\n",
      "[1] 0\n",
      "[1]   44  106  212  705 1411\n",
      "[1] 5.325893e-20\n",
      "[1] 5.36076e-20\n"
     ]
    }
   ],
   "source": [
    "%%R\n",
    "\n",
    "len = 54009300-54002500\n",
    "print(len)\n",
    "\n",
    "print(1-pgeom(len, 1-p_V3))\n",
    "\n",
    "print(qgeom(c(0.25, 0.5, 0.75, 0.99, 0.9999), 1-p_V3))\n",
    "\n",
    "# Probability that X > len\n",
    "print(p_V3^(6800+1))\n",
    "\n",
    "# Probability that X >= len\n",
    "p_V3^(6800)"
   ]
  },
  {
   "cell_type": "code",
   "execution_count": 225,
   "id": "b2bedb3f",
   "metadata": {},
   "outputs": [
    {
     "name": "stdout",
     "output_type": "stream",
     "text": [
      "[1] 194\n",
      "Rows: 221410 Columns: 71\n",
      "── Column specification ────────────────────────────────────────────────────────\n",
      "Delimiter: \",\"\n",
      "dbl (71): 0, 0, 0, 0, 0, 1, 0, 0, 2, 0, 0, 3, 0, 0, 4, 0, 1, 0, 0, 1, 1, 0, ...\n",
      "\n",
      "ℹ Use `spec()` to retrieve the full column specification for this data.\n",
      "ℹ Specify the column types or set `show_col_types = FALSE` to quiet this message.\n",
      "Rows: 221410 Columns: 71\n",
      "── Column specification ────────────────────────────────────────────────────────\n",
      "Delimiter: \",\"\n",
      "dbl (71): 0, 0, 0, 0, 0, 1, 0, 0, 2, 0, 0, 3, 0, 0, 4, 0, 1, 0, 0, 1, 1, 0, ...\n",
      "\n",
      "ℹ Use `spec()` to retrieve the full column specification for this data.\n",
      "ℹ Specify the column types or set `show_col_types = FALSE` to quiet this message.\n",
      "`summarise()` has grouped output by 'position', 'is_V0'. You can override using\n",
      "the `.groups` argument.\n",
      "`summarise()` has grouped output by 'position'. You can override using the\n",
      "`.groups` argument.\n",
      "`summarise()` has grouped output by 'position'. You can override using the\n",
      "`.groups` argument.\n"
     ]
    }
   ],
   "source": [
    "%%R -w 2000 -h 300 -r 150\n",
    "\n",
    "idx = 194\n",
    "\n",
    "print(idx)\n",
    "\n",
    "df_p1 <- read_csv(paste0('tmp/test_', idx, '_p1.csv')) \n",
    "\n",
    "df_mod_p1 <- df_p1 %>%\n",
    "    filter(position != -9) %>%\n",
    "    filter(between(position, 71290000, 71370000)) %>%\n",
    "    pivot_longer(-position) %>%\n",
    "    separate_wider_delim(name, ', ', names = c('topology', 'int_1', 'int_2')) %>%\n",
    "    mutate(\n",
    "        topology = as.integer(topology),\n",
    "        int_1 = as.integer(int_1),\n",
    "        int_2 = as.integer(int_2),\n",
    "        is_V0 = topology == 0\n",
    "    )\n",
    "\n",
    "df_p2 <- read_csv(paste0('tmp/test_', idx, '_p2.csv'))\n",
    "\n",
    "df_mod_p2 <- df_p2 %>%\n",
    "    filter(position != -9) %>%\n",
    "    filter(between(position, 71290000, 71370000)) %>%\n",
    "    pivot_longer(-position) %>%\n",
    "    separate_wider_delim(name, ', ', names = c('topology', 'int_1', 'int_2')) %>%\n",
    "    mutate(\n",
    "        topology = as.integer(topology),\n",
    "        int_1 = as.integer(int_1),\n",
    "        int_2 = as.integer(int_2),\n",
    "        is_V0 = topology == 0\n",
    "    )\n",
    "    \n",
    "p1 <- df_mod_p1 %>%\n",
    "    group_by(position, is_V0, int_1) %>%\n",
    "    summarize(prob = sum(value)) %>%\n",
    "    ggplot() +\n",
    "    # rasterize(geom_tile(aes(position, int_1+(!is_V0)*(n_int_AB), fill = prob, color = prob)), dpi = 300) +\n",
    "    geom_tile(aes(position, int_1+(!is_V0)*(n_int_AB), fill = prob, color = prob)) +\n",
    "    geom_hline(aes(yintercept = n_int_AB-1+0.5), color = 'white') +\n",
    "    theme_few() +\n",
    "    scale_fill_viridis_c(name = 'Posterior\\nprobability', \n",
    "                            limits = c(0, 1),\n",
    "                            option=\"inferno\"\n",
    "                        ) +\n",
    "    scale_color_viridis_c(name = 'Posterior\\nprobability', \n",
    "                            limits = c(0, 1),\n",
    "                            option=\"inferno\"\n",
    "                            ) +\n",
    "    scale_x_continuous(expand = c(0, 0)) +\n",
    "    scale_y_continuous(\n",
    "        breaks = c(0:(n_int_AB-1), ((n_int_AB):(n_int_AB+n_int_ABC-1))), \n",
    "        # labels = c(0:(n_int_AB-1), 0:(n_int_ABC_1-1)),\n",
    "        labels = paste0('F', c(0:(n_int_AB+n_int_ABC-1))),\n",
    "        expand = c(0, 0),\n",
    "        # sec.axis = dup_axis()\n",
    "    ) +\n",
    "    theme(\n",
    "        axis.title.y.right = element_blank(),\n",
    "        text = element_text(size = 12)\n",
    "    ) +\n",
    "    labs(y = 'First coalescent', x = 'Position')\n",
    "\n",
    "p2 <- df_mod_p2 %>%\n",
    "    group_by(position, int_2) %>%\n",
    "    summarize(prob = sum(value)) %>%\n",
    "    ggplot() +\n",
    "    # rasterize(geom_tile(aes(position, int_2, fill = prob, color = prob)), dpi = 300) +\n",
    "    geom_tile(aes(position, int_2, fill = prob, color = prob)) +\n",
    "    theme_few() +\n",
    "    scale_fill_viridis_c(name = 'Posterior\\nprobability', \n",
    "                            limits = c(0, 1),\n",
    "                            option=\"inferno\") +\n",
    "    scale_color_viridis_c(name = 'Posterior\\nprobability', \n",
    "                            limits = c(0, 1),\n",
    "                            option=\"inferno\") +\n",
    "    scale_x_continuous(expand = c(0, 0)) +\n",
    "    scale_y_continuous(\n",
    "        breaks = 0:(n_int_ABC-1), \n",
    "        # labels = 0:(n_int_ABC_2-1),\n",
    "        labels = paste0('S', 0:(n_int_ABC-1)),\n",
    "        expand = c(0, 0),\n",
    "        # sec.axis = dup_axis()\n",
    "    ) +\n",
    "    labs(y = 'Second coalescent') +\n",
    "    theme(\n",
    "        axis.title.x = element_blank(),\n",
    "        axis.text.x = element_blank(),\n",
    "        axis.ticks.x=element_blank(),\n",
    "        axis.title.y.right = element_blank(),\n",
    "        text = element_text(size = 12)\n",
    "    )\n",
    "\n",
    "p3 <- df_mod_p1 %>%\n",
    "    group_by(position, topology) %>%\n",
    "    summarize(prob = sum(value)) %>%\n",
    "    ggplot() +\n",
    "    # rasterize(geom_tile(aes(position, topology, fill = prob, color = prob)), dpi = 300) +\n",
    "    geom_tile(aes(position, topology, fill = prob, color = prob)) +\n",
    "    # geom_vline(aes(xintercept = x), color = 'green', data = tibble(x = c(54002500, 54009300))) +\n",
    "    theme_few() +\n",
    "    scale_fill_viridis_c(name = 'Posterior\\nprobability', \n",
    "                            limits = c(0, 1),\n",
    "                            option=\"inferno\") +\n",
    "    scale_color_viridis_c(name = 'Posterior\\nprobability', \n",
    "                            limits = c(0, 1),\n",
    "                            option=\"inferno\") +\n",
    "    scale_x_continuous(expand = c(0, 0)) +\n",
    "    scale_y_continuous(\n",
    "        breaks = c(0, 1, 2, 3), \n",
    "        labels = c('V0', 'V1', 'V2', 'V3'),\n",
    "        expand = c(0, 0),\n",
    "        # sec.axis = dup_axis()\n",
    "    ) +\n",
    "    labs(y = 'Topology') +\n",
    "    theme(\n",
    "        axis.title.x = element_blank(),\n",
    "        axis.text.x = element_blank(),\n",
    "        axis.ticks.x=element_blank(),\n",
    "        axis.title.y.right = element_blank(),\n",
    "        text = element_text(size = 12)\n",
    "    )\n",
    "\n",
    "\n",
    "\n",
    "\n",
    "\n",
    "\n",
    "\n",
    "\n",
    "limits <- c(min(df_mod_p1$position), max(df_mod_p1$position))\n",
    "\n",
    "# tr_tab <- read_tsv('./tmp/table_120.tsv',\n",
    "#     col_types = c('ccciiiiicccc')\n",
    "# ) \n",
    "\n",
    "# colnames(tr_tab) <- str_remove_all(colnames(tr_tab), 'hg38.knownGene.')\n",
    "    \n",
    "# exon_tab <- tr_tab %>%\n",
    "#     group_by(`#name`, chrom, strand, txStart,  txEnd, cdsStart, cdsEnd, exonCount, proteinID, alignID) %>%\n",
    "#     summarize(\n",
    "#         exonStarts = unlist(str_split(exonStarts, ',')),\n",
    "#         exonEnds = unlist(str_split(exonEnds, ','))\n",
    "#     ) %>%\n",
    "#     filter(exonStarts != '') %>%\n",
    "#     mutate(\n",
    "#         exonStarts = as.integer(exonStarts),\n",
    "#         exonEnds = as.integer(exonEnds)\n",
    "#     )\n",
    "\n",
    "# reg_tab_1 <- exon_tab %>%\n",
    "#     filter(exonStarts == min(exonStarts))\n",
    "# reg_tab_2 <- exon_tab %>%\n",
    "#     filter(exonStarts == max(exonStarts))\n",
    "\n",
    "# exon_tab <- exon_tab %>%\n",
    "#     mutate(\n",
    "#         exonStarts = ifelse(exonStarts == min(exonStarts), cdsStart, exonStarts)\n",
    "#     )\n",
    "\n",
    "# p_genes <- exon_tab %>%\n",
    "#     ggplot() +\n",
    "#     geom_segment(aes(x = cdsStart, xend = cdsEnd, y = 0.5, yend = 0.5)) +\n",
    "#     geom_rect(aes(xmin = exonStarts, xmax = exonEnds, ymin = 0, ymax = 1), color = 'black', fill = 'black') +\n",
    "#     geom_rect(aes(xmin = exonStarts, xmax = cdsStart, ymin = 0, ymax = 1), color = 'black', fill = 'white', data = reg_tab_1) +\n",
    "#     geom_rect(aes(xmin = exonEnds, xmax = cdsEnd, ymin = 0, ymax = 1), color = 'black', fill = 'white', data = reg_tab_2) +\n",
    "#     scale_x_continuous(limits = limits, expand = c(0, 0)) +\n",
    "#     scale_y_continuous(limits = c(0, 1.6)) +\n",
    "#     geom_segment(aes(x = exonEnds, xend = exonEnds-2000, y = 1.3, yend = 1.3), arrow = arrow(length = unit(0.3, \"npc\")), data = reg_tab_2) +\n",
    "#     geom_segment(aes(x = exonEnds, xend = exonEnds, y = 1, yend = 1.3), data = reg_tab_2) +\n",
    "#     geom_text(aes(x = exonEnds+300, y = 0.5, label = \"italic('LDLRAD1')\"), parse = TRUE, size = 3, hjust = 0, data = reg_tab_2) +\n",
    "#     theme_void()\n",
    "\n",
    "\n",
    "# LDLRAD1\n",
    "\n",
    "\n",
    "fac = 0.7\n",
    "\n",
    "\n",
    "plt_tot <- (p3+p2+p1 + \n",
    "      plot_layout(ncol = 1, heights = c(4, n_int_ABC, n_int_AB+n_int_ABC), guides = 'collect')) \n",
    "      # & theme(legend.position = 'none')\n",
    "    \n",
    "ggsave(paste0('./tmp/tmp_', idx, '_region_with_genes.tiff'), plt_tot, width = 14*fac, height = 10*fac)"
   ]
  }
 ],
 "metadata": {
  "kernelspec": {
   "display_name": "Python 3 (ipykernel)",
   "language": "python",
   "name": "python3"
  },
  "language_info": {
   "codemirror_mode": {
    "name": "ipython",
    "version": 3
   },
   "file_extension": ".py",
   "mimetype": "text/x-python",
   "name": "python",
   "nbconvert_exporter": "python",
   "pygments_lexer": "ipython3",
   "version": "3.9.16"
  }
 },
 "nbformat": 4,
 "nbformat_minor": 5
}
