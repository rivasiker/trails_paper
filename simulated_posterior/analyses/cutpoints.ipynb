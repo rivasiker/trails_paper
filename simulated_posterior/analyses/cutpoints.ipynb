{
 "cells": [
  {
   "cell_type": "markdown",
   "id": "8877888d-b1f7-43ec-842c-32f858dba515",
   "metadata": {
    "tags": []
   },
   "source": [
    "# Posterior decoding of simulated data"
   ]
  },
  {
   "cell_type": "markdown",
   "id": "a97b3b54-587f-4d3c-8993-cc23330f11df",
   "metadata": {},
   "source": [
    "## Load packages and define model"
   ]
  },
  {
   "cell_type": "code",
   "execution_count": 1,
   "id": "931e2bf0-c8b9-4941-bf35-43de2c97edb2",
   "metadata": {},
   "outputs": [],
   "source": [
    "import sys\n",
    "from trails.optimizer import trans_emiss_calc\n",
    "from trails.cutpoints import cutpoints_ABC, cutpoints_AB\n",
    "import numpy as np\n",
    "from trails.optimizer import forward_loglik, post_prob_wrapper, viterbi\n",
    "import pandas as pd\n",
    "import time\n",
    "import re\n",
    "import msprime\n",
    "%load_ext rpy2.ipython"
   ]
  },
  {
   "cell_type": "code",
   "execution_count": 2,
   "id": "ad8dcd93-b113-496f-9fd1-c853d0fd0f5c",
   "metadata": {},
   "outputs": [],
   "source": [
    "ILS = 30\n",
    "\n",
    "t_A = 200000\n",
    "t_B = 200000\n",
    "t_C = 200000\n",
    "t_1 = max([t_A, t_B, t_C])\n",
    "t_2 = 80000\n",
    "N_AB = -t_2/np.log(3/2*ILS/100)\n",
    "N_ABC = 60000\n",
    "t_3 = t_1*5\n",
    "r = 0.5e-8\n",
    "mu = 2e-8\n",
    "n_int_AB = 5\n",
    "n_int_ABC = 7"
   ]
  },
  {
   "cell_type": "markdown",
   "id": "b2b5c546-da79-416b-b5de-dabd1391f9a1",
   "metadata": {},
   "source": [
    "## Original cutpoints (second coalescent)"
   ]
  },
  {
   "cell_type": "markdown",
   "id": "f56982eb-54f3-4f4d-a9d1-0608245c890f",
   "metadata": {},
   "source": [
    "This section deals with computing the posterior decoding using the original cutpoints in TRAILS. This means that the time between the first and the second coalescent will be divided into quantiles of an exponential with rate 1 (measured in units of $N_\\text{AB}$), while the time before the first coalescent event will be divided into an exponential with rate 1 (measured in units of $N_\\text{ABC}$). This scheme is useful for modeling the second coalescent event, since it will follow a mixture between an exponential with rate of 1 (for the V0 states) and a convolution of two exponentials with rates 3 and 1 (for the deep coalescent states). "
   ]
  },
  {
   "cell_type": "code",
   "execution_count": 3,
   "id": "eae35045-7104-4692-85eb-ef9c86e87a6b",
   "metadata": {},
   "outputs": [
    {
     "data": {
      "text/plain": [
       "0.3"
      ]
     },
     "execution_count": 3,
     "metadata": {},
     "output_type": "execute_result"
    }
   ],
   "source": [
    "t_out = t_1+t_2+t_3+2*N_ABC\n",
    "\n",
    "N_ref = N_ABC\n",
    "\n",
    "coal_ABC = N_ref/N_ABC\n",
    "coal_AB = N_ref/N_AB\n",
    "t_upper = t_3-cutpoints_ABC(n_int_ABC, coal_ABC)[-2]*N_ref\n",
    "t_AB = t_2/N_ref\n",
    "\n",
    "cut_AB = t_1+cutpoints_AB(n_int_AB, t_AB, coal_AB)*N_ref\n",
    "cut_ABC = t_1+t_2+cutpoints_ABC(n_int_ABC, coal_ABC)*N_ref\n",
    "\n",
    "(2/3)*(np.exp(-t_2/(N_AB)))"
   ]
  },
  {
   "cell_type": "code",
   "execution_count": 4,
   "id": "c3cf0f7f-8e63-40a1-9ec8-0ebb06c9f97d",
   "metadata": {},
   "outputs": [
    {
     "data": {
      "text/plain": [
       "100186.88658722976"
      ]
     },
     "execution_count": 4,
     "metadata": {},
     "output_type": "execute_result"
    }
   ],
   "source": [
    "N_AB"
   ]
  },
  {
   "cell_type": "code",
   "execution_count": 5,
   "id": "34e9b6af-039a-4ba7-bf89-b89cd352026c",
   "metadata": {},
   "outputs": [
    {
     "data": {
      "text/plain": [
       "array([200000.        , 211675.16023281, 224892.57002535, 240122.6005454 ,\n",
       "       258090.20982508, 280000.        ])"
      ]
     },
     "execution_count": 5,
     "metadata": {},
     "output_type": "execute_result"
    }
   ],
   "source": [
    "cut_AB"
   ]
  },
  {
   "cell_type": "code",
   "execution_count": 6,
   "id": "0a4f863b-dd32-44b8-aa0a-8c47f577abd0",
   "metadata": {},
   "outputs": [
    {
     "data": {
      "text/plain": [
       "array([280000.        , 289249.04078964, 300188.33419727, 313576.94727613,\n",
       "       330837.87162323, 355165.77810972, 396754.60894332,             inf])"
      ]
     },
     "execution_count": 6,
     "metadata": {},
     "output_type": "execute_result"
    }
   ],
   "source": [
    "cut_ABC"
   ]
  },
  {
   "cell_type": "code",
   "execution_count": 7,
   "id": "b7c3fa6b-b069-4f53-a0f1-6c0ccd08f845",
   "metadata": {},
   "outputs": [
    {
     "name": "stderr",
     "output_type": "stream",
     "text": [
      "2023-04-25 12:31:29,370\tINFO worker.py:1518 -- Started a local Ray instance.\n",
      "\u001b[2m\u001b[36m(PoolActor pid=32669)\u001b[0m E0425 12:36:14.836779000 123145503092736 chttp2_transport.cc:1103]     Received a GOAWAY with error code ENHANCE_YOUR_CALM and debug data equal to \"too_many_pings\"\n",
      "\u001b[2m\u001b[36m(PoolActor pid=32673)\u001b[0m E0425 12:36:14.867216000 123145432981504 chttp2_transport.cc:1103]     Received a GOAWAY with error code ENHANCE_YOUR_CALM and debug data equal to \"too_many_pings\"\n"
     ]
    }
   ],
   "source": [
    "transitions, emissions, starting, hidden_states, observed_states = trans_emiss_calc(\n",
    "    t_A*mu, t_B*mu, t_C*mu, t_2*mu, t_upper*mu, t_out*mu, \n",
    "    N_AB*mu, N_ABC*mu, r/mu, n_int_AB, n_int_ABC,\n",
    "    cut_AB = 'standard', cut_ABC = 'standard'\n",
    ")"
   ]
  },
  {
   "cell_type": "code",
   "execution_count": 8,
   "id": "efc8c3c1-1c62-4e65-a505-3c0a56c97179",
   "metadata": {},
   "outputs": [],
   "source": [
    "dct_hid = {v: k for k, v in hidden_states.items()}\n",
    "dct = {v: k for k, v in observed_states.items()}"
   ]
  },
  {
   "cell_type": "code",
   "execution_count": 9,
   "id": "353dbc2b-4b1d-4c24-abbc-9da4eaefbfa2",
   "metadata": {},
   "outputs": [],
   "source": [
    "####################### Add demography #######################\n",
    "\n",
    "n_sites = 100_000\n",
    "seed = 10\n",
    "\n",
    "demography = msprime.Demography()\n",
    "demography.add_population(name=\"A\", initial_size=N_AB, default_sampling_time=t_1-t_A)\n",
    "demography.add_population(name=\"B\", initial_size=N_AB, default_sampling_time=t_1-t_B)\n",
    "demography.add_population(name=\"C\", initial_size=N_AB, default_sampling_time=t_1-t_C)\n",
    "demography.add_population(name=\"D\", initial_size=N_AB, default_sampling_time=t_1-t_1)\n",
    "demography.add_population(name=\"AB\", initial_size=N_AB)\n",
    "demography.add_population(name=\"ABC\", initial_size=N_ABC)\n",
    "demography.add_population(name=\"ABCD\", initial_size=N_ABC)\n",
    "demography.add_population_split(time=t_1, derived=[\"A\", \"B\"], ancestral=\"AB\")\n",
    "demography.add_population_split(time=t_1+t_2, derived=[\"AB\", \"C\"], ancestral=\"ABC\")\n",
    "demography.add_population_split(time=t_1+t_2+t_3, derived=[\"ABC\", \"D\"], ancestral=\"ABCD\")\n",
    "\n",
    "ts = msprime.sim_ancestry(\n",
    "    {\"A\": 1, \"B\": 1, \"C\": 1,\n",
    "     \"D\": 1\n",
    "    },\n",
    "    demography=demography,\n",
    "    recombination_rate=r,\n",
    "    sequence_length=n_sites,\n",
    "    ploidy=1,\n",
    "    random_seed=seed\n",
    ")\n"
   ]
  },
  {
   "cell_type": "code",
   "execution_count": 10,
   "id": "ea585993-2435-42da-b1e1-383f4af47441",
   "metadata": {},
   "outputs": [],
   "source": [
    "#### Add mutations\n",
    "\n",
    "mutated_ts = msprime.sim_mutations(ts, rate=mu, random_seed=seed)\n",
    "\n",
    "nochange_lst = [dct['AAAA'], dct['CCCC'], dct['TTTT'], dct['GGGG']]\n",
    "np.random.seed(seed) ; sim_genome = np.random.choice(nochange_lst, n_sites)\n",
    "\n",
    "mut_lst = []\n",
    "mut_loc = []\n",
    "for variant in mutated_ts.variants():\n",
    "    mut_loc.append(variant.site.position)\n",
    "    mut_lst.append(''.join([variant.alleles[i] for i in variant.genotypes]))\n",
    "\n",
    "for i in range(len(mut_loc)):\n",
    "    sim_genome[int(mut_loc[i])] = dct[mut_lst[i]]\n"
   ]
  },
  {
   "cell_type": "code",
   "execution_count": 11,
   "id": "c67cde12-bc98-4f14-80d4-085902a5a38e",
   "metadata": {},
   "outputs": [],
   "source": [
    "post = post_prob_wrapper(transitions, emissions, starting, [sim_genome])[0]"
   ]
  },
  {
   "cell_type": "code",
   "execution_count": 12,
   "id": "b302da4e-fd39-4729-8fda-58a6492f73b2",
   "metadata": {},
   "outputs": [],
   "source": [
    "hidden_matrix = np.random.randint(max([n_int_AB, n_int_ABC]), size=(len(dct_hid), 4))\n",
    "hidden_matrix[:,0] = list(range(len(dct_hid)))\n",
    "hidden_matrix[:,1] = [i[0] for i in dct_hid.keys()]\n",
    "hidden_matrix[:,2] = [i[1] for i in dct_hid.keys()]\n",
    "hidden_matrix[:,3] = [i[2] for i in dct_hid.keys()]"
   ]
  },
  {
   "cell_type": "code",
   "execution_count": 13,
   "id": "5458e4d4-1a17-478c-96c5-4e1afc6b0853",
   "metadata": {},
   "outputs": [],
   "source": [
    "left_lst = []\n",
    "right_lst = []\n",
    "tree_state = []\n",
    "t_AB_vec = []\n",
    "t_ABC_vec = []\n",
    "for t in ts.trees():\n",
    "    # Append start coordinate\n",
    "    left_lst.append(t.interval.left)\n",
    "    # Append end coordinate\n",
    "    right_lst.append(t.interval.right-1)\n",
    "    # Get all non-zero coalescent times\n",
    "    ntimes = [ts.nodes()[n].time for n in t.nodes() if ts.nodes()[n].time not in [0, t_1-t_A, t_1-t_B, t_1-t_C]]\n",
    "    ntimes = sorted(ntimes)\n",
    "    # Get time of the first event\n",
    "    mint = ntimes[0]\n",
    "    mint2 = ntimes[1]\n",
    "    # Find topology\n",
    "    find_re = re.findall(\"n\\d,n\\d\", t.as_newick(include_branch_lengths=False))[0]\n",
    "    # Sort species within topology\n",
    "    find_re = sorted(find_re.split(','))\n",
    "    # If V0 or V1\n",
    "    if find_re == ['n0', 'n1']:\n",
    "        # If the time of the first coalescent is larger than the deepest speciation event\n",
    "        if mint>=(t_1+t_2):\n",
    "            state = (1, (mint>cut_ABC).sum()-1, (mint2>cut_ABC).sum()-1)\n",
    "            # Append V1 state\n",
    "        else:\n",
    "            state = (0, (mint>cut_AB).sum()-1, (mint2>cut_ABC).sum()-1)\n",
    "            # Append V0 state\n",
    "    # If V2\n",
    "    elif find_re == ['n0', 'n2']:\n",
    "        state = (2, (mint>cut_ABC).sum()-1, (mint2>cut_ABC).sum()-1)\n",
    "    # If V3\n",
    "    elif find_re == ['n1', 'n2']:\n",
    "        state = (3, (mint>cut_ABC).sum()-1, (mint2>cut_ABC).sum()-1)\n",
    "    else:\n",
    "        state = (4, (mint>cut_ABC).sum()-1, (mint2>cut_ABC).sum()-1)\n",
    "    tree_state.append(state)\n",
    "    t_AB_vec.append(mint)\n",
    "    t_ABC_vec.append(mint2)\n"
   ]
  },
  {
   "cell_type": "code",
   "execution_count": 14,
   "id": "38e414c7-0164-46fc-a3d3-c52ac6813078",
   "metadata": {},
   "outputs": [],
   "source": [
    "tree_matrix = np.random.randint(max(left_lst), size=(len(left_lst), 3))\n",
    "tree_matrix[:,0] = left_lst\n",
    "tree_matrix[:,1] = right_lst\n",
    "tree_matrix[:,2] = [dct_hid[i] for i in tree_state]"
   ]
  },
  {
   "cell_type": "code",
   "execution_count": 15,
   "id": "e036b4f5-bd89-4ad7-805d-a0f4efcfa12f",
   "metadata": {},
   "outputs": [
    {
     "name": "stderr",
     "output_type": "stream",
     "text": [
      "R[write to console]: ── Attaching packages ─────────────────────────────────────── tidyverse 1.3.1 ──\n",
      "\n",
      "R[write to console]: ✔ ggplot2 3.3.5     ✔ purrr   0.3.4\n",
      "✔ tibble  3.1.5     ✔ dplyr   1.0.7\n",
      "✔ tidyr   1.1.4     ✔ stringr 1.4.0\n",
      "✔ readr   2.0.2     ✔ forcats 0.5.1\n",
      "\n",
      "R[write to console]: ── Conflicts ────────────────────────────────────────── tidyverse_conflicts() ──\n",
      "✖ dplyr::filter() masks stats::filter()\n",
      "✖ dplyr::lag()    masks stats::lag()\n",
      "\n"
     ]
    },
    {
     "name": "stdout",
     "output_type": "stream",
     "text": [
      "`summarise()` has grouped output by 'gr'. You can override using the `.groups` argument.\n"
     ]
    }
   ],
   "source": [
    "%%R -i post -i hidden_matrix -i tree_matrix\n",
    "\n",
    "library(tidyverse)\n",
    "\n",
    "hid_tab <- as_tibble(hidden_matrix) %>%\n",
    "    rename(name = V1, topology = V2, int_1 = V3, int_2 = V4)\n",
    "    \n",
    "write_csv(hid_tab, '../data/hid_tab.csv')\n",
    "    \n",
    "tree_tab <- as_tibble(tree_matrix) %>%\n",
    "    rename(start = V1, end = V2, name = V3) %>%\n",
    "    mutate(\n",
    "        gr = ifelse(lag(name) != name, 1, 0) %>% coalesce(0),\n",
    "        gr = cumsum(gr) + 1\n",
    "    ) %>% \n",
    "    group_by(gr, name) %>%\n",
    "    summarize(start = min(start), end = max(end)) %>%\n",
    "    left_join(hid_tab, by = 'name')\n",
    "    \n",
    "write_csv(tree_tab, '../data/tree_tab.csv')\n",
    "\n",
    "post_tab <- as_tibble(post) %>%\n",
    "    mutate(pos = 0:(n()-1)) %>%\n",
    "    pivot_longer(-pos) %>%\n",
    "    mutate(name = as.integer(str_remove_all(name, 'V'))-1) %>%\n",
    "    left_join(hid_tab, by = 'name')\n",
    "     \n",
    "write_csv(post_tab, '../data/post_tab.csv')"
   ]
  },
  {
   "cell_type": "markdown",
   "id": "56f16794-83e1-43a9-b4c7-8cc1f651a299",
   "metadata": {},
   "source": [
    "## Modified cutpoints (first coalescent)"
   ]
  },
  {
   "cell_type": "markdown",
   "id": "a0d17053-aa47-46e7-bd6e-7aeafcc2155b",
   "metadata": {},
   "source": [
    "The first coalescent event, when happening deep in time and not between the speciation events, follows an exponential with rate 3, because three lineages will be segregating together. Since the original cutpoint scheme uses exponential with rate 1, most of the coalescents will happen in earlier intervals. In order to perform posterior decoding in a better way for the first coalescent, the cutpoints of the "
   ]
  },
  {
   "cell_type": "code",
   "execution_count": 31,
   "id": "c04add1c-d631-410f-b880-fa98d66a82b8",
   "metadata": {},
   "outputs": [
    {
     "data": {
      "text/plain": [
       "0.3"
      ]
     },
     "execution_count": 31,
     "metadata": {},
     "output_type": "execute_result"
    }
   ],
   "source": [
    "t_out = t_1+t_2+t_3+2*N_ABC\n",
    "\n",
    "N_ref = N_ABC\n",
    "\n",
    "coal_ABC = N_ref/N_ABC\n",
    "coal_AB = N_ref/N_AB\n",
    "t_upper = t_3-cutpoints_ABC(n_int_ABC, coal_ABC)[-2]*N_ref\n",
    "t_AB = t_2/N_ref\n",
    "\n",
    "cut_AB = t_1+cutpoints_AB(n_int_AB, t_AB, coal_AB)*N_ref\n",
    "# cut_ABC = t_1+t_2+cutpoints_ABC(n_int_ABC, coal_ABC)*N_ref\n",
    "cut_ABC_new = cutpoints_ABC(n_int_ABC, 3)\n",
    "cut_ABC = t_1+t_2+cut_ABC_new*N_ref\n",
    "\n",
    "(2/3)*(np.exp(-t_2/(N_AB)))"
   ]
  },
  {
   "cell_type": "code",
   "execution_count": 32,
   "id": "57f46736-a10b-478d-9bf1-84ff82204e09",
   "metadata": {},
   "outputs": [
    {
     "data": {
      "text/plain": [
       "100186.88658722976"
      ]
     },
     "execution_count": 32,
     "metadata": {},
     "output_type": "execute_result"
    }
   ],
   "source": [
    "N_AB"
   ]
  },
  {
   "cell_type": "code",
   "execution_count": 33,
   "id": "6e7b7d64-92ff-4a1f-bcca-3417446c6e02",
   "metadata": {},
   "outputs": [
    {
     "data": {
      "text/plain": [
       "array([200000.        , 211675.16023281, 224892.57002535, 240122.6005454 ,\n",
       "       258090.20982508, 280000.        ])"
      ]
     },
     "execution_count": 33,
     "metadata": {},
     "output_type": "execute_result"
    }
   ],
   "source": [
    "cut_AB"
   ]
  },
  {
   "cell_type": "code",
   "execution_count": 35,
   "id": "b06f9a69-5ea5-4b1a-a4f0-382e50eaebbb",
   "metadata": {},
   "outputs": [
    {
     "data": {
      "text/plain": [
       "array([280000.        , 283083.01359655, 286729.44473242, 291192.31575871,\n",
       "       296945.95720774, 305055.25936991, 318918.20298111,             inf])"
      ]
     },
     "execution_count": 35,
     "metadata": {},
     "output_type": "execute_result"
    }
   ],
   "source": [
    "cut_ABC"
   ]
  },
  {
   "cell_type": "code",
   "execution_count": 36,
   "id": "60a66697-68a2-402b-9785-e14e4a57652a",
   "metadata": {},
   "outputs": [],
   "source": [
    "transitions, emissions, starting, hidden_states, observed_states = trans_emiss_calc(\n",
    "    t_A*mu, t_B*mu, t_C*mu, t_2*mu, t_upper*mu, t_out*mu, \n",
    "    N_AB*mu, N_ABC*mu, r/mu, n_int_AB, n_int_ABC,\n",
    "    cut_AB = 'standard', cut_ABC = cut_ABC_new\n",
    ")"
   ]
  },
  {
   "cell_type": "code",
   "execution_count": 37,
   "id": "27771926-f0c8-464e-9944-8c48c2e010cd",
   "metadata": {},
   "outputs": [],
   "source": [
    "dct_hid = {v: k for k, v in hidden_states.items()}\n",
    "dct = {v: k for k, v in observed_states.items()}"
   ]
  },
  {
   "cell_type": "code",
   "execution_count": 38,
   "id": "553a97ca-a175-4af2-b073-06d0b9e40189",
   "metadata": {},
   "outputs": [],
   "source": [
    "####################### Add demography #######################\n",
    "\n",
    "n_sites = 100_000\n",
    "seed = 10\n",
    "\n",
    "demography = msprime.Demography()\n",
    "demography.add_population(name=\"A\", initial_size=N_AB, default_sampling_time=t_1-t_A)\n",
    "demography.add_population(name=\"B\", initial_size=N_AB, default_sampling_time=t_1-t_B)\n",
    "demography.add_population(name=\"C\", initial_size=N_AB, default_sampling_time=t_1-t_C)\n",
    "demography.add_population(name=\"D\", initial_size=N_AB, default_sampling_time=t_1-t_1)\n",
    "demography.add_population(name=\"AB\", initial_size=N_AB)\n",
    "demography.add_population(name=\"ABC\", initial_size=N_ABC)\n",
    "demography.add_population(name=\"ABCD\", initial_size=N_ABC)\n",
    "demography.add_population_split(time=t_1, derived=[\"A\", \"B\"], ancestral=\"AB\")\n",
    "demography.add_population_split(time=t_1+t_2, derived=[\"AB\", \"C\"], ancestral=\"ABC\")\n",
    "demography.add_population_split(time=t_1+t_2+t_3, derived=[\"ABC\", \"D\"], ancestral=\"ABCD\")\n",
    "\n",
    "ts = msprime.sim_ancestry(\n",
    "    {\"A\": 1, \"B\": 1, \"C\": 1,\n",
    "     \"D\": 1\n",
    "    },\n",
    "    demography=demography,\n",
    "    recombination_rate=r,\n",
    "    sequence_length=n_sites,\n",
    "    ploidy=1,\n",
    "    random_seed=seed\n",
    ")\n"
   ]
  },
  {
   "cell_type": "code",
   "execution_count": 39,
   "id": "816fecdc-1efd-4dea-9381-66de9584d214",
   "metadata": {},
   "outputs": [],
   "source": [
    "#### Add mutations\n",
    "\n",
    "mutated_ts = msprime.sim_mutations(ts, rate=mu, random_seed=seed)\n",
    "\n",
    "nochange_lst = [dct['AAAA'], dct['CCCC'], dct['TTTT'], dct['GGGG']]\n",
    "np.random.seed(seed) ; sim_genome = np.random.choice(nochange_lst, n_sites)\n",
    "\n",
    "mut_lst = []\n",
    "mut_loc = []\n",
    "for variant in mutated_ts.variants():\n",
    "    mut_loc.append(variant.site.position)\n",
    "    mut_lst.append(''.join([variant.alleles[i] for i in variant.genotypes]))\n",
    "\n",
    "for i in range(len(mut_loc)):\n",
    "    sim_genome[int(mut_loc[i])] = dct[mut_lst[i]]\n"
   ]
  },
  {
   "cell_type": "code",
   "execution_count": 40,
   "id": "e590c045-ad25-430a-a2e2-5449b1bc3926",
   "metadata": {},
   "outputs": [],
   "source": [
    "# loglik = forward_loglik(transitions, emissions, starting, sim_genome)"
   ]
  },
  {
   "cell_type": "code",
   "execution_count": 41,
   "id": "fca3b69b-a30a-426f-9420-c79c12fe2484",
   "metadata": {},
   "outputs": [],
   "source": [
    "post = post_prob_wrapper(transitions, emissions, starting, [sim_genome])[0]"
   ]
  },
  {
   "cell_type": "code",
   "execution_count": 42,
   "id": "0a2e916c-feac-45ee-96fc-23bf958ee521",
   "metadata": {},
   "outputs": [],
   "source": [
    "# vit = viterbi(transitions, emissions, starting, sim_genome)"
   ]
  },
  {
   "cell_type": "code",
   "execution_count": 43,
   "id": "73711adf-0e72-40ab-a80e-dc22721452fc",
   "metadata": {},
   "outputs": [],
   "source": [
    "hidden_matrix = np.random.randint(max([n_int_AB, n_int_ABC]), size=(len(dct_hid), 4))\n",
    "hidden_matrix[:,0] = list(range(len(dct_hid)))\n",
    "hidden_matrix[:,1] = [i[0] for i in dct_hid.keys()]\n",
    "hidden_matrix[:,2] = [i[1] for i in dct_hid.keys()]\n",
    "hidden_matrix[:,3] = [i[2] for i in dct_hid.keys()]"
   ]
  },
  {
   "cell_type": "code",
   "execution_count": 44,
   "id": "7cf38494-e0f5-47b4-9622-4f17b2e760d0",
   "metadata": {},
   "outputs": [],
   "source": [
    "left_lst = []\n",
    "right_lst = []\n",
    "tree_state = []\n",
    "t_AB_vec = []\n",
    "t_ABC_vec = []\n",
    "for t in ts.trees():\n",
    "    # Append start coordinate\n",
    "    left_lst.append(t.interval.left)\n",
    "    # Append end coordinate\n",
    "    right_lst.append(t.interval.right-1)\n",
    "    # Get all non-zero coalescent times\n",
    "    ntimes = [ts.nodes()[n].time for n in t.nodes() if ts.nodes()[n].time not in [0, t_1-t_A, t_1-t_B, t_1-t_C]]\n",
    "    ntimes = sorted(ntimes)\n",
    "    # Get time of the first event\n",
    "    mint = ntimes[0]\n",
    "    mint2 = ntimes[1]\n",
    "    # Find topology\n",
    "    find_re = re.findall(\"n\\d,n\\d\", t.as_newick(include_branch_lengths=False))[0]\n",
    "    # Sort species within topology\n",
    "    find_re = sorted(find_re.split(','))\n",
    "    # If V0 or V1\n",
    "    if find_re == ['n0', 'n1']:\n",
    "        # If the time of the first coalescent is larger than the deepest speciation event\n",
    "        if mint>=(t_1+t_2):\n",
    "            state = (1, (mint>cut_ABC).sum()-1, (mint2>cut_ABC).sum()-1)\n",
    "            # Append V1 state\n",
    "        else:\n",
    "            state = (0, (mint>cut_AB).sum()-1, (mint2>cut_ABC).sum()-1)\n",
    "            # Append V0 state\n",
    "    # If V2\n",
    "    elif find_re == ['n0', 'n2']:\n",
    "        state = (2, (mint>cut_ABC).sum()-1, (mint2>cut_ABC).sum()-1)\n",
    "    # If V3\n",
    "    elif find_re == ['n1', 'n2']:\n",
    "        state = (3, (mint>cut_ABC).sum()-1, (mint2>cut_ABC).sum()-1)\n",
    "    else:\n",
    "        state = (4, (mint>cut_ABC).sum()-1, (mint2>cut_ABC).sum()-1)\n",
    "    tree_state.append(state)\n",
    "    t_AB_vec.append(mint)\n",
    "    t_ABC_vec.append(mint2)\n"
   ]
  },
  {
   "cell_type": "code",
   "execution_count": 45,
   "id": "2df25fd0-9d6c-48aa-bc4f-a404907fcf6c",
   "metadata": {},
   "outputs": [],
   "source": [
    "tree_matrix = np.random.randint(max(left_lst), size=(len(left_lst), 3))\n",
    "tree_matrix[:,0] = left_lst\n",
    "tree_matrix[:,1] = right_lst\n",
    "tree_matrix[:,2] = [dct_hid[i] for i in tree_state]"
   ]
  },
  {
   "cell_type": "code",
   "execution_count": 46,
   "id": "8e3507e0-9838-4a5d-989b-34965f5aceb9",
   "metadata": {},
   "outputs": [
    {
     "name": "stdout",
     "output_type": "stream",
     "text": [
      "`summarise()` has grouped output by 'gr'. You can override using the `.groups` argument.\n"
     ]
    }
   ],
   "source": [
    "%%R -i post -i hidden_matrix -i tree_matrix\n",
    "\n",
    "library(tidyverse)\n",
    "\n",
    "hid_tab <- as_tibble(hidden_matrix) %>%\n",
    "    rename(name = V1, topology = V2, int_1 = V3, int_2 = V4)\n",
    "    \n",
    "write_csv(hid_tab, '../data/hid_tab_cutpoints.csv')\n",
    "    \n",
    "tree_tab <- as_tibble(tree_matrix) %>%\n",
    "    rename(start = V1, end = V2, name = V3) %>%\n",
    "    mutate(\n",
    "        gr = ifelse(lag(name) != name, 1, 0) %>% coalesce(0),\n",
    "        gr = cumsum(gr) + 1\n",
    "    ) %>% \n",
    "    group_by(gr, name) %>%\n",
    "    summarize(start = min(start), end = max(end)) %>%\n",
    "    left_join(hid_tab, by = 'name')\n",
    "    \n",
    "write_csv(tree_tab, '../data/tree_tab_cutpoints.csv')\n",
    "\n",
    "post_tab <- as_tibble(post) %>%\n",
    "    mutate(pos = 0:(n()-1)) %>%\n",
    "    pivot_longer(-pos) %>%\n",
    "    mutate(name = as.integer(str_remove_all(name, 'V'))-1) %>%\n",
    "    left_join(hid_tab, by = 'name')\n",
    "     \n",
    "write_csv(post_tab, '../data/post_tab_cutpoints.csv')"
   ]
  },
  {
   "cell_type": "code",
   "execution_count": 51,
   "id": "818a5839-4440-40d6-bef9-e6dabc1a17a9",
   "metadata": {},
   "outputs": [
    {
     "name": "stdout",
     "output_type": "stream",
     "text": [
      "# A tibble: 100,000 × 2\n",
      "     pos     s\n",
      "   <int> <dbl>\n",
      " 1     0     1\n",
      " 2     1     1\n",
      " 3     2     1\n",
      " 4     3     1\n",
      " 5     4     1\n",
      " 6     5     1\n",
      " 7     6     1\n",
      " 8     7     1\n",
      " 9     8     1\n",
      "10     9     1\n",
      "# … with 99,990 more rows\n"
     ]
    }
   ],
   "source": [
    "%%R\n",
    "\n",
    "post_tab %>%\n",
    "    group_by(pos) %>%\n",
    "    summarize(s = sum(value))"
   ]
  },
  {
   "cell_type": "code",
   "execution_count": null,
   "id": "c8ed35b0-8cd0-43d1-b930-1bb907ef3d5b",
   "metadata": {},
   "outputs": [],
   "source": []
  },
  {
   "cell_type": "code",
   "execution_count": null,
   "id": "cb3d506c-f02d-4617-9c18-fc39de07ee97",
   "metadata": {},
   "outputs": [],
   "source": []
  }
 ],
 "metadata": {
  "kernelspec": {
   "display_name": "Python 3 (ipykernel)",
   "language": "python",
   "name": "python3"
  },
  "language_info": {
   "codemirror_mode": {
    "name": "ipython",
    "version": 3
   },
   "file_extension": ".py",
   "mimetype": "text/x-python",
   "name": "python",
   "nbconvert_exporter": "python",
   "pygments_lexer": "ipython3",
   "version": "3.8.10"
  }
 },
 "nbformat": 4,
 "nbformat_minor": 5
}
