{
 "cells": [
  {
   "cell_type": "markdown",
   "id": "8969297b-0f3a-474f-98aa-422d9b263351",
   "metadata": {},
   "source": [
    "# Chromosome 1 analysis"
   ]
  },
  {
   "cell_type": "markdown",
   "id": "7faa5769-8380-497c-9fff-ab6b223eb30a",
   "metadata": {},
   "source": [
    "## Loading the data"
   ]
  },
  {
   "cell_type": "markdown",
   "id": "2524f15b-72f5-4dca-b061-2b87f5f7031f",
   "metadata": {},
   "source": [
    "Import the necessary packages:"
   ]
  },
  {
   "cell_type": "code",
   "execution_count": 1,
   "id": "d0203d2b-4d3c-4203-a558-8e7dfcd1a85a",
   "metadata": {},
   "outputs": [],
   "source": [
    "import pandas as pd\n",
    "import numpy as np\n",
    "from trails.optimizer import trans_emiss_calc, post_prob_wrapper\n",
    "from trails.read_data import maf_parser\n",
    "from trails.cutpoints import cutpoints_ABC\n",
    "%load_ext rpy2.ipython\n",
    "\n",
    "n_int_AB_original = 3\n",
    "n_int_ABC_original = 3\n",
    "\n",
    "n_int_AB = 3\n",
    "n_int_ABC = 3"
   ]
  },
  {
   "cell_type": "markdown",
   "id": "0da63339-b531-4282-b9e9-c34ccb5e4159",
   "metadata": {},
   "source": [
    "Load the data:"
   ]
  },
  {
   "cell_type": "code",
   "execution_count": 2,
   "id": "c378e420-1d5a-4f6c-8dd3-4903547916cc",
   "metadata": {},
   "outputs": [],
   "source": [
    "# Read the output from TRAILS\n",
    "df = pd.read_csv('../results/chr1_L-BFGS-B.csv')\n",
    "# Find iteration with largest likelihood\n",
    "df = df[df['loglik'] == df['loglik'].max()]\n",
    "# Convert parameter estimates into dictionary\n",
    "dct = dict(zip(list(df.columns), df.iloc[0].to_list()))"
   ]
  },
  {
   "cell_type": "code",
   "execution_count": 3,
   "id": "c943ab95-8237-436c-bc58-c6e774c741d8",
   "metadata": {},
   "outputs": [
    {
     "data": {
      "text/plain": [
       "{'n_eval': 252.0,\n",
       " 't_A': 0.0029307448136187,\n",
       " 't_B': 0.0030864038918802,\n",
       " 't_C': 0.005659606389834,\n",
       " 't_2': 0.0020879423249091,\n",
       " 't_upper': 0.0049568487930341,\n",
       " 'N_AB': 0.0034232595068766,\n",
       " 'N_ABC': 0.002807779932867,\n",
       " 'r': 0.9920256455623097,\n",
       " 'loglik': -76112721.76133902,\n",
       " 'time': 153659.25739312172}"
      ]
     },
     "execution_count": 3,
     "metadata": {},
     "output_type": "execute_result"
    }
   ],
   "source": [
    "# Print dictionary\n",
    "dct"
   ]
  },
  {
   "cell_type": "markdown",
   "id": "47c15797-c3cb-4487-a60a-7a8c8fd4cdf7",
   "metadata": {},
   "source": [
    "The following lines can be used in case we would like to change from certain `n_int_AB` and `n_int_ABC` to another:"
   ]
  },
  {
   "cell_type": "code",
   "execution_count": 4,
   "id": "4a622b02-5c8a-43d9-ab66-340df7912203",
   "metadata": {},
   "outputs": [],
   "source": [
    "cut_ABC_original = (cutpoints_ABC(n_int_ABC_original, 1)*dct[\"N_ABC\"])"
   ]
  },
  {
   "cell_type": "code",
   "execution_count": 5,
   "id": "3a3bc940-01bf-4b85-8271-94a11d84d5c6",
   "metadata": {},
   "outputs": [
    {
     "data": {
      "text/plain": [
       "0.008041510331157506"
      ]
     },
     "execution_count": 5,
     "metadata": {},
     "output_type": "execute_result"
    }
   ],
   "source": [
    "t_ABC = cut_ABC_original[-2]+dct[\"t_upper\"]\n",
    "t_ABC"
   ]
  },
  {
   "cell_type": "code",
   "execution_count": 6,
   "id": "f9c50bca-e586-4ad4-9ef1-a4fc9c1e7ec1",
   "metadata": {},
   "outputs": [
    {
     "data": {
      "text/plain": [
       "0.0049568487930341"
      ]
     },
     "execution_count": 6,
     "metadata": {},
     "output_type": "execute_result"
    }
   ],
   "source": [
    "cut_ABC = (cutpoints_ABC(n_int_ABC, 1)*dct[\"N_ABC\"])\n",
    "cut_ABC_last = cut_ABC[-2]\n",
    "t_upper = t_ABC-cut_ABC_last\n",
    "t_upper"
   ]
  },
  {
   "cell_type": "code",
   "execution_count": 7,
   "id": "f59fc663-92b8-4c61-a099-04368abf7686",
   "metadata": {},
   "outputs": [],
   "source": [
    "t_out = (((dct[\"t_A\"]+dct[\"t_B\"])/2+dct[\"t_2\"])+dct[\"t_C\"])/2 + cut_ABC_original[n_int_ABC_original-1]*dct[\"N_ABC\"] + dct[\"t_upper\"] + 2*dct[\"N_ABC\"]"
   ]
  },
  {
   "cell_type": "code",
   "execution_count": 8,
   "id": "f03129c5-2fef-4a59-84a1-77ba7a2ed518",
   "metadata": {},
   "outputs": [
    {
     "data": {
      "text/plain": [
       "0.015959131243280803"
      ]
     },
     "execution_count": 8,
     "metadata": {},
     "output_type": "execute_result"
    }
   ],
   "source": [
    "t_out"
   ]
  },
  {
   "cell_type": "markdown",
   "id": "33ce8b02-0139-491d-9a93-79b77a9659a3",
   "metadata": {},
   "source": [
    "## Parameter estimation"
   ]
  },
  {
   "cell_type": "markdown",
   "id": "b650e324-4d7d-4ff8-99d9-2f3713c7e72c",
   "metadata": {},
   "source": [
    "First, we can calculate the proportion of ILS from the estimated parameters. We can use the following function:"
   ]
  },
  {
   "cell_type": "markdown",
   "id": "0e20c3a3-6675-4b2d-bd04-ca4ed61aff1a",
   "metadata": {},
   "source": [
    "$\\frac{2}{3}\\exp\\left(-\\frac{t_2}{N_\\text{AB}}\\right)$"
   ]
  },
  {
   "cell_type": "markdown",
   "id": "a331acc2-cc44-4be6-b361-662d30413ec2",
   "metadata": {},
   "source": [
    "Since the units of $t_2$ are number of generations (multiplied by the mutation rate) and the units of $N_\\text{AB}$ are number of individuals times two (multiplied by the mutation rate), then we can directly use the formula above:"
   ]
  },
  {
   "cell_type": "code",
   "execution_count": 13,
   "id": "3011bce7-cb80-4904-be08-60d690a14367",
   "metadata": {},
   "outputs": [
    {
     "data": {
      "text/plain": [
       "0.36225994154321695"
      ]
     },
     "execution_count": 13,
     "metadata": {},
     "output_type": "execute_result"
    }
   ],
   "source": [
    "(2/3)*np.exp(-(dct[\"t_2\"])/(dct[\"N_AB\"]))"
   ]
  },
  {
   "cell_type": "markdown",
   "id": "1c60f821-6101-4abe-84b6-0da027e0118e",
   "metadata": {},
   "source": [
    "We can convert the raw units of the times into number of generations by dividing it by the mutation rate, and into years by then multiplying it by the generation time:"
   ]
  },
  {
   "cell_type": "code",
   "execution_count": 16,
   "id": "f19d8a22-92ef-4aa2-b52d-d371ed3b1b23",
   "metadata": {},
   "outputs": [
    {
     "data": {
      "text/html": [
       "<div>\n",
       "<style scoped>\n",
       "    .dataframe tbody tr th:only-of-type {\n",
       "        vertical-align: middle;\n",
       "    }\n",
       "\n",
       "    .dataframe tbody tr th {\n",
       "        vertical-align: top;\n",
       "    }\n",
       "\n",
       "    .dataframe thead th {\n",
       "        text-align: right;\n",
       "    }\n",
       "</style>\n",
       "<table border=\"1\" class=\"dataframe\">\n",
       "  <thead>\n",
       "    <tr style=\"text-align: right;\">\n",
       "      <th></th>\n",
       "      <th>Names</th>\n",
       "      <th>Raw values</th>\n",
       "      <th>Generations (mu = 1e-8)</th>\n",
       "      <th>MY (mu = 1e-8, g = 20)</th>\n",
       "    </tr>\n",
       "  </thead>\n",
       "  <tbody>\n",
       "    <tr>\n",
       "      <th>0</th>\n",
       "      <td>H to HC</td>\n",
       "      <td>0.002931</td>\n",
       "      <td>2.930745e+05</td>\n",
       "      <td>5.861490</td>\n",
       "    </tr>\n",
       "    <tr>\n",
       "      <th>1</th>\n",
       "      <td>C to HC</td>\n",
       "      <td>0.003086</td>\n",
       "      <td>3.086404e+05</td>\n",
       "      <td>6.172808</td>\n",
       "    </tr>\n",
       "    <tr>\n",
       "      <th>2</th>\n",
       "      <td>HC to HCG</td>\n",
       "      <td>0.002088</td>\n",
       "      <td>2.087942e+05</td>\n",
       "      <td>4.175885</td>\n",
       "    </tr>\n",
       "    <tr>\n",
       "      <th>3</th>\n",
       "      <td>G to HCG</td>\n",
       "      <td>0.005660</td>\n",
       "      <td>5.659606e+05</td>\n",
       "      <td>11.319213</td>\n",
       "    </tr>\n",
       "    <tr>\n",
       "      <th>4</th>\n",
       "      <td>O (divergence)</td>\n",
       "      <td>0.015959</td>\n",
       "      <td>1.595913e+06</td>\n",
       "      <td>31.918262</td>\n",
       "    </tr>\n",
       "  </tbody>\n",
       "</table>\n",
       "</div>"
      ],
      "text/plain": [
       "            Names  Raw values  Generations (mu = 1e-8)  MY (mu = 1e-8, g = 20)\n",
       "0         H to HC    0.002931             2.930745e+05                5.861490\n",
       "1         C to HC    0.003086             3.086404e+05                6.172808\n",
       "2       HC to HCG    0.002088             2.087942e+05                4.175885\n",
       "3        G to HCG    0.005660             5.659606e+05               11.319213\n",
       "4  O (divergence)    0.015959             1.595913e+06               31.918262"
      ]
     },
     "execution_count": 16,
     "metadata": {},
     "output_type": "execute_result"
    }
   ],
   "source": [
    "df_params = pd.DataFrame()\n",
    "df_params['Names'] = ['H to HC', 'C to HC', 'HC to HCG', 'G to HCG', 'O (divergence)']\n",
    "df_params['Raw values'] = [dct[i] for i in ['t_A', 't_B', 't_2', 't_C']] + [t_out]\n",
    "df_params['Generations (mu = 1e-8)'] = df_params['Raw values']/1e-8\n",
    "df_params['MY (mu = 1e-8, g = 20)'] = df_params['Raw values']/1e-8*20/1000000\n",
    "df_params"
   ]
  },
  {
   "cell_type": "markdown",
   "id": "2bfa102a-bd94-4fbf-bfde-bfab0d051747",
   "metadata": {},
   "source": [
    "We can also convert the effective population sizes into diploid population size by dividing by 2 times the mutation rate:"
   ]
  },
  {
   "cell_type": "code",
   "execution_count": 11,
   "id": "de2cac41-0574-4899-a786-ca56147e2f82",
   "metadata": {},
   "outputs": [
    {
     "data": {
      "text/html": [
       "<div>\n",
       "<style scoped>\n",
       "    .dataframe tbody tr th:only-of-type {\n",
       "        vertical-align: middle;\n",
       "    }\n",
       "\n",
       "    .dataframe tbody tr th {\n",
       "        vertical-align: top;\n",
       "    }\n",
       "\n",
       "    .dataframe thead th {\n",
       "        text-align: right;\n",
       "    }\n",
       "</style>\n",
       "<table border=\"1\" class=\"dataframe\">\n",
       "  <thead>\n",
       "    <tr style=\"text-align: right;\">\n",
       "      <th></th>\n",
       "      <th>Names</th>\n",
       "      <th>Raw values</th>\n",
       "      <th>N (mu = 1e-8)</th>\n",
       "    </tr>\n",
       "  </thead>\n",
       "  <tbody>\n",
       "    <tr>\n",
       "      <th>0</th>\n",
       "      <td>Human-chimp</td>\n",
       "      <td>0.003423</td>\n",
       "      <td>171162.975344</td>\n",
       "    </tr>\n",
       "    <tr>\n",
       "      <th>1</th>\n",
       "      <td>Human-chimp-gorilla</td>\n",
       "      <td>0.002808</td>\n",
       "      <td>140388.996643</td>\n",
       "    </tr>\n",
       "  </tbody>\n",
       "</table>\n",
       "</div>"
      ],
      "text/plain": [
       "                 Names  Raw values  N (mu = 1e-8)\n",
       "0          Human-chimp    0.003423  171162.975344\n",
       "1  Human-chimp-gorilla    0.002808  140388.996643"
      ]
     },
     "execution_count": 11,
     "metadata": {},
     "output_type": "execute_result"
    }
   ],
   "source": [
    "df_params = pd.DataFrame()\n",
    "df_params['Names'] = ['HC', 'HCG']\n",
    "df_params['Raw values'] = [dct[i] for i in ['N_AB', 'N_ABC']]\n",
    "df_params['N (mu = 1e-8)'] = df_params['Raw values']/1e-8/2\n",
    "df_params"
   ]
  },
  {
   "cell_type": "markdown",
   "id": "9c4b05ff-c9d3-4b6a-a3ea-42a8c6cff34b",
   "metadata": {},
   "source": [
    "Finally, the recombination rate can be calculated by multiplying the raw value by the mutation rate:"
   ]
  },
  {
   "cell_type": "code",
   "execution_count": 18,
   "id": "018cb883-86e5-4e20-809b-a75904c895f1",
   "metadata": {},
   "outputs": [
    {
     "data": {
      "text/html": [
       "<div>\n",
       "<style scoped>\n",
       "    .dataframe tbody tr th:only-of-type {\n",
       "        vertical-align: middle;\n",
       "    }\n",
       "\n",
       "    .dataframe tbody tr th {\n",
       "        vertical-align: top;\n",
       "    }\n",
       "\n",
       "    .dataframe thead th {\n",
       "        text-align: right;\n",
       "    }\n",
       "</style>\n",
       "<table border=\"1\" class=\"dataframe\">\n",
       "  <thead>\n",
       "    <tr style=\"text-align: right;\">\n",
       "      <th></th>\n",
       "      <th>Names</th>\n",
       "      <th>Raw value</th>\n",
       "      <th>r (mu = 1e-8)</th>\n",
       "    </tr>\n",
       "  </thead>\n",
       "  <tbody>\n",
       "    <tr>\n",
       "      <th>0</th>\n",
       "      <td>Recombination</td>\n",
       "      <td>0.992026</td>\n",
       "      <td>9.920256e-09</td>\n",
       "    </tr>\n",
       "  </tbody>\n",
       "</table>\n",
       "</div>"
      ],
      "text/plain": [
       "           Names  Raw value  r (mu = 1e-8)\n",
       "0  Recombination   0.992026   9.920256e-09"
      ]
     },
     "execution_count": 18,
     "metadata": {},
     "output_type": "execute_result"
    }
   ],
   "source": [
    "df_params = pd.DataFrame()\n",
    "df_params['Names'] = ['Recombination']\n",
    "df_params['Raw value'] = [dct[i] for i in ['r']]\n",
    "df_params['r (mu = 1e-8)'] = df_params['Raw value']*1e-8\n",
    "df_params"
   ]
  },
  {
   "cell_type": "markdown",
   "id": "832ae8aa-37c1-421d-81b9-3a6d725503a9",
   "metadata": {},
   "source": [
    "## Posterior decoding"
   ]
  },
  {
   "cell_type": "markdown",
   "id": "43f378f7-5c75-4742-a8c2-22baa3fd6385",
   "metadata": {},
   "source": [
    "Based on the estimated values, we can compute the transition and emission probabilities of the TRAILS model:"
   ]
  },
  {
   "cell_type": "code",
   "execution_count": 19,
   "id": "4320dcd6-203f-4d35-b06d-2f7ce328ef3e",
   "metadata": {},
   "outputs": [
    {
     "name": "stderr",
     "output_type": "stream",
     "text": [
      "2023-04-25 10:40:10,160\tINFO worker.py:1518 -- Started a local Ray instance.\n"
     ]
    }
   ],
   "source": [
    "a, b, pi, hidden_names, observed_names = trans_emiss_calc(\n",
    "    dct[\"t_A\"], dct[\"t_B\"], dct[\"t_C\"], dct[\"t_2\"], t_upper, t_out, \n",
    "    dct[\"N_AB\"], dct[\"N_ABC\"], dct[\"r\"], n_int_AB, n_int_ABC)"
   ]
  },
  {
   "cell_type": "markdown",
   "id": "52808388-8383-4f3d-a8c4-eed6ec4d92da",
   "metadata": {},
   "source": [
    "We can then parse the chr1 region using the TRAILS maf parser:"
   ]
  },
  {
   "cell_type": "code",
   "execution_count": 21,
   "id": "63eac3b1-9f87-473d-81c4-0c1b757c44ed",
   "metadata": {},
   "outputs": [],
   "source": [
    "if 'obs' not in globals():\n",
    "    obs = maf_parser('../data/chr1.filtered.region.maf', ['hg38','panTro5','gorGor5','ponAbe2'])"
   ]
  },
  {
   "cell_type": "markdown",
   "id": "b3c53b7a-9c7e-4338-8251-13b5fe0b2717",
   "metadata": {},
   "source": [
    "To calculate the posterior probabilities, we can use the `post_prob_wrapper` function:"
   ]
  },
  {
   "cell_type": "code",
   "execution_count": 22,
   "id": "a91a1d51-e259-4d15-a3b1-cdc027c47e76",
   "metadata": {},
   "outputs": [],
   "source": [
    "post_prob = post_prob_wrapper(a, b, pi, obs)"
   ]
  },
  {
   "cell_type": "code",
   "execution_count": 23,
   "id": "edcd142b-96ba-4677-af30-79b69a4e3218",
   "metadata": {},
   "outputs": [
    {
     "data": {
      "text/plain": [
       "2599"
      ]
     },
     "execution_count": 23,
     "metadata": {},
     "output_type": "execute_result"
    }
   ],
   "source": [
    "len(post_prob)"
   ]
  },
  {
   "cell_type": "markdown",
   "id": "f55dce33-1ec2-4ff9-babc-078b88b7fd2d",
   "metadata": {},
   "source": [
    "The following function is used to extract the sequence and position information from the maf alignment:"
   ]
  },
  {
   "cell_type": "code",
   "execution_count": 25,
   "id": "edb45632-3a27-4f33-b48f-cdef49df4567",
   "metadata": {},
   "outputs": [],
   "source": [
    "from Bio import AlignIO\n",
    "\n",
    "def maf_seq(file, sp_lst):\n",
    "    total_dct = {sp_lst[0]:[], sp_lst[1]:[], sp_lst[2]:[], sp_lst[3]:[]}\n",
    "    start_dct = []\n",
    "    # Start loglik accumulator\n",
    "    loglik_acc = 0\n",
    "    # For each block\n",
    "    for multiple_alignment in AlignIO.parse(file, \"maf\"):\n",
    "        # Save sequence\n",
    "        dct = {}\n",
    "        # For each sequence in the alignment block\n",
    "        for seqrec in multiple_alignment:\n",
    "            if seqrec.name.split('.')[0] in sp_lst:\n",
    "                # Save nucleotides as ones and gaps as zeros\n",
    "                dct[seqrec.name.split('.')[0]] = ''.join([str(int(j!='-')) for j in str(seqrec.seq)])\n",
    "            if seqrec.name.split('.')[0] == 'hg38':\n",
    "                # Save the start position of the block in human coordinates\n",
    "                start = seqrec.annotations['start']\n",
    "        # Append information to list\n",
    "        if len(dct) == 4: \n",
    "            start_dct.append(start)\n",
    "            for i in sp_lst:\n",
    "                total_dct[i].append(dct[i])\n",
    "    return total_dct, start_dct\n",
    "\n",
    "# Get sequence and start information\n",
    "seqinfo, startinfo = maf_seq('../data/chr1.filtered.region.maf', ['hg38','panTro5','gorGor5','ponAbe2'])"
   ]
  },
  {
   "cell_type": "markdown",
   "id": "c1f66060-9235-4209-8287-9ceb50c525ca",
   "metadata": {},
   "source": [
    "Now, we will iterate over the alignment blocks, save the position in human coordinates, and mark gaps as -9:"
   ]
  },
  {
   "cell_type": "code",
   "execution_count": 26,
   "id": "76881ff6-ba75-440d-8e71-750c62a362b4",
   "metadata": {},
   "outputs": [],
   "source": [
    "tot_lst = []\n",
    "# For each block\n",
    "for i in range(len(startinfo)):\n",
    "    # Save start coordinate\n",
    "    st = startinfo[i]\n",
    "    tmp_lst = []\n",
    "    # For each site in the human sequence\n",
    "    for j in seqinfo['hg38'][i]:\n",
    "        # If the site is not a gap\n",
    "        if j == '1':\n",
    "            # Append position\n",
    "            tmp_lst.append(st)\n",
    "            # Update coordinate\n",
    "            st += 1\n",
    "        # If it is a gap\n",
    "        else:\n",
    "            # Append -9\n",
    "            tmp_lst.append(-9)\n",
    "    tot_lst.append(tmp_lst)"
   ]
  },
  {
   "cell_type": "markdown",
   "id": "6559f374-1d40-494a-bca0-227df9e9ff70",
   "metadata": {},
   "source": [
    "In order to summarize the data, we will calculate the mean posterior probability in 100 kb windows for each of the hidden states:"
   ]
  },
  {
   "cell_type": "code",
   "execution_count": 27,
   "id": "5f8b42bd-7633-4ec9-9396-1ae44b9be089",
   "metadata": {},
   "outputs": [],
   "source": [
    "# Create empty data frame\n",
    "summary = pd.DataFrame()\n",
    "# Define bin size\n",
    "binsize = 100000\n",
    "# For each block\n",
    "for j in range(len(post_prob)):\n",
    "    # Convert posteriors into data frame\n",
    "    dat = pd.DataFrame(post_prob[j])\n",
    "    # Add hidden states as column names\n",
    "    dat.columns = [str(i) for i in list(hidden_names.values())]\n",
    "    # Add position in human coordinates\n",
    "    dat['position'] = tot_lst[j]\n",
    "    # Filter gaps\n",
    "    dat = dat[dat['position'] != -9]\n",
    "    # Bin the result using the bin size\n",
    "    dat['bin'] = dat['position'] // binsize\n",
    "    # Calculate number of sites per bin\n",
    "    t1 = dat.groupby('bin').agg(size=('(0, 0, 0)', 'size')).reset_index()\n",
    "    # Calculate mean posterior probability per hidden state\n",
    "    t2 = dat.groupby('bin').agg('mean').reset_index()\n",
    "    # Append to overall result\n",
    "    summary = pd.concat([summary, t1.merge(t2)])"
   ]
  },
  {
   "cell_type": "code",
   "execution_count": 28,
   "id": "8c7fd2e1-50b2-4067-9299-b4282486487b",
   "metadata": {},
   "outputs": [
    {
     "data": {
      "text/html": [
       "<div>\n",
       "<style scoped>\n",
       "    .dataframe tbody tr th:only-of-type {\n",
       "        vertical-align: middle;\n",
       "    }\n",
       "\n",
       "    .dataframe tbody tr th {\n",
       "        vertical-align: top;\n",
       "    }\n",
       "\n",
       "    .dataframe thead th {\n",
       "        text-align: right;\n",
       "    }\n",
       "</style>\n",
       "<table border=\"1\" class=\"dataframe\">\n",
       "  <thead>\n",
       "    <tr style=\"text-align: right;\">\n",
       "      <th></th>\n",
       "      <th>bin</th>\n",
       "      <th>size</th>\n",
       "      <th>(0, 0, 0)</th>\n",
       "      <th>(0, 0, 1)</th>\n",
       "      <th>(0, 0, 2)</th>\n",
       "      <th>(0, 1, 0)</th>\n",
       "      <th>(0, 1, 1)</th>\n",
       "      <th>(0, 1, 2)</th>\n",
       "      <th>(0, 2, 0)</th>\n",
       "      <th>(0, 2, 1)</th>\n",
       "      <th>...</th>\n",
       "      <th>(2, 1, 1)</th>\n",
       "      <th>(2, 1, 2)</th>\n",
       "      <th>(2, 2, 2)</th>\n",
       "      <th>(3, 0, 0)</th>\n",
       "      <th>(3, 0, 1)</th>\n",
       "      <th>(3, 0, 2)</th>\n",
       "      <th>(3, 1, 1)</th>\n",
       "      <th>(3, 1, 2)</th>\n",
       "      <th>(3, 2, 2)</th>\n",
       "      <th>position</th>\n",
       "    </tr>\n",
       "  </thead>\n",
       "  <tbody>\n",
       "    <tr>\n",
       "      <th>0</th>\n",
       "      <td>249</td>\n",
       "      <td>1485</td>\n",
       "      <td>0.059376</td>\n",
       "      <td>0.045361</td>\n",
       "      <td>0.032477</td>\n",
       "      <td>0.063253</td>\n",
       "      <td>0.048308</td>\n",
       "      <td>0.034891</td>\n",
       "      <td>0.065539</td>\n",
       "      <td>0.049912</td>\n",
       "      <td>...</td>\n",
       "      <td>0.005835</td>\n",
       "      <td>0.031619</td>\n",
       "      <td>0.000807</td>\n",
       "      <td>0.016457</td>\n",
       "      <td>0.041227</td>\n",
       "      <td>0.029339</td>\n",
       "      <td>0.005012</td>\n",
       "      <td>0.012239</td>\n",
       "      <td>0.000635</td>\n",
       "      <td>24999257.0</td>\n",
       "    </tr>\n",
       "    <tr>\n",
       "      <th>1</th>\n",
       "      <td>250</td>\n",
       "      <td>1929</td>\n",
       "      <td>0.098284</td>\n",
       "      <td>0.097102</td>\n",
       "      <td>0.059970</td>\n",
       "      <td>0.083475</td>\n",
       "      <td>0.087555</td>\n",
       "      <td>0.056001</td>\n",
       "      <td>0.060627</td>\n",
       "      <td>0.069071</td>\n",
       "      <td>...</td>\n",
       "      <td>0.004343</td>\n",
       "      <td>0.010720</td>\n",
       "      <td>0.000351</td>\n",
       "      <td>0.013085</td>\n",
       "      <td>0.042610</td>\n",
       "      <td>0.030936</td>\n",
       "      <td>0.005438</td>\n",
       "      <td>0.012773</td>\n",
       "      <td>0.000696</td>\n",
       "      <td>25000964.0</td>\n",
       "    </tr>\n",
       "    <tr>\n",
       "      <th>0</th>\n",
       "      <td>250</td>\n",
       "      <td>33301</td>\n",
       "      <td>0.049442</td>\n",
       "      <td>0.051526</td>\n",
       "      <td>0.043506</td>\n",
       "      <td>0.053750</td>\n",
       "      <td>0.057129</td>\n",
       "      <td>0.050820</td>\n",
       "      <td>0.057606</td>\n",
       "      <td>0.061617</td>\n",
       "      <td>...</td>\n",
       "      <td>0.007759</td>\n",
       "      <td>0.021317</td>\n",
       "      <td>0.001107</td>\n",
       "      <td>0.017555</td>\n",
       "      <td>0.066927</td>\n",
       "      <td>0.062076</td>\n",
       "      <td>0.007660</td>\n",
       "      <td>0.025046</td>\n",
       "      <td>0.001229</td>\n",
       "      <td>25019223.0</td>\n",
       "    </tr>\n",
       "    <tr>\n",
       "      <th>0</th>\n",
       "      <td>250</td>\n",
       "      <td>5663</td>\n",
       "      <td>0.025127</td>\n",
       "      <td>0.025917</td>\n",
       "      <td>0.033935</td>\n",
       "      <td>0.030188</td>\n",
       "      <td>0.031515</td>\n",
       "      <td>0.043258</td>\n",
       "      <td>0.038004</td>\n",
       "      <td>0.038210</td>\n",
       "      <td>...</td>\n",
       "      <td>0.009360</td>\n",
       "      <td>0.051860</td>\n",
       "      <td>0.004073</td>\n",
       "      <td>0.018310</td>\n",
       "      <td>0.096114</td>\n",
       "      <td>0.112221</td>\n",
       "      <td>0.011734</td>\n",
       "      <td>0.051486</td>\n",
       "      <td>0.004018</td>\n",
       "      <td>25039137.0</td>\n",
       "    </tr>\n",
       "    <tr>\n",
       "      <th>0</th>\n",
       "      <td>250</td>\n",
       "      <td>15299</td>\n",
       "      <td>0.041599</td>\n",
       "      <td>0.034018</td>\n",
       "      <td>0.030873</td>\n",
       "      <td>0.051315</td>\n",
       "      <td>0.041448</td>\n",
       "      <td>0.036887</td>\n",
       "      <td>0.064017</td>\n",
       "      <td>0.050964</td>\n",
       "      <td>...</td>\n",
       "      <td>0.009093</td>\n",
       "      <td>0.031347</td>\n",
       "      <td>0.001799</td>\n",
       "      <td>0.023112</td>\n",
       "      <td>0.073953</td>\n",
       "      <td>0.076108</td>\n",
       "      <td>0.008858</td>\n",
       "      <td>0.031166</td>\n",
       "      <td>0.001976</td>\n",
       "      <td>25050536.0</td>\n",
       "    </tr>\n",
       "    <tr>\n",
       "      <th>...</th>\n",
       "      <td>...</td>\n",
       "      <td>...</td>\n",
       "      <td>...</td>\n",
       "      <td>...</td>\n",
       "      <td>...</td>\n",
       "      <td>...</td>\n",
       "      <td>...</td>\n",
       "      <td>...</td>\n",
       "      <td>...</td>\n",
       "      <td>...</td>\n",
       "      <td>...</td>\n",
       "      <td>...</td>\n",
       "      <td>...</td>\n",
       "      <td>...</td>\n",
       "      <td>...</td>\n",
       "      <td>...</td>\n",
       "      <td>...</td>\n",
       "      <td>...</td>\n",
       "      <td>...</td>\n",
       "      <td>...</td>\n",
       "      <td>...</td>\n",
       "    </tr>\n",
       "    <tr>\n",
       "      <th>1</th>\n",
       "      <td>749</td>\n",
       "      <td>16354</td>\n",
       "      <td>0.065712</td>\n",
       "      <td>0.069160</td>\n",
       "      <td>0.059964</td>\n",
       "      <td>0.074016</td>\n",
       "      <td>0.081219</td>\n",
       "      <td>0.071801</td>\n",
       "      <td>0.070156</td>\n",
       "      <td>0.084405</td>\n",
       "      <td>...</td>\n",
       "      <td>0.005183</td>\n",
       "      <td>0.012038</td>\n",
       "      <td>0.000703</td>\n",
       "      <td>0.012176</td>\n",
       "      <td>0.035065</td>\n",
       "      <td>0.020883</td>\n",
       "      <td>0.004785</td>\n",
       "      <td>0.010090</td>\n",
       "      <td>0.000650</td>\n",
       "      <td>74908176.5</td>\n",
       "    </tr>\n",
       "    <tr>\n",
       "      <th>0</th>\n",
       "      <td>749</td>\n",
       "      <td>22742</td>\n",
       "      <td>0.083584</td>\n",
       "      <td>0.076218</td>\n",
       "      <td>0.061302</td>\n",
       "      <td>0.074402</td>\n",
       "      <td>0.070884</td>\n",
       "      <td>0.059135</td>\n",
       "      <td>0.065005</td>\n",
       "      <td>0.064654</td>\n",
       "      <td>...</td>\n",
       "      <td>0.005524</td>\n",
       "      <td>0.019271</td>\n",
       "      <td>0.000896</td>\n",
       "      <td>0.014670</td>\n",
       "      <td>0.041209</td>\n",
       "      <td>0.027956</td>\n",
       "      <td>0.005113</td>\n",
       "      <td>0.012133</td>\n",
       "      <td>0.000729</td>\n",
       "      <td>74939848.5</td>\n",
       "    </tr>\n",
       "    <tr>\n",
       "      <th>0</th>\n",
       "      <td>749</td>\n",
       "      <td>35588</td>\n",
       "      <td>0.062584</td>\n",
       "      <td>0.044627</td>\n",
       "      <td>0.029602</td>\n",
       "      <td>0.070994</td>\n",
       "      <td>0.048981</td>\n",
       "      <td>0.031957</td>\n",
       "      <td>0.082253</td>\n",
       "      <td>0.055461</td>\n",
       "      <td>...</td>\n",
       "      <td>0.007726</td>\n",
       "      <td>0.019360</td>\n",
       "      <td>0.000818</td>\n",
       "      <td>0.028315</td>\n",
       "      <td>0.081938</td>\n",
       "      <td>0.053732</td>\n",
       "      <td>0.007602</td>\n",
       "      <td>0.017547</td>\n",
       "      <td>0.000740</td>\n",
       "      <td>74970405.5</td>\n",
       "    </tr>\n",
       "    <tr>\n",
       "      <th>0</th>\n",
       "      <td>749</td>\n",
       "      <td>8078</td>\n",
       "      <td>0.105355</td>\n",
       "      <td>0.109783</td>\n",
       "      <td>0.092215</td>\n",
       "      <td>0.082241</td>\n",
       "      <td>0.087583</td>\n",
       "      <td>0.074204</td>\n",
       "      <td>0.059913</td>\n",
       "      <td>0.066003</td>\n",
       "      <td>...</td>\n",
       "      <td>0.002867</td>\n",
       "      <td>0.005579</td>\n",
       "      <td>0.000252</td>\n",
       "      <td>0.011391</td>\n",
       "      <td>0.033805</td>\n",
       "      <td>0.020111</td>\n",
       "      <td>0.003011</td>\n",
       "      <td>0.006456</td>\n",
       "      <td>0.000254</td>\n",
       "      <td>74995960.5</td>\n",
       "    </tr>\n",
       "    <tr>\n",
       "      <th>1</th>\n",
       "      <td>750</td>\n",
       "      <td>60045</td>\n",
       "      <td>0.081674</td>\n",
       "      <td>0.084031</td>\n",
       "      <td>0.077138</td>\n",
       "      <td>0.072245</td>\n",
       "      <td>0.077237</td>\n",
       "      <td>0.074075</td>\n",
       "      <td>0.060026</td>\n",
       "      <td>0.067276</td>\n",
       "      <td>...</td>\n",
       "      <td>0.004471</td>\n",
       "      <td>0.012550</td>\n",
       "      <td>0.000642</td>\n",
       "      <td>0.011985</td>\n",
       "      <td>0.034635</td>\n",
       "      <td>0.025712</td>\n",
       "      <td>0.004354</td>\n",
       "      <td>0.011516</td>\n",
       "      <td>0.000626</td>\n",
       "      <td>75030022.0</td>\n",
       "    </tr>\n",
       "  </tbody>\n",
       "</table>\n",
       "<p>3053 rows × 30 columns</p>\n",
       "</div>"
      ],
      "text/plain": [
       "    bin   size  (0, 0, 0)  (0, 0, 1)  (0, 0, 2)  (0, 1, 0)  (0, 1, 1)  \\\n",
       "0   249   1485   0.059376   0.045361   0.032477   0.063253   0.048308   \n",
       "1   250   1929   0.098284   0.097102   0.059970   0.083475   0.087555   \n",
       "0   250  33301   0.049442   0.051526   0.043506   0.053750   0.057129   \n",
       "0   250   5663   0.025127   0.025917   0.033935   0.030188   0.031515   \n",
       "0   250  15299   0.041599   0.034018   0.030873   0.051315   0.041448   \n",
       "..  ...    ...        ...        ...        ...        ...        ...   \n",
       "1   749  16354   0.065712   0.069160   0.059964   0.074016   0.081219   \n",
       "0   749  22742   0.083584   0.076218   0.061302   0.074402   0.070884   \n",
       "0   749  35588   0.062584   0.044627   0.029602   0.070994   0.048981   \n",
       "0   749   8078   0.105355   0.109783   0.092215   0.082241   0.087583   \n",
       "1   750  60045   0.081674   0.084031   0.077138   0.072245   0.077237   \n",
       "\n",
       "    (0, 1, 2)  (0, 2, 0)  (0, 2, 1)  ...  (2, 1, 1)  (2, 1, 2)  (2, 2, 2)  \\\n",
       "0    0.034891   0.065539   0.049912  ...   0.005835   0.031619   0.000807   \n",
       "1    0.056001   0.060627   0.069071  ...   0.004343   0.010720   0.000351   \n",
       "0    0.050820   0.057606   0.061617  ...   0.007759   0.021317   0.001107   \n",
       "0    0.043258   0.038004   0.038210  ...   0.009360   0.051860   0.004073   \n",
       "0    0.036887   0.064017   0.050964  ...   0.009093   0.031347   0.001799   \n",
       "..        ...        ...        ...  ...        ...        ...        ...   \n",
       "1    0.071801   0.070156   0.084405  ...   0.005183   0.012038   0.000703   \n",
       "0    0.059135   0.065005   0.064654  ...   0.005524   0.019271   0.000896   \n",
       "0    0.031957   0.082253   0.055461  ...   0.007726   0.019360   0.000818   \n",
       "0    0.074204   0.059913   0.066003  ...   0.002867   0.005579   0.000252   \n",
       "1    0.074075   0.060026   0.067276  ...   0.004471   0.012550   0.000642   \n",
       "\n",
       "    (3, 0, 0)  (3, 0, 1)  (3, 0, 2)  (3, 1, 1)  (3, 1, 2)  (3, 2, 2)  \\\n",
       "0    0.016457   0.041227   0.029339   0.005012   0.012239   0.000635   \n",
       "1    0.013085   0.042610   0.030936   0.005438   0.012773   0.000696   \n",
       "0    0.017555   0.066927   0.062076   0.007660   0.025046   0.001229   \n",
       "0    0.018310   0.096114   0.112221   0.011734   0.051486   0.004018   \n",
       "0    0.023112   0.073953   0.076108   0.008858   0.031166   0.001976   \n",
       "..        ...        ...        ...        ...        ...        ...   \n",
       "1    0.012176   0.035065   0.020883   0.004785   0.010090   0.000650   \n",
       "0    0.014670   0.041209   0.027956   0.005113   0.012133   0.000729   \n",
       "0    0.028315   0.081938   0.053732   0.007602   0.017547   0.000740   \n",
       "0    0.011391   0.033805   0.020111   0.003011   0.006456   0.000254   \n",
       "1    0.011985   0.034635   0.025712   0.004354   0.011516   0.000626   \n",
       "\n",
       "      position  \n",
       "0   24999257.0  \n",
       "1   25000964.0  \n",
       "0   25019223.0  \n",
       "0   25039137.0  \n",
       "0   25050536.0  \n",
       "..         ...  \n",
       "1   74908176.5  \n",
       "0   74939848.5  \n",
       "0   74970405.5  \n",
       "0   74995960.5  \n",
       "1   75030022.0  \n",
       "\n",
       "[3053 rows x 30 columns]"
      ]
     },
     "execution_count": 28,
     "metadata": {},
     "output_type": "execute_result"
    }
   ],
   "source": [
    "summary"
   ]
  },
  {
   "cell_type": "markdown",
   "id": "77241dcf-9a87-43f7-8e01-fb6e3a06a5f4",
   "metadata": {},
   "source": [
    "We can import the data frame into R for plotting:"
   ]
  },
  {
   "cell_type": "code",
   "execution_count": 29,
   "id": "482158ce-097d-443c-b3b9-45baeac362c9",
   "metadata": {},
   "outputs": [
    {
     "name": "stderr",
     "output_type": "stream",
     "text": [
      "R[write to console]: ── Attaching packages ─────────────────────────────────────── tidyverse 1.3.1 ──\n",
      "\n",
      "R[write to console]: ✔ ggplot2 3.3.5     ✔ purrr   0.3.4\n",
      "✔ tibble  3.1.5     ✔ dplyr   1.0.7\n",
      "✔ tidyr   1.1.4     ✔ stringr 1.4.0\n",
      "✔ readr   2.0.2     ✔ forcats 0.5.1\n",
      "\n",
      "R[write to console]: ── Conflicts ────────────────────────────────────────── tidyverse_conflicts() ──\n",
      "✖ dplyr::filter() masks stats::filter()\n",
      "✖ dplyr::lag()    masks stats::lag()\n",
      "\n"
     ]
    },
    {
     "name": "stdout",
     "output_type": "stream",
     "text": [
      "`summarise()` has grouped output by 'bin'. You can override using the `.groups` argument.\n",
      "# A tibble: 13,554 × 7\n",
      "# Groups:   bin [502]\n",
      "     bin     V    t1    t2  value  size is_V0\n",
      "   <int> <int> <int> <int>  <dbl> <int> <lgl>\n",
      " 1   249     0     0     0 0.0594  1485 TRUE \n",
      " 2   249     0     0     1 0.0454  1485 TRUE \n",
      " 3   249     0     0     2 0.0325  1485 TRUE \n",
      " 4   249     0     1     0 0.0633  1485 TRUE \n",
      " 5   249     0     1     1 0.0483  1485 TRUE \n",
      " 6   249     0     1     2 0.0349  1485 TRUE \n",
      " 7   249     0     2     0 0.0655  1485 TRUE \n",
      " 8   249     0     2     1 0.0499  1485 TRUE \n",
      " 9   249     0     2     2 0.0367  1485 TRUE \n",
      "10   249     1     0     0 0.0179  1485 FALSE\n",
      "# … with 13,544 more rows\n"
     ]
    }
   ],
   "source": [
    "%%R -i summary -i binsize\n",
    "\n",
    "library(tidyverse)\n",
    "\n",
    "totab <- summary %>%\n",
    "    # Convert to tibble\n",
    "    as_tibble() %>%\n",
    "    # Remove unused columns\n",
    "    select(-position) %>%\n",
    "    # Pivot table\n",
    "    pivot_longer(-c(bin, size)) %>%\n",
    "    # For each bin and hidden state\n",
    "    group_by(bin, name) %>%\n",
    "    summarize(\n",
    "        # Calculate the mean posterior weighted by \n",
    "        # the number of sites\n",
    "        value = weighted.mean(value, size),\n",
    "        size = sum(size)\n",
    "    ) %>%\n",
    "    # Convert hidden state names into plottable info\n",
    "    mutate(\n",
    "        name = str_remove_all(name, '\\\\('),\n",
    "        name = str_remove_all(name, '\\\\)')\n",
    "    ) %>%\n",
    "    separate(name, c('V', 't1', 't2'), ', ') %>%\n",
    "    mutate(\n",
    "        V = as.integer(V),\n",
    "        t1 = as.integer(t1),\n",
    "        t2 = as.integer(t2),\n",
    "        is_V0 = V == 0\n",
    "    ) \n",
    "totab "
   ]
  },
  {
   "cell_type": "code",
   "execution_count": 30,
   "id": "ae032028-485c-4b8d-9ae5-386d03f0577c",
   "metadata": {},
   "outputs": [
    {
     "name": "stdout",
     "output_type": "stream",
     "text": [
      "`summarise()` has grouped output by 'bin'. You can override using the `.groups` argument.\n"
     ]
    }
   ],
   "source": [
    "%%R -w 2000 -h 150 -r 150\n",
    "\n",
    "# Load packages\n",
    "library(ggHoriPlot)\n",
    "library(ggthemes)\n",
    "\n",
    "p_ILS <- totab %>%\n",
    "    # Group by bin and topology\n",
    "    group_by(bin, V) %>%\n",
    "    # Sum the mean posterior\n",
    "    summarize(\n",
    "        value = sum(value)\n",
    "    ) %>%\n",
    "    # Group only by bin\n",
    "    group_by(bin) %>%\n",
    "    # Calculate ILS proxy from the mean posterior\n",
    "    summarize(\n",
    "        ILS = sum(value[V %in% c(2, 3)])/sum(value)\n",
    "    ) %>%\n",
    "    # Convert bins into coordinates\n",
    "    mutate(bin = bin*binsize/1000000) %>%\n",
    "    # Plot as horizon plot\n",
    "    ggplot() +\n",
    "    geom_horizon(aes(x = bin, xend = bin+(binsize-1)/1000000, y = ILS,\n",
    "                     fill=..Cutpoints..), horizonscale = 4, rm.outliers = T) +\n",
    "    theme_few() +\n",
    "    scale_fill_hcl(palette = 'PuOr', labels = c('High', '', '', 'Low'), name = 'ILS') +\n",
    "    theme(axis.title.x=element_blank(),\n",
    "        axis.text.x=element_blank(),\n",
    "        axis.ticks.x=element_blank(),\n",
    "        axis.title.y=element_blank(),\n",
    "        axis.text.y=element_blank(),\n",
    "        axis.ticks.y=element_blank()) +\n",
    "    scale_y_continuous(expand = c(0, 0)) +\n",
    "    scale_x_continuous(expand = c(0, 0))"
   ]
  },
  {
   "cell_type": "code",
   "execution_count": 31,
   "id": "f90e2b71-5450-4fe8-8b17-d54bfea98eea",
   "metadata": {},
   "outputs": [
    {
     "name": "stdout",
     "output_type": "stream",
     "text": [
      "`summarise()` has grouped output by 'bin'. You can override using the `.groups` argument.\n"
     ]
    }
   ],
   "source": [
    "%%R -w 2000 -h 300 -r 150\n",
    "\n",
    "# This is similar to the previous block, \n",
    "# but for the second coalescent\n",
    "p_t2 <- totab %>%\n",
    "    group_by(bin, t2) %>%\n",
    "    summarize(\n",
    "        value = sum(value)\n",
    "    ) %>%\n",
    "    group_by(bin) %>%\n",
    "    summarize(value = weighted.mean(t2, value)) %>%\n",
    "    mutate(bin = bin*binsize/1000000) %>%\n",
    "    ggplot() +\n",
    "    geom_horizon(aes(x = bin, xend = bin+(binsize-1)/1000000, y = value, fill=..Cutpoints..), \n",
    "                 horizonscale = 4, rm.outliers = T) +\n",
    "    theme_few() +\n",
    "    scale_fill_hcl(\n",
    "        palette = 'PuOr', \n",
    "        labels = c('Deep', '', '', 'Young'), \n",
    "        name = 'Second\\ncoalescent'\n",
    "    ) +\n",
    "    theme(axis.title.x=element_blank(),\n",
    "        axis.text.x=element_blank(),\n",
    "        axis.ticks.x=element_blank(),\n",
    "        axis.title.y=element_blank(),\n",
    "        axis.text.y=element_blank(),\n",
    "        axis.ticks.y=element_blank()) +\n",
    "    scale_y_continuous(expand = c(0, 0)) +\n",
    "    scale_x_continuous(expand = c(0, 0))"
   ]
  },
  {
   "cell_type": "code",
   "execution_count": 32,
   "id": "b10fb9cf-8195-4450-9c5f-59f0265e3ce9",
   "metadata": {},
   "outputs": [
    {
     "name": "stdout",
     "output_type": "stream",
     "text": [
      "`summarise()` has grouped output by 'bin', 't1'. You can override using the `.groups` argument.\n"
     ]
    }
   ],
   "source": [
    "%%R -w 2000 -h 300 -r 150 -i n_int_AB\n",
    "\n",
    "# This is similar to the previous block, \n",
    "# but for the first coalescent\n",
    "p_t1 <- totab %>%\n",
    "    group_by(bin, t1, is_V0) %>%\n",
    "    summarize(\n",
    "        value = sum(value)\n",
    "    ) %>%\n",
    "    ungroup() %>%\n",
    "    mutate(\n",
    "        t1 = ifelse(!is_V0, t1+n_int_AB, t1)\n",
    "    ) %>%\n",
    "    group_by(bin) %>%\n",
    "    summarize(value = weighted.mean(t1, value)) %>%\n",
    "    mutate(bin = bin*binsize/1000000) %>%\n",
    "    ggplot() +\n",
    "    geom_horizon(aes(x = bin, xend = bin+(binsize-1)/1000000, y = value, fill=..Cutpoints..), \n",
    "                 horizonscale = 4, rm.outliers = T) +\n",
    "    theme_few() +\n",
    "    scale_fill_hcl(palette = 'PuOr', labels = c('Deep', '', '', 'Young'), name = 'First\\ncoalescent') +\n",
    "    theme(\n",
    "        axis.title.y=element_blank(),\n",
    "        axis.text.y=element_blank(),\n",
    "        axis.ticks.y=element_blank()\n",
    "    ) +\n",
    "    scale_y_continuous(expand = c(0, 0)) +\n",
    "    scale_x_continuous(expand = c(0, 0)) +\n",
    "    xlab('Position along human chr1 (Mb)')"
   ]
  },
  {
   "cell_type": "code",
   "execution_count": 34,
   "id": "a9611c1f-a8d1-43ed-aa15-b10cf793a8d8",
   "metadata": {},
   "outputs": [
    {
     "data": {
      "image/png": "[encoded data removed]"
     },
     "metadata": {},
     "output_type": "display_data"
    }
   ],
   "source": [
    "%%R -w 2000 -h 800 -r 150\n",
    "\n",
    "library(patchwork)\n",
    "\n",
    "p_ILS / p_t2 / p_t1 + plot_layout(guides = 'collect')"
   ]
  },
  {
   "cell_type": "code",
   "execution_count": null,
   "id": "2feac791-aa2c-449a-8a6d-8916c634173a",
   "metadata": {},
   "outputs": [],
   "source": []
  },
  {
   "cell_type": "code",
   "execution_count": null,
   "id": "b0ecdc22-af11-40c6-b79c-e52a3684680c",
   "metadata": {},
   "outputs": [],
   "source": []
  }
 ],
 "metadata": {
  "kernelspec": {
   "display_name": "Python 3 (ipykernel)",
   "language": "python",
   "name": "python3"
  },
  "language_info": {
   "codemirror_mode": {
    "name": "ipython",
    "version": 3
   },
   "file_extension": ".py",
   "mimetype": "text/x-python",
   "name": "python",
   "nbconvert_exporter": "python",
   "pygments_lexer": "ipython3",
   "version": "3.8.10"
  }
 },
 "nbformat": 4,
 "nbformat_minor": 5
}
