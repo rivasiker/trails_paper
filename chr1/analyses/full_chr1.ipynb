{
 "cells": [
  {
   "attachments": {},
   "cell_type": "markdown",
   "id": "8969297b-0f3a-474f-98aa-422d9b263351",
   "metadata": {},
   "source": [
    "# Chromosome 1 analysis"
   ]
  },
  {
   "attachments": {},
   "cell_type": "markdown",
   "id": "7faa5769-8380-497c-9fff-ab6b223eb30a",
   "metadata": {},
   "source": [
    "## Loading the data"
   ]
  },
  {
   "attachments": {},
   "cell_type": "markdown",
   "id": "2524f15b-72f5-4dca-b061-2b87f5f7031f",
   "metadata": {},
   "source": [
    "Import the necessary packages:"
   ]
  },
  {
   "cell_type": "code",
   "execution_count": 1,
   "id": "d0203d2b-4d3c-4203-a558-8e7dfcd1a85a",
   "metadata": {},
   "outputs": [],
   "source": [
    "import pandas as pd\n",
    "import numpy as np\n",
    "from trails.optimizer import trans_emiss_calc, post_prob_wrapper\n",
    "from trails.read_data import maf_parser\n",
    "from trails.cutpoints import cutpoints_ABC\n",
    "from tqdm import tqdm\n",
    "%load_ext rpy2.ipython\n",
    "\n",
    "n_int_AB_original = 5\n",
    "n_int_ABC_original = 5\n",
    "\n",
    "n_int_AB = 5\n",
    "n_int_ABC = 5"
   ]
  },
  {
   "attachments": {},
   "cell_type": "markdown",
   "id": "0da63339-b531-4282-b9e9-c34ccb5e4159",
   "metadata": {},
   "source": [
    "Load the data:"
   ]
  },
  {
   "cell_type": "code",
   "execution_count": 2,
   "id": "c378e420-1d5a-4f6c-8dd3-4903547916cc",
   "metadata": {},
   "outputs": [],
   "source": [
    "# Read the output from TRAILS\n",
    "df = pd.read_csv('../results/chr1_Nelder-Mead_third_run.csv')\n",
    "# Find iteration with largest likelihood\n",
    "df = df[df['loglik'] == df['loglik'].max()]\n",
    "# Convert parameter estimates into dictionary\n",
    "dct = dict(zip(list(df.columns), df.iloc[0].to_list()))"
   ]
  },
  {
   "cell_type": "code",
   "execution_count": 3,
   "id": "c943ab95-8237-436c-bc58-c6e774c741d8",
   "metadata": {},
   "outputs": [
    {
     "data": {
      "text/plain": [
       "{'n_eval': 136.0,\n",
       " 't_A': 0.0027561296181322,\n",
       " 't_B': 0.0029189333873319,\n",
       " 't_C': 0.0058515616197657,\n",
       " 't_2': 0.0024428164101813,\n",
       " 't_upper': 0.0040645452754154,\n",
       " 'N_AB': 0.0041849972728295,\n",
       " 'N_ABC': 0.0025322380849019,\n",
       " 'r': 0.9527482356906288,\n",
       " 'loglik': -76112897.5348381,\n",
       " 'time': 413789.77893161774}"
      ]
     },
     "execution_count": 3,
     "metadata": {},
     "output_type": "execute_result"
    }
   ],
   "source": [
    "# Print dictionary\n",
    "dct"
   ]
  },
  {
   "attachments": {},
   "cell_type": "markdown",
   "id": "47c15797-c3cb-4487-a60a-7a8c8fd4cdf7",
   "metadata": {},
   "source": [
    "The following lines can be used in case we would like to change from certain `n_int_AB` and `n_int_ABC` to another:"
   ]
  },
  {
   "cell_type": "code",
   "execution_count": 4,
   "id": "4a622b02-5c8a-43d9-ab66-340df7912203",
   "metadata": {},
   "outputs": [],
   "source": [
    "cut_ABC_original = cutpoints_ABC(n_int_ABC_original, 1)*dct[\"N_ABC\"]"
   ]
  },
  {
   "cell_type": "code",
   "execution_count": 5,
   "id": "3a3bc940-01bf-4b85-8271-94a11d84d5c6",
   "metadata": {},
   "outputs": [
    {
     "data": {
      "text/plain": [
       "0.00814002525256604"
      ]
     },
     "execution_count": 5,
     "metadata": {},
     "output_type": "execute_result"
    }
   ],
   "source": [
    "t_ABC = cut_ABC_original[-2]+dct[\"t_upper\"]\n",
    "t_ABC"
   ]
  },
  {
   "cell_type": "code",
   "execution_count": 6,
   "id": "f9c50bca-e586-4ad4-9ef1-a4fc9c1e7ec1",
   "metadata": {},
   "outputs": [
    {
     "data": {
      "text/plain": [
       "0.004064545275415401"
      ]
     },
     "execution_count": 6,
     "metadata": {},
     "output_type": "execute_result"
    }
   ],
   "source": [
    "cut_ABC = (cutpoints_ABC(n_int_ABC, 1)*dct[\"N_ABC\"])\n",
    "cut_ABC_last = cut_ABC[-2]\n",
    "t_upper = t_ABC-cut_ABC_last\n",
    "t_upper"
   ]
  },
  {
   "cell_type": "code",
   "execution_count": 7,
   "id": "f59fc663-92b8-4c61-a099-04368abf7686",
   "metadata": {},
   "outputs": [],
   "source": [
    "t_out = (((dct[\"t_A\"]+dct[\"t_B\"])/2+dct[\"t_2\"])+dct[\"t_C\"])/2 + cut_ABC_original[n_int_ABC_original-1]*dct[\"N_ABC\"] + dct[\"t_upper\"] + 2*dct[\"N_ABC\"]\n",
    "t_D = (((dct[\"t_A\"]+dct[\"t_B\"])/2+dct[\"t_2\"])+dct[\"t_C\"])/2 + cut_ABC_original[n_int_ABC_original-1]*dct[\"N_ABC\"] + dct[\"t_upper\"]"
   ]
  },
  {
   "cell_type": "code",
   "execution_count": 8,
   "id": "f03129c5-2fef-4a59-84a1-77ba7a2ed518",
   "metadata": {},
   "outputs": [
    {
     "data": {
      "text/plain": [
       "0.01470529629717112"
      ]
     },
     "execution_count": 8,
     "metadata": {},
     "output_type": "execute_result"
    }
   ],
   "source": [
    "t_out"
   ]
  },
  {
   "attachments": {},
   "cell_type": "markdown",
   "id": "33ce8b02-0139-491d-9a93-79b77a9659a3",
   "metadata": {},
   "source": [
    "## Parameter estimation"
   ]
  },
  {
   "attachments": {},
   "cell_type": "markdown",
   "id": "b650e324-4d7d-4ff8-99d9-2f3713c7e72c",
   "metadata": {},
   "source": [
    "First, we can calculate the proportion of ILS from the estimated parameters. We can use the following function:"
   ]
  },
  {
   "attachments": {},
   "cell_type": "markdown",
   "id": "0e20c3a3-6675-4b2d-bd04-ca4ed61aff1a",
   "metadata": {},
   "source": [
    "$\\frac{2}{3}\\exp\\left(-\\frac{t_2}{N_\\text{AB}}\\right)$"
   ]
  },
  {
   "attachments": {},
   "cell_type": "markdown",
   "id": "a331acc2-cc44-4be6-b361-662d30413ec2",
   "metadata": {},
   "source": [
    "Since the units of $t_2$ are number of generations (multiplied by the mutation rate) and the units of $N_\\text{AB}$ are number of individuals times two (multiplied by the mutation rate), then we can directly use the formula above:"
   ]
  },
  {
   "cell_type": "code",
   "execution_count": 9,
   "id": "3011bce7-cb80-4904-be08-60d690a14367",
   "metadata": {},
   "outputs": [
    {
     "data": {
      "text/plain": [
       "0.37188406988327083"
      ]
     },
     "execution_count": 9,
     "metadata": {},
     "output_type": "execute_result"
    }
   ],
   "source": [
    "(2/3)*np.exp(-(dct[\"t_2\"])/(dct[\"N_AB\"]))"
   ]
  },
  {
   "attachments": {},
   "cell_type": "markdown",
   "id": "1c60f821-6101-4abe-84b6-0da027e0118e",
   "metadata": {},
   "source": [
    "We can convert the raw units of the times into number of generations by dividing it by the mutation rate, and into years by then multiplying it by the generation time:"
   ]
  },
  {
   "cell_type": "code",
   "execution_count": 61,
   "id": "f19d8a22-92ef-4aa2-b52d-d371ed3b1b23",
   "metadata": {},
   "outputs": [
    {
     "data": {
      "text/html": [
       "<div>\n",
       "<style scoped>\n",
       "    .dataframe tbody tr th:only-of-type {\n",
       "        vertical-align: middle;\n",
       "    }\n",
       "\n",
       "    .dataframe tbody tr th {\n",
       "        vertical-align: top;\n",
       "    }\n",
       "\n",
       "    .dataframe thead th {\n",
       "        text-align: right;\n",
       "    }\n",
       "</style>\n",
       "<table border=\"1\" class=\"dataframe\">\n",
       "  <thead>\n",
       "    <tr style=\"text-align: right;\">\n",
       "      <th></th>\n",
       "      <th>Names</th>\n",
       "      <th>Raw values</th>\n",
       "      <th>Generations (mu = 1.25e-08)</th>\n",
       "      <th>MY (mu = 1.25e-08, g = 25)</th>\n",
       "    </tr>\n",
       "  </thead>\n",
       "  <tbody>\n",
       "    <tr>\n",
       "      <th>0</th>\n",
       "      <td>H to HC</td>\n",
       "      <td>0.002756</td>\n",
       "      <td>220490</td>\n",
       "      <td>5.51</td>\n",
       "    </tr>\n",
       "    <tr>\n",
       "      <th>1</th>\n",
       "      <td>C to HC</td>\n",
       "      <td>0.002919</td>\n",
       "      <td>233515</td>\n",
       "      <td>5.84</td>\n",
       "    </tr>\n",
       "    <tr>\n",
       "      <th>2</th>\n",
       "      <td>G to HCG</td>\n",
       "      <td>0.005852</td>\n",
       "      <td>468125</td>\n",
       "      <td>11.70</td>\n",
       "    </tr>\n",
       "    <tr>\n",
       "      <th>3</th>\n",
       "      <td>O to HCGO</td>\n",
       "      <td>0.009641</td>\n",
       "      <td>771266</td>\n",
       "      <td>19.28</td>\n",
       "    </tr>\n",
       "    <tr>\n",
       "      <th>4</th>\n",
       "      <td>HC to HCG</td>\n",
       "      <td>0.002443</td>\n",
       "      <td>195425</td>\n",
       "      <td>4.89</td>\n",
       "    </tr>\n",
       "    <tr>\n",
       "      <th>5</th>\n",
       "      <td>HCG to HCGO</td>\n",
       "      <td>0.004075</td>\n",
       "      <td>325989</td>\n",
       "      <td>8.15</td>\n",
       "    </tr>\n",
       "  </tbody>\n",
       "</table>\n",
       "</div>"
      ],
      "text/plain": [
       "         Names  Raw values  Generations (mu = 1.25e-08)  \\\n",
       "0      H to HC    0.002756                       220490   \n",
       "1      C to HC    0.002919                       233515   \n",
       "2     G to HCG    0.005852                       468125   \n",
       "3    O to HCGO    0.009641                       771266   \n",
       "4    HC to HCG    0.002443                       195425   \n",
       "5  HCG to HCGO    0.004075                       325989   \n",
       "\n",
       "   MY (mu = 1.25e-08, g = 25)  \n",
       "0                        5.51  \n",
       "1                        5.84  \n",
       "2                       11.70  \n",
       "3                       19.28  \n",
       "4                        4.89  \n",
       "5                        8.15  "
      ]
     },
     "execution_count": 61,
     "metadata": {},
     "output_type": "execute_result"
    }
   ],
   "source": [
    "# mu_est_human = 9.70e-09 # Conrad et al., 2011 (human)\n",
    "# mu_est_human = 1.20e-08 # Kong et al., 2012 (human)\n",
    "# mu_est_human = 1.20e-08 # Francioli et al., 2015 (human)\n",
    "# mu_est_human = 1.28e-08 # Rahbari et al., 2016 (human)\n",
    "# mu_est_human = 1.05e-08 # Wong et al., 2016 (human)\n",
    "# mu_est_human = 1.29e-08 # Jónsson et al., 2017 (human)\n",
    "# mu_est_human = 1.28e-08 # Maretty et al., 2017 (human)\n",
    "# mu_est_human = 1.30e-08 # Turner et al., 2017 (human)\n",
    "# mu_est_human = 1.10e-08 # Sasani et al., 2019 (human)\n",
    "# mu_est_human = 1.22e-08 # Kessler et al., 2020 (human)\n",
    "# mu_est_human = 9.33e-09 # Bergeron et al., 2023 (human)\n",
    "# mu_est_human = 1.40e-08 # Bergeron et al., 2023 (human)\n",
    "\n",
    "# mu_est_chimp = 1.20e-8 # Venn et al., 2014 (chimp)\n",
    "# mu_est_chimp = 1.48e-8 # Tatsumoto et al., 2017 (chimp)\n",
    "# mu_est_chimp = 1.26e-8 # Besenbacher et al., 2019 (chimp)\n",
    "# mu_est_chimp = 1.25e-8 # Bergeron et al., 2023 (chimp)\n",
    "\n",
    "# mu_est_gorilla = 1.13e-08 # Besenbacher et al., 2019 (gorilla)\n",
    "\n",
    "# mu_est_orangutan = 1.66e-08 # Besenbacher et al., 2019 (orangutan)\n",
    "\n",
    "mu_est = 1.25e-08\n",
    "g = 25\n",
    "\n",
    "df_params = pd.DataFrame()\n",
    "df_params['Names'] = ['H to HC', 'C to HC', 'G to HCG', 'O to HCGO', 'HC to HCG', 'HCG to HCGO']\n",
    "df_params['Raw values'] = [dct[i] for i in ['t_A', 't_B', 't_C']] + [t_out-2*dct[\"N_ABC\"], dct['t_2'], cut_ABC_original[n_int_ABC_original-1]*dct[\"N_ABC\"]+dct[\"t_upper\"]]\n",
    "df_params['Generations (mu = '+str(mu_est)+')'] = [int(i) for i in round(df_params['Raw values']/mu_est)]\n",
    "df_params['MY (mu = '+str(mu_est)+', g = '+str(g)+')'] = [round(i, 2) for i in df_params['Raw values']/mu_est*25/1000000]\n",
    "df_params"
   ]
  },
  {
   "cell_type": "code",
   "execution_count": 50,
   "id": "1c1076f2-9fb3-4a95-9741-64503e34043c",
   "metadata": {},
   "outputs": [
    {
     "data": {
      "text/plain": [
       "5.906970707351222"
      ]
     },
     "execution_count": 50,
     "metadata": {},
     "output_type": "execute_result"
    }
   ],
   "source": [
    "# 2–3% Moorjani et al., 2016\n",
    "(dct['t_B']/dct['t_A']-1)*100 "
   ]
  },
  {
   "cell_type": "code",
   "execution_count": 51,
   "id": "e01ed554-533d-4617-a347-89f86f544c6c",
   "metadata": {},
   "outputs": [
    {
     "data": {
      "text/plain": [
       "12.552844132215446"
      ]
     },
     "execution_count": 51,
     "metadata": {},
     "output_type": "execute_result"
    }
   ],
   "source": [
    "# 6–7% Moorjani et al., 2016\n",
    "(dct['t_C']/(dct['t_A']+dct['t_2'])-1)*100 "
   ]
  },
  {
   "cell_type": "code",
   "execution_count": 52,
   "id": "a7efe4fa-1903-40c3-a20c-d9a3c81f91ef",
   "metadata": {},
   "outputs": [
    {
     "data": {
      "text/plain": [
       "3.9574746845492115"
      ]
     },
     "execution_count": 52,
     "metadata": {},
     "output_type": "execute_result"
    }
   ],
   "source": [
    "# 11% Moorjani et al., 2016\n",
    "(t_D/(dct['t_A']+dct['t_2']+cut_ABC_original[n_int_ABC_original-1]*dct[\"N_ABC\"]+dct[\"t_upper\"])-1)*100"
   ]
  },
  {
   "attachments": {},
   "cell_type": "markdown",
   "id": "2bfa102a-bd94-4fbf-bfde-bfab0d051747",
   "metadata": {},
   "source": [
    "We can also convert the effective population sizes into diploid population size by dividing by 2 times the mutation rate:"
   ]
  },
  {
   "cell_type": "code",
   "execution_count": 59,
   "id": "de2cac41-0574-4899-a786-ca56147e2f82",
   "metadata": {},
   "outputs": [
    {
     "data": {
      "text/html": [
       "<div>\n",
       "<style scoped>\n",
       "    .dataframe tbody tr th:only-of-type {\n",
       "        vertical-align: middle;\n",
       "    }\n",
       "\n",
       "    .dataframe tbody tr th {\n",
       "        vertical-align: top;\n",
       "    }\n",
       "\n",
       "    .dataframe thead th {\n",
       "        text-align: right;\n",
       "    }\n",
       "</style>\n",
       "<table border=\"1\" class=\"dataframe\">\n",
       "  <thead>\n",
       "    <tr style=\"text-align: right;\">\n",
       "      <th></th>\n",
       "      <th>Names</th>\n",
       "      <th>Raw values</th>\n",
       "      <th>2N (mu = 1.25e-08)</th>\n",
       "      <th>N (mu = 1.25e-08)</th>\n",
       "    </tr>\n",
       "  </thead>\n",
       "  <tbody>\n",
       "    <tr>\n",
       "      <th>0</th>\n",
       "      <td>HC</td>\n",
       "      <td>0.004185</td>\n",
       "      <td>334800</td>\n",
       "      <td>167400</td>\n",
       "    </tr>\n",
       "    <tr>\n",
       "      <th>1</th>\n",
       "      <td>HCG</td>\n",
       "      <td>0.002532</td>\n",
       "      <td>202579</td>\n",
       "      <td>101290</td>\n",
       "    </tr>\n",
       "  </tbody>\n",
       "</table>\n",
       "</div>"
      ],
      "text/plain": [
       "  Names  Raw values  2N (mu = 1.25e-08)  N (mu = 1.25e-08)\n",
       "0    HC    0.004185              334800             167400\n",
       "1   HCG    0.002532              202579             101290"
      ]
     },
     "execution_count": 59,
     "metadata": {},
     "output_type": "execute_result"
    }
   ],
   "source": [
    "# 177368 (HC) Rivas-González et al., 2023\n",
    "# 106702 (HCG) Rivas-González et al., 2023\n",
    "\n",
    "df_params = pd.DataFrame()\n",
    "df_params['Names'] = ['HC', 'HCG']\n",
    "df_params['Raw values'] = [dct[i] for i in ['N_AB', 'N_ABC']]\n",
    "df_params['2N (mu = '+str(mu_est)+')'] = [int(i) for i in round(df_params['Raw values']/mu_est)]\n",
    "df_params['N (mu = '+str(mu_est)+')'] = [int(i) for i in round(df_params['Raw values']/mu_est/2)]\n",
    "df_params"
   ]
  },
  {
   "attachments": {},
   "cell_type": "markdown",
   "id": "9c4b05ff-c9d3-4b6a-a3ea-42a8c6cff34b",
   "metadata": {},
   "source": [
    "Finally, the recombination rate can be calculated by multiplying the raw value by the mutation rate:"
   ]
  },
  {
   "cell_type": "code",
   "execution_count": 54,
   "id": "018cb883-86e5-4e20-809b-a75904c895f1",
   "metadata": {},
   "outputs": [
    {
     "data": {
      "text/html": [
       "<div>\n",
       "<style scoped>\n",
       "    .dataframe tbody tr th:only-of-type {\n",
       "        vertical-align: middle;\n",
       "    }\n",
       "\n",
       "    .dataframe tbody tr th {\n",
       "        vertical-align: top;\n",
       "    }\n",
       "\n",
       "    .dataframe thead th {\n",
       "        text-align: right;\n",
       "    }\n",
       "</style>\n",
       "<table border=\"1\" class=\"dataframe\">\n",
       "  <thead>\n",
       "    <tr style=\"text-align: right;\">\n",
       "      <th></th>\n",
       "      <th>Names</th>\n",
       "      <th>Raw value</th>\n",
       "      <th>r (mu = 1.25e-08)</th>\n",
       "    </tr>\n",
       "  </thead>\n",
       "  <tbody>\n",
       "    <tr>\n",
       "      <th>0</th>\n",
       "      <td>Recombination</td>\n",
       "      <td>0.952748</td>\n",
       "      <td>1.190935e-08</td>\n",
       "    </tr>\n",
       "  </tbody>\n",
       "</table>\n",
       "</div>"
      ],
      "text/plain": [
       "           Names  Raw value  r (mu = 1.25e-08)\n",
       "0  Recombination   0.952748       1.190935e-08"
      ]
     },
     "execution_count": 54,
     "metadata": {},
     "output_type": "execute_result"
    }
   ],
   "source": [
    "df_params = pd.DataFrame()\n",
    "df_params['Names'] = ['Recombination']\n",
    "df_params['Raw value'] = [dct[i] for i in ['r']]\n",
    "df_params['r (mu = '+str(mu_est)+')'] = df_params['Raw value']*mu_est\n",
    "df_params"
   ]
  },
  {
   "attachments": {},
   "cell_type": "markdown",
   "id": "832ae8aa-37c1-421d-81b9-3a6d725503a9",
   "metadata": {},
   "source": [
    "## Posterior decoding"
   ]
  },
  {
   "attachments": {},
   "cell_type": "markdown",
   "id": "43f378f7-5c75-4742-a8c2-22baa3fd6385",
   "metadata": {},
   "source": [
    "Based on the estimated values, we can compute the transition and emission probabilities of the TRAILS model:"
   ]
  },
  {
   "cell_type": "code",
   "execution_count": 16,
   "id": "4320dcd6-203f-4d35-b06d-2f7ce328ef3e",
   "metadata": {},
   "outputs": [
    {
     "name": "stderr",
     "output_type": "stream",
     "text": [
      "2023-05-09 13:54:47,463\tINFO worker.py:1518 -- Started a local Ray instance.\n"
     ]
    }
   ],
   "source": [
    "if 'a' not in globals():\n",
    "    a, b, pi, hidden_names, observed_names = trans_emiss_calc(\n",
    "        dct[\"t_A\"], dct[\"t_B\"], dct[\"t_C\"], dct[\"t_2\"], t_upper, t_out, \n",
    "        dct[\"N_AB\"], dct[\"N_ABC\"], dct[\"r\"], n_int_AB, n_int_ABC)"
   ]
  },
  {
   "attachments": {},
   "cell_type": "markdown",
   "id": "52808388-8383-4f3d-a8c4-eed6ec4d92da",
   "metadata": {},
   "source": [
    "We can then parse the chr1 region using the TRAILS maf parser:"
   ]
  },
  {
   "cell_type": "code",
   "execution_count": 17,
   "id": "63eac3b1-9f87-473d-81c4-0c1b757c44ed",
   "metadata": {},
   "outputs": [],
   "source": [
    "if 'obs' not in globals():\n",
    "    obs = maf_parser('../data/chr1.filtered.region.maf', ['hg38','panTro5','gorGor5','ponAbe2'])"
   ]
  },
  {
   "attachments": {},
   "cell_type": "markdown",
   "id": "b3c53b7a-9c7e-4338-8251-13b5fe0b2717",
   "metadata": {},
   "source": [
    "To calculate the posterior probabilities, we can use the `post_prob_wrapper` function:"
   ]
  },
  {
   "cell_type": "code",
   "execution_count": 18,
   "id": "a91a1d51-e259-4d15-a3b1-cdc027c47e76",
   "metadata": {},
   "outputs": [],
   "source": [
    "if 'post_prob' not in globals():\n",
    "    post_prob = post_prob_wrapper(a, b, pi, obs)"
   ]
  },
  {
   "cell_type": "code",
   "execution_count": 19,
   "id": "edcd142b-96ba-4677-af30-79b69a4e3218",
   "metadata": {},
   "outputs": [
    {
     "data": {
      "text/plain": [
       "2599"
      ]
     },
     "execution_count": 19,
     "metadata": {},
     "output_type": "execute_result"
    }
   ],
   "source": [
    "len(post_prob)"
   ]
  },
  {
   "attachments": {},
   "cell_type": "markdown",
   "id": "f55dce33-1ec2-4ff9-babc-078b88b7fd2d",
   "metadata": {},
   "source": [
    "The following function is used to extract the sequence and position information from the maf alignment:"
   ]
  },
  {
   "cell_type": "code",
   "execution_count": 20,
   "id": "edb45632-3a27-4f33-b48f-cdef49df4567",
   "metadata": {},
   "outputs": [],
   "source": [
    "from Bio import AlignIO\n",
    "\n",
    "def maf_seq(file, sp_lst):\n",
    "    total_dct = {sp_lst[0]:[], sp_lst[1]:[], sp_lst[2]:[], sp_lst[3]:[]}\n",
    "    start_dct = []\n",
    "    # Start loglik accumulator\n",
    "    loglik_acc = 0\n",
    "    # For each block\n",
    "    for multiple_alignment in AlignIO.parse(file, \"maf\"):\n",
    "        # Save sequence\n",
    "        dct = {}\n",
    "        # For each sequence in the alignment block\n",
    "        for seqrec in multiple_alignment:\n",
    "            if seqrec.name.split('.')[0] in sp_lst:\n",
    "                # Save nucleotides as ones and gaps as zeros\n",
    "                dct[seqrec.name.split('.')[0]] = ''.join([str(int(j!='-')) for j in str(seqrec.seq)])\n",
    "            if seqrec.name.split('.')[0] == 'hg38':\n",
    "                # Save the start position of the block in human coordinates\n",
    "                start = seqrec.annotations['start']\n",
    "        # Append information to list\n",
    "        if len(dct) == 4: \n",
    "            start_dct.append(start)\n",
    "            for i in sp_lst:\n",
    "                total_dct[i].append(dct[i])\n",
    "    return total_dct, start_dct\n",
    "\n",
    "# Get sequence and start information\n",
    "seqinfo, startinfo = maf_seq('../data/chr1.filtered.region.maf', ['hg38','panTro5','gorGor5','ponAbe2'])"
   ]
  },
  {
   "attachments": {},
   "cell_type": "markdown",
   "id": "c1f66060-9235-4209-8287-9ceb50c525ca",
   "metadata": {},
   "source": [
    "Now, we will iterate over the alignment blocks, save the position in human coordinates, and mark gaps as -9:"
   ]
  },
  {
   "cell_type": "code",
   "execution_count": 21,
   "id": "76881ff6-ba75-440d-8e71-750c62a362b4",
   "metadata": {},
   "outputs": [],
   "source": [
    "tot_lst = []\n",
    "# For each block\n",
    "for i in range(len(startinfo)):\n",
    "    # Save start coordinate\n",
    "    st = startinfo[i]\n",
    "    tmp_lst = []\n",
    "    # For each site in the human sequence\n",
    "    for j in seqinfo['hg38'][i]:\n",
    "        # If the site is not a gap\n",
    "        if j == '1':\n",
    "            # Append position\n",
    "            tmp_lst.append(st)\n",
    "            # Update coordinate\n",
    "            st += 1\n",
    "        # If it is a gap\n",
    "        else:\n",
    "            # Append -9\n",
    "            tmp_lst.append(-9)\n",
    "    tot_lst.append(tmp_lst)"
   ]
  },
  {
   "attachments": {},
   "cell_type": "markdown",
   "id": "6559f374-1d40-494a-bca0-227df9e9ff70",
   "metadata": {},
   "source": [
    "In order to summarize the data, we will calculate the mean posterior probability in 100 kb windows for each of the hidden states:"
   ]
  },
  {
   "cell_type": "code",
   "execution_count": 22,
   "id": "ffb66f5c-f21c-4dd1-8e06-3d4f8b337b3d",
   "metadata": {},
   "outputs": [
    {
     "name": "stderr",
     "output_type": "stream",
     "text": [
      "100%|██████████| 2599/2599 [08:05<00:00,  5.36it/s]  \n"
     ]
    }
   ],
   "source": [
    "# Create empty data frame\n",
    "summary = pd.DataFrame()\n",
    "# Define bin size\n",
    "binsize = 100000\n",
    "# For each block\n",
    "for j in tqdm(range(len(post_prob))):\n",
    "    # Convert posteriors into data frame\n",
    "    dat = pd.DataFrame(post_prob[j])\n",
    "    # Add hidden states as column names\n",
    "    dat.columns = [str(i) for i in list(hidden_names.values())]\n",
    "    # Add position in human coordinates\n",
    "    dat['position'] = tot_lst[j]\n",
    "    # Filter gaps\n",
    "    dat = dat[dat['position'] != -9]\n",
    "    # Bin the result using the bin size\n",
    "    dat['bin'] = dat['position'] // binsize\n",
    "    # Calculate number of sites per bin\n",
    "    t1 = dat.groupby('bin').agg(size=('(0, 0, 0)', 'size')).reset_index()\n",
    "    # Calculate mean posterior probability per hidden state\n",
    "    t2 = dat.groupby('bin').agg('mean').reset_index()\n",
    "    # Append to overall result\n",
    "    summary = pd.concat([summary, t1.merge(t2)])"
   ]
  },
  {
   "cell_type": "code",
   "execution_count": 23,
   "id": "5f8b42bd-7633-4ec9-9396-1ae44b9be089",
   "metadata": {},
   "outputs": [],
   "source": [
    "# from tqdm import tqdm\n",
    "# \n",
    "# # Create empty data frame\n",
    "# ILS_summary = {0:0, 1:0, 2:0, 3:0}\n",
    "# # For each block\n",
    "# for j in tqdm(range(len(post_prob))):\n",
    "#     # Convert posteriors into data frame\n",
    "#     dat = pd.DataFrame(post_prob[j])\n",
    "#     # Add hidden states as column names\n",
    "#     dat.columns = [str(i) for i in list(hidden_names.values())]\n",
    "#     # Add position in human coordinates\n",
    "#     dat['position'] = tot_lst[j]\n",
    "#     # Filter gaps\n",
    "#     dat = dat[dat['position'] != -9]\n",
    "#     dat = dat.melt(id_vars=['position'], value_vars=dat.columns[:-1])\n",
    "#     dat = dat[dat.groupby('position')['value'].transform(max) == dat['value']] \n",
    "#     dat['V'] = [int(i[1]) for i in dat['variable']]\n",
    "#     dat = dat.groupby('V').size().to_dict()\n",
    "#     for i in range(4):\n",
    "#         ILS_summary[i] += dat.get(i, 0)\n",
    "# ILS_summary"
   ]
  },
  {
   "cell_type": "code",
   "execution_count": 24,
   "id": "8cb973f8-250f-4e74-ac60-46e80b01a4a2",
   "metadata": {},
   "outputs": [],
   "source": [
    "# ILS_summary = {0: 15397599, 1: 11431336, 2: 9264987, 3: 9227896}\n",
    "# (ILS_summary[2]+ILS_summary[3])/np.array(list(ILS_summary.values())).sum()\n",
    "# 0.40803488950950734"
   ]
  },
  {
   "cell_type": "code",
   "execution_count": 25,
   "id": "8c7fd2e1-50b2-4067-9299-b4282486487b",
   "metadata": {},
   "outputs": [],
   "source": [
    "binsize = 100000"
   ]
  },
  {
   "cell_type": "code",
   "execution_count": 26,
   "id": "dd41242e-c6e0-48e1-b2c7-7bfd20ffbb96",
   "metadata": {},
   "outputs": [
    {
     "name": "stderr",
     "output_type": "stream",
     "text": [
      "R[write to console]: ── Attaching packages ─────────────────────────────────────── tidyverse 1.3.1 ──\n",
      "\n",
      "R[write to console]: ✔ ggplot2 3.3.5     ✔ purrr   0.3.4\n",
      "✔ tibble  3.1.5     ✔ dplyr   1.0.7\n",
      "✔ tidyr   1.1.4     ✔ stringr 1.4.0\n",
      "✔ readr   2.0.2     ✔ forcats 0.5.1\n",
      "\n",
      "R[write to console]: ── Conflicts ────────────────────────────────────────── tidyverse_conflicts() ──\n",
      "✖ dplyr::filter() masks stats::filter()\n",
      "✖ dplyr::lag()    masks stats::lag()\n",
      "\n"
     ]
    }
   ],
   "source": [
    "%%R -i summary\n",
    "\n",
    "library(tidyverse)\n",
    "\n",
    "summary %>% write_csv('../data/summary.csv')"
   ]
  },
  {
   "attachments": {},
   "cell_type": "markdown",
   "id": "77241dcf-9a87-43f7-8e01-fb6e3a06a5f4",
   "metadata": {},
   "source": [
    "We can import the data frame into R for plotting:"
   ]
  },
  {
   "cell_type": "code",
   "execution_count": 27,
   "id": "482158ce-097d-443c-b3b9-45baeac362c9",
   "metadata": {},
   "outputs": [
    {
     "name": "stdout",
     "output_type": "stream",
     "text": [
      "Rows: 3053 Columns: 73\n",
      "── Column specification ────────────────────────────────────────────────────────\n",
      "Delimiter: \",\"\n",
      "dbl (73): bin, size, (0, 0, 0), (0, 0, 1), (0, 0, 2), (0, 0, 3), (0, 0, 4), ...\n",
      "\n",
      "ℹ Use `spec()` to retrieve the full column specification for this data.\n",
      "ℹ Specify the column types or set `show_col_types = FALSE` to quiet this message.\n",
      "`summarise()` has grouped output by 'bin'. You can override using the `.groups` argument.\n",
      "# A tibble: 35,140 × 7\n",
      "# Groups:   bin [502]\n",
      "     bin     V    t1    t2   value  size is_V0\n",
      "   <dbl> <int> <int> <int>   <dbl> <dbl> <lgl>\n",
      " 1   249     0     0     0 0.0200   1485 TRUE \n",
      " 2   249     0     0     1 0.0174   1485 TRUE \n",
      " 3   249     0     0     2 0.0149   1485 TRUE \n",
      " 4   249     0     0     3 0.0124   1485 TRUE \n",
      " 5   249     0     0     4 0.00929  1485 TRUE \n",
      " 6   249     0     1     0 0.0212   1485 TRUE \n",
      " 7   249     0     1     1 0.0184   1485 TRUE \n",
      " 8   249     0     1     2 0.0158   1485 TRUE \n",
      " 9   249     0     1     3 0.0132   1485 TRUE \n",
      "10   249     0     1     4 0.00991  1485 TRUE \n",
      "# … with 35,130 more rows\n"
     ]
    }
   ],
   "source": [
    "%%R\n",
    "\n",
    "library(tidyverse)\n",
    "\n",
    "# summary %>% write_csv('../data/summary.csv')\n",
    "\n",
    "summary <- read_csv('../data/summary.csv')\n",
    "\n",
    "totab <- summary %>%\n",
    "    # Convert to tibble\n",
    "    as_tibble() %>%\n",
    "    # Remove unused columns\n",
    "    select(-position) %>%\n",
    "    # Pivot table\n",
    "    pivot_longer(-c(bin, size)) %>%\n",
    "    # For each bin and hidden state\n",
    "    group_by(bin, name) %>%\n",
    "    summarize(\n",
    "        # Calculate the mean posterior weighted by \n",
    "        # the number of sites\n",
    "        value = weighted.mean(value, size),\n",
    "        size = sum(size)\n",
    "    ) %>%\n",
    "    # Convert hidden state names into plottable info\n",
    "    mutate(\n",
    "        name = str_remove_all(name, '\\\\('),\n",
    "        name = str_remove_all(name, '\\\\)')\n",
    "    ) %>%\n",
    "    separate(name, c('V', 't1', 't2'), ', ') %>%\n",
    "    mutate(\n",
    "        V = as.integer(V),\n",
    "        t1 = as.integer(t1),\n",
    "        t2 = as.integer(t2),\n",
    "        is_V0 = V == 0\n",
    "    ) \n",
    "totab "
   ]
  },
  {
   "cell_type": "code",
   "execution_count": 28,
   "id": "7d56476f-5195-47ae-9ecd-3f374478a416",
   "metadata": {},
   "outputs": [
    {
     "name": "stdout",
     "output_type": "stream",
     "text": [
      "`summarise()` has grouped output by 'bin'. You can override using the `.groups` argument.\n",
      "# A tibble: 1 × 1\n",
      "    ILS\n",
      "  <dbl>\n",
      "1 0.347\n"
     ]
    }
   ],
   "source": [
    "%%R\n",
    "\n",
    "totab %>%\n",
    "    group_by(bin, V) %>%\n",
    "    summarize(\n",
    "        value = sum(value),\n",
    "        n = unique(size)\n",
    "    ) %>% pivot_wider(names_from = V, values_from = value) %>%\n",
    "    mutate(\n",
    "        ILS = `2`+`3`\n",
    "    ) %>%\n",
    "    ungroup() %>%\n",
    "    summarize(ILS = weighted.mean(ILS, n))"
   ]
  },
  {
   "cell_type": "code",
   "execution_count": 29,
   "id": "2feac791-aa2c-449a-8a6d-8916c634173a",
   "metadata": {},
   "outputs": [
    {
     "name": "stdout",
     "output_type": "stream",
     "text": [
      "`summarise()` has grouped output by 'bin'. You can override using the `.groups` argument.\n"
     ]
    },
    {
     "data": {
      "image/png": "[encoded data removed]"
     },
     "metadata": {},
     "output_type": "display_data"
    }
   ],
   "source": [
    "%%R -w 2000 -h 150 -r 150 -i binsize\n",
    "\n",
    "# Load packages\n",
    "library(ggHoriPlot)\n",
    "library(ggthemes)\n",
    "\n",
    "tab_ILS <- totab %>%\n",
    "    # Group by bin and topology\n",
    "    group_by(bin, V) %>%\n",
    "    # Sum the mean posterior\n",
    "    summarize(\n",
    "        value = sum(value)\n",
    "    ) %>%\n",
    "    # Group only by bin\n",
    "    group_by(bin) %>%\n",
    "    # Calculate ILS proxy from the mean posterior\n",
    "    summarize(\n",
    "        ILS = sum(value[V %in% c(2, 3)])/sum(value)\n",
    "    ) %>%\n",
    "    # Convert bins into coordinates\n",
    "    mutate(bin = bin*binsize/1000000) %>%\n",
    "    ungroup() %>%\n",
    "    mutate(\n",
    "        ILS = case_when(\n",
    "            ILS <= quantile(ILS, 0.01) ~ min(ILS[ILS > quantile(ILS, 0.01)]),\n",
    "            ILS >= quantile(ILS, 0.99) ~ max(ILS[ILS < quantile(ILS, 0.99)]),\n",
    "            TRUE ~ ILS\n",
    "        )\n",
    "    )\n",
    "    \n",
    "p_ILS <- tab_ILS %>%\n",
    "    # Plot as horizon plot\n",
    "    ggplot() +\n",
    "    geom_tile(aes(x = bin, y = 0, fill=ILS)) +\n",
    "    theme_few() +\n",
    "    theme(axis.title.x=element_blank(),\n",
    "        axis.text.x=element_blank(),\n",
    "        axis.ticks.x=element_blank(),\n",
    "        axis.title.y=element_blank(),\n",
    "        axis.text.y=element_blank(),\n",
    "        axis.ticks.y=element_blank(),\n",
    "        legend.direction=\"horizontal\",\n",
    "        #legend.text = element_blank()\n",
    "         ) +\n",
    "    scale_y_continuous(expand = c(0, 0)) +\n",
    "    scale_x_continuous(expand = c(0, 0)) +\n",
    "    colorspace::scale_fill_continuous_diverging(\n",
    "        name = 'ILS',\n",
    "        palette = \"Blue-Red 3\", mid = (max(tab_ILS$ILS)+min(tab_ILS$ILS))/2,\n",
    "        breaks = c(min(tab_ILS$ILS)+(max(tab_ILS$ILS)-min(tab_ILS$ILS))*0.1, \n",
    "                   min(tab_ILS$ILS)+(max(tab_ILS$ILS)-min(tab_ILS$ILS))*0.9),\n",
    "        labels = c('Low', 'High')) + \n",
    "    guides(fill=guide_colorbar(ticks.colour = NA, title.position=\"top\", title.hjust = 0.5))\n",
    "p_ILS"
   ]
  },
  {
   "cell_type": "code",
   "execution_count": 74,
   "id": "b0ecdc22-af11-40c6-b79c-e52a3684680c",
   "metadata": {},
   "outputs": [
    {
     "name": "stdout",
     "output_type": "stream",
     "text": [
      "`summarise()` has grouped output by 'bin'. You can override using the `.groups` argument.\n"
     ]
    }
   ],
   "source": [
    "%%R -w 2000 -h 300 -r 150\n",
    "\n",
    "# This is similar to the previous block, \n",
    "# but for the second coalescent\n",
    "tab_t2 <- totab %>%\n",
    "    group_by(bin, t2) %>%\n",
    "    summarize(\n",
    "        value = sum(value)\n",
    "    ) %>%\n",
    "    group_by(bin) %>%\n",
    "    summarize(t2 = weighted.mean(t2, value)) %>%\n",
    "    mutate(bin = bin*binsize/1000000) %>%\n",
    "    ungroup() %>%\n",
    "    mutate(\n",
    "        t2 = case_when(\n",
    "            t2 <= quantile(t2, 0.01) ~ min(t2[t2 > quantile(t2, 0.01)]),\n",
    "            t2 >= quantile(t2, 0.99) ~ max(t2[t2 < quantile(t2, 0.99)]),\n",
    "            TRUE ~ t2\n",
    "        )\n",
    "    )\n",
    "    \n",
    "p_t2 <- tab_t2 %>%\n",
    "    ggplot() +\n",
    "    geom_tile(aes(x = bin, y = 0, fill=t2)) +\n",
    "    theme_few() +\n",
    "    theme(\n",
    "        axis.title.y=element_blank(),\n",
    "        axis.text.y=element_blank(),\n",
    "        axis.ticks.y=element_blank(),\n",
    "        legend.direction=\"horizontal\",\n",
    "        # legend.text = element_blank()\n",
    "    )  +\n",
    "    xlab('Position (Mb)') +\n",
    "    scale_y_continuous(expand = c(0, 0)) +\n",
    "    scale_x_continuous(expand = c(0, 0)) +\n",
    "    colorspace::scale_fill_continuous_diverging(\n",
    "        name = '2nd coalescent',\n",
    "        palette = \"Blue-Red 3\", mid = (max(tab_t2$t2)+min(tab_t2$t2))/2,\n",
    "        breaks = c(min(tab_t2$t2)+(max(tab_t2$t2)-min(tab_t2$t2))*0.1, \n",
    "                   min(tab_t2$t2)+(max(tab_t2$t2)-min(tab_t2$t2))*0.9),\n",
    "        labels = c('Young', 'Deep')) + \n",
    "    guides(fill=guide_colorbar(ticks.colour = NA, title.position=\"top\", title.hjust = 0.5))"
   ]
  },
  {
   "cell_type": "code",
   "execution_count": 72,
   "id": "51ee1c3f-5b8b-45be-bc0f-45d03bbf35a1",
   "metadata": {},
   "outputs": [
    {
     "name": "stdout",
     "output_type": "stream",
     "text": [
      "`summarise()` has grouped output by 'bin', 't1'. You can override using the `.groups` argument.\n"
     ]
    }
   ],
   "source": [
    "%%R -w 2000 -h 300 -r 150 -i n_int_AB\n",
    "\n",
    "# This is similar to the previous block, \n",
    "# but for the first coalescent\n",
    "tab_t1 <- totab %>%\n",
    "    group_by(bin, t1, is_V0) %>%\n",
    "    summarize(\n",
    "        value = sum(value)\n",
    "    ) %>%\n",
    "    ungroup() %>%\n",
    "    mutate(\n",
    "        t1 = ifelse(!is_V0, t1+n_int_AB, t1)\n",
    "    ) %>%\n",
    "    group_by(bin) %>%\n",
    "    summarize(t1 = weighted.mean(t1, value)) %>%\n",
    "    mutate(bin = bin*binsize/1000000) %>%\n",
    "    mutate(\n",
    "        t1 = case_when(\n",
    "            t1 <= quantile(t1, 0.01) ~ min(t1[t1 > quantile(t1, 0.01)]),\n",
    "            t1 >= quantile(t1, 0.99) ~ max(t1[t1 < quantile(t1, 0.99)]),\n",
    "            TRUE ~ t1\n",
    "        )\n",
    "    )\n",
    "    \n",
    "p_t1 <- tab_t1 %>%\n",
    "    ggplot() +\n",
    "    geom_tile(aes(x = bin, y = 0, fill=t1)) +\n",
    "    theme_few() +\n",
    "    theme(axis.title.x=element_blank(),\n",
    "        axis.text.x=element_blank(),\n",
    "        axis.ticks.x=element_blank(),\n",
    "        axis.title.y=element_blank(),\n",
    "        axis.text.y=element_blank(),\n",
    "        axis.ticks.y=element_blank(),\n",
    "        legend.direction=\"horizontal\",\n",
    "        # legend.text = element_blank()\n",
    "         ) +\n",
    "    scale_y_continuous(expand = c(0, 0)) +\n",
    "    scale_x_continuous(expand = c(0, 0)) +\n",
    "    xlab('Position (Mb)') +\n",
    "    colorspace::scale_fill_continuous_diverging(\n",
    "        name = '1st coalescent',\n",
    "        palette = \"Blue-Red 3\", mid = (max(tab_t1$t1)+min(tab_t1$t1))/2,\n",
    "        breaks = c(min(tab_t1$t1)+(max(tab_t1$t1)-min(tab_t1$t1))*0.1, \n",
    "                   min(tab_t1$t1)+(max(tab_t1$t1)-min(tab_t1$t1))*0.9),\n",
    "        labels = c('Young', 'Deep')\n",
    "    ) + \n",
    "    guides(fill=guide_colorbar(ticks.colour = NA, title.position=\"top\", title.hjust = 0.5))"
   ]
  },
  {
   "cell_type": "code",
   "execution_count": 76,
   "id": "0e77ebd7-8801-458a-83d8-acf2bd72156c",
   "metadata": {},
   "outputs": [],
   "source": [
    "%%R -w 2000 -h 600 -r 150\n",
    "\n",
    "library(patchwork)\n",
    "\n",
    "p_ILS / p_t1 / p_t2 & theme(plot.margin = unit(c(0,0,0,0), \"cm\"), legend.position = 'none')\n",
    "\n",
    "ggsave('../plots/heatmap_chr1.pdf', height = 3/1.5, width = 12/1.5)"
   ]
  },
  {
   "cell_type": "code",
   "execution_count": 33,
   "id": "61b1fbf3-a7ea-4f87-b5a7-bad51c5b6ce0",
   "metadata": {},
   "outputs": [
    {
     "name": "stdout",
     "output_type": "stream",
     "text": [
      "# A tibble: 1 × 3\n",
      "  ILS_t1 ILS_t2 t1_t2\n",
      "   <dbl>  <dbl> <dbl>\n",
      "1  0.979  0.483 0.501\n"
     ]
    }
   ],
   "source": [
    "%%R\n",
    "\n",
    "full_join(full_join(tab_ILS, tab_t1, by = 'bin'), tab_t2, by = 'bin') %>%\n",
    "    summarize(\n",
    "        ILS_t1 = cor(ILS, t1),\n",
    "        ILS_t2 = cor(ILS, t2),\n",
    "        t1_t2 = cor(t1, t2)\n",
    "    ) "
   ]
  },
  {
   "cell_type": "code",
   "execution_count": 65,
   "id": "73f70f1c-b19e-4dd0-9a4d-15ba024da30a",
   "metadata": {},
   "outputs": [],
   "source": [
    "%%R\n",
    "\n",
    "248387328\n",
    "25000000\n",
    "75000000\n",
    "\n",
    "ggplot() +\n",
    "    geom_rect(aes(xmin = 0, xmax = 248387328, ymin = 0, ymax = 1)) +\n",
    "    geom_vline(aes(xintercept = x), data = tibble(x = c(25000000, 75000000))) +\n",
    "    geom_point(aes(x = 123400000, y = 0.5)) +\n",
    "    theme_void()\n",
    "    \n",
    "ggsave('../plots/chr1_location.pdf', width = 16, height = 2)"
   ]
  },
  {
   "cell_type": "code",
   "execution_count": null,
   "id": "77f3479a-8f1d-43ae-a41d-8038aef97877",
   "metadata": {},
   "outputs": [],
   "source": []
  }
 ],
 "metadata": {
  "kernelspec": {
   "display_name": "Python 3 (ipykernel)",
   "language": "python",
   "name": "python3"
  },
  "language_info": {
   "codemirror_mode": {
    "name": "ipython",
    "version": 3
   },
   "file_extension": ".py",
   "mimetype": "text/x-python",
   "name": "python",
   "nbconvert_exporter": "python",
   "pygments_lexer": "ipython3",
   "version": "3.8.10"
  }
 },
 "nbformat": 4,
 "nbformat_minor": 5
}
