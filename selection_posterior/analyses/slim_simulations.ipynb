{
 "cells": [
  {
   "cell_type": "code",
   "execution_count": 1,
   "id": "095295a5-dbf0-42a0-be6d-31f2271b1ae0",
   "metadata": {},
   "outputs": [],
   "source": [
    "import pandas as pd\n",
    "import numpy as np\n",
    "from trails.read_data import get_obs_state_dct\n",
    "import re\n",
    "from trails.cutpoints import cutpoints_ABC, cutpoints_AB\n",
    "from trails.optimizer import post_prob\n",
    "%load_ext rpy2.ipython\n",
    "\n",
    "n_sites = 200000\n",
    "# name = 'sim_45ILS_0.5sel'\n",
    "# name = 'sim_45ILS_nosel'\n",
    "name = '../results/sim_45ILS_0.5sel_deep'"
   ]
  },
  {
   "cell_type": "code",
   "execution_count": 2,
   "id": "90350d83-3cf1-4705-bf80-4339b68c9fc4",
   "metadata": {},
   "outputs": [],
   "source": [
    "# import msprime\n",
    "# \n",
    "# ploidy = 2\n",
    "# pop_size = 10_000\n",
    "# \n",
    "# ts = msprime.sim_ancestry(\n",
    "#     samples=[msprime.SampleSet(4, ploidy=1)], \n",
    "#     sequence_length=10, random_seed=2, \n",
    "#     recombination_rate=0.00001/ploidy, \n",
    "#     population_size = pop_size*ploidy, \n",
    "#     ploidy = 1\n",
    "# )\n",
    "# ts.draw_svg(y_axis=True)"
   ]
  },
  {
   "cell_type": "code",
   "execution_count": 3,
   "id": "8a2289b3-db14-48ee-b1b6-2ff78761b048",
   "metadata": {},
   "outputs": [],
   "source": [
    "# ts = msprime.sim_ancestry(\n",
    "#     samples=[msprime.SampleSet(4, ploidy=1)], \n",
    "#     sequence_length=10, random_seed=2, \n",
    "#     recombination_rate=0.00001/ploidy, \n",
    "#     population_size = pop_size, \n",
    "#     ploidy = ploidy\n",
    "# )\n",
    "# ts.draw_svg(y_axis=True)"
   ]
  },
  {
   "cell_type": "code",
   "execution_count": 4,
   "id": "c56a4434-1f28-4b82-b67b-853c6aecba38",
   "metadata": {},
   "outputs": [],
   "source": [
    "\n",
    "def mutations(dir_name, i):\n",
    "    \"\"\"\n",
    "    This function parses the SLiM output for a certain sample.\n",
    "    \"\"\"\n",
    "    # Save the mutations\n",
    "    with open(f'{dir_name}_{i}.log', 'r') as f:\n",
    "        mut = False\n",
    "        for line in f:\n",
    "            if line == 'Mutations:\\n':\n",
    "                mutations = []\n",
    "                mut = True\n",
    "            elif line == 'Genomes:\\n':\n",
    "                break\n",
    "            elif mut:\n",
    "                mutations.append(line.strip('\\n'))\n",
    "    l = [m.split(' ')+[i] for m in mutations]\n",
    "    return l\n",
    "\n",
    "# def genome(i):\n",
    "#     \"\"\"\n",
    "#     This function parses the SLiM output for a certain sample.\n",
    "#     \"\"\"\n",
    "#     # Save the mutations\n",
    "#     with open(f'simulation_{i}.log', 'r') as f:\n",
    "#         mut = False\n",
    "#         for line in f:\n",
    "#             if line == 'Genomes:\\n':\n",
    "#                 mutations = []\n",
    "#                 mut = True\n",
    "#             elif mut:\n",
    "#                 mutations.append(line.strip('\\n'))\n",
    "#     mutations = mutations[0].split('A ')[1]\n",
    "#     return [int(i) for i in mutations.split(' ')]\n"
   ]
  },
  {
   "cell_type": "code",
   "execution_count": 5,
   "id": "5bb82250-4a29-49cf-b78c-501cce5b4a06",
   "metadata": {},
   "outputs": [],
   "source": [
    "def slim_to_df(dir_name):\n",
    "    # Run the function for all samples\n",
    "    l_tot = []\n",
    "    for i in ['1', '2', '3', '4']:\n",
    "        l = mutations(dir_name, i)\n",
    "        l_tot = l_tot + l\n",
    "\n",
    "    # Make pandas data frame\n",
    "    df = pd.DataFrame(l_tot, \n",
    "                       columns = ['mut_id_sample', 'id', 'type', 'pos', 'sel', 'dom', 'pop', 'time', 'prev', 'sam'])\n",
    "    # Drop temporary mutation id\n",
    "    df = df.drop(['mut_id_sample'], axis=1)\n",
    "    # Calculate max time per position and sample, in case there are multiple mutations on the same position\n",
    "    df['max'] = df.groupby(['pos', 'sam'])['time'].transform(max)\n",
    "    # Only keep latest mutation\n",
    "    df = df[df['time'] == df['max']]\n",
    "    # Merge samples\n",
    "    df = df.groupby(['id', 'pos', 'time'])['sam'].apply(lambda x: ''.join(x)).reset_index()\n",
    "    # Get genotype\n",
    "    df['sam2'] = [''.join(['1' if str(y) in x else '0' for y in range(1, 5)]) for x in df['sam']]\n",
    "    # Change type\n",
    "    df = df.astype({\"id\":\"int\", \"pos\":\"int\"})\n",
    "    # Arrange values by time\n",
    "    df = df.sort_values('time')\n",
    "    return df"
   ]
  },
  {
   "cell_type": "code",
   "execution_count": 6,
   "id": "cf6b270f-e956-4988-80a8-ac95901de905",
   "metadata": {},
   "outputs": [],
   "source": [
    "# df_test = slim_to_df('simulation')\n",
    "# df_test"
   ]
  },
  {
   "cell_type": "code",
   "execution_count": 7,
   "id": "5ca581db-5ae3-45ba-9aeb-740eec6e192d",
   "metadata": {},
   "outputs": [],
   "source": [
    "def genotype(site, sam2): \n",
    "    \"\"\"\n",
    "    This function samples a random nt for a mutation\n",
    "    \"\"\"\n",
    "    nochange_lst = ['A', 'C', 'T', 'G']\n",
    "    nochange_lst.remove(site.upper())\n",
    "    geno1 = np.random.choice(nochange_lst, 1)[0]\n",
    "    g_mut = ''.join([site if j == '0' else geno1 for j in sam2])\n",
    "    return g_mut"
   ]
  },
  {
   "cell_type": "code",
   "execution_count": 8,
   "id": "1aa266f8-4ba8-43e6-91d9-80fa5aa87e1e",
   "metadata": {},
   "outputs": [],
   "source": [
    "def df_to_dfsim(df2, n_sites, seed):\n",
    "\n",
    "    # Simulate random genome\n",
    "    np.random.seed(seed); sim_genome = np.random.choice(['a', 'c', 't', 'g'], n_sites)\n",
    "\n",
    "    # Save ancestral allele\n",
    "    df2['geno'] = [sim_genome[i] for i in df2['pos']]\n",
    "    # Change genotype according to mutational pattern\n",
    "    np.random.seed(seed+1); df2['geno2'] = [genotype(variant[1]['geno'], variant[1]['sam2']) for variant in df2.iterrows()]\n",
    "    # Calculate how many mutations per site\n",
    "    df2['size'] = [list(df2['pos']).count(i) for i in df2['pos']]\n",
    "    df2 = df2.sort_values(['pos', 'time'])\n",
    "\n",
    "    return df2, sim_genome"
   ]
  },
  {
   "cell_type": "code",
   "execution_count": 9,
   "id": "e3dce2a8-604f-42e1-8ce5-af799c640e52",
   "metadata": {},
   "outputs": [],
   "source": [
    "# df_test_2, sim_genome_test = df_to_dfsim(df_test, n_sites, 5)\n",
    "# df_test_2[df_test_2['size'] > 1]"
   ]
  },
  {
   "cell_type": "code",
   "execution_count": 10,
   "id": "661f2358-9146-4999-bf0c-0c8605799df5",
   "metadata": {},
   "outputs": [],
   "source": [
    "\n",
    "def combine_sam2(x):\n",
    "    \"\"\"\n",
    "    This function combines sam2 columns\n",
    "    \"\"\"\n",
    "    l = []\n",
    "    acc = 1\n",
    "    for i in x:\n",
    "        i = i.replace('1', str(acc))\n",
    "        l.append(i)\n",
    "        acc += 1\n",
    "    res = '0000'\n",
    "    for i in l:\n",
    "        for j in range(len(i)):\n",
    "            if i[j] != '0':\n",
    "                list1 = list(res)\n",
    "                list1[j] = i[j]\n",
    "                res = ''.join(list1)\n",
    "    return res\n",
    "\n",
    "def combine_geno2(x):\n",
    "    \"\"\"\n",
    "    This function combines geno2 columns\n",
    "    \"\"\"\n",
    "    acc = 1\n",
    "    for i in x:\n",
    "        for j in i:\n",
    "            if j in ['a', 'c', 't', 'g']:\n",
    "                low = j\n",
    "    res = low+low+low+low\n",
    "    for i in x:\n",
    "        for j in range(len(i)):\n",
    "            if i[j] != low:\n",
    "                list1 = list(res)\n",
    "                list1[j] = i[j]\n",
    "                res = ''.join(list1)\n",
    "    return res.upper()"
   ]
  },
  {
   "cell_type": "code",
   "execution_count": 11,
   "id": "28dca0fd-59b8-45ec-83bd-d12fc8e59f17",
   "metadata": {},
   "outputs": [],
   "source": [
    "def clean_dfsim(df2, sim_genome):\n",
    "    df3 = df2.groupby(['pos']).agg(\n",
    "        {'id': 'max', \n",
    "         'time': 'max',\n",
    "         'sam': 'max',\n",
    "         'sam2': combine_sam2,\n",
    "         'geno': 'max',\n",
    "         'geno2': combine_geno2,\n",
    "         'size': 'max'\n",
    "        }).reset_index()\n",
    "\n",
    "    # Get dictionary from data frame\n",
    "    d = dict(zip(df3.pos, df3.geno2))\n",
    "    # Get ancestral genotype\n",
    "    sim_genome_upper = [i.upper()*4 for i in sim_genome]\n",
    "    # Add mutations at the right location\n",
    "    for i in list(d.keys()):\n",
    "        sim_genome_upper[i] = d[i]\n",
    "    lst_index = get_obs_state_dct()\n",
    "    sim_genome_idx = [lst_index.index(i) for i in sim_genome_upper]\n",
    "    return sim_genome_idx\n"
   ]
  },
  {
   "cell_type": "code",
   "execution_count": 12,
   "id": "0bcc9ed4-d14d-4d9e-aaa4-da948d91dc19",
   "metadata": {},
   "outputs": [],
   "source": [
    "def wrapper(dir_name, n_sites, seed):\n",
    "    df = slim_to_df(dir_name)\n",
    "    df2, sim_genome = df_to_dfsim(df, n_sites, seed)\n",
    "    return clean_dfsim(df2, sim_genome)"
   ]
  },
  {
   "cell_type": "code",
   "execution_count": 13,
   "id": "d7272fc7-d231-4d8e-b5a5-973d5aa97ba7",
   "metadata": {},
   "outputs": [
    {
     "data": {
      "text/plain": [
       "array([ 85, 255,   0, ...,   0,  84, 255])"
      ]
     },
     "execution_count": 13,
     "metadata": {},
     "output_type": "execute_result"
    }
   ],
   "source": [
    "sim_genome_idx = np.array(wrapper(name, n_sites, 1))\n",
    "sim_genome_idx"
   ]
  },
  {
   "cell_type": "code",
   "execution_count": 14,
   "id": "0b24efaa-4ce3-40d2-baee-a0ed46d07459",
   "metadata": {},
   "outputs": [
    {
     "data": {
      "text/plain": [
       "'(n3,(n2,(n0,n1)));'"
      ]
     },
     "execution_count": 14,
     "metadata": {},
     "output_type": "execute_result"
    }
   ],
   "source": [
    "import msprime, tskit\n",
    "ts = tskit.load(name+\".trees\")\n",
    "ts = ts.simplify()\n",
    "ts = ts.simplify(samples = [0, 2, 4, 6])\n",
    "\n",
    "t = ts.first()\n",
    "t_new = t.as_newick(include_branch_lengths=False)\n",
    "t_new"
   ]
  },
  {
   "cell_type": "code",
   "execution_count": 15,
   "id": "b604fe6c-0e53-48aa-99f7-60d59e10668b",
   "metadata": {},
   "outputs": [
    {
     "data": {
      "image/svg+xml": [
       "<svg baseProfile=\"full\" height=\"200\" version=\"1.1\" width=\"200\" xmlns=\"http://www.w3.org/2000/svg\" xmlns:ev=\"http://www.w3.org/2001/xml-events\" xmlns:xlink=\"http://www.w3.org/1999/xlink\"><defs><style type=\"text/css\"><![CDATA[.background path {fill: #808080; fill-opacity: 0}.background path:nth-child(odd) {fill-opacity: .1}.axes {font-size: 14px}.x-axis .tick .lab {font-weight: bold; dominant-baseline: hanging}.axes, .tree {font-size: 14px; text-anchor: middle}.axes line, .edge {stroke: black; fill: none}.y-axis .grid {stroke: #FAFAFA}.node > .sym {fill: black; stroke: none}.site > .sym {stroke: black}.mut text {fill: red; font-style: italic}.mut.extra text {fill: hotpink}.mut line {fill: none; stroke: none}.mut .sym {fill: none; stroke: red}.mut.extra .sym {stroke: hotpink}.node .mut .sym {stroke-width: 1.5px}.tree text, .tree-sequence text {dominant-baseline: central}.plotbox .lab.lft {text-anchor: end}.plotbox .lab.rgt {text-anchor: start}]]></style></defs><g class=\"tree t0\"><g class=\"plotbox\"><g class=\"c2 m0 m1 m11 m2 m20 m22 m31 m33 m4 m7 m9 node n433 p6 root s0 s1 s10 s18 s2 s20 s28 s30 s4 s7 s9\" transform=\"translate(125 103.603)\"><g class=\"a433 i3 leaf m16 m17 m18 m19 m23 m26 m27 m29 m3 m6 m8 node n3 p3 s14 s15 s16 s17 s20 s23 s24 s26 s3 s6 s8 sample\" transform=\"translate(35 64.5969)\"><path class=\"edge\" d=\"M 0 0 V -64.5969 H -35\" /><g class=\"mut m6 s6\" transform=\"translate(0 -63.3017)\"><line x1=\"0\" x2=\"0\" y1=\"0\" y2=\"63.3017\" /><path class=\"sym\" d=\"M -3,-3 l 6,6 M -3,3 l 6,-6\" /><text class=\"lab rgt\" transform=\"translate(5 0)\">6</text></g><g class=\"mut m26 s23\" transform=\"translate(0 -62.0462)\"><line x1=\"0\" x2=\"0\" y1=\"0\" y2=\"62.0462\" /><path class=\"sym\" d=\"M -3,-3 l 6,6 M -3,3 l 6,-6\" /><text class=\"lab rgt\" transform=\"translate(5 0)\">26</text></g><g class=\"mut m8 s8\" transform=\"translate(0 -52.8717)\"><line x1=\"0\" x2=\"0\" y1=\"0\" y2=\"52.8717\" /><path class=\"sym\" d=\"M -3,-3 l 6,6 M -3,3 l 6,-6\" /><text class=\"lab rgt\" transform=\"translate(5 0)\">8</text></g><g class=\"mut m3 s3\" transform=\"translate(0 -51.8436)\"><line x1=\"0\" x2=\"0\" y1=\"0\" y2=\"51.8436\" /><path class=\"sym\" d=\"M -3,-3 l 6,6 M -3,3 l 6,-6\" /><text class=\"lab rgt\" transform=\"translate(5 0)\">3</text></g><g class=\"mut m18 s16\" transform=\"translate(0 -39.5846)\"><line x1=\"0\" x2=\"0\" y1=\"0\" y2=\"39.5846\" /><path class=\"sym\" d=\"M -3,-3 l 6,6 M -3,3 l 6,-6\" /><text class=\"lab rgt\" transform=\"translate(5 0)\">18</text></g><g class=\"mut m23 s20\" transform=\"translate(0 -31.992)\"><line x1=\"0\" x2=\"0\" y1=\"0\" y2=\"31.992\" /><path class=\"sym\" d=\"M -3,-3 l 6,6 M -3,3 l 6,-6\" /><text class=\"lab rgt\" transform=\"translate(5 0)\">23</text></g><g class=\"mut m29 s26\" transform=\"translate(0 -23.2525)\"><line x1=\"0\" x2=\"0\" y1=\"0\" y2=\"23.2525\" /><path class=\"sym\" d=\"M -3,-3 l 6,6 M -3,3 l 6,-6\" /><text class=\"lab rgt\" transform=\"translate(5 0)\">29</text></g><g class=\"mut m27 s24\" transform=\"translate(0 -22.4319)\"><line x1=\"0\" x2=\"0\" y1=\"0\" y2=\"22.4319\" /><path class=\"sym\" d=\"M -3,-3 l 6,6 M -3,3 l 6,-6\" /><text class=\"lab rgt\" transform=\"translate(5 0)\">27</text></g><g class=\"mut m17 s15\" transform=\"translate(0 -6.68311)\"><line x1=\"0\" x2=\"0\" y1=\"0\" y2=\"6.68311\" /><path class=\"sym\" d=\"M -3,-3 l 6,6 M -3,3 l 6,-6\" /><text class=\"lab rgt\" transform=\"translate(5 0)\">17</text></g><g class=\"mut m16 s14\" transform=\"translate(0 -2.3035)\"><line x1=\"0\" x2=\"0\" y1=\"0\" y2=\"2.3035\" /><path class=\"sym\" d=\"M -3,-3 l 6,6 M -3,3 l 6,-6\" /><text class=\"lab rgt\" transform=\"translate(5 0)\">16</text></g><g class=\"mut m19 s17\" transform=\"translate(0 -1.69055)\"><line x1=\"0\" x2=\"0\" y1=\"0\" y2=\"1.69055\" /><path class=\"sym\" d=\"M -3,-3 l 6,6 M -3,3 l 6,-6\" /><text class=\"lab rgt\" transform=\"translate(5 0)\">19</text></g><rect class=\"sym\" height=\"6\" width=\"6\" x=\"-3\" y=\"-3\" /><text class=\"lab\" transform=\"translate(0 11)\">3</text></g><g class=\"a433 c2 m21 m28 node n339 p5 s19 s25\" transform=\"translate(-35 30.7562)\"><g class=\"a339 i2 leaf m13 m14 m15 m24 m25 node n2 p2 s12 s13 s14 s21 s22 sample\" transform=\"translate(30 33.8407)\"><path class=\"edge\" d=\"M 0 0 V -33.8407 H -30\" /><g class=\"mut m13 s12\" transform=\"translate(0 -25.7043)\"><line x1=\"0\" x2=\"0\" y1=\"0\" y2=\"25.7043\" /><path class=\"sym\" d=\"M -3,-3 l 6,6 M -3,3 l 6,-6\" /><text class=\"lab rgt\" transform=\"translate(5 0)\">13</text></g><g class=\"mut m25 s22\" transform=\"translate(0 -24.9233)\"><line x1=\"0\" x2=\"0\" y1=\"0\" y2=\"24.9233\" /><path class=\"sym\" d=\"M -3,-3 l 6,6 M -3,3 l 6,-6\" /><text class=\"lab rgt\" transform=\"translate(5 0)\">25</text></g><g class=\"mut m24 s21\" transform=\"translate(0 -9.40184)\"><line x1=\"0\" x2=\"0\" y1=\"0\" y2=\"9.40184\" /><path class=\"sym\" d=\"M -3,-3 l 6,6 M -3,3 l 6,-6\" /><text class=\"lab rgt\" transform=\"translate(5 0)\">24</text></g><g class=\"mut m15 s14\" transform=\"translate(0 -9.19423)\"><line x1=\"0\" x2=\"0\" y1=\"0\" y2=\"9.19423\" /><path class=\"sym\" d=\"M -3,-3 l 6,6 M -3,3 l 6,-6\" /><text class=\"lab rgt\" transform=\"translate(5 0)\">15</text></g><g class=\"mut m14 s13\" transform=\"translate(0 -6.9105)\"><line x1=\"0\" x2=\"0\" y1=\"0\" y2=\"6.9105\" /><path class=\"sym\" d=\"M -3,-3 l 6,6 M -3,3 l 6,-6\" /><text class=\"lab rgt\" transform=\"translate(5 0)\">14</text></g><rect class=\"sym\" height=\"6\" width=\"6\" x=\"-3\" y=\"-3\" /><text class=\"lab\" transform=\"translate(0 11)\">2</text></g><g class=\"a339 c2 m12 m30 m32 m5 node n54 p4 s11 s27 s29 s5\" transform=\"translate(-30 22.6198)\"><g class=\"a54 i0 leaf node n0 p0 sample\" transform=\"translate(-20 11.2209)\"><path class=\"edge\" d=\"M 0 0 V -11.2209 H 20\" /><rect class=\"sym\" height=\"6\" width=\"6\" x=\"-3\" y=\"-3\" /><text class=\"lab\" transform=\"translate(0 11)\">0</text></g><g class=\"a54 i1 leaf m10 node n1 p1 s9 sample\" transform=\"translate(20 11.2209)\"><path class=\"edge\" d=\"M 0 0 V -11.2209 H -20\" /><g class=\"mut m10 s9\" transform=\"translate(0 -5.99108)\"><line x1=\"0\" x2=\"0\" y1=\"0\" y2=\"5.99108\" /><path class=\"sym\" d=\"M -3,-3 l 6,6 M -3,3 l 6,-6\" /><text class=\"lab rgt\" transform=\"translate(5 0)\">10</text></g><rect class=\"sym\" height=\"6\" width=\"6\" x=\"-3\" y=\"-3\" /><text class=\"lab\" transform=\"translate(0 11)\">1</text></g><path class=\"edge\" d=\"M 0 0 V -22.6198 H 30\" /><g class=\"mut m12 s11\" transform=\"translate(0 -22.1452)\"><line x1=\"0\" x2=\"0\" y1=\"0\" y2=\"22.1452\" /><path class=\"sym\" d=\"M -3,-3 l 6,6 M -3,3 l 6,-6\" /><text class=\"lab lft\" transform=\"translate(-5 0)\">12</text></g><g class=\"mut m30 s27\" transform=\"translate(0 -11.7251)\"><line x1=\"0\" x2=\"0\" y1=\"0\" y2=\"11.7251\" /><path class=\"sym\" d=\"M -3,-3 l 6,6 M -3,3 l 6,-6\" /><text class=\"lab lft\" transform=\"translate(-5 0)\">30</text></g><g class=\"mut m32 s29\" transform=\"translate(0 -5.86255)\"><line x1=\"0\" x2=\"0\" y1=\"0\" y2=\"5.86255\" /><path class=\"sym\" d=\"M -3,-3 l 6,6 M -3,3 l 6,-6\" /><text class=\"lab lft\" transform=\"translate(-5 0)\">32</text></g><g class=\"mut m5 s5\" transform=\"translate(0 -4.39939)\"><line x1=\"0\" x2=\"0\" y1=\"0\" y2=\"4.39939\" /><path class=\"sym\" d=\"M -3,-3 l 6,6 M -3,3 l 6,-6\" /><text class=\"lab lft\" transform=\"translate(-5 0)\">5</text></g><circle class=\"sym\" cx=\"0\" cy=\"0\" r=\"3\" /><text class=\"lab lft\" transform=\"translate(-3 -7.0)\">54</text></g><path class=\"edge\" d=\"M 0 0 V -30.7562 H 35\" /><g class=\"mut m21 s19\" transform=\"translate(0 -11.2506)\"><line x1=\"0\" x2=\"0\" y1=\"0\" y2=\"11.2506\" /><path class=\"sym\" d=\"M -3,-3 l 6,6 M -3,3 l 6,-6\" /><text class=\"lab lft\" transform=\"translate(-5 0)\">21</text></g><g class=\"mut m28 s25\" transform=\"translate(0 -9.48093)\"><line x1=\"0\" x2=\"0\" y1=\"0\" y2=\"9.48093\" /><path class=\"sym\" d=\"M -3,-3 l 6,6 M -3,3 l 6,-6\" /><text class=\"lab lft\" transform=\"translate(-5 0)\">28</text></g><circle class=\"sym\" cx=\"0\" cy=\"0\" r=\"3\" /><text class=\"lab lft\" transform=\"translate(-3 -7.0)\">339</text></g><path class=\"edge\" d=\"M 0 0 V -93.6031 H 0\" /><g class=\"mut m0 s0\" transform=\"translate(0 -93.6031)\"><line x1=\"0\" x2=\"0\" y1=\"0\" y2=\"93.6031\" /><path class=\"sym\" d=\"M -3,-3 l 6,6 M -3,3 l 6,-6\" /><text class=\"lab rgt\" transform=\"translate(5 0)\">0</text></g><g class=\"mut m2 s2\" transform=\"translate(0 -89.5597)\"><line x1=\"0\" x2=\"0\" y1=\"0\" y2=\"89.5597\" /><path class=\"sym\" d=\"M -3,-3 l 6,6 M -3,3 l 6,-6\" /><text class=\"lab rgt\" transform=\"translate(5 0)\">2</text></g><g class=\"mut m4 s4\" transform=\"translate(0 -83.6081)\"><line x1=\"0\" x2=\"0\" y1=\"0\" y2=\"83.6081\" /><path class=\"sym\" d=\"M -3,-3 l 6,6 M -3,3 l 6,-6\" /><text class=\"lab rgt\" transform=\"translate(5 0)\">4</text></g><g class=\"mut m11 s10\" transform=\"translate(0 -78.5958)\"><line x1=\"0\" x2=\"0\" y1=\"0\" y2=\"78.5958\" /><path class=\"sym\" d=\"M -3,-3 l 6,6 M -3,3 l 6,-6\" /><text class=\"lab rgt\" transform=\"translate(5 0)\">11</text></g><g class=\"mut m31 s28\" transform=\"translate(0 -77.014)\"><line x1=\"0\" x2=\"0\" y1=\"0\" y2=\"77.014\" /><path class=\"sym\" d=\"M -3,-3 l 6,6 M -3,3 l 6,-6\" /><text class=\"lab rgt\" transform=\"translate(5 0)\">31</text></g><g class=\"mut m1 s1\" transform=\"translate(0 -64.8638)\"><line x1=\"0\" x2=\"0\" y1=\"0\" y2=\"64.8638\" /><path class=\"sym\" d=\"M -3,-3 l 6,6 M -3,3 l 6,-6\" /><text class=\"lab rgt\" transform=\"translate(5 0)\">1</text></g><g class=\"mut m22 s20\" transform=\"translate(0 -58.8727)\"><line x1=\"0\" x2=\"0\" y1=\"0\" y2=\"58.8727\" /><path class=\"sym\" d=\"M -3,-3 l 6,6 M -3,3 l 6,-6\" /><text class=\"lab rgt\" transform=\"translate(5 0)\">22</text></g><g class=\"mut m9 s9\" transform=\"translate(0 -49.985)\"><line x1=\"0\" x2=\"0\" y1=\"0\" y2=\"49.985\" /><path class=\"sym\" d=\"M -3,-3 l 6,6 M -3,3 l 6,-6\" /><text class=\"lab rgt\" transform=\"translate(5 0)\">9</text></g><g class=\"mut m33 s30\" transform=\"translate(0 -34.6909)\"><line x1=\"0\" x2=\"0\" y1=\"0\" y2=\"34.6909\" /><path class=\"sym\" d=\"M -3,-3 l 6,6 M -3,3 l 6,-6\" /><text class=\"lab rgt\" transform=\"translate(5 0)\">33</text></g><g class=\"mut m7 s7\" transform=\"translate(0 -23.7962)\"><line x1=\"0\" x2=\"0\" y1=\"0\" y2=\"23.7962\" /><path class=\"sym\" d=\"M -3,-3 l 6,6 M -3,3 l 6,-6\" /><text class=\"lab rgt\" transform=\"translate(5 0)\">7</text></g><g class=\"mut m20 s18\" transform=\"translate(0 -20.4843)\"><line x1=\"0\" x2=\"0\" y1=\"0\" y2=\"20.4843\" /><path class=\"sym\" d=\"M -3,-3 l 6,6 M -3,3 l 6,-6\" /><text class=\"lab rgt\" transform=\"translate(5 0)\">20</text></g><circle class=\"sym\" cx=\"0\" cy=\"0\" r=\"3\" /><text class=\"lab rgt\" transform=\"translate(3 -7.0)\">433</text></g></g></g></svg>"
      ],
      "text/plain": [
       "'<svg baseProfile=\"full\" height=\"200\" version=\"1.1\" width=\"200\" xmlns=\"http://www.w3.org/2000/svg\" xmlns:ev=\"http://www.w3.org/2001/xml-events\" xmlns:xlink=\"http://www.w3.org/1999/xlink\"><defs><style type=\"text/css\"><![CDATA[.background path {fill: #808080; fill-opacity: 0}.background path:nth-child(odd) {fill-opacity: .1}.axes {font-size: 14px}.x-axis .tick .lab {font-weight: bold; dominant-baseline: hanging}.axes, .tree {font-size: 14px; text-anchor: middle}.axes line, .edge {stroke: black; fill: none}.y-axis .grid {stroke: #FAFAFA}.node > .sym {fill: black; stroke: none}.site > .sym {stroke: black}.mut text {fill: red; font-style: italic}.mut.extra text {fill: hotpink}.mut line {fill: none; stroke: none}.mut .sym {fill: none; stroke: red}.mut.extra .sym {stroke: hotpink}.node .mut .sym {stroke-width: 1.5px}.tree text, .tree-sequence text {dominant-baseline: central}.plotbox .lab.lft {text-anchor: end}.plotbox .lab.rgt {text-anchor: start}]]></style></defs><g class=\"tree t0\"><g class=\"plotbox\"><g class=\"c2 m0 m1 m11 m2 m20 m22 m31 m33 m4 m7 m9 node n433 p6 root s0 s1 s10 s18 s2 s20 s28 s30 s4 s7 s9\" transform=\"translate(125 103.603)\"><g class=\"a433 i3 leaf m16 m17 m18 m19 m23 m26 m27 m29 m3 m6 m8 node n3 p3 s14 s15 s16 s17 s20 s23 s24 s26 s3 s6 s8 sample\" transform=\"translate(35 64.5969)\"><path class=\"edge\" d=\"M 0 0 V -64.5969 H -35\" /><g class=\"mut m6 s6\" transform=\"translate(0 -63.3017)\"><line x1=\"0\" x2=\"0\" y1=\"0\" y2=\"63.3017\" /><path class=\"sym\" d=\"M -3,-3 l 6,6 M -3,3 l 6,-6\" /><text class=\"lab rgt\" transform=\"translate(5 0)\">6</text></g><g class=\"mut m26 s23\" transform=\"translate(0 -62.0462)\"><line x1=\"0\" x2=\"0\" y1=\"0\" y2=\"62.0462\" /><path class=\"sym\" d=\"M -3,-3 l 6,6 M -3,3 l 6,-6\" /><text class=\"lab rgt\" transform=\"translate(5 0)\">26</text></g><g class=\"mut m8 s8\" transform=\"translate(0 -52.8717)\"><line x1=\"0\" x2=\"0\" y1=\"0\" y2=\"52.8717\" /><path class=\"sym\" d=\"M -3,-3 l 6,6 M -3,3 l 6,-6\" /><text class=\"lab rgt\" transform=\"translate(5 0)\">8</text></g><g class=\"mut m3 s3\" transform=\"translate(0 -51.8436)\"><line x1=\"0\" x2=\"0\" y1=\"0\" y2=\"51.8436\" /><path class=\"sym\" d=\"M -3,-3 l 6,6 M -3,3 l 6,-6\" /><text class=\"lab rgt\" transform=\"translate(5 0)\">3</text></g><g class=\"mut m18 s16\" transform=\"translate(0 -39.5846)\"><line x1=\"0\" x2=\"0\" y1=\"0\" y2=\"39.5846\" /><path class=\"sym\" d=\"M -3,-3 l 6,6 M -3,3 l 6,-6\" /><text class=\"lab rgt\" transform=\"translate(5 0)\">18</text></g><g class=\"mut m23 s20\" transform=\"translate(0 -31.992)\"><line x1=\"0\" x2=\"0\" y1=\"0\" y2=\"31.992\" /><path class=\"sym\" d=\"M -3,-3 l 6,6 M -3,3 l 6,-6\" /><text class=\"lab rgt\" transform=\"translate(5 0)\">23</text></g><g class=\"mut m29 s26\" transform=\"translate(0 -23.2525)\"><line x1=\"0\" x2=\"0\" y1=\"0\" y2=\"23.2525\" /><path class=\"sym\" d=\"M -3,-3 l 6,6 M -3,3 l 6,-6\" /><text class=\"lab rgt\" transform=\"translate(5 0)\">29</text></g><g class=\"mut m27 s24\" transform=\"translate(0 -22.4319)\"><line x1=\"0\" x2=\"0\" y1=\"0\" y2=\"22.4319\" /><path class=\"sym\" d=\"M -3,-3 l 6,6 M -3,3 l 6,-6\" /><text class=\"lab rgt\" transform=\"translate(5 0)\">27</text></g><g class=\"mut m17 s15\" transform=\"translate(0 -6.68311)\"><line x1=\"0\" x2=\"0\" y1=\"0\" y2=\"6.68311\" /><path class=\"sym\" d=\"M -3,-3 l 6,6 M -3,3 l 6,-6\" /><text class=\"lab rgt\" transform=\"translate(5 0)\">17</text></g><g class=\"mut m16 s14\" transform=\"translate(0 -2.3035)\"><line x1=\"0\" x2=\"0\" y1=\"0\" y2=\"2.3035\" /><path class=\"sym\" d=\"M -3,-3 l 6,6 M -3,3 l 6,-6\" /><text class=\"lab rgt\" transform=\"translate(5 0)\">16</text></g><g class=\"mut m19 s17\" transform=\"translate(0 -1.69055)\"><line x1=\"0\" x2=\"0\" y1=\"0\" y2=\"1.69055\" /><path class=\"sym\" d=\"M -3,-3 l 6,6 M -3,3 l 6,-6\" /><text class=\"lab rgt\" transform=\"translate(5 0)\">19</text></g><rect class=\"sym\" height=\"6\" width=\"6\" x=\"-3\" y=\"-3\" /><text class=\"lab\" transform=\"translate(0 11)\">3</text></g><g class=\"a433 c2 m21 m28 node n339 p5 s19 s25\" transform=\"translate(-35 30.7562)\"><g class=\"a339 i2 leaf m13 m14 m15 m24 m25 node n2 p2 s12 s13 s14 s21 s22 sample\" transform=\"translate(30 33.8407)\"><path class=\"edge\" d=\"M 0 0 V -33.8407 H -30\" /><g class=\"mut m13 s12\" transform=\"translate(0 -25.7043)\"><line x1=\"0\" x2=\"0\" y1=\"0\" y2=\"25.7043\" /><path class=\"sym\" d=\"M -3,-3 l 6,6 M -3,3 l 6,-6\" /><text class=\"lab rgt\" transform=\"translate(5 0)\">13</text></g><g class=\"mut m25 s22\" transform=\"translate(0 -24.9233)\"><line x1=\"0\" x2=\"0\" y1=\"0\" y2=\"24.9233\" /><path class=\"sym\" d=\"M -3,-3 l 6,6 M -3,3 l 6,-6\" /><text class=\"lab rgt\" transform=\"translate(5 0)\">25</text></g><g class=\"mut m24 s21\" transform=\"translate(0 -9.40184)\"><line x1=\"0\" x2=\"0\" y1=\"0\" y2=\"9.40184\" /><path class=\"sym\" d=\"M -3,-3 l 6,6 M -3,3 l 6,-6\" /><text class=\"lab rgt\" transform=\"translate(5 0)\">24</text></g><g class=\"mut m15 s14\" transform=\"translate(0 -9.19423)\"><line x1=\"0\" x2=\"0\" y1=\"0\" y2=\"9.19423\" /><path class=\"sym\" d=\"M -3,-3 l 6,6 M -3,3 l 6,-6\" /><text class=\"lab rgt\" transform=\"translate(5 0)\">15</text></g><g class=\"mut m14 s13\" transform=\"translate(0 -6.9105)\"><line x1=\"0\" x2=\"0\" y1=\"0\" y2=\"6.9105\" /><path class=\"sym\" d=\"M -3,-3 l 6,6 M -3,3 l 6,-6\" /><text class=\"lab rgt\" transform=\"translate(5 0)\">14</text></g><rect class=\"sym\" height=\"6\" width=\"6\" x=\"-3\" y=\"-3\" /><text class=\"lab\" transform=\"translate(0 11)\">2</text></g><g class=\"a339 c2 m12 m30 m32 m5 node n54 p4 s11 s27 s29 s5\" transform=\"translate(-30 22.6198)\"><g class=\"a54 i0 leaf node n0 p0 sample\" transform=\"translate(-20 11.2209)\"><path class=\"edge\" d=\"M 0 0 V -11.2209 H 20\" /><rect class=\"sym\" height=\"6\" width=\"6\" x=\"-3\" y=\"-3\" /><text class=\"lab\" transform=\"translate(0 11)\">0</text></g><g class=\"a54 i1 leaf m10 node n1 p1 s9 sample\" transform=\"translate(20 11.2209)\"><path class=\"edge\" d=\"M 0 0 V -11.2209 H -20\" /><g class=\"mut m10 s9\" transform=\"translate(0 -5.99108)\"><line x1=\"0\" x2=\"0\" y1=\"0\" y2=\"5.99108\" /><path class=\"sym\" d=\"M -3,-3 l 6,6 M -3,3 l 6,-6\" /><text class=\"lab rgt\" transform=\"translate(5 0)\">10</text></g><rect class=\"sym\" height=\"6\" width=\"6\" x=\"-3\" y=\"-3\" /><text class=\"lab\" transform=\"translate(0 11)\">1</text></g><path class=\"edge\" d=\"M 0 0 V -22.6198 H 30\" /><g class=\"mut m12 s11\" transform=\"translate(0 -22.1452)\"><line x1=\"0\" x2=\"0\" y1=\"0\" y2=\"22.1452\" /><path class=\"sym\" d=\"M -3,-3 l 6,6 M -3,3 l 6,-6\" /><text class=\"lab lft\" transform=\"translate(-5 0)\">12</text></g><g class=\"mut m30 s27\" transform=\"translate(0 -11.7251)\"><line x1=\"0\" x2=\"0\" y1=\"0\" y2=\"11.7251\" /><path class=\"sym\" d=\"M -3,-3 l 6,6 M -3,3 l 6,-6\" /><text class=\"lab lft\" transform=\"translate(-5 0)\">30</text></g><g class=\"mut m32 s29\" transform=\"translate(0 -5.86255)\"><line x1=\"0\" x2=\"0\" y1=\"0\" y2=\"5.86255\" /><path class=\"sym\" d=\"M -3,-3 l 6,6 M -3,3 l 6,-6\" /><text class=\"lab lft\" transform=\"translate(-5 0)\">32</text></g><g class=\"mut m5 s5\" transform=\"translate(0 -4.39939)\"><line x1=\"0\" x2=\"0\" y1=\"0\" y2=\"4.39939\" /><path class=\"sym\" d=\"M -3,-3 l 6,6 M -3,3 l 6,-6\" /><text class=\"lab lft\" transform=\"translate(-5 0)\">5</text></g><circle class=\"sym\" cx=\"0\" cy=\"0\" r=\"3\" /><text class=\"lab lft\" transform=\"translate(-3 -7.0)\">54</text></g><path class=\"edge\" d=\"M 0 0 V -30.7562 H 35\" /><g class=\"mut m21 s19\" transform=\"translate(0 -11.2506)\"><line x1=\"0\" x2=\"0\" y1=\"0\" y2=\"11.2506\" /><path class=\"sym\" d=\"M -3,-3 l 6,6 M -3,3 l 6,-6\" /><text class=\"lab lft\" transform=\"translate(-5 0)\">21</text></g><g class=\"mut m28 s25\" transform=\"translate(0 -9.48093)\"><line x1=\"0\" x2=\"0\" y1=\"0\" y2=\"9.48093\" /><path class=\"sym\" d=\"M -3,-3 l 6,6 M -3,3 l 6,-6\" /><text class=\"lab lft\" transform=\"translate(-5 0)\">28</text></g><circle class=\"sym\" cx=\"0\" cy=\"0\" r=\"3\" /><text class=\"lab lft\" transform=\"translate(-3 -7.0)\">339</text></g><path class=\"edge\" d=\"M 0 0 V -93.6031 H 0\" /><g class=\"mut m0 s0\" transform=\"translate(0 -93.6031)\"><line x1=\"0\" x2=\"0\" y1=\"0\" y2=\"93.6031\" /><path class=\"sym\" d=\"M -3,-3 l 6,6 M -3,3 l 6,-6\" /><text class=\"lab rgt\" transform=\"translate(5 0)\">0</text></g><g class=\"mut m2 s2\" transform=\"translate(0 -89.5597)\"><line x1=\"0\" x2=\"0\" y1=\"0\" y2=\"89.5597\" /><path class=\"sym\" d=\"M -3,-3 l 6,6 M -3,3 l 6,-6\" /><text class=\"lab rgt\" transform=\"translate(5 0)\">2</text></g><g class=\"mut m4 s4\" transform=\"translate(0 -83.6081)\"><line x1=\"0\" x2=\"0\" y1=\"0\" y2=\"83.6081\" /><path class=\"sym\" d=\"M -3,-3 l 6,6 M -3,3 l 6,-6\" /><text class=\"lab rgt\" transform=\"translate(5 0)\">4</text></g><g class=\"mut m11 s10\" transform=\"translate(0 -78.5958)\"><line x1=\"0\" x2=\"0\" y1=\"0\" y2=\"78.5958\" /><path class=\"sym\" d=\"M -3,-3 l 6,6 M -3,3 l 6,-6\" /><text class=\"lab rgt\" transform=\"translate(5 0)\">11</text></g><g class=\"mut m31 s28\" transform=\"translate(0 -77.014)\"><line x1=\"0\" x2=\"0\" y1=\"0\" y2=\"77.014\" /><path class=\"sym\" d=\"M -3,-3 l 6,6 M -3,3 l 6,-6\" /><text class=\"lab rgt\" transform=\"translate(5 0)\">31</text></g><g class=\"mut m1 s1\" transform=\"translate(0 -64.8638)\"><line x1=\"0\" x2=\"0\" y1=\"0\" y2=\"64.8638\" /><path class=\"sym\" d=\"M -3,-3 l 6,6 M -3,3 l 6,-6\" /><text class=\"lab rgt\" transform=\"translate(5 0)\">1</text></g><g class=\"mut m22 s20\" transform=\"translate(0 -58.8727)\"><line x1=\"0\" x2=\"0\" y1=\"0\" y2=\"58.8727\" /><path class=\"sym\" d=\"M -3,-3 l 6,6 M -3,3 l 6,-6\" /><text class=\"lab rgt\" transform=\"translate(5 0)\">22</text></g><g class=\"mut m9 s9\" transform=\"translate(0 -49.985)\"><line x1=\"0\" x2=\"0\" y1=\"0\" y2=\"49.985\" /><path class=\"sym\" d=\"M -3,-3 l 6,6 M -3,3 l 6,-6\" /><text class=\"lab rgt\" transform=\"translate(5 0)\">9</text></g><g class=\"mut m33 s30\" transform=\"translate(0 -34.6909)\"><line x1=\"0\" x2=\"0\" y1=\"0\" y2=\"34.6909\" /><path class=\"sym\" d=\"M -3,-3 l 6,6 M -3,3 l 6,-6\" /><text class=\"lab rgt\" transform=\"translate(5 0)\">33</text></g><g class=\"mut m7 s7\" transform=\"translate(0 -23.7962)\"><line x1=\"0\" x2=\"0\" y1=\"0\" y2=\"23.7962\" /><path class=\"sym\" d=\"M -3,-3 l 6,6 M -3,3 l 6,-6\" /><text class=\"lab rgt\" transform=\"translate(5 0)\">7</text></g><g class=\"mut m20 s18\" transform=\"translate(0 -20.4843)\"><line x1=\"0\" x2=\"0\" y1=\"0\" y2=\"20.4843\" /><path class=\"sym\" d=\"M -3,-3 l 6,6 M -3,3 l 6,-6\" /><text class=\"lab rgt\" transform=\"translate(5 0)\">20</text></g><circle class=\"sym\" cx=\"0\" cy=\"0\" r=\"3\" /><text class=\"lab rgt\" transform=\"translate(3 -7.0)\">433</text></g></g></g></svg>'"
      ]
     },
     "execution_count": 15,
     "metadata": {},
     "output_type": "execute_result"
    }
   ],
   "source": [
    "t.draw_svg()"
   ]
  },
  {
   "cell_type": "code",
   "execution_count": 16,
   "id": "d830eba8-eb0d-477d-9ee2-ac7065c4af2c",
   "metadata": {},
   "outputs": [],
   "source": [
    "# find_re = [sorted(re.findall(\"n\\d,n\\d\", t.as_newick(include_branch_lengths=False))[0].split(',')) for t in ts.trees()]\n",
    "# find_re_2 = [r != ['n0', 'n1'] for r in find_re]\n",
    "# sum(find_re_2)/len(find_re_2)"
   ]
  },
  {
   "cell_type": "code",
   "execution_count": 17,
   "id": "b8e4437b-cdf7-4e89-9210-1d1eb1a08be7",
   "metadata": {},
   "outputs": [
    {
     "data": {
      "text/plain": [
       "0.31999999999999995"
      ]
     },
     "execution_count": 17,
     "metadata": {},
     "output_type": "execute_result"
    }
   ],
   "source": [
    "ILS = 32\n",
    "\n",
    "t_A = 200000\n",
    "t_B = 200000\n",
    "t_C = 200000\n",
    "t_1 = max([t_A, t_B, t_C])\n",
    "N_AB = 80000\n",
    "t_2 = -N_AB*np.log(3/2*ILS/100)\n",
    "N_ABC = 70000\n",
    "t_3 = t_1*5\n",
    "r = 0.5e-8\n",
    "mu = 1.5e-8\n",
    "\n",
    "n_int_AB = 5\n",
    "n_int_ABC = 7\n",
    "\n",
    "N_ref = N_ABC\n",
    "\n",
    "t_out = t_1+t_2+t_3+2*N_ABC\n",
    "\n",
    "coal_ABC = N_ref/N_ABC\n",
    "coal_AB = N_ref/N_AB\n",
    "t_upper = t_3-cutpoints_ABC(n_int_ABC, 1/N_ABC)[-2]\n",
    "t_AB = t_2/N_ref\n",
    "\n",
    "cut_AB = t_1+cutpoints_AB(n_int_AB, t_2, 1/N_AB)\n",
    "cut_ABC = t_1+t_2+cutpoints_ABC(n_int_ABC, 1/N_ABC)\n",
    "\n",
    "cut_AB_down = cut_AB/200\n",
    "cut_ABC_down = cut_ABC/200\n",
    "\n",
    "(2/3)*(np.exp(-t_2/(N_AB)))"
   ]
  },
  {
   "cell_type": "code",
   "execution_count": 18,
   "id": "7c9c0c84-790b-426d-9be9-5be919080bb3",
   "metadata": {},
   "outputs": [
    {
     "data": {
      "text/plain": [
       "array([1000.        , 1043.9259464 , 1093.27755487, 1149.58657642,\n",
       "       1215.14171846, 1293.58767003])"
      ]
     },
     "execution_count": 18,
     "metadata": {},
     "output_type": "execute_result"
    }
   ],
   "source": [
    "cut_AB_down"
   ]
  },
  {
   "cell_type": "code",
   "execution_count": 19,
   "id": "63872823-5f32-4558-badd-2d03b8cd1fee",
   "metadata": {},
   "outputs": [
    {
     "data": {
      "text/plain": [
       "array([  0.        ,  53.95273794, 117.76528282, 195.86552578,\n",
       "       296.55425114, 438.46703897, 681.06855217,          inf])"
      ]
     },
     "execution_count": 19,
     "metadata": {},
     "output_type": "execute_result"
    }
   ],
   "source": [
    "cut_ABC_down-max(cut_AB_down)"
   ]
  },
  {
   "cell_type": "code",
   "execution_count": 20,
   "id": "52bc69be-e6a6-489e-a668-e97d7b632794",
   "metadata": {},
   "outputs": [],
   "source": [
    "# from trails.optimizer import forward_loglik\n",
    "# from trails.optimizer import trans_emiss_calc\n",
    "# \n",
    "# base = [1e-6, 0.25e-6]\n",
    "# \n",
    "# for mult in [0.5, 1, 2]:\n",
    "#     mu_2 = base[0]*mult\n",
    "#     r_2 = base[1]*mult\n",
    "#     print(mu_2, r_2)\n",
    "#     a, b, pi, h, o = trans_emiss_calc(\n",
    "#         t_A, t_B, t_C, t_2, t_upper, t_out,\n",
    "#         N_AB, N_ABC,\n",
    "#         r_2, mu_2, mu_2, mu_2, mu_2, mu_2, mu_2, n_int_AB, n_int_ABC)\n",
    "#     print(forward_loglik(a, b, pi, sim_genome_idx))\n",
    "# \n",
    "# # With selection\n",
    "# # 5e-07 1.25e-07\n",
    "# # -358428.0432866292\n",
    "# # 1e-06 2.5e-07\n",
    "# # -356066.85303972726\n",
    "# # 2e-06 5e-07\n",
    "# # -359863.7415640234\n",
    "# # Without selection\n",
    "# # 5e-07 1.25e-07\n",
    "# # -358531.7510514303\n",
    "# # 1e-06 2.5e-07\n",
    "# # -356164.4614222776\n",
    "# # 2e-06 5e-07\n",
    "# # -359933.1014032446"
   ]
  },
  {
   "cell_type": "code",
   "execution_count": null,
   "id": "0b55addd-7ffe-4cb1-b52d-c485bfd81cb8",
   "metadata": {},
   "outputs": [
    {
     "name": "stderr",
     "output_type": "stream",
     "text": [
      "2023-05-01 18:17:12,906\tINFO worker.py:1518 -- Started a local Ray instance.\n"
     ]
    }
   ],
   "source": [
    "from trails.optimizer import trans_emiss_calc\n",
    "\n",
    "if 'transitions' not in locals():\n",
    "    transitions, emissions, starting, hidden_states, observed_states = trans_emiss_calc(\n",
    "        t_A*mu, t_B*mu, t_C*mu, t_2*mu, t_upper*mu, t_out*mu, \n",
    "        N_AB*mu, N_ABC*mu, r/mu, n_int_AB, n_int_ABC)\n",
    "\n",
    "    dct_hid = {v: k for k, v in hidden_states.items()}\n",
    "    dct = {v: k for k, v in observed_states.items()}"
   ]
  },
  {
   "cell_type": "code",
   "execution_count": null,
   "id": "254b623d-c030-41ee-bd93-955aa265d92c",
   "metadata": {},
   "outputs": [],
   "source": [
    "emissions"
   ]
  },
  {
   "cell_type": "code",
   "execution_count": null,
   "id": "2043a11f-13bd-4872-bfb7-870a0ec22ccc",
   "metadata": {},
   "outputs": [],
   "source": [
    "left_lst = []\n",
    "right_lst = []\n",
    "tree_state = []\n",
    "t_AB_vec = []\n",
    "t_ABC_vec = []\n",
    "for t in ts.trees():\n",
    "    # Append start coordinate\n",
    "    left_lst.append(t.interval.left)\n",
    "    # Append end coordinate\n",
    "    right_lst.append(t.interval.right-1)\n",
    "    # Get all non-zero coalescent times\n",
    "    ntimes = [ts.nodes()[n].time for n in t.nodes() if ts.nodes()[n].time not in [0, t_1-t_A, t_1-t_B, t_1-t_C]]\n",
    "    ntimes = sorted(ntimes)\n",
    "    # Get time of the first event\n",
    "    mint = ntimes[0]\n",
    "    mint2 = ntimes[1]\n",
    "    # Find topology\n",
    "    find_re = re.findall(\"n\\d,n\\d\", t.as_newick(include_branch_lengths=False))[0]\n",
    "    # Sort species within topology\n",
    "    find_re = sorted(find_re.split(','))\n",
    "    # If V0 or V1\n",
    "    if find_re == ['n0', 'n1']:\n",
    "        # If the time of the first coalescent is larger than the deepest speciation event\n",
    "        if mint>=(t_1/200+t_2/200):\n",
    "            state = (1, (mint>=cut_ABC_down).sum()-1, (mint2>cut_ABC_down).sum()-1)\n",
    "            # Append V1 state\n",
    "        else:\n",
    "            state = (0, (mint>=cut_AB_down).sum()-1, (mint2>cut_ABC_down).sum()-1)\n",
    "            # Append V0 state\n",
    "    # If V2\n",
    "    elif find_re == ['n0', 'n2']:\n",
    "        state = (2, (mint>=cut_ABC_down).sum()-1, (mint2>cut_ABC_down).sum()-1)\n",
    "    # If V3\n",
    "    elif find_re == ['n1', 'n2']:\n",
    "        state = (3, (mint>=cut_ABC_down).sum()-1, (mint2>cut_ABC_down).sum()-1)\n",
    "    else:\n",
    "        state = (4, (mint>cut_ABC_down).sum()-1, (mint2>cut_ABC_down).sum()-1)\n",
    "    tree_state.append(state)\n",
    "    t_AB_vec.append(mint)\n",
    "    t_ABC_vec.append(mint2)\n",
    "\n",
    "    \n"
   ]
  },
  {
   "cell_type": "code",
   "execution_count": null,
   "id": "d1a1e6a3-7b53-4801-9be8-8ebfa1ba3438",
   "metadata": {},
   "outputs": [],
   "source": [
    "tree_matrix = np.random.randint(max(left_lst), size=(len(left_lst), 3))\n",
    "tree_matrix[:,0] = left_lst\n",
    "tree_matrix[:,1] = right_lst\n",
    "# tree_state_corrected = [tuple(abs(i) for i in j) for j in tree_state]\n",
    "tree_matrix[:,2] = [dct_hid[i] for i in tree_state]"
   ]
  },
  {
   "cell_type": "code",
   "execution_count": null,
   "id": "c43f3521-af8a-4cb4-8b17-c1cad77ba92b",
   "metadata": {},
   "outputs": [],
   "source": [
    "hidden_matrix = np.random.randint(max([n_int_AB, n_int_ABC]), size=(len(dct_hid), 4))\n",
    "hidden_matrix[:,0] = list(range(len(dct_hid)))\n",
    "hidden_matrix[:,1] = [i[0] for i in dct_hid.keys()]\n",
    "hidden_matrix[:,2] = [i[1] for i in dct_hid.keys()]\n",
    "hidden_matrix[:,3] = [i[2] for i in dct_hid.keys()]"
   ]
  },
  {
   "cell_type": "code",
   "execution_count": null,
   "id": "843df961-259b-41f6-8a2b-4b71ef5553de",
   "metadata": {},
   "outputs": [],
   "source": [
    "from trails.optimizer import post_prob_wrapper\n",
    "\n",
    "post = post_prob_wrapper(transitions, emissions, starting, [sim_genome_idx])"
   ]
  },
  {
   "cell_type": "code",
   "execution_count": null,
   "id": "81bd18b9-d58b-403c-82da-a8a23e25411c",
   "metadata": {},
   "outputs": [],
   "source": [
    "post_1 = post[0]"
   ]
  },
  {
   "cell_type": "code",
   "execution_count": null,
   "id": "8bcf0653-b1c5-4a79-985a-3e16f1038c01",
   "metadata": {},
   "outputs": [],
   "source": [
    "%%R -i post_1 -i hidden_matrix -i tree_matrix\n",
    "\n",
    "library(tidyverse)\n",
    "\n",
    "hid_tab <- as_tibble(hidden_matrix) %>%\n",
    "    rename(name = V1, topology = V2, int_1 = V3, int_2 = V4)\n",
    "    \n",
    "# write_csv(hid_tab, 'hid_tab.csv')\n",
    "    \n",
    "tree_tab <- as_tibble(tree_matrix) %>%\n",
    "    rename(start = V1, end = V2, name = V3) %>%\n",
    "    mutate(\n",
    "        gr = ifelse(lag(name) != name, 1, 0) %>% coalesce(0),\n",
    "        gr = cumsum(gr) + 1\n",
    "    ) %>% \n",
    "    group_by(gr, name) %>%\n",
    "    summarize(start = min(start), end = max(end)) %>%\n",
    "    left_join(hid_tab, by = 'name')\n",
    "    \n",
    "# write_csv(tree_tab, 'tree_tab.csv')\n",
    "\n",
    "post_tab <- as_tibble(post_1) %>%\n",
    "    mutate(pos = 0:(n()-1)) %>%\n",
    "    pivot_longer(-pos) %>%\n",
    "    mutate(name = as.integer(str_remove_all(name, 'V'))-1) %>%\n",
    "    left_join(hid_tab, by = 'name')\n",
    "     \n",
    "# write_csv(post_tab, 'post_tab.csv')"
   ]
  },
  {
   "cell_type": "code",
   "execution_count": null,
   "id": "482892e7-b29f-4722-b137-8fc9317e3016",
   "metadata": {},
   "outputs": [],
   "source": [
    "%%R\n",
    "\n",
    "# library(tidyverse)\n",
    "# \n",
    "# hid_tab <- read_csv('hid_tab.csv')\n",
    "# tree_tab <- read_csv('tree_tab.csv')\n",
    "# post_tab <- read_csv('post_tab.csv')"
   ]
  },
  {
   "cell_type": "code",
   "execution_count": null,
   "id": "5ab9850f-3a72-4ed3-a4fb-4b59ce6fde93",
   "metadata": {},
   "outputs": [],
   "source": [
    "%%R -i n_sites\n",
    "\n",
    "tree_tab %>%\n",
    "    group_by(topology) %>%\n",
    "    summarize(\n",
    "        n = sum(end-start)/n_sites\n",
    "    )"
   ]
  },
  {
   "cell_type": "code",
   "execution_count": null,
   "id": "b47b57fd-1453-48fe-a028-10e5069d01e8",
   "metadata": {},
   "outputs": [],
   "source": [
    "%%R -w 2000 -h 700 -r 150 -i n_int_AB\n",
    "\n",
    "p1 <- post_tab %>%\n",
    "    mutate(is_V0 = topology == 0) %>%\n",
    "    group_by(pos, is_V0, int_1) %>%\n",
    "    summarize(prob = sum(value)) %>%\n",
    "    ggplot() +\n",
    "    geom_tile(aes(pos, int_1+(!is_V0)*(n_int_AB+0.1), fill = prob, color = prob)) +\n",
    "    geom_segment(aes(x = start, xend = end, y = int_1+(!(topology == 0))*(n_int_AB+0.1), yend = int_1+(!(topology == 0))*(n_int_AB+0.1)), \n",
    "                 color = 'red',\n",
    "                 data = tree_tab) +\n",
    "    scale_fill_viridis_c(limits=c(0,1)) +\n",
    "    scale_color_viridis_c(limits=c(0,1)) +\n",
    "    scale_x_continuous(expand = c(0, 0)) +\n",
    "    scale_y_continuous(expand = c(0, 0)) +\n",
    "    labs(y = 'First coalescent', x = 'Position')\n",
    "    \n",
    "p1"
   ]
  },
  {
   "cell_type": "code",
   "execution_count": null,
   "id": "9dfcfe78-664e-4e2c-9ed1-c5a884bc74b1",
   "metadata": {},
   "outputs": [],
   "source": [
    "%%R -w 2000 -h 700 -r 150\n",
    "\n",
    "p2 <- post_tab %>%\n",
    "    group_by(pos, int_2) %>%\n",
    "    summarize(prob = sum(value)) %>%\n",
    "    ggplot() +\n",
    "    geom_tile(aes(pos, int_2, fill = prob, color = prob)) +\n",
    "    geom_segment(aes(x = start, xend = end, y = int_2, yend = int_2), \n",
    "                 color = 'red',\n",
    "                 data = tree_tab) +\n",
    "    scale_fill_viridis_c(limits=c(0,1)) +\n",
    "    scale_color_viridis_c(limits=c(0,1)) +\n",
    "    scale_x_continuous(expand = c(0, 0)) +\n",
    "    scale_y_continuous(expand = c(0, 0)) +\n",
    "    labs(y = 'Second coalescent') +\n",
    "    theme(\n",
    "        axis.title.x = element_blank(),\n",
    "        axis.text.x = element_blank(),\n",
    "        axis.ticks.x=element_blank()\n",
    "    )\n",
    "\n",
    "p2"
   ]
  },
  {
   "cell_type": "code",
   "execution_count": null,
   "id": "8845ef08-a761-4034-aded-4103a485108e",
   "metadata": {},
   "outputs": [],
   "source": [
    "%%R -w 900 -h 500 -r 150\n",
    "\n",
    "library(PhaseTypeR)\n",
    "\n",
    "deep = 0.45+0.45/2\n",
    "\n",
    "mat_double = matrix(c(-3, 0, 3, -1), nrow = 2)\n",
    "mat_single = matrix(c(-1), nrow = 1)\n",
    "ph_double = PH(mat_double)\n",
    "ph_single = PH(mat_single)\n",
    "# ph_single_3 = PH(mat_single*3)\n",
    "# x = seq(0, 3, length.out = 1000)\n",
    "# y_double = dPH(x, ph_double)\n",
    "# y_single = dPH(x, ph_single)\n",
    "# y_single_3 = dPH(x, ph_single_3)\n",
    "\n",
    "quant = (1:6)/7\n",
    "# quant_double = qPH(quant, ph_double)\n",
    "quant_single = qPH(quant, ph_single)\n",
    "\n",
    "p_double = pPH(quant_single, ph_double)\n",
    "theoretical_prop_deep <- c(p_double, 1)-c(0, p_double)\n",
    "p_single = pPH(quant_single, ph_single)\n",
    "theoretical_prop_shallow <- c(p_single, 1)-c(0, p_single)\n",
    "\n",
    "# ggplot() +\n",
    "#     geom_line(aes(x, y_double, color = 'PH')) +\n",
    "#     geom_line(aes(x, y_single_3, color = 'exp(3)')) +\n",
    "#     geom_line(aes(x, y_single, color = 'exp(1)')) +\n",
    "#     geom_vline(aes(xintercept = quant_single, color = 'exp(1)'), linetype = 2) +\n",
    "#     theme_minimal()\n",
    "\n",
    "theoretical_prop = (theoretical_prop_deep*deep+theoretical_prop_shallow*(1-deep))\n",
    "\n",
    "theoretical_prop"
   ]
  },
  {
   "cell_type": "code",
   "execution_count": null,
   "id": "0f24ee73-7a5c-48f0-a445-ff34660dd137",
   "metadata": {},
   "outputs": [],
   "source": [
    "%%R -i n_int_ABC\n",
    "\n",
    "# int_2_tab_post <- post_tab %>%\n",
    "#     group_by(pos, int_2) %>%\n",
    "#     summarize(prob = sum(value)) %>%\n",
    "#     group_by(int_2) %>%\n",
    "#     summarize(\n",
    "#         suma = sum(prob)/n_sites\n",
    "#     ) %>%\n",
    "#     ungroup() %>%\n",
    "#     arrange(desc(int_2)) %>%\n",
    "#     mutate(Type = 'Posterior mean')\n",
    "    \n",
    "int_2_tab_post2 <- post_tab %>%\n",
    "    group_by(pos, int_2) %>%\n",
    "    summarize(prob = sum(value)) %>%\n",
    "    group_by(pos) %>%\n",
    "    filter(prob == max(prob)) %>%\n",
    "    group_by(int_2) %>%\n",
    "    summarize(\n",
    "        suma = n()/n_sites\n",
    "    ) %>%\n",
    "    ungroup() %>%\n",
    "    arrange(desc(int_2)) %>%\n",
    "    mutate(Type = 'Posterior max')\n",
    "    \n",
    "int_2_tab_true <- tree_tab %>% \n",
    "    group_by(int_2) %>%\n",
    "    summarize(\n",
    "        suma = sum(end-start)/n_sites\n",
    "    ) %>%\n",
    "    ungroup() %>%\n",
    "    arrange(desc(int_2)) %>%\n",
    "    mutate(Type = 'Empirical')\n",
    "\n",
    "int_2_tab_theo <- tibble(\n",
    "    int_2 = 0:(n_int_ABC-1),\n",
    "    suma = theoretical_prop,\n",
    "    Type = 'Theoretical'\n",
    ")\n",
    "    "
   ]
  },
  {
   "cell_type": "code",
   "execution_count": null,
   "id": "82ebd5a6-fca1-4d83-b252-ad1a34d0e63a",
   "metadata": {},
   "outputs": [],
   "source": [
    "%%R -w 900 -h 500 -r 150  -i name\n",
    "\n",
    "library(ggthemes)\n",
    "\n",
    "plot_post_binned <- bind_rows(\n",
    "    # int_2_tab_post, \n",
    "    int_2_tab_true, \n",
    "    int_2_tab_post2, \n",
    "    int_2_tab_theo\n",
    "    ) %>%\n",
    "    mutate(Type = factor(Type, (c('Theoretical', 'Empirical', 'Posterior mean', 'Posterior max')))) %>% \n",
    "    ggplot() +\n",
    "    geom_col(aes(int_2, suma, fill = Type), position = 'dodge', color = 'black', width = 0.7) +\n",
    "    theme_few() +\n",
    "    labs(x = 'Second coalescent bin', y = 'Proportion') +\n",
    "    scale_x_continuous(breaks = 0:(n_int_ABC-1)) +\n",
    "    scale_y_continuous(limits = c(0, 0.62), expand = c(0, 0)) +\n",
    "    scale_fill_manual(values = c('#2596be', '#b01e81', '#81b01e'), \n",
    "                      breaks = rev(c('Theoretical', 'Empirical', 'Posterior max'))) +\n",
    "    theme(\n",
    "        axis.title.y = element_blank(),\n",
    "        legend.position = c(0.83, 0.7)\n",
    "    ) +\n",
    "    coord_flip()\n",
    "    \n",
    "plot_post_binned"
   ]
  },
  {
   "cell_type": "code",
   "execution_count": null,
   "id": "d90387a9-66e9-43e2-890b-7ff14d34671f",
   "metadata": {},
   "outputs": [],
   "source": [
    "%%R -w 900 -h 500 -r 150  -i name\n",
    "\n",
    "ggsave(paste0('second_coalescent_proportion_', name, '.png'), plot_post_binned, width = 10/2, height = 5/2)"
   ]
  },
  {
   "cell_type": "code",
   "execution_count": null,
   "id": "dd34da06-1274-4c16-8e6b-7659e69ab586",
   "metadata": {},
   "outputs": [],
   "source": [
    "%%R -w 2000 -h 700 -r 150\n",
    "\n",
    "p3 <- post_tab %>%\n",
    "    group_by(pos, topology) %>%\n",
    "    summarize(prob = sum(value)) %>%\n",
    "    ggplot() +\n",
    "    geom_tile(aes(pos, topology, fill = prob, color = prob)) +\n",
    "    geom_segment(aes(x = start, xend = end, y = topology, yend = topology), \n",
    "                 color = 'red',\n",
    "                 data = tree_tab) +\n",
    "    scale_fill_viridis_c(limits=c(0,1)) +\n",
    "    scale_color_viridis_c(limits=c(0,1)) +\n",
    "    scale_x_continuous(expand = c(0, 0)) +\n",
    "    scale_y_continuous(expand = c(0, 0)) +\n",
    "    labs(y = 'Topology') +\n",
    "    theme(\n",
    "        axis.title.x = element_blank(),\n",
    "        axis.text.x = element_blank(),\n",
    "        axis.ticks.x=element_blank()\n",
    "    )\n",
    "\n",
    "p3"
   ]
  },
  {
   "cell_type": "code",
   "execution_count": null,
   "id": "7ef59d32-fc74-4219-84b0-d88188536d1c",
   "metadata": {},
   "outputs": [],
   "source": [
    "%%R -w 2000 -h 1000 -r 150 -i name\n",
    "\n",
    "library(patchwork)\n",
    "\n",
    "ggsave(paste0('posterior_decoding_', name, '.png'), plot = p3/p2/p1, width = 14, height = 7)"
   ]
  },
  {
   "cell_type": "code",
   "execution_count": null,
   "id": "5500a554-4d03-4b0a-ab15-f605740ecdee",
   "metadata": {},
   "outputs": [],
   "source": []
  },
  {
   "cell_type": "code",
   "execution_count": null,
   "id": "eda0eeb6-7e59-49de-b754-179a2755ca0d",
   "metadata": {},
   "outputs": [],
   "source": []
  },
  {
   "cell_type": "code",
   "execution_count": null,
   "id": "f7168ab3-c30b-474d-8dab-163ccb360e94",
   "metadata": {},
   "outputs": [],
   "source": []
  },
  {
   "cell_type": "code",
   "execution_count": null,
   "id": "7348d9a5-bcad-4c5c-bda2-b4992ab5ffcb",
   "metadata": {},
   "outputs": [],
   "source": [
    "# from trails.optimizer import optimizer\n",
    "# \n",
    "# dct = {'t_1':[16000, 1600, 160000], 't_2':[4000, 400, 40000], 't_upper':[20000, 2000, 200000], \n",
    "#        'N_AB':[1000, 100, 10000], 'N_ABC':[5000, 500, 50000], 'r':[1e-8, 1e-9, 1e-7]}\n",
    "# dct2 = {'n_int_AB':3, 'n_int_ABC':3, 'mu':2e-8}\n",
    "# res_name = 'name.csv'\n",
    "# optimizer(dct, dct2, sim_genome_idx, res_name)"
   ]
  }
 ],
 "metadata": {
  "kernelspec": {
   "display_name": "Python 3 (ipykernel)",
   "language": "python",
   "name": "python3"
  },
  "language_info": {
   "codemirror_mode": {
    "name": "ipython",
    "version": 3
   },
   "file_extension": ".py",
   "mimetype": "text/x-python",
   "name": "python",
   "nbconvert_exporter": "python",
   "pygments_lexer": "ipython3",
   "version": "3.8.10"
  }
 },
 "nbformat": 4,
 "nbformat_minor": 5
}
