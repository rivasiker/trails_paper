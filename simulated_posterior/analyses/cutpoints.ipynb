{
 "cells": [
  {
   "attachments": {},
   "cell_type": "markdown",
   "id": "8877888d-b1f7-43ec-842c-32f858dba515",
   "metadata": {
    "tags": []
   },
   "source": [
    "# Posterior decoding of simulated data"
   ]
  },
  {
   "attachments": {},
   "cell_type": "markdown",
   "id": "a97b3b54-587f-4d3c-8993-cc23330f11df",
   "metadata": {},
   "source": [
    "## Load packages and define model"
   ]
  },
  {
   "cell_type": "code",
   "execution_count": 1,
   "id": "931e2bf0-c8b9-4941-bf35-43de2c97edb2",
   "metadata": {},
   "outputs": [
    {
     "name": "stderr",
     "output_type": "stream",
     "text": [
      "/Users/au595587/opt/miniconda3/envs/trails_plot/lib/python3.9/site-packages/tqdm/auto.py:21: TqdmWarning: IProgress not found. Please update jupyter and ipywidgets. See https://ipywidgets.readthedocs.io/en/stable/user_install.html\n",
      "  from .autonotebook import tqdm as notebook_tqdm\n"
     ]
    }
   ],
   "source": [
    "import sys\n",
    "from trails.optimizer import trans_emiss_calc\n",
    "from trails.cutpoints import cutpoints_ABC, cutpoints_AB\n",
    "import numpy as np\n",
    "from trails.optimizer import forward_loglik, post_prob_wrapper, viterbi\n",
    "import pandas as pd\n",
    "import time\n",
    "import re\n",
    "import msprime\n",
    "%load_ext rpy2.ipython"
   ]
  },
  {
   "cell_type": "code",
   "execution_count": 2,
   "id": "ad8dcd93-b113-496f-9fd1-c853d0fd0f5c",
   "metadata": {},
   "outputs": [
    {
     "data": {
      "text/plain": [
       "58717.534006416034"
      ]
     },
     "execution_count": 2,
     "metadata": {},
     "output_type": "execute_result"
    }
   ],
   "source": [
    "ILS = 32\n",
    "seed = 333\n",
    "\n",
    "t_A = 200000\n",
    "t_B = 200000\n",
    "t_C = 200000\n",
    "t_1 = max([t_A, t_B, t_C])\n",
    "N_AB = 80000\n",
    "t_2 = -N_AB*np.log(3/2*ILS/100)\n",
    "N_ABC = 70000\n",
    "t_3 = t_1*5\n",
    "r = 0.5e-8\n",
    "mu = 1.5e-8\n",
    "n_int_AB = 5\n",
    "n_int_ABC_2 = 7\n",
    "n_int_ABC_1 = 4\n",
    "\n",
    "t_2"
   ]
  },
  {
   "cell_type": "code",
   "execution_count": 3,
   "id": "cb23e7a7-89de-448c-8dd4-0c0d1f384d43",
   "metadata": {},
   "outputs": [
    {
     "data": {
      "text/plain": [
       "0.31999999999999995"
      ]
     },
     "execution_count": 3,
     "metadata": {},
     "output_type": "execute_result"
    }
   ],
   "source": [
    "2/3*np.exp(-t_2/N_AB)"
   ]
  },
  {
   "attachments": {},
   "cell_type": "markdown",
   "id": "b2b5c546-da79-416b-b5de-dabd1391f9a1",
   "metadata": {},
   "source": [
    "## Modified cutpoints (second coalescent)"
   ]
  },
  {
   "attachments": {},
   "cell_type": "markdown",
   "id": "f56982eb-54f3-4f4d-a9d1-0608245c890f",
   "metadata": {},
   "source": [
    "This section deals with computing the posterior decoding using the original cutpoints in TRAILS. This means that the time between the first and the second coalescent will be divided into quantiles of an exponential with rate 1 (measured in units of $N_\\text{AB}$), while the time before the first coalescent event will be divided into an exponential with rate 1 (measured in units of $N_\\text{ABC}$). "
   ]
  },
  {
   "attachments": {},
   "cell_type": "markdown",
   "id": "b10129c5-c479-44c0-90df-ea0c350a85a5",
   "metadata": {},
   "source": [
    "TRAILS is not restricted to this cutpoint scheme, and the user can speficy the desired intervals. Since the second coalescent will follow a mixture between an exponential with rate of 1 (for the V0 states) and a convolution of two exponentials with rates 3 and 1 (for the deep coalescent states), we can retrieve the quantiles of a phase-type distribution representing this mixture."
   ]
  },
  {
   "cell_type": "code",
   "execution_count": 4,
   "id": "eae35045-7104-4692-85eb-ef9c86e87a6b",
   "metadata": {},
   "outputs": [
    {
     "data": {
      "text/plain": [
       "0.31999999999999995"
      ]
     },
     "execution_count": 4,
     "metadata": {},
     "output_type": "execute_result"
    }
   ],
   "source": [
    "t_out = t_1+t_2+t_3+2*N_ABC\n",
    "\n",
    "N_ref = N_ABC\n",
    "\n",
    "coal_ABC = N_ref/N_ABC\n",
    "coal_AB = N_ref/N_AB\n",
    "t_upper = t_3-cutpoints_ABC(n_int_ABC_2, coal_ABC)[-2]*N_ref\n",
    "t_AB = t_2/N_ref\n",
    "\n",
    "cut_AB = t_1+cutpoints_AB(n_int_AB, t_AB, coal_AB)*N_ref\n",
    "# cut_ABC = t_1+t_2+cutpoints_ABC(n_int_ABC_2, coal_ABC)*N_ref\n",
    "\n",
    "(2/3)*(np.exp(-t_2/(N_AB)))"
   ]
  },
  {
   "cell_type": "code",
   "execution_count": 5,
   "id": "254a4727-467d-4db3-b792-84e871e4e6cb",
   "metadata": {},
   "outputs": [
    {
     "name": "stderr",
     "output_type": "stream",
     "text": [
      "R[write to console]: \n",
      "Attaching package: ‘PhaseTypeR’\n",
      "\n",
      "\n",
      "R[write to console]: The following object is masked from ‘package:stats’:\n",
      "\n",
      "    var\n",
      "\n",
      "\n"
     ]
    },
    {
     "name": "stdout",
     "output_type": "stream",
     "text": [
      "── Attaching core tidyverse packages ──────────────────────── tidyverse 2.0.0 ──\n",
      "✔ dplyr     1.1.2     ✔ readr     2.1.4\n",
      "✔ forcats   1.0.0     ✔ stringr   1.5.0\n",
      "✔ ggplot2   3.4.2     ✔ tibble    3.2.1\n",
      "✔ lubridate 1.9.2     ✔ tidyr     1.3.0\n",
      "✔ purrr     1.0.1     \n",
      "── Conflicts ────────────────────────────────────────── tidyverse_conflicts() ──\n",
      "✖ dplyr::filter() masks stats::filter()\n",
      "✖ dplyr::lag()    masks stats::lag()\n",
      "ℹ Use the conflicted package (<http://conflicted.r-lib.org/>) to force all conflicts to become errors\n"
     ]
    },
    {
     "data": {
      "image/png": "[encoded data removed]",
      "text/plain": [
       "<IPython.core.display.Image object>"
      ]
     },
     "metadata": {},
     "output_type": "display_data"
    }
   ],
   "source": [
    "%%R -i t_2 -i N_AB -i n_int_ABC_2 -o quant\n",
    "\n",
    "library(PhaseTypeR)\n",
    "library(tidyverse)\n",
    "\n",
    "subint_mat <- matrix(\n",
    "    c(\n",
    "        c(-1, 0, 0),\n",
    "        c(0, -3, 3),\n",
    "        c(0, 0, -1)\n",
    "    ),\n",
    "    nrow = 3,\n",
    "    byrow = T\n",
    ")\n",
    "init_probs <- c(1-exp(-t_2/N_AB), exp(-t_2/N_AB), 0)\n",
    "ph_obj <- PH(subint_mat, init_probs)\n",
    "\n",
    "quant <- qPH(seq(0, 1, length.out = n_int_ABC_2+1), ph_obj)\n",
    "quant <- c(quant[1:(length(quant)-1)], Inf)\n",
    "\n",
    "x <- seq(0, 5, length.out = 100)\n",
    "y <- dPH(x, ph_obj)\n",
    "ggplot() +\n",
    "    geom_line(aes(x, y))"
   ]
  },
  {
   "cell_type": "code",
   "execution_count": 6,
   "id": "ac40786b-8c2b-43ce-9291-cc3116d510a6",
   "metadata": {},
   "outputs": [
    {
     "data": {
      "text/plain": [
       "array([258717.53400642, 269508.08159432, 282270.5905699 , 297890.6391619 ,\n",
       "       318028.38423352, 346410.94180109, 394931.24444029,             inf])"
      ]
     },
     "execution_count": 6,
     "metadata": {},
     "output_type": "execute_result"
    }
   ],
   "source": [
    "t_1+t_2+cutpoints_ABC(n_int_ABC_2, coal_ABC)*N_ref"
   ]
  },
  {
   "cell_type": "code",
   "execution_count": 7,
   "id": "792049f0-0ff7-46ab-96ba-7e29b0ea5a12",
   "metadata": {},
   "outputs": [
    {
     "data": {
      "text/plain": [
       "array([258717.53400642, 275680.38719023, 291866.09530467, 309719.93419909,\n",
       "       331364.74879218, 360730.39159387, 409808.60128951,             inf])"
      ]
     },
     "execution_count": 7,
     "metadata": {},
     "output_type": "execute_result"
    }
   ],
   "source": [
    "cut_ABC = t_1+t_2+quant*N_ABC\n",
    "cut_ABC"
   ]
  },
  {
   "cell_type": "code",
   "execution_count": 11,
   "id": "b7c3fa6b-b069-4f53-a0f1-6c0ccd08f845",
   "metadata": {},
   "outputs": [
    {
     "name": "stderr",
     "output_type": "stream",
     "text": [
      "/Users/au595587/opt/miniconda3/envs/trails_plot/lib/python3.9/site-packages/trails/get_joint_prob_mat.py:151: FutureWarning: elementwise comparison failed; returning scalar instead, but in the future will perform elementwise comparison\n",
      "  if cut_ABC == 'standard':\n",
      "2023-06-07 15:40:16,186\tINFO worker.py:1625 -- Started a local Ray instance.\n",
      "\u001b[2m\u001b[33m(raylet)\u001b[0m [2023-06-07 15:40:26,212 E 42530 1197735] (raylet) file_system_monitor.cc:111: /tmp/ray/session_2023-06-07_15-40-13_995841_42439 is over 95% full, available space: 21210746880; capacity: 499963174912. Object creation will fail if spilling is required.\n",
      "\u001b[2m\u001b[33m(raylet)\u001b[0m [2023-06-07 15:40:36,290 E 42530 1197735] (raylet) file_system_monitor.cc:111: /tmp/ray/session_2023-06-07_15-40-13_995841_42439 is over 95% full, available space: 22283964416; capacity: 499963174912. Object creation will fail if spilling is required.\n",
      "\u001b[2m\u001b[33m(raylet)\u001b[0m [2023-06-07 15:40:46,357 E 42530 1197735] (raylet) file_system_monitor.cc:111: /tmp/ray/session_2023-06-07_15-40-13_995841_42439 is over 95% full, available space: 22283939840; capacity: 499963174912. Object creation will fail if spilling is required.\n",
      "\u001b[2m\u001b[33m(raylet)\u001b[0m [2023-06-07 15:40:56,432 E 42530 1197735] (raylet) file_system_monitor.cc:111: /tmp/ray/session_2023-06-07_15-40-13_995841_42439 is over 95% full, available space: 22238257152; capacity: 499963174912. Object creation will fail if spilling is required.\n",
      "\u001b[2m\u001b[33m(raylet)\u001b[0m [2023-06-07 15:41:06,510 E 42530 1197735] (raylet) file_system_monitor.cc:111: /tmp/ray/session_2023-06-07_15-40-13_995841_42439 is over 95% full, available space: 22237868032; capacity: 499963174912. Object creation will fail if spilling is required.\n",
      "\u001b[2m\u001b[33m(raylet)\u001b[0m [2023-06-07 15:41:16,584 E 42530 1197735] (raylet) file_system_monitor.cc:111: /tmp/ray/session_2023-06-07_15-40-13_995841_42439 is over 95% full, available space: 22236643328; capacity: 499963174912. Object creation will fail if spilling is required.\n",
      "\u001b[2m\u001b[33m(raylet)\u001b[0m [2023-06-07 15:41:26,645 E 42530 1197735] (raylet) file_system_monitor.cc:111: /tmp/ray/session_2023-06-07_15-40-13_995841_42439 is over 95% full, available space: 22236258304; capacity: 499963174912. Object creation will fail if spilling is required.\n",
      "\u001b[2m\u001b[33m(raylet)\u001b[0m [2023-06-07 15:41:36,714 E 42530 1197735] (raylet) file_system_monitor.cc:111: /tmp/ray/session_2023-06-07_15-40-13_995841_42439 is over 95% full, available space: 22236282880; capacity: 499963174912. Object creation will fail if spilling is required.\n",
      "\u001b[2m\u001b[33m(raylet)\u001b[0m [2023-06-07 15:41:46,782 E 42530 1197735] (raylet) file_system_monitor.cc:111: /tmp/ray/session_2023-06-07_15-40-13_995841_42439 is over 95% full, available space: 22236241920; capacity: 499963174912. Object creation will fail if spilling is required.\n",
      "\u001b[2m\u001b[33m(raylet)\u001b[0m [2023-06-07 15:41:56,851 E 42530 1197735] (raylet) file_system_monitor.cc:111: /tmp/ray/session_2023-06-07_15-40-13_995841_42439 is over 95% full, available space: 21161119744; capacity: 499963174912. Object creation will fail if spilling is required.\n",
      "\u001b[2m\u001b[33m(raylet)\u001b[0m [2023-06-07 15:42:06,923 E 42530 1197735] (raylet) file_system_monitor.cc:111: /tmp/ray/session_2023-06-07_15-40-13_995841_42439 is over 95% full, available space: 21161136128; capacity: 499963174912. Object creation will fail if spilling is required.\n",
      "\u001b[2m\u001b[33m(raylet)\u001b[0m [2023-06-07 15:42:16,997 E 42530 1197735] (raylet) file_system_monitor.cc:111: /tmp/ray/session_2023-06-07_15-40-13_995841_42439 is over 95% full, available space: 21161263104; capacity: 499963174912. Object creation will fail if spilling is required.\n",
      "\u001b[2m\u001b[33m(raylet)\u001b[0m [2023-06-07 15:42:27,072 E 42530 1197735] (raylet) file_system_monitor.cc:111: /tmp/ray/session_2023-06-07_15-40-13_995841_42439 is over 95% full, available space: 21160460288; capacity: 499963174912. Object creation will fail if spilling is required.\n",
      "\u001b[2m\u001b[33m(raylet)\u001b[0m [2023-06-07 15:42:37,158 E 42530 1197735] (raylet) file_system_monitor.cc:111: /tmp/ray/session_2023-06-07_15-40-13_995841_42439 is over 95% full, available space: 22233493504; capacity: 499963174912. Object creation will fail if spilling is required.\n",
      "\u001b[2m\u001b[33m(raylet)\u001b[0m [2023-06-07 15:42:47,236 E 42530 1197735] (raylet) file_system_monitor.cc:111: /tmp/ray/session_2023-06-07_15-40-13_995841_42439 is over 95% full, available space: 22232543232; capacity: 499963174912. Object creation will fail if spilling is required.\n",
      "\u001b[2m\u001b[33m(raylet)\u001b[0m [2023-06-07 15:42:57,305 E 42530 1197735] (raylet) file_system_monitor.cc:111: /tmp/ray/session_2023-06-07_15-40-13_995841_42439 is over 95% full, available space: 21158518784; capacity: 499963174912. Object creation will fail if spilling is required.\n",
      "\u001b[2m\u001b[33m(raylet)\u001b[0m [2023-06-07 15:43:07,371 E 42530 1197735] (raylet) file_system_monitor.cc:111: /tmp/ray/session_2023-06-07_15-40-13_995841_42439 is over 95% full, available space: 22232166400; capacity: 499963174912. Object creation will fail if spilling is required.\n",
      "\u001b[2m\u001b[33m(raylet)\u001b[0m [2023-06-07 15:43:17,441 E 42530 1197735] (raylet) file_system_monitor.cc:111: /tmp/ray/session_2023-06-07_15-40-13_995841_42439 is over 95% full, available space: 22231547904; capacity: 499963174912. Object creation will fail if spilling is required.\n",
      "\u001b[2m\u001b[33m(raylet)\u001b[0m [2023-06-07 15:43:27,537 E 42530 1197735] (raylet) file_system_monitor.cc:111: /tmp/ray/session_2023-06-07_15-40-13_995841_42439 is over 95% full, available space: 22235033600; capacity: 499963174912. Object creation will fail if spilling is required.\n",
      "\u001b[2m\u001b[33m(raylet)\u001b[0m [2023-06-07 15:43:37,615 E 42530 1197735] (raylet) file_system_monitor.cc:111: /tmp/ray/session_2023-06-07_15-40-13_995841_42439 is over 95% full, available space: 22238593024; capacity: 499963174912. Object creation will fail if spilling is required.\n",
      "\u001b[2m\u001b[33m(raylet)\u001b[0m [2023-06-07 15:43:47,696 E 42530 1197735] (raylet) file_system_monitor.cc:111: /tmp/ray/session_2023-06-07_15-40-13_995841_42439 is over 95% full, available space: 22238609408; capacity: 499963174912. Object creation will fail if spilling is required.\n",
      "\u001b[2m\u001b[33m(raylet)\u001b[0m [2023-06-07 15:43:57,762 E 42530 1197735] (raylet) file_system_monitor.cc:111: /tmp/ray/session_2023-06-07_15-40-13_995841_42439 is over 95% full, available space: 22236626944; capacity: 499963174912. Object creation will fail if spilling is required.\n",
      "\u001b[2m\u001b[33m(raylet)\u001b[0m [2023-06-07 15:44:07,832 E 42530 1197735] (raylet) file_system_monitor.cc:111: /tmp/ray/session_2023-06-07_15-40-13_995841_42439 is over 95% full, available space: 22236626944; capacity: 499963174912. Object creation will fail if spilling is required.\n",
      "\u001b[2m\u001b[33m(raylet)\u001b[0m [2023-06-07 15:44:17,915 E 42530 1197735] (raylet) file_system_monitor.cc:111: /tmp/ray/session_2023-06-07_15-40-13_995841_42439 is over 95% full, available space: 21162631168; capacity: 499963174912. Object creation will fail if spilling is required.\n",
      "/Users/au595587/opt/miniconda3/envs/trails_plot/lib/python3.9/site-packages/trails/get_emission_prob_mat.py:632: FutureWarning: elementwise comparison failed; returning scalar instead, but in the future will perform elementwise comparison\n",
      "  if cut_ABC == 'standard':\n",
      "\u001b[2m\u001b[33m(raylet)\u001b[0m [2023-06-07 15:44:27,981 E 42530 1197735] (raylet) file_system_monitor.cc:111: /tmp/ray/session_2023-06-07_15-40-13_995841_42439 is over 95% full, available space: 22236749824; capacity: 499963174912. Object creation will fail if spilling is required.\n",
      "\u001b[2m\u001b[33m(raylet)\u001b[0m [2023-06-07 15:44:38,044 E 42530 1197735] (raylet) file_system_monitor.cc:111: /tmp/ray/session_2023-06-07_15-40-13_995841_42439 is over 95% full, available space: 22236819456; capacity: 499963174912. Object creation will fail if spilling is required.\n",
      "\u001b[2m\u001b[33m(raylet)\u001b[0m [2023-06-07 15:44:48,105 E 42530 1197735] (raylet) file_system_monitor.cc:111: /tmp/ray/session_2023-06-07_15-40-13_995841_42439 is over 95% full, available space: 22236897280; capacity: 499963174912. Object creation will fail if spilling is required.\n",
      "\u001b[2m\u001b[33m(raylet)\u001b[0m [2023-06-07 15:44:58,167 E 42530 1197735] (raylet) file_system_monitor.cc:111: /tmp/ray/session_2023-06-07_15-40-13_995841_42439 is over 95% full, available space: 22235914240; capacity: 499963174912. Object creation will fail if spilling is required.\n",
      "\u001b[2m\u001b[33m(raylet)\u001b[0m [2023-06-07 15:45:08,232 E 42530 1197735] (raylet) file_system_monitor.cc:111: /tmp/ray/session_2023-06-07_15-40-13_995841_42439 is over 95% full, available space: 22235918336; capacity: 499963174912. Object creation will fail if spilling is required.\n",
      "\u001b[2m\u001b[33m(raylet)\u001b[0m [2023-06-07 15:45:18,280 E 42530 1197735] (raylet) file_system_monitor.cc:111: /tmp/ray/session_2023-06-07_15-40-13_995841_42439 is over 95% full, available space: 22235656192; capacity: 499963174912. Object creation will fail if spilling is required.\n"
     ]
    }
   ],
   "source": [
    "transitions, emissions, starting, hidden_states, observed_states = trans_emiss_calc(\n",
    "    t_A*mu, t_B*mu, t_C*mu, t_2*mu, t_upper*mu, t_out*mu, \n",
    "    N_AB*mu, N_ABC*mu, r/mu, n_int_AB, n_int_ABC_2,\n",
    "    cut_AB = 'standard', cut_ABC = quant\n",
    ")"
   ]
  },
  {
   "cell_type": "code",
   "execution_count": 12,
   "id": "efc8c3c1-1c62-4e65-a505-3c0a56c97179",
   "metadata": {},
   "outputs": [],
   "source": [
    "dct_hid = {v: k for k, v in hidden_states.items()}\n",
    "dct = {v: k for k, v in observed_states.items()}"
   ]
  },
  {
   "cell_type": "code",
   "execution_count": 13,
   "id": "353dbc2b-4b1d-4c24-abbc-9da4eaefbfa2",
   "metadata": {},
   "outputs": [],
   "source": [
    "####################### Add demography #######################\n",
    "\n",
    "n_sites = 100_000\n",
    "\n",
    "demography = msprime.Demography()\n",
    "demography.add_population(name=\"A\", initial_size=N_AB, default_sampling_time=t_1-t_A)\n",
    "demography.add_population(name=\"B\", initial_size=N_AB, default_sampling_time=t_1-t_B)\n",
    "demography.add_population(name=\"C\", initial_size=N_AB, default_sampling_time=t_1-t_C)\n",
    "demography.add_population(name=\"D\", initial_size=N_AB, default_sampling_time=t_1-t_1)\n",
    "demography.add_population(name=\"AB\", initial_size=N_AB)\n",
    "demography.add_population(name=\"ABC\", initial_size=N_ABC)\n",
    "demography.add_population(name=\"ABCD\", initial_size=N_ABC)\n",
    "demography.add_population_split(time=t_1, derived=[\"A\", \"B\"], ancestral=\"AB\")\n",
    "demography.add_population_split(time=t_1+t_2, derived=[\"AB\", \"C\"], ancestral=\"ABC\")\n",
    "demography.add_population_split(time=t_1+t_2+t_3, derived=[\"ABC\", \"D\"], ancestral=\"ABCD\")\n",
    "\n",
    "ts = msprime.sim_ancestry(\n",
    "    {\"A\": 1, \"B\": 1, \"C\": 1,\n",
    "     \"D\": 1\n",
    "    },\n",
    "    demography=demography,\n",
    "    recombination_rate=r,\n",
    "    sequence_length=n_sites,\n",
    "    ploidy=1,\n",
    "    random_seed=seed\n",
    ")\n"
   ]
  },
  {
   "cell_type": "code",
   "execution_count": 14,
   "id": "ea585993-2435-42da-b1e1-383f4af47441",
   "metadata": {},
   "outputs": [],
   "source": [
    "#### Add mutations\n",
    "\n",
    "mutated_ts = msprime.sim_mutations(ts, rate=mu, random_seed=seed)\n",
    "\n",
    "nochange_lst = [dct['AAAA'], dct['CCCC'], dct['TTTT'], dct['GGGG']]\n",
    "np.random.seed(seed) ; sim_genome = np.random.choice(nochange_lst, n_sites)\n",
    "\n",
    "mut_lst = []\n",
    "mut_loc = []\n",
    "for variant in mutated_ts.variants():\n",
    "    mut_loc.append(variant.site.position)\n",
    "    mut_lst.append(''.join([variant.alleles[i] for i in variant.genotypes]))\n",
    "\n",
    "for i in range(len(mut_loc)):\n",
    "    sim_genome[int(mut_loc[i])] = dct[mut_lst[i]]\n"
   ]
  },
  {
   "cell_type": "code",
   "execution_count": 15,
   "id": "c67cde12-bc98-4f14-80d4-085902a5a38e",
   "metadata": {},
   "outputs": [
    {
     "name": "stderr",
     "output_type": "stream",
     "text": [
      "\u001b[2m\u001b[33m(raylet)\u001b[0m [2023-06-07 15:45:28,337 E 42530 1197735] (raylet) file_system_monitor.cc:111: /tmp/ray/session_2023-06-07_15-40-13_995841_42439 is over 95% full, available space: 22233808896; capacity: 499963174912. Object creation will fail if spilling is required.\n",
      "\u001b[2m\u001b[33m(raylet)\u001b[0m [2023-06-07 15:45:38,401 E 42530 1197735] (raylet) file_system_monitor.cc:111: /tmp/ray/session_2023-06-07_15-40-13_995841_42439 is over 95% full, available space: 22234456064; capacity: 499963174912. Object creation will fail if spilling is required.\n",
      "\u001b[2m\u001b[33m(raylet)\u001b[0m [2023-06-07 15:45:48,460 E 42530 1197735] (raylet) file_system_monitor.cc:111: /tmp/ray/session_2023-06-07_15-40-13_995841_42439 is over 95% full, available space: 23308271616; capacity: 499963174912. Object creation will fail if spilling is required.\n",
      "\u001b[2m\u001b[33m(raylet)\u001b[0m [2023-06-07 15:45:58,522 E 42530 1197735] (raylet) file_system_monitor.cc:111: /tmp/ray/session_2023-06-07_15-40-13_995841_42439 is over 95% full, available space: 23308468224; capacity: 499963174912. Object creation will fail if spilling is required.\n",
      "\u001b[2m\u001b[33m(raylet)\u001b[0m [2023-06-07 15:46:08,586 E 42530 1197735] (raylet) file_system_monitor.cc:111: /tmp/ray/session_2023-06-07_15-40-13_995841_42439 is over 95% full, available space: 23307415552; capacity: 499963174912. Object creation will fail if spilling is required.\n",
      "\u001b[2m\u001b[33m(raylet)\u001b[0m [2023-06-07 15:46:18,647 E 42530 1197735] (raylet) file_system_monitor.cc:111: /tmp/ray/session_2023-06-07_15-40-13_995841_42439 is over 95% full, available space: 21159182336; capacity: 499963174912. Object creation will fail if spilling is required.\n",
      "\u001b[2m\u001b[33m(raylet)\u001b[0m [2023-06-07 15:46:28,720 E 42530 1197735] (raylet) file_system_monitor.cc:111: /tmp/ray/session_2023-06-07_15-40-13_995841_42439 is over 95% full, available space: 22231764992; capacity: 499963174912. Object creation will fail if spilling is required.\n",
      "\u001b[2m\u001b[33m(raylet)\u001b[0m [2023-06-07 15:46:38,818 E 42530 1197735] (raylet) file_system_monitor.cc:111: /tmp/ray/session_2023-06-07_15-40-13_995841_42439 is over 95% full, available space: 22206357504; capacity: 499963174912. Object creation will fail if spilling is required.\n"
     ]
    }
   ],
   "source": [
    "post = post_prob_wrapper(transitions, emissions, starting, [sim_genome])[0]"
   ]
  },
  {
   "cell_type": "code",
   "execution_count": 16,
   "id": "b302da4e-fd39-4729-8fda-58a6492f73b2",
   "metadata": {},
   "outputs": [],
   "source": [
    "hidden_matrix = np.random.randint(max([n_int_AB, n_int_ABC_2]), size=(len(dct_hid), 4))\n",
    "hidden_matrix[:,0] = list(range(len(dct_hid)))\n",
    "hidden_matrix[:,1] = [i[0] for i in dct_hid.keys()]\n",
    "hidden_matrix[:,2] = [i[1] for i in dct_hid.keys()]\n",
    "hidden_matrix[:,3] = [i[2] for i in dct_hid.keys()]"
   ]
  },
  {
   "cell_type": "code",
   "execution_count": 17,
   "id": "5458e4d4-1a17-478c-96c5-4e1afc6b0853",
   "metadata": {},
   "outputs": [],
   "source": [
    "left_lst = []\n",
    "right_lst = []\n",
    "tree_state = []\n",
    "t_AB_vec = []\n",
    "t_ABC_vec = []\n",
    "for t in ts.trees():\n",
    "    # Append start coordinate\n",
    "    left_lst.append(t.interval.left)\n",
    "    # Append end coordinate\n",
    "    right_lst.append(t.interval.right-1)\n",
    "    # Get all non-zero coalescent times\n",
    "    ntimes = [ts.nodes()[n].time for n in t.nodes() if ts.nodes()[n].time not in [0, t_1-t_A, t_1-t_B, t_1-t_C]]\n",
    "    ntimes = sorted(ntimes)\n",
    "    # Get time of the first event\n",
    "    mint = ntimes[0]\n",
    "    mint2 = ntimes[1]\n",
    "    # Find topology\n",
    "    find_re = re.findall(\"n\\d,n\\d\", t.as_newick(include_branch_lengths=False))[0]\n",
    "    # Sort species within topology\n",
    "    find_re = sorted(find_re.split(','))\n",
    "    # If V0 or V1\n",
    "    if find_re == ['n0', 'n1']:\n",
    "        # If the time of the first coalescent is larger than the deepest speciation event\n",
    "        if mint>=(t_1+t_2):\n",
    "            state = (1, (mint>cut_ABC).sum()-1, (mint2>cut_ABC).sum()-1)\n",
    "            # Append V1 state\n",
    "        else:\n",
    "            state = (0, (mint>cut_AB).sum()-1, (mint2>cut_ABC).sum()-1)\n",
    "            # Append V0 state\n",
    "    # If V2\n",
    "    elif find_re == ['n0', 'n2']:\n",
    "        state = (2, (mint>cut_ABC).sum()-1, (mint2>cut_ABC).sum()-1)\n",
    "    # If V3\n",
    "    elif find_re == ['n1', 'n2']:\n",
    "        state = (3, (mint>cut_ABC).sum()-1, (mint2>cut_ABC).sum()-1)\n",
    "    else:\n",
    "        state = (4, (mint>cut_ABC).sum()-1, (mint2>cut_ABC).sum()-1)\n",
    "    tree_state.append(state)\n",
    "    t_AB_vec.append(mint)\n",
    "    t_ABC_vec.append(mint2)\n"
   ]
  },
  {
   "cell_type": "code",
   "execution_count": 18,
   "id": "38e414c7-0164-46fc-a3d3-c52ac6813078",
   "metadata": {},
   "outputs": [],
   "source": [
    "tree_matrix = np.random.randint(max(left_lst), size=(len(left_lst), 3))\n",
    "tree_matrix[:,0] = left_lst\n",
    "tree_matrix[:,1] = right_lst\n",
    "tree_matrix[:,2] = [dct_hid[i] for i in tree_state]"
   ]
  },
  {
   "cell_type": "code",
   "execution_count": 19,
   "id": "e036b4f5-bd89-4ad7-805d-a0f4efcfa12f",
   "metadata": {},
   "outputs": [
    {
     "name": "stdout",
     "output_type": "stream",
     "text": [
      "`summarise()` has grouped output by 'gr'. You can override using the `.groups`\n",
      "argument.\n"
     ]
    },
    {
     "name": "stderr",
     "output_type": "stream",
     "text": [
      "\u001b[2m\u001b[33m(raylet)\u001b[0m [2023-06-07 15:46:48,890 E 42530 1197735] (raylet) file_system_monitor.cc:111: /tmp/ray/session_2023-06-07_15-40-13_995841_42439 is over 95% full, available space: 22212591616; capacity: 499963174912. Object creation will fail if spilling is required.\n",
      "\u001b[2m\u001b[33m(raylet)\u001b[0m [2023-06-07 15:46:58,931 E 42530 1197735] (raylet) file_system_monitor.cc:111: /tmp/ray/session_2023-06-07_15-40-13_995841_42439 is over 95% full, available space: 22216212480; capacity: 499963174912. Object creation will fail if spilling is required.\n",
      "\u001b[2m\u001b[33m(raylet)\u001b[0m [2023-06-07 15:47:09,005 E 42530 1197735] (raylet) file_system_monitor.cc:111: /tmp/ray/session_2023-06-07_15-40-13_995841_42439 is over 95% full, available space: 22339198976; capacity: 499963174912. Object creation will fail if spilling is required.\n",
      "\u001b[2m\u001b[33m(raylet)\u001b[0m [2023-06-07 15:47:19,082 E 42530 1197735] (raylet) file_system_monitor.cc:111: /tmp/ray/session_2023-06-07_15-40-13_995841_42439 is over 95% full, available space: 22380150784; capacity: 499963174912. Object creation will fail if spilling is required.\n",
      "\u001b[2m\u001b[33m(raylet)\u001b[0m [2023-06-07 15:47:29,152 E 42530 1197735] (raylet) file_system_monitor.cc:111: /tmp/ray/session_2023-06-07_15-40-13_995841_42439 is over 95% full, available space: 22380138496; capacity: 499963174912. Object creation will fail if spilling is required.\n",
      "\u001b[2m\u001b[33m(raylet)\u001b[0m [2023-06-07 15:47:39,215 E 42530 1197735] (raylet) file_system_monitor.cc:111: /tmp/ray/session_2023-06-07_15-40-13_995841_42439 is over 95% full, available space: 22378811392; capacity: 499963174912. Object creation will fail if spilling is required.\n",
      "\u001b[2m\u001b[33m(raylet)\u001b[0m [2023-06-07 15:47:49,287 E 42530 1197735] (raylet) file_system_monitor.cc:111: /tmp/ray/session_2023-06-07_15-40-13_995841_42439 is over 95% full, available space: 21303959552; capacity: 499963174912. Object creation will fail if spilling is required.\n",
      "\u001b[2m\u001b[33m(raylet)\u001b[0m [2023-06-07 15:47:59,354 E 42530 1197735] (raylet) file_system_monitor.cc:111: /tmp/ray/session_2023-06-07_15-40-13_995841_42439 is over 95% full, available space: 22375305216; capacity: 499963174912. Object creation will fail if spilling is required.\n",
      "\u001b[2m\u001b[33m(raylet)\u001b[0m [2023-06-07 15:48:09,432 E 42530 1197735] (raylet) file_system_monitor.cc:111: /tmp/ray/session_2023-06-07_15-40-13_995841_42439 is over 95% full, available space: 21301170176; capacity: 499963174912. Object creation will fail if spilling is required.\n",
      "\u001b[2m\u001b[33m(raylet)\u001b[0m [2023-06-07 15:48:19,494 E 42530 1197735] (raylet) file_system_monitor.cc:111: /tmp/ray/session_2023-06-07_15-40-13_995841_42439 is over 95% full, available space: 21300625408; capacity: 499963174912. Object creation will fail if spilling is required.\n",
      "\u001b[2m\u001b[33m(raylet)\u001b[0m [2023-06-07 15:48:29,549 E 42530 1197735] (raylet) file_system_monitor.cc:111: /tmp/ray/session_2023-06-07_15-40-13_995841_42439 is over 95% full, available space: 20230868992; capacity: 499963174912. Object creation will fail if spilling is required.\n",
      "\u001b[2m\u001b[33m(raylet)\u001b[0m [2023-06-07 15:48:39,638 E 42530 1197735] (raylet) file_system_monitor.cc:111: /tmp/ray/session_2023-06-07_15-40-13_995841_42439 is over 95% full, available space: 21314854912; capacity: 499963174912. Object creation will fail if spilling is required.\n",
      "\u001b[2m\u001b[33m(raylet)\u001b[0m [2023-06-07 15:48:49,701 E 42530 1197735] (raylet) file_system_monitor.cc:111: /tmp/ray/session_2023-06-07_15-40-13_995841_42439 is over 95% full, available space: 21313974272; capacity: 499963174912. Object creation will fail if spilling is required.\n",
      "\u001b[2m\u001b[33m(raylet)\u001b[0m [2023-06-07 15:48:59,757 E 42530 1197735] (raylet) file_system_monitor.cc:111: /tmp/ray/session_2023-06-07_15-40-13_995841_42439 is over 95% full, available space: 21311434752; capacity: 499963174912. Object creation will fail if spilling is required.\n",
      "\u001b[2m\u001b[33m(raylet)\u001b[0m [2023-06-07 15:49:09,844 E 42530 1197735] (raylet) file_system_monitor.cc:111: /tmp/ray/session_2023-06-07_15-40-13_995841_42439 is over 95% full, available space: 22385377280; capacity: 499963174912. Object creation will fail if spilling is required.\n",
      "\u001b[2m\u001b[33m(raylet)\u001b[0m [2023-06-07 15:49:19,903 E 42530 1197735] (raylet) file_system_monitor.cc:111: /tmp/ray/session_2023-06-07_15-40-13_995841_42439 is over 95% full, available space: 21321842688; capacity: 499963174912. Object creation will fail if spilling is required.\n",
      "\u001b[2m\u001b[33m(raylet)\u001b[0m [2023-06-07 15:49:29,988 E 42530 1197735] (raylet) file_system_monitor.cc:111: /tmp/ray/session_2023-06-07_15-40-13_995841_42439 is over 95% full, available space: 20250263552; capacity: 499963174912. Object creation will fail if spilling is required.\n",
      "\u001b[2m\u001b[33m(raylet)\u001b[0m [2023-06-07 15:49:40,051 E 42530 1197735] (raylet) file_system_monitor.cc:111: /tmp/ray/session_2023-06-07_15-40-13_995841_42439 is over 95% full, available space: 21319073792; capacity: 499963174912. Object creation will fail if spilling is required.\n",
      "\u001b[2m\u001b[33m(raylet)\u001b[0m [2023-06-07 15:49:50,114 E 42530 1197735] (raylet) file_system_monitor.cc:111: /tmp/ray/session_2023-06-07_15-40-13_995841_42439 is over 95% full, available space: 21319139328; capacity: 499963174912. Object creation will fail if spilling is required.\n",
      "\u001b[2m\u001b[33m(raylet)\u001b[0m [2023-06-07 15:50:00,177 E 42530 1197735] (raylet) file_system_monitor.cc:111: /tmp/ray/session_2023-06-07_15-40-13_995841_42439 is over 95% full, available space: 20244926464; capacity: 499963174912. Object creation will fail if spilling is required.\n",
      "\u001b[2m\u001b[33m(raylet)\u001b[0m [2023-06-07 15:50:10,235 E 42530 1197735] (raylet) file_system_monitor.cc:111: /tmp/ray/session_2023-06-07_15-40-13_995841_42439 is over 95% full, available space: 20244918272; capacity: 499963174912. Object creation will fail if spilling is required.\n",
      "\u001b[2m\u001b[33m(raylet)\u001b[0m [2023-06-07 15:50:20,299 E 42530 1197735] (raylet) file_system_monitor.cc:111: /tmp/ray/session_2023-06-07_15-40-13_995841_42439 is over 95% full, available space: 21317869568; capacity: 499963174912. Object creation will fail if spilling is required.\n",
      "\u001b[2m\u001b[33m(raylet)\u001b[0m [2023-06-07 15:50:30,364 E 42530 1197735] (raylet) file_system_monitor.cc:111: /tmp/ray/session_2023-06-07_15-40-13_995841_42439 is over 95% full, available space: 21317898240; capacity: 499963174912. Object creation will fail if spilling is required.\n",
      "\u001b[2m\u001b[33m(raylet)\u001b[0m [2023-06-07 15:50:40,425 E 42530 1197735] (raylet) file_system_monitor.cc:111: /tmp/ray/session_2023-06-07_15-40-13_995841_42439 is over 95% full, available space: 21317120000; capacity: 499963174912. Object creation will fail if spilling is required.\n",
      "\u001b[2m\u001b[33m(raylet)\u001b[0m [2023-06-07 15:50:50,488 E 42530 1197735] (raylet) file_system_monitor.cc:111: /tmp/ray/session_2023-06-07_15-40-13_995841_42439 is over 95% full, available space: 21315710976; capacity: 499963174912. Object creation will fail if spilling is required.\n",
      "\u001b[2m\u001b[33m(raylet)\u001b[0m [2023-06-07 15:51:00,553 E 42530 1197735] (raylet) file_system_monitor.cc:111: /tmp/ray/session_2023-06-07_15-40-13_995841_42439 is over 95% full, available space: 21315883008; capacity: 499963174912. Object creation will fail if spilling is required.\n",
      "\u001b[2m\u001b[33m(raylet)\u001b[0m [2023-06-07 15:51:10,615 E 42530 1197735] (raylet) file_system_monitor.cc:111: /tmp/ray/session_2023-06-07_15-40-13_995841_42439 is over 95% full, available space: 21315878912; capacity: 499963174912. Object creation will fail if spilling is required.\n",
      "\u001b[2m\u001b[33m(raylet)\u001b[0m [2023-06-07 15:51:20,682 E 42530 1197735] (raylet) file_system_monitor.cc:111: /tmp/ray/session_2023-06-07_15-40-13_995841_42439 is over 95% full, available space: 21315485696; capacity: 499963174912. Object creation will fail if spilling is required.\n",
      "\u001b[2m\u001b[33m(raylet)\u001b[0m [2023-06-07 15:51:30,750 E 42530 1197735] (raylet) file_system_monitor.cc:111: /tmp/ray/session_2023-06-07_15-40-13_995841_42439 is over 95% full, available space: 20213350400; capacity: 499963174912. Object creation will fail if spilling is required.\n",
      "\u001b[2m\u001b[33m(raylet)\u001b[0m [2023-06-07 15:51:40,808 E 42530 1197735] (raylet) file_system_monitor.cc:111: /tmp/ray/session_2023-06-07_15-40-13_995841_42439 is over 95% full, available space: 20213272576; capacity: 499963174912. Object creation will fail if spilling is required.\n",
      "\u001b[2m\u001b[33m(raylet)\u001b[0m [2023-06-07 15:51:50,875 E 42530 1197735] (raylet) file_system_monitor.cc:111: /tmp/ray/session_2023-06-07_15-40-13_995841_42439 is over 95% full, available space: 21283504128; capacity: 499963174912. Object creation will fail if spilling is required.\n",
      "\u001b[2m\u001b[33m(raylet)\u001b[0m [2023-06-07 15:52:00,940 E 42530 1197735] (raylet) file_system_monitor.cc:111: /tmp/ray/session_2023-06-07_15-40-13_995841_42439 is over 95% full, available space: 21283495936; capacity: 499963174912. Object creation will fail if spilling is required.\n",
      "\u001b[2m\u001b[33m(raylet)\u001b[0m [2023-06-07 15:52:10,999 E 42530 1197735] (raylet) file_system_monitor.cc:111: /tmp/ray/session_2023-06-07_15-40-13_995841_42439 is over 95% full, available space: 21283463168; capacity: 499963174912. Object creation will fail if spilling is required.\n",
      "\u001b[2m\u001b[33m(raylet)\u001b[0m [2023-06-07 15:52:21,062 E 42530 1197735] (raylet) file_system_monitor.cc:111: /tmp/ray/session_2023-06-07_15-40-13_995841_42439 is over 95% full, available space: 21283262464; capacity: 499963174912. Object creation will fail if spilling is required.\n",
      "\u001b[2m\u001b[33m(raylet)\u001b[0m [2023-06-07 15:52:31,130 E 42530 1197735] (raylet) file_system_monitor.cc:111: /tmp/ray/session_2023-06-07_15-40-13_995841_42439 is over 95% full, available space: 21282316288; capacity: 499963174912. Object creation will fail if spilling is required.\n",
      "\u001b[2m\u001b[33m(raylet)\u001b[0m [2023-06-07 15:52:41,182 E 42530 1197735] (raylet) file_system_monitor.cc:111: /tmp/ray/session_2023-06-07_15-40-13_995841_42439 is over 95% full, available space: 20208336896; capacity: 499963174912. Object creation will fail if spilling is required.\n",
      "\u001b[2m\u001b[33m(raylet)\u001b[0m [2023-06-07 15:52:51,244 E 42530 1197735] (raylet) file_system_monitor.cc:111: /tmp/ray/session_2023-06-07_15-40-13_995841_42439 is over 95% full, available space: 20208312320; capacity: 499963174912. Object creation will fail if spilling is required.\n",
      "\u001b[2m\u001b[33m(raylet)\u001b[0m [2023-06-07 15:53:01,304 E 42530 1197735] (raylet) file_system_monitor.cc:111: /tmp/ray/session_2023-06-07_15-40-13_995841_42439 is over 95% full, available space: 20208304128; capacity: 499963174912. Object creation will fail if spilling is required.\n",
      "\u001b[2m\u001b[33m(raylet)\u001b[0m [2023-06-07 15:53:11,368 E 42530 1197735] (raylet) file_system_monitor.cc:111: /tmp/ray/session_2023-06-07_15-40-13_995841_42439 is over 95% full, available space: 20208295936; capacity: 499963174912. Object creation will fail if spilling is required.\n",
      "\u001b[2m\u001b[33m(raylet)\u001b[0m [2023-06-07 15:53:21,426 E 42530 1197735] (raylet) file_system_monitor.cc:111: /tmp/ray/session_2023-06-07_15-40-13_995841_42439 is over 95% full, available space: 20208168960; capacity: 499963174912. Object creation will fail if spilling is required.\n",
      "\u001b[2m\u001b[33m(raylet)\u001b[0m [2023-06-07 15:53:31,495 E 42530 1197735] (raylet) file_system_monitor.cc:111: /tmp/ray/session_2023-06-07_15-40-13_995841_42439 is over 95% full, available space: 20208132096; capacity: 499963174912. Object creation will fail if spilling is required.\n",
      "\u001b[2m\u001b[33m(raylet)\u001b[0m [2023-06-07 15:53:41,566 E 42530 1197735] (raylet) file_system_monitor.cc:111: /tmp/ray/session_2023-06-07_15-40-13_995841_42439 is over 95% full, available space: 20207345664; capacity: 499963174912. Object creation will fail if spilling is required.\n",
      "\u001b[2m\u001b[33m(raylet)\u001b[0m [2023-06-07 15:53:51,635 E 42530 1197735] (raylet) file_system_monitor.cc:111: /tmp/ray/session_2023-06-07_15-40-13_995841_42439 is over 95% full, available space: 20207271936; capacity: 499963174912. Object creation will fail if spilling is required.\n",
      "\u001b[2m\u001b[33m(raylet)\u001b[0m [2023-06-07 15:54:01,701 E 42530 1197735] (raylet) file_system_monitor.cc:111: /tmp/ray/session_2023-06-07_15-40-13_995841_42439 is over 95% full, available space: 20207288320; capacity: 499963174912. Object creation will fail if spilling is required.\n",
      "\u001b[2m\u001b[33m(raylet)\u001b[0m [2023-06-07 15:54:11,769 E 42530 1197735] (raylet) file_system_monitor.cc:111: /tmp/ray/session_2023-06-07_15-40-13_995841_42439 is over 95% full, available space: 20207284224; capacity: 499963174912. Object creation will fail if spilling is required.\n",
      "\u001b[2m\u001b[33m(raylet)\u001b[0m [2023-06-07 15:54:21,834 E 42530 1197735] (raylet) file_system_monitor.cc:111: /tmp/ray/session_2023-06-07_15-40-13_995841_42439 is over 95% full, available space: 20206690304; capacity: 499963174912. Object creation will fail if spilling is required.\n",
      "\u001b[2m\u001b[33m(raylet)\u001b[0m [2023-06-07 15:54:31,897 E 42530 1197735] (raylet) file_system_monitor.cc:111: /tmp/ray/session_2023-06-07_15-40-13_995841_42439 is over 95% full, available space: 20220461056; capacity: 499963174912. Object creation will fail if spilling is required.\n",
      "\u001b[2m\u001b[33m(raylet)\u001b[0m [2023-06-07 15:54:41,959 E 42530 1197735] (raylet) file_system_monitor.cc:111: /tmp/ray/session_2023-06-07_15-40-13_995841_42439 is over 95% full, available space: 20220456960; capacity: 499963174912. Object creation will fail if spilling is required.\n",
      "\u001b[2m\u001b[33m(raylet)\u001b[0m [2023-06-07 15:54:52,028 E 42530 1197735] (raylet) file_system_monitor.cc:111: /tmp/ray/session_2023-06-07_15-40-13_995841_42439 is over 95% full, available space: 20219244544; capacity: 499963174912. Object creation will fail if spilling is required.\n",
      "\u001b[2m\u001b[33m(raylet)\u001b[0m [2023-06-07 15:55:02,107 E 42530 1197735] (raylet) file_system_monitor.cc:111: /tmp/ray/session_2023-06-07_15-40-13_995841_42439 is over 95% full, available space: 21295288320; capacity: 499963174912. Object creation will fail if spilling is required.\n",
      "\u001b[2m\u001b[33m(raylet)\u001b[0m [2023-06-07 15:55:12,173 E 42530 1197735] (raylet) file_system_monitor.cc:111: /tmp/ray/session_2023-06-07_15-40-13_995841_42439 is over 95% full, available space: 21294370816; capacity: 499963174912. Object creation will fail if spilling is required.\n",
      "\u001b[2m\u001b[33m(raylet)\u001b[0m [2023-06-07 15:55:22,242 E 42530 1197735] (raylet) file_system_monitor.cc:111: /tmp/ray/session_2023-06-07_15-40-13_995841_42439 is over 95% full, available space: 21294088192; capacity: 499963174912. Object creation will fail if spilling is required.\n",
      "\u001b[2m\u001b[33m(raylet)\u001b[0m [2023-06-07 15:55:32,304 E 42530 1197735] (raylet) file_system_monitor.cc:111: /tmp/ray/session_2023-06-07_15-40-13_995841_42439 is over 95% full, available space: 20220153856; capacity: 499963174912. Object creation will fail if spilling is required.\n",
      "\u001b[2m\u001b[33m(raylet)\u001b[0m [2023-06-07 15:55:42,374 E 42530 1197735] (raylet) file_system_monitor.cc:111: /tmp/ray/session_2023-06-07_15-40-13_995841_42439 is over 95% full, available space: 20219908096; capacity: 499963174912. Object creation will fail if spilling is required.\n",
      "\u001b[2m\u001b[33m(raylet)\u001b[0m [2023-06-07 15:55:52,437 E 42530 1197735] (raylet) file_system_monitor.cc:111: /tmp/ray/session_2023-06-07_15-40-13_995841_42439 is over 95% full, available space: 20218982400; capacity: 499963174912. Object creation will fail if spilling is required.\n",
      "\u001b[2m\u001b[33m(raylet)\u001b[0m [2023-06-07 15:56:02,498 E 42530 1197735] (raylet) file_system_monitor.cc:111: /tmp/ray/session_2023-06-07_15-40-13_995841_42439 is over 95% full, available space: 20219092992; capacity: 499963174912. Object creation will fail if spilling is required.\n",
      "\u001b[2m\u001b[33m(raylet)\u001b[0m [2023-06-07 15:56:12,561 E 42530 1197735] (raylet) file_system_monitor.cc:111: /tmp/ray/session_2023-06-07_15-40-13_995841_42439 is over 95% full, available space: 21293039616; capacity: 499963174912. Object creation will fail if spilling is required.\n",
      "\u001b[2m\u001b[33m(raylet)\u001b[0m [2023-06-07 15:56:22,622 E 42530 1197735] (raylet) file_system_monitor.cc:111: /tmp/ray/session_2023-06-07_15-40-13_995841_42439 is over 95% full, available space: 21292249088; capacity: 499963174912. Object creation will fail if spilling is required.\n",
      "\u001b[2m\u001b[33m(raylet)\u001b[0m [2023-06-07 15:56:32,686 E 42530 1197735] (raylet) file_system_monitor.cc:111: /tmp/ray/session_2023-06-07_15-40-13_995841_42439 is over 95% full, available space: 20218290176; capacity: 499963174912. Object creation will fail if spilling is required.\n",
      "\u001b[2m\u001b[33m(raylet)\u001b[0m [2023-06-07 15:56:42,750 E 42530 1197735] (raylet) file_system_monitor.cc:111: /tmp/ray/session_2023-06-07_15-40-13_995841_42439 is over 95% full, available space: 20217311232; capacity: 499963174912. Object creation will fail if spilling is required.\n",
      "\u001b[2m\u001b[33m(raylet)\u001b[0m [2023-06-07 15:56:52,814 E 42530 1197735] (raylet) file_system_monitor.cc:111: /tmp/ray/session_2023-06-07_15-40-13_995841_42439 is over 95% full, available space: 20205297664; capacity: 499963174912. Object creation will fail if spilling is required.\n",
      "\u001b[2m\u001b[33m(raylet)\u001b[0m [2023-06-07 15:57:02,877 E 42530 1197735] (raylet) file_system_monitor.cc:111: /tmp/ray/session_2023-06-07_15-40-13_995841_42439 is over 95% full, available space: 20205305856; capacity: 499963174912. Object creation will fail if spilling is required.\n",
      "\u001b[2m\u001b[33m(raylet)\u001b[0m [2023-06-07 15:57:12,934 E 42530 1197735] (raylet) file_system_monitor.cc:111: /tmp/ray/session_2023-06-07_15-40-13_995841_42439 is over 95% full, available space: 20205301760; capacity: 499963174912. Object creation will fail if spilling is required.\n",
      "\u001b[2m\u001b[33m(raylet)\u001b[0m [2023-06-07 15:57:23,012 E 42530 1197735] (raylet) file_system_monitor.cc:111: /tmp/ray/session_2023-06-07_15-40-13_995841_42439 is over 95% full, available space: 20203753472; capacity: 499963174912. Object creation will fail if spilling is required.\n",
      "\u001b[2m\u001b[33m(raylet)\u001b[0m [2023-06-07 15:57:33,071 E 42530 1197735] (raylet) file_system_monitor.cc:111: /tmp/ray/session_2023-06-07_15-40-13_995841_42439 is over 95% full, available space: 21277696000; capacity: 499963174912. Object creation will fail if spilling is required.\n",
      "\u001b[2m\u001b[33m(raylet)\u001b[0m [2023-06-07 15:57:43,142 E 42530 1197735] (raylet) file_system_monitor.cc:111: /tmp/ray/session_2023-06-07_15-40-13_995841_42439 is over 95% full, available space: 21275471872; capacity: 499963174912. Object creation will fail if spilling is required.\n",
      "\u001b[2m\u001b[33m(raylet)\u001b[0m [2023-06-07 15:57:53,207 E 42530 1197735] (raylet) file_system_monitor.cc:111: /tmp/ray/session_2023-06-07_15-40-13_995841_42439 is over 95% full, available space: 21275455488; capacity: 499963174912. Object creation will fail if spilling is required.\n",
      "\u001b[2m\u001b[33m(raylet)\u001b[0m [2023-06-07 15:58:03,279 E 42530 1197735] (raylet) file_system_monitor.cc:111: /tmp/ray/session_2023-06-07_15-40-13_995841_42439 is over 95% full, available space: 21279354880; capacity: 499963174912. Object creation will fail if spilling is required.\n",
      "\u001b[2m\u001b[33m(raylet)\u001b[0m [2023-06-07 15:58:13,347 E 42530 1197735] (raylet) file_system_monitor.cc:111: /tmp/ray/session_2023-06-07_15-40-13_995841_42439 is over 95% full, available space: 21278928896; capacity: 499963174912. Object creation will fail if spilling is required.\n",
      "\u001b[2m\u001b[33m(raylet)\u001b[0m [2023-06-07 15:58:23,408 E 42530 1197735] (raylet) file_system_monitor.cc:111: /tmp/ray/session_2023-06-07_15-40-13_995841_42439 is over 95% full, available space: 20203241472; capacity: 499963174912. Object creation will fail if spilling is required.\n",
      "\u001b[2m\u001b[33m(raylet)\u001b[0m [2023-06-07 15:58:33,473 E 42530 1197735] (raylet) file_system_monitor.cc:111: /tmp/ray/session_2023-06-07_15-40-13_995841_42439 is over 95% full, available space: 20203241472; capacity: 499963174912. Object creation will fail if spilling is required.\n",
      "\u001b[2m\u001b[33m(raylet)\u001b[0m [2023-06-07 15:58:43,543 E 42530 1197735] (raylet) file_system_monitor.cc:111: /tmp/ray/session_2023-06-07_15-40-13_995841_42439 is over 95% full, available space: 20203134976; capacity: 499963174912. Object creation will fail if spilling is required.\n",
      "\u001b[2m\u001b[33m(raylet)\u001b[0m [2023-06-07 15:58:53,601 E 42530 1197735] (raylet) file_system_monitor.cc:111: /tmp/ray/session_2023-06-07_15-40-13_995841_42439 is over 95% full, available space: 20202348544; capacity: 499963174912. Object creation will fail if spilling is required.\n",
      "\u001b[2m\u001b[33m(raylet)\u001b[0m [2023-06-07 15:59:03,661 E 42530 1197735] (raylet) file_system_monitor.cc:111: /tmp/ray/session_2023-06-07_15-40-13_995841_42439 is over 95% full, available space: 21276291072; capacity: 499963174912. Object creation will fail if spilling is required.\n",
      "\u001b[2m\u001b[33m(raylet)\u001b[0m [2023-06-07 15:59:13,721 E 42530 1197735] (raylet) file_system_monitor.cc:111: /tmp/ray/session_2023-06-07_15-40-13_995841_42439 is over 95% full, available space: 21276286976; capacity: 499963174912. Object creation will fail if spilling is required.\n",
      "\u001b[2m\u001b[33m(raylet)\u001b[0m [2023-06-07 15:59:23,786 E 42530 1197735] (raylet) file_system_monitor.cc:111: /tmp/ray/session_2023-06-07_15-40-13_995841_42439 is over 95% full, available space: 21275574272; capacity: 499963174912. Object creation will fail if spilling is required.\n",
      "\u001b[2m\u001b[33m(raylet)\u001b[0m [2023-06-07 15:59:33,848 E 42530 1197735] (raylet) file_system_monitor.cc:111: /tmp/ray/session_2023-06-07_15-40-13_995841_42439 is over 95% full, available space: 21275308032; capacity: 499963174912. Object creation will fail if spilling is required.\n",
      "\u001b[2m\u001b[33m(raylet)\u001b[0m [2023-06-07 15:59:43,909 E 42530 1197735] (raylet) file_system_monitor.cc:111: /tmp/ray/session_2023-06-07_15-40-13_995841_42439 is over 95% full, available space: 21278654464; capacity: 499963174912. Object creation will fail if spilling is required.\n",
      "\u001b[2m\u001b[33m(raylet)\u001b[0m [2023-06-07 15:59:53,978 E 42530 1197735] (raylet) file_system_monitor.cc:111: /tmp/ray/session_2023-06-07_15-40-13_995841_42439 is over 95% full, available space: 21276782592; capacity: 499963174912. Object creation will fail if spilling is required.\n",
      "\u001b[2m\u001b[33m(raylet)\u001b[0m [2023-06-07 16:00:04,033 E 42530 1197735] (raylet) file_system_monitor.cc:111: /tmp/ray/session_2023-06-07_15-40-13_995841_42439 is over 95% full, available space: 20160679936; capacity: 499963174912. Object creation will fail if spilling is required.\n",
      "\u001b[2m\u001b[33m(raylet)\u001b[0m [2023-06-07 16:00:14,098 E 42530 1197735] (raylet) file_system_monitor.cc:111: /tmp/ray/session_2023-06-07_15-40-13_995841_42439 is over 95% full, available space: 20125331456; capacity: 499963174912. Object creation will fail if spilling is required.\n",
      "\u001b[2m\u001b[33m(raylet)\u001b[0m [2023-06-07 16:00:24,160 E 42530 1197735] (raylet) file_system_monitor.cc:111: /tmp/ray/session_2023-06-07_15-40-13_995841_42439 is over 95% full, available space: 20124807168; capacity: 499963174912. Object creation will fail if spilling is required.\n",
      "\u001b[2m\u001b[33m(raylet)\u001b[0m [2023-06-07 16:00:34,223 E 42530 1197735] (raylet) file_system_monitor.cc:111: /tmp/ray/session_2023-06-07_15-40-13_995841_42439 is over 95% full, available space: 20124798976; capacity: 499963174912. Object creation will fail if spilling is required.\n",
      "\u001b[2m\u001b[33m(raylet)\u001b[0m [2023-06-07 16:00:44,290 E 42530 1197735] (raylet) file_system_monitor.cc:111: /tmp/ray/session_2023-06-07_15-40-13_995841_42439 is over 95% full, available space: 21198737408; capacity: 499963174912. Object creation will fail if spilling is required.\n",
      "\u001b[2m\u001b[33m(raylet)\u001b[0m [2023-06-07 16:00:54,359 E 42530 1197735] (raylet) file_system_monitor.cc:111: /tmp/ray/session_2023-06-07_15-40-13_995841_42439 is over 95% full, available space: 21198139392; capacity: 499963174912. Object creation will fail if spilling is required.\n",
      "\u001b[2m\u001b[33m(raylet)\u001b[0m [2023-06-07 16:01:04,421 E 42530 1197735] (raylet) file_system_monitor.cc:111: /tmp/ray/session_2023-06-07_15-40-13_995841_42439 is over 95% full, available space: 21121036288; capacity: 499963174912. Object creation will fail if spilling is required.\n",
      "\u001b[2m\u001b[33m(raylet)\u001b[0m [2023-06-07 16:01:14,489 E 42530 1197735] (raylet) file_system_monitor.cc:111: /tmp/ray/session_2023-06-07_15-40-13_995841_42439 is over 95% full, available space: 22194733056; capacity: 499963174912. Object creation will fail if spilling is required.\n",
      "\u001b[2m\u001b[33m(raylet)\u001b[0m [2023-06-07 16:01:24,559 E 42530 1197735] (raylet) file_system_monitor.cc:111: /tmp/ray/session_2023-06-07_15-40-13_995841_42439 is over 95% full, available space: 21120692224; capacity: 499963174912. Object creation will fail if spilling is required.\n",
      "\u001b[2m\u001b[33m(raylet)\u001b[0m [2023-06-07 16:01:34,628 E 42530 1197735] (raylet) file_system_monitor.cc:111: /tmp/ray/session_2023-06-07_15-40-13_995841_42439 is over 95% full, available space: 20042301440; capacity: 499963174912. Object creation will fail if spilling is required.\n",
      "\u001b[2m\u001b[33m(raylet)\u001b[0m [2023-06-07 16:01:44,692 E 42530 1197735] (raylet) file_system_monitor.cc:111: /tmp/ray/session_2023-06-07_15-40-13_995841_42439 is over 95% full, available space: 21115953152; capacity: 499963174912. Object creation will fail if spilling is required.\n",
      "\u001b[2m\u001b[33m(raylet)\u001b[0m [2023-06-07 16:01:54,756 E 42530 1197735] (raylet) file_system_monitor.cc:111: /tmp/ray/session_2023-06-07_15-40-13_995841_42439 is over 95% full, available space: 22188941312; capacity: 499963174912. Object creation will fail if spilling is required.\n",
      "\u001b[2m\u001b[33m(raylet)\u001b[0m [2023-06-07 16:02:04,821 E 42530 1197735] (raylet) file_system_monitor.cc:111: /tmp/ray/session_2023-06-07_15-40-13_995841_42439 is over 95% full, available space: 20039143424; capacity: 499963174912. Object creation will fail if spilling is required.\n",
      "\u001b[2m\u001b[33m(raylet)\u001b[0m [2023-06-07 16:02:14,888 E 42530 1197735] (raylet) file_system_monitor.cc:111: /tmp/ray/session_2023-06-07_15-40-13_995841_42439 is over 95% full, available space: 21113229312; capacity: 499963174912. Object creation will fail if spilling is required.\n",
      "\u001b[2m\u001b[33m(raylet)\u001b[0m [2023-06-07 16:02:24,948 E 42530 1197735] (raylet) file_system_monitor.cc:111: /tmp/ray/session_2023-06-07_15-40-13_995841_42439 is over 95% full, available space: 21112934400; capacity: 499963174912. Object creation will fail if spilling is required.\n",
      "\u001b[2m\u001b[33m(raylet)\u001b[0m [2023-06-07 16:02:35,010 E 42530 1197735] (raylet) file_system_monitor.cc:111: /tmp/ray/session_2023-06-07_15-40-13_995841_42439 is over 95% full, available space: 21112266752; capacity: 499963174912. Object creation will fail if spilling is required.\n",
      "\u001b[2m\u001b[33m(raylet)\u001b[0m [2023-06-07 16:02:45,035 E 42530 1197735] (raylet) file_system_monitor.cc:111: /tmp/ray/session_2023-06-07_15-40-13_995841_42439 is over 95% full, available space: 21111586816; capacity: 499963174912. Object creation will fail if spilling is required.\n",
      "\u001b[2m\u001b[33m(raylet)\u001b[0m [2023-06-07 16:02:55,100 E 42530 1197735] (raylet) file_system_monitor.cc:111: /tmp/ray/session_2023-06-07_15-40-13_995841_42439 is over 95% full, available space: 21111291904; capacity: 499963174912. Object creation will fail if spilling is required.\n",
      "\u001b[2m\u001b[33m(raylet)\u001b[0m [2023-06-07 16:03:05,170 E 42530 1197735] (raylet) file_system_monitor.cc:111: /tmp/ray/session_2023-06-07_15-40-13_995841_42439 is over 95% full, available space: 21110636544; capacity: 499963174912. Object creation will fail if spilling is required.\n",
      "\u001b[2m\u001b[33m(raylet)\u001b[0m [2023-06-07 16:03:15,233 E 42530 1197735] (raylet) file_system_monitor.cc:111: /tmp/ray/session_2023-06-07_15-40-13_995841_42439 is over 95% full, available space: 21110583296; capacity: 499963174912. Object creation will fail if spilling is required.\n",
      "\u001b[2m\u001b[33m(raylet)\u001b[0m [2023-06-07 16:03:25,292 E 42530 1197735] (raylet) file_system_monitor.cc:111: /tmp/ray/session_2023-06-07_15-40-13_995841_42439 is over 95% full, available space: 21098610688; capacity: 499963174912. Object creation will fail if spilling is required.\n",
      "\u001b[2m\u001b[33m(raylet)\u001b[0m [2023-06-07 16:03:35,357 E 42530 1197735] (raylet) file_system_monitor.cc:111: /tmp/ray/session_2023-06-07_15-40-13_995841_42439 is over 95% full, available space: 21098332160; capacity: 499963174912. Object creation will fail if spilling is required.\n",
      "\u001b[2m\u001b[33m(raylet)\u001b[0m [2023-06-07 16:03:45,420 E 42530 1197735] (raylet) file_system_monitor.cc:111: /tmp/ray/session_2023-06-07_15-40-13_995841_42439 is over 95% full, available space: 21013721088; capacity: 499963174912. Object creation will fail if spilling is required.\n",
      "\u001b[2m\u001b[33m(raylet)\u001b[0m [2023-06-07 16:03:55,477 E 42530 1197735] (raylet) file_system_monitor.cc:111: /tmp/ray/session_2023-06-07_15-40-13_995841_42439 is over 95% full, available space: 21013319680; capacity: 499963174912. Object creation will fail if spilling is required.\n",
      "\u001b[2m\u001b[33m(raylet)\u001b[0m [2023-06-07 16:04:05,536 E 42530 1197735] (raylet) file_system_monitor.cc:111: /tmp/ray/session_2023-06-07_15-40-13_995841_42439 is over 95% full, available space: 21013315584; capacity: 499963174912. Object creation will fail if spilling is required.\n",
      "\u001b[2m\u001b[33m(raylet)\u001b[0m [2023-06-07 16:04:15,562 E 42530 1197735] (raylet) file_system_monitor.cc:111: /tmp/ray/session_2023-06-07_15-40-13_995841_42439 is over 95% full, available space: 22086955008; capacity: 499963174912. Object creation will fail if spilling is required.\n",
      "\u001b[2m\u001b[33m(raylet)\u001b[0m [2023-06-07 16:04:25,622 E 42530 1197735] (raylet) file_system_monitor.cc:111: /tmp/ray/session_2023-06-07_15-40-13_995841_42439 is over 95% full, available space: 22086516736; capacity: 499963174912. Object creation will fail if spilling is required.\n",
      "\u001b[2m\u001b[33m(raylet)\u001b[0m [2023-06-07 16:04:35,684 E 42530 1197735] (raylet) file_system_monitor.cc:111: /tmp/ray/session_2023-06-07_15-40-13_995841_42439 is over 95% full, available space: 22052622336; capacity: 499963174912. Object creation will fail if spilling is required.\n",
      "\u001b[2m\u001b[33m(raylet)\u001b[0m [2023-06-07 16:04:45,742 E 42530 1197735] (raylet) file_system_monitor.cc:111: /tmp/ray/session_2023-06-07_15-40-13_995841_42439 is over 95% full, available space: 20927848448; capacity: 499963174912. Object creation will fail if spilling is required.\n",
      "\u001b[2m\u001b[33m(raylet)\u001b[0m [2023-06-07 16:04:55,815 E 42530 1197735] (raylet) file_system_monitor.cc:111: /tmp/ray/session_2023-06-07_15-40-13_995841_42439 is over 95% full, available space: 20926156800; capacity: 499963174912. Object creation will fail if spilling is required.\n",
      "\u001b[2m\u001b[33m(raylet)\u001b[0m [2023-06-07 16:05:05,876 E 42530 1197735] (raylet) file_system_monitor.cc:111: /tmp/ray/session_2023-06-07_15-40-13_995841_42439 is over 95% full, available space: 20925784064; capacity: 499963174912. Object creation will fail if spilling is required.\n",
      "\u001b[2m\u001b[33m(raylet)\u001b[0m [2023-06-07 16:05:15,940 E 42530 1197735] (raylet) file_system_monitor.cc:111: /tmp/ray/session_2023-06-07_15-40-13_995841_42439 is over 95% full, available space: 20925853696; capacity: 499963174912. Object creation will fail if spilling is required.\n",
      "\u001b[2m\u001b[33m(raylet)\u001b[0m [2023-06-07 16:05:26,003 E 42530 1197735] (raylet) file_system_monitor.cc:111: /tmp/ray/session_2023-06-07_15-40-13_995841_42439 is over 95% full, available space: 20925186048; capacity: 499963174912. Object creation will fail if spilling is required.\n",
      "\u001b[2m\u001b[33m(raylet)\u001b[0m [2023-06-07 16:05:36,071 E 42530 1197735] (raylet) file_system_monitor.cc:111: /tmp/ray/session_2023-06-07_15-40-13_995841_42439 is over 95% full, available space: 20924551168; capacity: 499963174912. Object creation will fail if spilling is required.\n",
      "\u001b[2m\u001b[33m(raylet)\u001b[0m [2023-06-07 16:05:46,133 E 42530 1197735] (raylet) file_system_monitor.cc:111: /tmp/ray/session_2023-06-07_15-40-13_995841_42439 is over 95% full, available space: 20924551168; capacity: 499963174912. Object creation will fail if spilling is required.\n",
      "\u001b[2m\u001b[33m(raylet)\u001b[0m [2023-06-07 16:05:56,197 E 42530 1197735] (raylet) file_system_monitor.cc:111: /tmp/ray/session_2023-06-07_15-40-13_995841_42439 is over 95% full, available space: 21997600768; capacity: 499963174912. Object creation will fail if spilling is required.\n",
      "\u001b[2m\u001b[33m(raylet)\u001b[0m [2023-06-07 16:06:06,260 E 42530 1197735] (raylet) file_system_monitor.cc:111: /tmp/ray/session_2023-06-07_15-40-13_995841_42439 is over 95% full, available space: 21997608960; capacity: 499963174912. Object creation will fail if spilling is required.\n",
      "\u001b[2m\u001b[33m(raylet)\u001b[0m [2023-06-07 16:06:16,330 E 42530 1197735] (raylet) file_system_monitor.cc:111: /tmp/ray/session_2023-06-07_15-40-13_995841_42439 is over 95% full, available space: 23071178752; capacity: 499963174912. Object creation will fail if spilling is required.\n",
      "\u001b[2m\u001b[33m(raylet)\u001b[0m [2023-06-07 16:06:26,410 E 42530 1197735] (raylet) file_system_monitor.cc:111: /tmp/ray/session_2023-06-07_15-40-13_995841_42439 is over 95% full, available space: 21997109248; capacity: 499963174912. Object creation will fail if spilling is required.\n",
      "\u001b[2m\u001b[33m(raylet)\u001b[0m [2023-06-07 16:06:36,470 E 42530 1197735] (raylet) file_system_monitor.cc:111: /tmp/ray/session_2023-06-07_15-40-13_995841_42439 is over 95% full, available space: 21997105152; capacity: 499963174912. Object creation will fail if spilling is required.\n",
      "\u001b[2m\u001b[33m(raylet)\u001b[0m [2023-06-07 16:06:46,530 E 42530 1197735] (raylet) file_system_monitor.cc:111: /tmp/ray/session_2023-06-07_15-40-13_995841_42439 is over 95% full, available space: 21997047808; capacity: 499963174912. Object creation will fail if spilling is required.\n",
      "\u001b[2m\u001b[33m(raylet)\u001b[0m [2023-06-07 16:06:56,589 E 42530 1197735] (raylet) file_system_monitor.cc:111: /tmp/ray/session_2023-06-07_15-40-13_995841_42439 is over 95% full, available space: 21996118016; capacity: 499963174912. Object creation will fail if spilling is required.\n",
      "\u001b[2m\u001b[33m(raylet)\u001b[0m [2023-06-07 16:07:06,612 E 42530 1197735] (raylet) file_system_monitor.cc:111: /tmp/ray/session_2023-06-07_15-40-13_995841_42439 is over 95% full, available space: 21996142592; capacity: 499963174912. Object creation will fail if spilling is required.\n"
     ]
    }
   ],
   "source": [
    "%%R -i post -i hidden_matrix -i tree_matrix\n",
    "\n",
    "library(tidyverse)\n",
    "\n",
    "hid_tab <- as_tibble(hidden_matrix) %>%\n",
    "    rename(name = V1, topology = V2, int_1 = V3, int_2 = V4)\n",
    "    \n",
    "write_csv(hid_tab, '../data/hid_tab.csv')\n",
    "    \n",
    "tree_tab <- as_tibble(tree_matrix) %>%\n",
    "    rename(start = V1, end = V2, name = V3) %>%\n",
    "    mutate(\n",
    "        gr = ifelse(lag(name) != name, 1, 0) %>% coalesce(0),\n",
    "        gr = cumsum(gr) + 1\n",
    "    ) %>% \n",
    "    group_by(gr, name) %>%\n",
    "    summarize(start = min(start), end = max(end)) %>%\n",
    "    left_join(hid_tab, by = 'name')\n",
    "    \n",
    "write_csv(tree_tab, '../data/tree_tab.csv')\n",
    "\n",
    "post_tab <- as_tibble(post) %>%\n",
    "    mutate(pos = 0:(n()-1)) %>%\n",
    "    pivot_longer(-pos) %>%\n",
    "    mutate(name = as.integer(str_remove_all(name, 'V'))-1) %>%\n",
    "    left_join(hid_tab, by = 'name')\n",
    "     \n",
    "write_csv(post_tab, '../data/post_tab.csv')"
   ]
  },
  {
   "attachments": {},
   "cell_type": "markdown",
   "id": "56f16794-83e1-43a9-b4c7-8cc1f651a299",
   "metadata": {},
   "source": [
    "## Modified cutpoints (first coalescent)"
   ]
  },
  {
   "attachments": {},
   "cell_type": "markdown",
   "id": "a0d17053-aa47-46e7-bd6e-7aeafcc2155b",
   "metadata": {},
   "source": [
    "The first coalescent event, when happening deep in time and not between the speciation events, follows an exponential with rate 3, because three lineages will be segregating together. Since the original cutpoint scheme uses exponential with rate 1, most of the coalescents will happen in earlier intervals. In order to perform posterior decoding in a better way for the first coalescent, the cutpoints of the "
   ]
  },
  {
   "cell_type": "code",
   "execution_count": null,
   "id": "c04add1c-d631-410f-b880-fa98d66a82b8",
   "metadata": {},
   "outputs": [],
   "source": [
    "t_out = t_1+t_2+t_3+2*N_ABC\n",
    "\n",
    "N_ref = N_ABC\n",
    "\n",
    "coal_ABC = N_ref/N_ABC\n",
    "coal_AB = N_ref/N_AB\n",
    "t_upper = t_3-cutpoints_ABC(n_int_ABC_1, coal_ABC)[-2]*N_ref\n",
    "t_AB = t_2/N_ref\n",
    "\n",
    "cut_AB = t_1+cutpoints_AB(n_int_AB, t_AB, coal_AB)*N_ref\n",
    "# cut_ABC = t_1+t_2+cutpoints_ABC(n_int_ABC_1, coal_ABC)*N_ref\n",
    "cut_ABC_new = cutpoints_ABC(n_int_ABC_1, 3)\n",
    "cut_ABC = t_1+t_2+cut_ABC_new*N_ref\n",
    "\n",
    "(2/3)*(np.exp(-t_2/(N_AB)))"
   ]
  },
  {
   "cell_type": "code",
   "execution_count": null,
   "id": "57f46736-a10b-478d-9bf1-84ff82204e09",
   "metadata": {},
   "outputs": [],
   "source": [
    "N_AB"
   ]
  },
  {
   "cell_type": "code",
   "execution_count": null,
   "id": "6e7b7d64-92ff-4a1f-bcca-3417446c6e02",
   "metadata": {},
   "outputs": [],
   "source": [
    "cut_AB"
   ]
  },
  {
   "cell_type": "code",
   "execution_count": null,
   "id": "b06f9a69-5ea5-4b1a-a4f0-382e50eaebbb",
   "metadata": {},
   "outputs": [],
   "source": [
    "cut_ABC"
   ]
  },
  {
   "cell_type": "code",
   "execution_count": null,
   "id": "60a66697-68a2-402b-9785-e14e4a57652a",
   "metadata": {},
   "outputs": [],
   "source": [
    "transitions, emissions, starting, hidden_states, observed_states = trans_emiss_calc(\n",
    "    t_A*mu, t_B*mu, t_C*mu, t_2*mu, t_upper*mu, t_out*mu, \n",
    "    N_AB*mu, N_ABC*mu, r/mu, n_int_AB, n_int_ABC_1,\n",
    "    cut_AB = 'standard', cut_ABC = cut_ABC_new\n",
    ")"
   ]
  },
  {
   "cell_type": "code",
   "execution_count": null,
   "id": "27771926-f0c8-464e-9944-8c48c2e010cd",
   "metadata": {},
   "outputs": [],
   "source": [
    "dct_hid = {v: k for k, v in hidden_states.items()}\n",
    "dct = {v: k for k, v in observed_states.items()}"
   ]
  },
  {
   "cell_type": "code",
   "execution_count": null,
   "id": "553a97ca-a175-4af2-b073-06d0b9e40189",
   "metadata": {},
   "outputs": [],
   "source": [
    "####################### Add demography #######################\n",
    "\n",
    "n_sites = 100_000\n",
    "\n",
    "demography = msprime.Demography()\n",
    "demography.add_population(name=\"A\", initial_size=N_AB, default_sampling_time=t_1-t_A)\n",
    "demography.add_population(name=\"B\", initial_size=N_AB, default_sampling_time=t_1-t_B)\n",
    "demography.add_population(name=\"C\", initial_size=N_AB, default_sampling_time=t_1-t_C)\n",
    "demography.add_population(name=\"D\", initial_size=N_AB, default_sampling_time=t_1-t_1)\n",
    "demography.add_population(name=\"AB\", initial_size=N_AB)\n",
    "demography.add_population(name=\"ABC\", initial_size=N_ABC)\n",
    "demography.add_population(name=\"ABCD\", initial_size=N_ABC)\n",
    "demography.add_population_split(time=t_1, derived=[\"A\", \"B\"], ancestral=\"AB\")\n",
    "demography.add_population_split(time=t_1+t_2, derived=[\"AB\", \"C\"], ancestral=\"ABC\")\n",
    "demography.add_population_split(time=t_1+t_2+t_3, derived=[\"ABC\", \"D\"], ancestral=\"ABCD\")\n",
    "\n",
    "ts = msprime.sim_ancestry(\n",
    "    {\"A\": 1, \"B\": 1, \"C\": 1,\n",
    "     \"D\": 1\n",
    "    },\n",
    "    demography=demography,\n",
    "    recombination_rate=r,\n",
    "    sequence_length=n_sites,\n",
    "    ploidy=1,\n",
    "    random_seed=seed\n",
    ")\n"
   ]
  },
  {
   "cell_type": "code",
   "execution_count": null,
   "id": "816fecdc-1efd-4dea-9381-66de9584d214",
   "metadata": {},
   "outputs": [],
   "source": [
    "#### Add mutations\n",
    "\n",
    "mutated_ts = msprime.sim_mutations(ts, rate=mu, random_seed=seed)\n",
    "\n",
    "nochange_lst = [dct['AAAA'], dct['CCCC'], dct['TTTT'], dct['GGGG']]\n",
    "np.random.seed(seed) ; sim_genome = np.random.choice(nochange_lst, n_sites)\n",
    "\n",
    "mut_lst = []\n",
    "mut_loc = []\n",
    "for variant in mutated_ts.variants():\n",
    "    mut_loc.append(variant.site.position)\n",
    "    mut_lst.append(''.join([variant.alleles[i] for i in variant.genotypes]))\n",
    "\n",
    "for i in range(len(mut_loc)):\n",
    "    sim_genome[int(mut_loc[i])] = dct[mut_lst[i]]\n"
   ]
  },
  {
   "cell_type": "code",
   "execution_count": null,
   "id": "fca3b69b-a30a-426f-9420-c79c12fe2484",
   "metadata": {},
   "outputs": [],
   "source": [
    "post = post_prob_wrapper(transitions, emissions, starting, [sim_genome])[0]"
   ]
  },
  {
   "cell_type": "code",
   "execution_count": null,
   "id": "73711adf-0e72-40ab-a80e-dc22721452fc",
   "metadata": {},
   "outputs": [],
   "source": [
    "hidden_matrix = np.random.randint(max([n_int_AB, n_int_ABC_1]), size=(len(dct_hid), 4))\n",
    "hidden_matrix[:,0] = list(range(len(dct_hid)))\n",
    "hidden_matrix[:,1] = [i[0] for i in dct_hid.keys()]\n",
    "hidden_matrix[:,2] = [i[1] for i in dct_hid.keys()]\n",
    "hidden_matrix[:,3] = [i[2] for i in dct_hid.keys()]"
   ]
  },
  {
   "cell_type": "code",
   "execution_count": null,
   "id": "7cf38494-e0f5-47b4-9622-4f17b2e760d0",
   "metadata": {},
   "outputs": [],
   "source": [
    "left_lst = []\n",
    "right_lst = []\n",
    "tree_state = []\n",
    "t_AB_vec = []\n",
    "t_ABC_vec = []\n",
    "for t in ts.trees():\n",
    "    # Append start coordinate\n",
    "    left_lst.append(t.interval.left)\n",
    "    # Append end coordinate\n",
    "    right_lst.append(t.interval.right-1)\n",
    "    # Get all non-zero coalescent times\n",
    "    ntimes = [ts.nodes()[n].time for n in t.nodes() if ts.nodes()[n].time not in [0, t_1-t_A, t_1-t_B, t_1-t_C]]\n",
    "    ntimes = sorted(ntimes)\n",
    "    # Get time of the first event\n",
    "    mint = ntimes[0]\n",
    "    mint2 = ntimes[1]\n",
    "    # Find topology\n",
    "    find_re = re.findall(\"n\\d,n\\d\", t.as_newick(include_branch_lengths=False))[0]\n",
    "    # Sort species within topology\n",
    "    find_re = sorted(find_re.split(','))\n",
    "    # If V0 or V1\n",
    "    if find_re == ['n0', 'n1']:\n",
    "        # If the time of the first coalescent is larger than the deepest speciation event\n",
    "        if mint>=(t_1+t_2):\n",
    "            state = (1, (mint>cut_ABC).sum()-1, (mint2>cut_ABC).sum()-1)\n",
    "            # Append V1 state\n",
    "        else:\n",
    "            state = (0, (mint>cut_AB).sum()-1, (mint2>cut_ABC).sum()-1)\n",
    "            # Append V0 state\n",
    "    # If V2\n",
    "    elif find_re == ['n0', 'n2']:\n",
    "        state = (2, (mint>cut_ABC).sum()-1, (mint2>cut_ABC).sum()-1)\n",
    "    # If V3\n",
    "    elif find_re == ['n1', 'n2']:\n",
    "        state = (3, (mint>cut_ABC).sum()-1, (mint2>cut_ABC).sum()-1)\n",
    "    else:\n",
    "        state = (4, (mint>cut_ABC).sum()-1, (mint2>cut_ABC).sum()-1)\n",
    "    tree_state.append(state)\n",
    "    t_AB_vec.append(mint)\n",
    "    t_ABC_vec.append(mint2)\n"
   ]
  },
  {
   "cell_type": "code",
   "execution_count": null,
   "id": "2df25fd0-9d6c-48aa-bc4f-a404907fcf6c",
   "metadata": {},
   "outputs": [],
   "source": [
    "tree_matrix = np.random.randint(max(left_lst), size=(len(left_lst), 3))\n",
    "tree_matrix[:,0] = left_lst\n",
    "tree_matrix[:,1] = right_lst\n",
    "tree_matrix[:,2] = [dct_hid[i] for i in tree_state]"
   ]
  },
  {
   "cell_type": "code",
   "execution_count": null,
   "id": "8e3507e0-9838-4a5d-989b-34965f5aceb9",
   "metadata": {},
   "outputs": [],
   "source": [
    "%%R -i post -i hidden_matrix -i tree_matrix\n",
    "\n",
    "library(tidyverse)\n",
    "\n",
    "hid_tab <- as_tibble(hidden_matrix) %>%\n",
    "    rename(name = V1, topology = V2, int_1 = V3, int_2 = V4)\n",
    "    \n",
    "write_csv(hid_tab, '../data/hid_tab_cutpoints.csv')\n",
    "    \n",
    "tree_tab <- as_tibble(tree_matrix) %>%\n",
    "    rename(start = V1, end = V2, name = V3) %>%\n",
    "    mutate(\n",
    "        gr = ifelse(lag(name) != name, 1, 0) %>% coalesce(0),\n",
    "        gr = cumsum(gr) + 1\n",
    "    ) %>% \n",
    "    group_by(gr, name) %>%\n",
    "    summarize(start = min(start), end = max(end)) %>%\n",
    "    left_join(hid_tab, by = 'name')\n",
    "    \n",
    "write_csv(tree_tab, '../data/tree_tab_cutpoints.csv')\n",
    "\n",
    "post_tab <- as_tibble(post) %>%\n",
    "    mutate(pos = 0:(n()-1)) %>%\n",
    "    pivot_longer(-pos) %>%\n",
    "    mutate(name = as.integer(str_remove_all(name, 'V'))-1) %>%\n",
    "    left_join(hid_tab, by = 'name')\n",
    "     \n",
    "write_csv(post_tab, '../data/post_tab_cutpoints.csv')"
   ]
  },
  {
   "cell_type": "code",
   "execution_count": null,
   "id": "818a5839-4440-40d6-bef9-e6dabc1a17a9",
   "metadata": {},
   "outputs": [],
   "source": [
    "%%R\n",
    "\n",
    "post_tab %>%\n",
    "    group_by(pos) %>%\n",
    "    summarize(s = sum(value))"
   ]
  },
  {
   "cell_type": "code",
   "execution_count": null,
   "id": "c8ed35b0-8cd0-43d1-b930-1bb907ef3d5b",
   "metadata": {},
   "outputs": [],
   "source": []
  },
  {
   "cell_type": "code",
   "execution_count": null,
   "id": "cb3d506c-f02d-4617-9c18-fc39de07ee97",
   "metadata": {},
   "outputs": [],
   "source": []
  }
 ],
 "metadata": {
  "kernelspec": {
   "display_name": "Python 3 (ipykernel)",
   "language": "python",
   "name": "python3"
  },
  "language_info": {
   "codemirror_mode": {
    "name": "ipython",
    "version": 3
   },
   "file_extension": ".py",
   "mimetype": "text/x-python",
   "name": "python",
   "nbconvert_exporter": "python",
   "pygments_lexer": "ipython3",
   "version": "3.9.16"
  }
 },
 "nbformat": 4,
 "nbformat_minor": 5
}
